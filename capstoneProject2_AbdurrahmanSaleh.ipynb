{
 "cells": [
  {
   "attachments": {},
   "cell_type": "markdown",
   "metadata": {},
   "source": [
    "# Background\n",
    "This is the largest retail e-commerce orders dataset from Pakistan. It contains half a million transaction records from March 2016 to August 2018. We want to use this data to better understand e-commerce customer behaviours to increase success rate for emerging-startup."
   ]
  },
  {
   "attachments": {},
   "cell_type": "markdown",
   "metadata": {},
   "source": [
    "# Problem Statement"
   ]
  },
  {
   "attachments": {},
   "cell_type": "markdown",
   "metadata": {},
   "source": [
    "We want to get insight on which category are the most popular and what payment method is preferred by customer from different categories. This information will be used as suggestion for emerging start-up to increase success rate by combining popular categories with suitable payment method.\n",
    "\n",
    "Below are the questions to be answered:\n",
    "1. What are the top 5 most popular categories?\n",
    "2. What is the most preferred payment method for each of those top 5 categories?"
   ]
  },
  {
   "attachments": {},
   "cell_type": "markdown",
   "metadata": {},
   "source": [
    "# Data Understanding & Cleaning"
   ]
  },
  {
   "attachments": {},
   "cell_type": "markdown",
   "metadata": {},
   "source": [
    "To answer questions in problem statement, we will analyse Pakistan's Large E-Commerce dataset.<br>\n",
    "Dataset can be accessed [here](https://www.kaggle.com/datasets/zusmani/pakistans-largest-ecommerce-dataset).<br>\n",
    "\n",
    "Before continuing into analysis, we need to understand the dataset. During this process, we will or may find anomalies in the dataset which require handling during data cleaning process. Every anomaly handling shall be described with the statistical or domain knowledge justification."
   ]
  },
  {
   "attachments": {},
   "cell_type": "markdown",
   "metadata": {},
   "source": [
    "## Import Required Library"
   ]
  },
  {
   "cell_type": "code",
   "execution_count": 1,
   "metadata": {},
   "outputs": [],
   "source": [
    "import pandas as pd\n",
    "import numpy as np\n",
    "import matplotlib.pyplot as plt\n",
    "import seaborn as sns\n",
    "import plotly.express as px\n",
    "from plotly.subplots import make_subplots\n",
    "import plotly.graph_objs as go\n",
    "from scipy.stats import chi2_contingency\n",
    "\n",
    "import warnings\n",
    "warnings.filterwarnings('ignore')"
   ]
  },
  {
   "attachments": {},
   "cell_type": "markdown",
   "metadata": {},
   "source": [
    "## Import Database and Show Glimpse of Database"
   ]
  },
  {
   "attachments": {},
   "cell_type": "markdown",
   "metadata": {},
   "source": [
    "The dataset contains detailed information of half a million e-commerce orders in Pakistan from March 2016 to August 2018. It contains item details, shipping method, payment method like credit card, Easy-Paisa, Jazz-Cash, cash-on-delivery, product categories like fashion, mobile, electronics, appliance etc., date of order, SKU, price, quantity, total and customer ID. There are total 26 columns in the dataset:<br>\n",
    "\n",
    "- item_id: unique id for each item\n",
    "- status: order status\n",
    "- created_at: the date when the order was created\n",
    "- sku: stock keeping unit\n",
    "- price: item's price\n",
    "- qty_ordered: total quantity ordered\n",
    "- grand_total: grand total of the customer spending\n",
    "- increment_id: order id specific to each customer and increased with each purchase\n",
    "- category_name_1: category name for the item\n",
    "- sales_commission_code: commission code for sales\n",
    "- discount_amount: discount amount for the order\n",
    "- payment_method: payment method chosen by user for the order\n",
    "- working date: the date when the order worked on\n",
    "- BI status: the order status in the business intelligence system\n",
    "- MV\n",
    "- Year: the year when the order was created\n",
    "- Month: the month when the order was created\n",
    "- Customer Since: the month and year of customer's first order\n",
    "- M-Y: the month-year when the order was created\n",
    "- FY: fiscal year of the order\n",
    "- Customer ID: unique id for each customer\n",
    "- Unnamed 21-25: these columns are all empty"
   ]
  },
  {
   "cell_type": "code",
   "execution_count": 2,
   "metadata": {},
   "outputs": [],
   "source": [
    "# read the dataset\n",
    "df = pd.read_csv('Pakistan Largest Ecommerce Dataset.csv')"
   ]
  },
  {
   "cell_type": "code",
   "execution_count": 3,
   "metadata": {},
   "outputs": [],
   "source": [
    "pd.set_option('display.max_columns',None)"
   ]
  },
  {
   "attachments": {},
   "cell_type": "markdown",
   "metadata": {},
   "source": [
    "Below is 5 rows from the top and bottom of the dataset."
   ]
  },
  {
   "cell_type": "code",
   "execution_count": 4,
   "metadata": {},
   "outputs": [
    {
     "data": {
      "text/html": [
       "<div>\n",
       "<style scoped>\n",
       "    .dataframe tbody tr th:only-of-type {\n",
       "        vertical-align: middle;\n",
       "    }\n",
       "\n",
       "    .dataframe tbody tr th {\n",
       "        vertical-align: top;\n",
       "    }\n",
       "\n",
       "    .dataframe thead th {\n",
       "        text-align: right;\n",
       "    }\n",
       "</style>\n",
       "<table border=\"1\" class=\"dataframe\">\n",
       "  <thead>\n",
       "    <tr style=\"text-align: right;\">\n",
       "      <th></th>\n",
       "      <th>item_id</th>\n",
       "      <th>status</th>\n",
       "      <th>created_at</th>\n",
       "      <th>sku</th>\n",
       "      <th>price</th>\n",
       "      <th>qty_ordered</th>\n",
       "      <th>grand_total</th>\n",
       "      <th>increment_id</th>\n",
       "      <th>category_name_1</th>\n",
       "      <th>sales_commission_code</th>\n",
       "      <th>discount_amount</th>\n",
       "      <th>payment_method</th>\n",
       "      <th>Working Date</th>\n",
       "      <th>BI Status</th>\n",
       "      <th>MV</th>\n",
       "      <th>Year</th>\n",
       "      <th>Month</th>\n",
       "      <th>Customer Since</th>\n",
       "      <th>M-Y</th>\n",
       "      <th>FY</th>\n",
       "      <th>Customer ID</th>\n",
       "      <th>Unnamed: 21</th>\n",
       "      <th>Unnamed: 22</th>\n",
       "      <th>Unnamed: 23</th>\n",
       "      <th>Unnamed: 24</th>\n",
       "      <th>Unnamed: 25</th>\n",
       "    </tr>\n",
       "  </thead>\n",
       "  <tbody>\n",
       "    <tr>\n",
       "      <th>0</th>\n",
       "      <td>211131.0</td>\n",
       "      <td>complete</td>\n",
       "      <td>7/1/2016</td>\n",
       "      <td>kreations_YI 06-L</td>\n",
       "      <td>1950.0</td>\n",
       "      <td>1.0</td>\n",
       "      <td>1950.0</td>\n",
       "      <td>100147443</td>\n",
       "      <td>Women's Fashion</td>\n",
       "      <td>\\N</td>\n",
       "      <td>0.0</td>\n",
       "      <td>cod</td>\n",
       "      <td>7/1/2016</td>\n",
       "      <td>#REF!</td>\n",
       "      <td>1,950</td>\n",
       "      <td>2016.0</td>\n",
       "      <td>7.0</td>\n",
       "      <td>2016-7</td>\n",
       "      <td>7-2016</td>\n",
       "      <td>FY17</td>\n",
       "      <td>1.0</td>\n",
       "      <td>NaN</td>\n",
       "      <td>NaN</td>\n",
       "      <td>NaN</td>\n",
       "      <td>NaN</td>\n",
       "      <td>NaN</td>\n",
       "    </tr>\n",
       "    <tr>\n",
       "      <th>1</th>\n",
       "      <td>211133.0</td>\n",
       "      <td>canceled</td>\n",
       "      <td>7/1/2016</td>\n",
       "      <td>kcc_Buy 2 Frey Air Freshener &amp; Get 1 Kasual Bo...</td>\n",
       "      <td>240.0</td>\n",
       "      <td>1.0</td>\n",
       "      <td>240.0</td>\n",
       "      <td>100147444</td>\n",
       "      <td>Beauty &amp; Grooming</td>\n",
       "      <td>\\N</td>\n",
       "      <td>0.0</td>\n",
       "      <td>cod</td>\n",
       "      <td>7/1/2016</td>\n",
       "      <td>Gross</td>\n",
       "      <td>240</td>\n",
       "      <td>2016.0</td>\n",
       "      <td>7.0</td>\n",
       "      <td>2016-7</td>\n",
       "      <td>7-2016</td>\n",
       "      <td>FY17</td>\n",
       "      <td>2.0</td>\n",
       "      <td>NaN</td>\n",
       "      <td>NaN</td>\n",
       "      <td>NaN</td>\n",
       "      <td>NaN</td>\n",
       "      <td>NaN</td>\n",
       "    </tr>\n",
       "    <tr>\n",
       "      <th>2</th>\n",
       "      <td>211134.0</td>\n",
       "      <td>canceled</td>\n",
       "      <td>7/1/2016</td>\n",
       "      <td>Ego_UP0017-999-MR0</td>\n",
       "      <td>2450.0</td>\n",
       "      <td>1.0</td>\n",
       "      <td>2450.0</td>\n",
       "      <td>100147445</td>\n",
       "      <td>Women's Fashion</td>\n",
       "      <td>\\N</td>\n",
       "      <td>0.0</td>\n",
       "      <td>cod</td>\n",
       "      <td>7/1/2016</td>\n",
       "      <td>Gross</td>\n",
       "      <td>2,450</td>\n",
       "      <td>2016.0</td>\n",
       "      <td>7.0</td>\n",
       "      <td>2016-7</td>\n",
       "      <td>7-2016</td>\n",
       "      <td>FY17</td>\n",
       "      <td>3.0</td>\n",
       "      <td>NaN</td>\n",
       "      <td>NaN</td>\n",
       "      <td>NaN</td>\n",
       "      <td>NaN</td>\n",
       "      <td>NaN</td>\n",
       "    </tr>\n",
       "    <tr>\n",
       "      <th>3</th>\n",
       "      <td>211135.0</td>\n",
       "      <td>complete</td>\n",
       "      <td>7/1/2016</td>\n",
       "      <td>kcc_krone deal</td>\n",
       "      <td>360.0</td>\n",
       "      <td>1.0</td>\n",
       "      <td>60.0</td>\n",
       "      <td>100147446</td>\n",
       "      <td>Beauty &amp; Grooming</td>\n",
       "      <td>R-FSD-52352</td>\n",
       "      <td>300.0</td>\n",
       "      <td>cod</td>\n",
       "      <td>7/1/2016</td>\n",
       "      <td>Net</td>\n",
       "      <td>360</td>\n",
       "      <td>2016.0</td>\n",
       "      <td>7.0</td>\n",
       "      <td>2016-7</td>\n",
       "      <td>7-2016</td>\n",
       "      <td>FY17</td>\n",
       "      <td>4.0</td>\n",
       "      <td>NaN</td>\n",
       "      <td>NaN</td>\n",
       "      <td>NaN</td>\n",
       "      <td>NaN</td>\n",
       "      <td>NaN</td>\n",
       "    </tr>\n",
       "    <tr>\n",
       "      <th>4</th>\n",
       "      <td>211136.0</td>\n",
       "      <td>order_refunded</td>\n",
       "      <td>7/1/2016</td>\n",
       "      <td>BK7010400AG</td>\n",
       "      <td>555.0</td>\n",
       "      <td>2.0</td>\n",
       "      <td>1110.0</td>\n",
       "      <td>100147447</td>\n",
       "      <td>Soghaat</td>\n",
       "      <td>\\N</td>\n",
       "      <td>0.0</td>\n",
       "      <td>cod</td>\n",
       "      <td>7/1/2016</td>\n",
       "      <td>Valid</td>\n",
       "      <td>1,110</td>\n",
       "      <td>2016.0</td>\n",
       "      <td>7.0</td>\n",
       "      <td>2016-7</td>\n",
       "      <td>7-2016</td>\n",
       "      <td>FY17</td>\n",
       "      <td>5.0</td>\n",
       "      <td>NaN</td>\n",
       "      <td>NaN</td>\n",
       "      <td>NaN</td>\n",
       "      <td>NaN</td>\n",
       "      <td>NaN</td>\n",
       "    </tr>\n",
       "  </tbody>\n",
       "</table>\n",
       "</div>"
      ],
      "text/plain": [
       "    item_id          status created_at  \\\n",
       "0  211131.0        complete   7/1/2016   \n",
       "1  211133.0        canceled   7/1/2016   \n",
       "2  211134.0        canceled   7/1/2016   \n",
       "3  211135.0        complete   7/1/2016   \n",
       "4  211136.0  order_refunded   7/1/2016   \n",
       "\n",
       "                                                 sku   price  qty_ordered  \\\n",
       "0                                  kreations_YI 06-L  1950.0          1.0   \n",
       "1  kcc_Buy 2 Frey Air Freshener & Get 1 Kasual Bo...   240.0          1.0   \n",
       "2                                 Ego_UP0017-999-MR0  2450.0          1.0   \n",
       "3                                     kcc_krone deal   360.0          1.0   \n",
       "4                                        BK7010400AG   555.0          2.0   \n",
       "\n",
       "   grand_total increment_id    category_name_1 sales_commission_code  \\\n",
       "0       1950.0    100147443    Women's Fashion                    \\N   \n",
       "1        240.0    100147444  Beauty & Grooming                    \\N   \n",
       "2       2450.0    100147445    Women's Fashion                    \\N   \n",
       "3         60.0    100147446  Beauty & Grooming           R-FSD-52352   \n",
       "4       1110.0    100147447            Soghaat                    \\N   \n",
       "\n",
       "   discount_amount payment_method Working Date BI Status      MV     Year  \\\n",
       "0              0.0            cod     7/1/2016     #REF!   1,950   2016.0   \n",
       "1              0.0            cod     7/1/2016     Gross     240   2016.0   \n",
       "2              0.0            cod     7/1/2016     Gross   2,450   2016.0   \n",
       "3            300.0            cod     7/1/2016       Net     360   2016.0   \n",
       "4              0.0            cod     7/1/2016     Valid   1,110   2016.0   \n",
       "\n",
       "   Month Customer Since     M-Y    FY  Customer ID  Unnamed: 21  Unnamed: 22  \\\n",
       "0    7.0         2016-7  7-2016  FY17          1.0          NaN          NaN   \n",
       "1    7.0         2016-7  7-2016  FY17          2.0          NaN          NaN   \n",
       "2    7.0         2016-7  7-2016  FY17          3.0          NaN          NaN   \n",
       "3    7.0         2016-7  7-2016  FY17          4.0          NaN          NaN   \n",
       "4    7.0         2016-7  7-2016  FY17          5.0          NaN          NaN   \n",
       "\n",
       "   Unnamed: 23  Unnamed: 24  Unnamed: 25  \n",
       "0          NaN          NaN          NaN  \n",
       "1          NaN          NaN          NaN  \n",
       "2          NaN          NaN          NaN  \n",
       "3          NaN          NaN          NaN  \n",
       "4          NaN          NaN          NaN  "
      ]
     },
     "metadata": {},
     "output_type": "display_data"
    },
    {
     "data": {
      "text/html": [
       "<div>\n",
       "<style scoped>\n",
       "    .dataframe tbody tr th:only-of-type {\n",
       "        vertical-align: middle;\n",
       "    }\n",
       "\n",
       "    .dataframe tbody tr th {\n",
       "        vertical-align: top;\n",
       "    }\n",
       "\n",
       "    .dataframe thead th {\n",
       "        text-align: right;\n",
       "    }\n",
       "</style>\n",
       "<table border=\"1\" class=\"dataframe\">\n",
       "  <thead>\n",
       "    <tr style=\"text-align: right;\">\n",
       "      <th></th>\n",
       "      <th>item_id</th>\n",
       "      <th>status</th>\n",
       "      <th>created_at</th>\n",
       "      <th>sku</th>\n",
       "      <th>price</th>\n",
       "      <th>qty_ordered</th>\n",
       "      <th>grand_total</th>\n",
       "      <th>increment_id</th>\n",
       "      <th>category_name_1</th>\n",
       "      <th>sales_commission_code</th>\n",
       "      <th>discount_amount</th>\n",
       "      <th>payment_method</th>\n",
       "      <th>Working Date</th>\n",
       "      <th>BI Status</th>\n",
       "      <th>MV</th>\n",
       "      <th>Year</th>\n",
       "      <th>Month</th>\n",
       "      <th>Customer Since</th>\n",
       "      <th>M-Y</th>\n",
       "      <th>FY</th>\n",
       "      <th>Customer ID</th>\n",
       "      <th>Unnamed: 21</th>\n",
       "      <th>Unnamed: 22</th>\n",
       "      <th>Unnamed: 23</th>\n",
       "      <th>Unnamed: 24</th>\n",
       "      <th>Unnamed: 25</th>\n",
       "    </tr>\n",
       "  </thead>\n",
       "  <tbody>\n",
       "    <tr>\n",
       "      <th>1048570</th>\n",
       "      <td>NaN</td>\n",
       "      <td>NaN</td>\n",
       "      <td>NaN</td>\n",
       "      <td>NaN</td>\n",
       "      <td>NaN</td>\n",
       "      <td>NaN</td>\n",
       "      <td>NaN</td>\n",
       "      <td>NaN</td>\n",
       "      <td>NaN</td>\n",
       "      <td>NaN</td>\n",
       "      <td>NaN</td>\n",
       "      <td>NaN</td>\n",
       "      <td>NaN</td>\n",
       "      <td>NaN</td>\n",
       "      <td>NaN</td>\n",
       "      <td>NaN</td>\n",
       "      <td>NaN</td>\n",
       "      <td>NaN</td>\n",
       "      <td>NaN</td>\n",
       "      <td>NaN</td>\n",
       "      <td>NaN</td>\n",
       "      <td>NaN</td>\n",
       "      <td>NaN</td>\n",
       "      <td>NaN</td>\n",
       "      <td>NaN</td>\n",
       "      <td>NaN</td>\n",
       "    </tr>\n",
       "    <tr>\n",
       "      <th>1048571</th>\n",
       "      <td>NaN</td>\n",
       "      <td>NaN</td>\n",
       "      <td>NaN</td>\n",
       "      <td>NaN</td>\n",
       "      <td>NaN</td>\n",
       "      <td>NaN</td>\n",
       "      <td>NaN</td>\n",
       "      <td>NaN</td>\n",
       "      <td>NaN</td>\n",
       "      <td>NaN</td>\n",
       "      <td>NaN</td>\n",
       "      <td>NaN</td>\n",
       "      <td>NaN</td>\n",
       "      <td>NaN</td>\n",
       "      <td>NaN</td>\n",
       "      <td>NaN</td>\n",
       "      <td>NaN</td>\n",
       "      <td>NaN</td>\n",
       "      <td>NaN</td>\n",
       "      <td>NaN</td>\n",
       "      <td>NaN</td>\n",
       "      <td>NaN</td>\n",
       "      <td>NaN</td>\n",
       "      <td>NaN</td>\n",
       "      <td>NaN</td>\n",
       "      <td>NaN</td>\n",
       "    </tr>\n",
       "    <tr>\n",
       "      <th>1048572</th>\n",
       "      <td>NaN</td>\n",
       "      <td>NaN</td>\n",
       "      <td>NaN</td>\n",
       "      <td>NaN</td>\n",
       "      <td>NaN</td>\n",
       "      <td>NaN</td>\n",
       "      <td>NaN</td>\n",
       "      <td>NaN</td>\n",
       "      <td>NaN</td>\n",
       "      <td>NaN</td>\n",
       "      <td>NaN</td>\n",
       "      <td>NaN</td>\n",
       "      <td>NaN</td>\n",
       "      <td>NaN</td>\n",
       "      <td>NaN</td>\n",
       "      <td>NaN</td>\n",
       "      <td>NaN</td>\n",
       "      <td>NaN</td>\n",
       "      <td>NaN</td>\n",
       "      <td>NaN</td>\n",
       "      <td>NaN</td>\n",
       "      <td>NaN</td>\n",
       "      <td>NaN</td>\n",
       "      <td>NaN</td>\n",
       "      <td>NaN</td>\n",
       "      <td>NaN</td>\n",
       "    </tr>\n",
       "    <tr>\n",
       "      <th>1048573</th>\n",
       "      <td>NaN</td>\n",
       "      <td>NaN</td>\n",
       "      <td>NaN</td>\n",
       "      <td>NaN</td>\n",
       "      <td>NaN</td>\n",
       "      <td>NaN</td>\n",
       "      <td>NaN</td>\n",
       "      <td>NaN</td>\n",
       "      <td>NaN</td>\n",
       "      <td>NaN</td>\n",
       "      <td>NaN</td>\n",
       "      <td>NaN</td>\n",
       "      <td>NaN</td>\n",
       "      <td>NaN</td>\n",
       "      <td>NaN</td>\n",
       "      <td>NaN</td>\n",
       "      <td>NaN</td>\n",
       "      <td>NaN</td>\n",
       "      <td>NaN</td>\n",
       "      <td>NaN</td>\n",
       "      <td>NaN</td>\n",
       "      <td>NaN</td>\n",
       "      <td>NaN</td>\n",
       "      <td>NaN</td>\n",
       "      <td>NaN</td>\n",
       "      <td>NaN</td>\n",
       "    </tr>\n",
       "    <tr>\n",
       "      <th>1048574</th>\n",
       "      <td>NaN</td>\n",
       "      <td>NaN</td>\n",
       "      <td>NaN</td>\n",
       "      <td>NaN</td>\n",
       "      <td>NaN</td>\n",
       "      <td>NaN</td>\n",
       "      <td>NaN</td>\n",
       "      <td>NaN</td>\n",
       "      <td>NaN</td>\n",
       "      <td>NaN</td>\n",
       "      <td>NaN</td>\n",
       "      <td>NaN</td>\n",
       "      <td>NaN</td>\n",
       "      <td>NaN</td>\n",
       "      <td>NaN</td>\n",
       "      <td>NaN</td>\n",
       "      <td>NaN</td>\n",
       "      <td>NaN</td>\n",
       "      <td>NaN</td>\n",
       "      <td>NaN</td>\n",
       "      <td>NaN</td>\n",
       "      <td>NaN</td>\n",
       "      <td>NaN</td>\n",
       "      <td>NaN</td>\n",
       "      <td>NaN</td>\n",
       "      <td>NaN</td>\n",
       "    </tr>\n",
       "  </tbody>\n",
       "</table>\n",
       "</div>"
      ],
      "text/plain": [
       "         item_id status created_at  sku  price  qty_ordered  grand_total  \\\n",
       "1048570      NaN    NaN        NaN  NaN    NaN          NaN          NaN   \n",
       "1048571      NaN    NaN        NaN  NaN    NaN          NaN          NaN   \n",
       "1048572      NaN    NaN        NaN  NaN    NaN          NaN          NaN   \n",
       "1048573      NaN    NaN        NaN  NaN    NaN          NaN          NaN   \n",
       "1048574      NaN    NaN        NaN  NaN    NaN          NaN          NaN   \n",
       "\n",
       "        increment_id category_name_1 sales_commission_code  discount_amount  \\\n",
       "1048570          NaN             NaN                   NaN              NaN   \n",
       "1048571          NaN             NaN                   NaN              NaN   \n",
       "1048572          NaN             NaN                   NaN              NaN   \n",
       "1048573          NaN             NaN                   NaN              NaN   \n",
       "1048574          NaN             NaN                   NaN              NaN   \n",
       "\n",
       "        payment_method Working Date BI Status  MV   Year  Month  \\\n",
       "1048570            NaN          NaN       NaN  NaN   NaN    NaN   \n",
       "1048571            NaN          NaN       NaN  NaN   NaN    NaN   \n",
       "1048572            NaN          NaN       NaN  NaN   NaN    NaN   \n",
       "1048573            NaN          NaN       NaN  NaN   NaN    NaN   \n",
       "1048574            NaN          NaN       NaN  NaN   NaN    NaN   \n",
       "\n",
       "        Customer Since  M-Y   FY  Customer ID  Unnamed: 21  Unnamed: 22  \\\n",
       "1048570            NaN  NaN  NaN          NaN          NaN          NaN   \n",
       "1048571            NaN  NaN  NaN          NaN          NaN          NaN   \n",
       "1048572            NaN  NaN  NaN          NaN          NaN          NaN   \n",
       "1048573            NaN  NaN  NaN          NaN          NaN          NaN   \n",
       "1048574            NaN  NaN  NaN          NaN          NaN          NaN   \n",
       "\n",
       "         Unnamed: 23  Unnamed: 24  Unnamed: 25  \n",
       "1048570          NaN          NaN          NaN  \n",
       "1048571          NaN          NaN          NaN  \n",
       "1048572          NaN          NaN          NaN  \n",
       "1048573          NaN          NaN          NaN  \n",
       "1048574          NaN          NaN          NaN  "
      ]
     },
     "metadata": {},
     "output_type": "display_data"
    }
   ],
   "source": [
    "display(df.head(),df.tail())"
   ]
  },
  {
   "attachments": {},
   "cell_type": "markdown",
   "metadata": {},
   "source": [
    "Below is the overall information of the dataset including number of rows and columns."
   ]
  },
  {
   "cell_type": "code",
   "execution_count": 5,
   "metadata": {},
   "outputs": [
    {
     "name": "stdout",
     "output_type": "stream",
     "text": [
      "Total of rows and columns in the dataset are (1048575, 26)\n",
      "<class 'pandas.core.frame.DataFrame'>\n",
      "RangeIndex: 1048575 entries, 0 to 1048574\n",
      "Data columns (total 26 columns):\n",
      " #   Column                 Non-Null Count   Dtype  \n",
      "---  ------                 --------------   -----  \n",
      " 0   item_id                584524 non-null  float64\n",
      " 1   status                 584509 non-null  object \n",
      " 2   created_at             584524 non-null  object \n",
      " 3   sku                    584504 non-null  object \n",
      " 4   price                  584524 non-null  float64\n",
      " 5   qty_ordered            584524 non-null  float64\n",
      " 6   grand_total            584524 non-null  float64\n",
      " 7   increment_id           584524 non-null  object \n",
      " 8   category_name_1        584360 non-null  object \n",
      " 9   sales_commission_code  447349 non-null  object \n",
      " 10  discount_amount        584524 non-null  float64\n",
      " 11  payment_method         584524 non-null  object \n",
      " 12  Working Date           584524 non-null  object \n",
      " 13  BI Status              584524 non-null  object \n",
      " 14   MV                    584524 non-null  object \n",
      " 15  Year                   584524 non-null  float64\n",
      " 16  Month                  584524 non-null  float64\n",
      " 17  Customer Since         584513 non-null  object \n",
      " 18  M-Y                    584524 non-null  object \n",
      " 19  FY                     584524 non-null  object \n",
      " 20  Customer ID            584513 non-null  float64\n",
      " 21  Unnamed: 21            0 non-null       float64\n",
      " 22  Unnamed: 22            0 non-null       float64\n",
      " 23  Unnamed: 23            0 non-null       float64\n",
      " 24  Unnamed: 24            0 non-null       float64\n",
      " 25  Unnamed: 25            0 non-null       float64\n",
      "dtypes: float64(13), object(13)\n",
      "memory usage: 208.0+ MB\n"
     ]
    }
   ],
   "source": [
    "# show dataset information\n",
    "print(f'Total of rows and columns in the dataset are {df.shape}')\n",
    "df.info()"
   ]
  },
  {
   "attachments": {},
   "cell_type": "markdown",
   "metadata": {},
   "source": [
    "Below is the statistical description of the dataset for numerical and categorical data."
   ]
  },
  {
   "cell_type": "code",
   "execution_count": 6,
   "metadata": {},
   "outputs": [
    {
     "data": {
      "text/html": [
       "<div>\n",
       "<style scoped>\n",
       "    .dataframe tbody tr th:only-of-type {\n",
       "        vertical-align: middle;\n",
       "    }\n",
       "\n",
       "    .dataframe tbody tr th {\n",
       "        vertical-align: top;\n",
       "    }\n",
       "\n",
       "    .dataframe thead th {\n",
       "        text-align: right;\n",
       "    }\n",
       "</style>\n",
       "<table border=\"1\" class=\"dataframe\">\n",
       "  <thead>\n",
       "    <tr style=\"text-align: right;\">\n",
       "      <th></th>\n",
       "      <th>item_id</th>\n",
       "      <th>price</th>\n",
       "      <th>qty_ordered</th>\n",
       "      <th>grand_total</th>\n",
       "      <th>discount_amount</th>\n",
       "      <th>Year</th>\n",
       "      <th>Month</th>\n",
       "      <th>Customer ID</th>\n",
       "      <th>Unnamed: 21</th>\n",
       "      <th>Unnamed: 22</th>\n",
       "      <th>Unnamed: 23</th>\n",
       "      <th>Unnamed: 24</th>\n",
       "      <th>Unnamed: 25</th>\n",
       "    </tr>\n",
       "  </thead>\n",
       "  <tbody>\n",
       "    <tr>\n",
       "      <th>count</th>\n",
       "      <td>584524.000000</td>\n",
       "      <td>5.845240e+05</td>\n",
       "      <td>584524.000000</td>\n",
       "      <td>5.845240e+05</td>\n",
       "      <td>584524.000000</td>\n",
       "      <td>584524.000000</td>\n",
       "      <td>584524.000000</td>\n",
       "      <td>584513.000000</td>\n",
       "      <td>0.0</td>\n",
       "      <td>0.0</td>\n",
       "      <td>0.0</td>\n",
       "      <td>0.0</td>\n",
       "      <td>0.0</td>\n",
       "    </tr>\n",
       "    <tr>\n",
       "      <th>mean</th>\n",
       "      <td>565667.074218</td>\n",
       "      <td>6.348748e+03</td>\n",
       "      <td>1.296388</td>\n",
       "      <td>8.530619e+03</td>\n",
       "      <td>499.492775</td>\n",
       "      <td>2017.044115</td>\n",
       "      <td>7.167654</td>\n",
       "      <td>45790.511965</td>\n",
       "      <td>NaN</td>\n",
       "      <td>NaN</td>\n",
       "      <td>NaN</td>\n",
       "      <td>NaN</td>\n",
       "      <td>NaN</td>\n",
       "    </tr>\n",
       "    <tr>\n",
       "      <th>std</th>\n",
       "      <td>200121.173648</td>\n",
       "      <td>1.494927e+04</td>\n",
       "      <td>3.996061</td>\n",
       "      <td>6.132081e+04</td>\n",
       "      <td>1506.943046</td>\n",
       "      <td>0.707355</td>\n",
       "      <td>3.486305</td>\n",
       "      <td>34414.962389</td>\n",
       "      <td>NaN</td>\n",
       "      <td>NaN</td>\n",
       "      <td>NaN</td>\n",
       "      <td>NaN</td>\n",
       "      <td>NaN</td>\n",
       "    </tr>\n",
       "    <tr>\n",
       "      <th>min</th>\n",
       "      <td>211131.000000</td>\n",
       "      <td>0.000000e+00</td>\n",
       "      <td>1.000000</td>\n",
       "      <td>-1.594000e+03</td>\n",
       "      <td>-599.500000</td>\n",
       "      <td>2016.000000</td>\n",
       "      <td>1.000000</td>\n",
       "      <td>1.000000</td>\n",
       "      <td>NaN</td>\n",
       "      <td>NaN</td>\n",
       "      <td>NaN</td>\n",
       "      <td>NaN</td>\n",
       "      <td>NaN</td>\n",
       "    </tr>\n",
       "    <tr>\n",
       "      <th>25%</th>\n",
       "      <td>395000.750000</td>\n",
       "      <td>3.600000e+02</td>\n",
       "      <td>1.000000</td>\n",
       "      <td>9.450000e+02</td>\n",
       "      <td>0.000000</td>\n",
       "      <td>2017.000000</td>\n",
       "      <td>4.000000</td>\n",
       "      <td>13516.000000</td>\n",
       "      <td>NaN</td>\n",
       "      <td>NaN</td>\n",
       "      <td>NaN</td>\n",
       "      <td>NaN</td>\n",
       "      <td>NaN</td>\n",
       "    </tr>\n",
       "    <tr>\n",
       "      <th>50%</th>\n",
       "      <td>568424.500000</td>\n",
       "      <td>8.990000e+02</td>\n",
       "      <td>1.000000</td>\n",
       "      <td>1.960400e+03</td>\n",
       "      <td>0.000000</td>\n",
       "      <td>2017.000000</td>\n",
       "      <td>7.000000</td>\n",
       "      <td>42856.000000</td>\n",
       "      <td>NaN</td>\n",
       "      <td>NaN</td>\n",
       "      <td>NaN</td>\n",
       "      <td>NaN</td>\n",
       "      <td>NaN</td>\n",
       "    </tr>\n",
       "    <tr>\n",
       "      <th>75%</th>\n",
       "      <td>739106.250000</td>\n",
       "      <td>4.070000e+03</td>\n",
       "      <td>1.000000</td>\n",
       "      <td>6.999000e+03</td>\n",
       "      <td>160.500000</td>\n",
       "      <td>2018.000000</td>\n",
       "      <td>11.000000</td>\n",
       "      <td>73536.000000</td>\n",
       "      <td>NaN</td>\n",
       "      <td>NaN</td>\n",
       "      <td>NaN</td>\n",
       "      <td>NaN</td>\n",
       "      <td>NaN</td>\n",
       "    </tr>\n",
       "    <tr>\n",
       "      <th>max</th>\n",
       "      <td>905208.000000</td>\n",
       "      <td>1.012626e+06</td>\n",
       "      <td>1000.000000</td>\n",
       "      <td>1.788800e+07</td>\n",
       "      <td>90300.000000</td>\n",
       "      <td>2018.000000</td>\n",
       "      <td>12.000000</td>\n",
       "      <td>115326.000000</td>\n",
       "      <td>NaN</td>\n",
       "      <td>NaN</td>\n",
       "      <td>NaN</td>\n",
       "      <td>NaN</td>\n",
       "      <td>NaN</td>\n",
       "    </tr>\n",
       "  </tbody>\n",
       "</table>\n",
       "</div>"
      ],
      "text/plain": [
       "             item_id         price    qty_ordered   grand_total  \\\n",
       "count  584524.000000  5.845240e+05  584524.000000  5.845240e+05   \n",
       "mean   565667.074218  6.348748e+03       1.296388  8.530619e+03   \n",
       "std    200121.173648  1.494927e+04       3.996061  6.132081e+04   \n",
       "min    211131.000000  0.000000e+00       1.000000 -1.594000e+03   \n",
       "25%    395000.750000  3.600000e+02       1.000000  9.450000e+02   \n",
       "50%    568424.500000  8.990000e+02       1.000000  1.960400e+03   \n",
       "75%    739106.250000  4.070000e+03       1.000000  6.999000e+03   \n",
       "max    905208.000000  1.012626e+06    1000.000000  1.788800e+07   \n",
       "\n",
       "       discount_amount           Year          Month    Customer ID  \\\n",
       "count    584524.000000  584524.000000  584524.000000  584513.000000   \n",
       "mean        499.492775    2017.044115       7.167654   45790.511965   \n",
       "std        1506.943046       0.707355       3.486305   34414.962389   \n",
       "min        -599.500000    2016.000000       1.000000       1.000000   \n",
       "25%           0.000000    2017.000000       4.000000   13516.000000   \n",
       "50%           0.000000    2017.000000       7.000000   42856.000000   \n",
       "75%         160.500000    2018.000000      11.000000   73536.000000   \n",
       "max       90300.000000    2018.000000      12.000000  115326.000000   \n",
       "\n",
       "       Unnamed: 21  Unnamed: 22  Unnamed: 23  Unnamed: 24  Unnamed: 25  \n",
       "count          0.0          0.0          0.0          0.0          0.0  \n",
       "mean           NaN          NaN          NaN          NaN          NaN  \n",
       "std            NaN          NaN          NaN          NaN          NaN  \n",
       "min            NaN          NaN          NaN          NaN          NaN  \n",
       "25%            NaN          NaN          NaN          NaN          NaN  \n",
       "50%            NaN          NaN          NaN          NaN          NaN  \n",
       "75%            NaN          NaN          NaN          NaN          NaN  \n",
       "max            NaN          NaN          NaN          NaN          NaN  "
      ]
     },
     "metadata": {},
     "output_type": "display_data"
    },
    {
     "data": {
      "text/html": [
       "<div>\n",
       "<style scoped>\n",
       "    .dataframe tbody tr th:only-of-type {\n",
       "        vertical-align: middle;\n",
       "    }\n",
       "\n",
       "    .dataframe tbody tr th {\n",
       "        vertical-align: top;\n",
       "    }\n",
       "\n",
       "    .dataframe thead th {\n",
       "        text-align: right;\n",
       "    }\n",
       "</style>\n",
       "<table border=\"1\" class=\"dataframe\">\n",
       "  <thead>\n",
       "    <tr style=\"text-align: right;\">\n",
       "      <th></th>\n",
       "      <th>status</th>\n",
       "      <th>created_at</th>\n",
       "      <th>sku</th>\n",
       "      <th>increment_id</th>\n",
       "      <th>category_name_1</th>\n",
       "      <th>sales_commission_code</th>\n",
       "      <th>payment_method</th>\n",
       "      <th>Working Date</th>\n",
       "      <th>BI Status</th>\n",
       "      <th>MV</th>\n",
       "      <th>Customer Since</th>\n",
       "      <th>M-Y</th>\n",
       "      <th>FY</th>\n",
       "    </tr>\n",
       "  </thead>\n",
       "  <tbody>\n",
       "    <tr>\n",
       "      <th>count</th>\n",
       "      <td>584509</td>\n",
       "      <td>584524</td>\n",
       "      <td>584504</td>\n",
       "      <td>584524</td>\n",
       "      <td>584360</td>\n",
       "      <td>447349</td>\n",
       "      <td>584524</td>\n",
       "      <td>584524</td>\n",
       "      <td>584524</td>\n",
       "      <td>584524</td>\n",
       "      <td>584513</td>\n",
       "      <td>584524</td>\n",
       "      <td>584524</td>\n",
       "    </tr>\n",
       "    <tr>\n",
       "      <th>unique</th>\n",
       "      <td>16</td>\n",
       "      <td>789</td>\n",
       "      <td>84889</td>\n",
       "      <td>408785</td>\n",
       "      <td>16</td>\n",
       "      <td>7226</td>\n",
       "      <td>18</td>\n",
       "      <td>789</td>\n",
       "      <td>4</td>\n",
       "      <td>9720</td>\n",
       "      <td>26</td>\n",
       "      <td>26</td>\n",
       "      <td>3</td>\n",
       "    </tr>\n",
       "    <tr>\n",
       "      <th>top</th>\n",
       "      <td>complete</td>\n",
       "      <td>11/25/2016</td>\n",
       "      <td>MATSAM59DB75ADB2F80</td>\n",
       "      <td>100266667</td>\n",
       "      <td>Mobiles &amp; Tablets</td>\n",
       "      <td>\\N</td>\n",
       "      <td>cod</td>\n",
       "      <td>11/25/2016</td>\n",
       "      <td>Net</td>\n",
       "      <td>999</td>\n",
       "      <td>2016-11</td>\n",
       "      <td>11-2017</td>\n",
       "      <td>FY18</td>\n",
       "    </tr>\n",
       "    <tr>\n",
       "      <th>freq</th>\n",
       "      <td>233685</td>\n",
       "      <td>15169</td>\n",
       "      <td>3775</td>\n",
       "      <td>72</td>\n",
       "      <td>115710</td>\n",
       "      <td>339001</td>\n",
       "      <td>271960</td>\n",
       "      <td>15169</td>\n",
       "      <td>234178</td>\n",
       "      <td>9516</td>\n",
       "      <td>82714</td>\n",
       "      <td>83928</td>\n",
       "      <td>306883</td>\n",
       "    </tr>\n",
       "  </tbody>\n",
       "</table>\n",
       "</div>"
      ],
      "text/plain": [
       "          status  created_at                  sku increment_id  \\\n",
       "count     584509      584524               584504       584524   \n",
       "unique        16         789                84889       408785   \n",
       "top     complete  11/25/2016  MATSAM59DB75ADB2F80    100266667   \n",
       "freq      233685       15169                 3775           72   \n",
       "\n",
       "          category_name_1 sales_commission_code payment_method Working Date  \\\n",
       "count              584360                447349         584524       584524   \n",
       "unique                 16                  7226             18          789   \n",
       "top     Mobiles & Tablets                    \\N            cod   11/25/2016   \n",
       "freq               115710                339001         271960        15169   \n",
       "\n",
       "       BI Status     MV  Customer Since      M-Y      FY  \n",
       "count     584524  584524         584513   584524  584524  \n",
       "unique         4    9720             26       26       3  \n",
       "top          Net    999         2016-11  11-2017    FY18  \n",
       "freq      234178    9516          82714    83928  306883  "
      ]
     },
     "metadata": {},
     "output_type": "display_data"
    }
   ],
   "source": [
    "display(df.describe(), df.describe(include='object'))"
   ]
  },
  {
   "attachments": {},
   "cell_type": "markdown",
   "metadata": {},
   "source": [
    "Below is the total of unique data and sample of unique data for each column."
   ]
  },
  {
   "cell_type": "code",
   "execution_count": 7,
   "metadata": {},
   "outputs": [
    {
     "data": {
      "text/html": [
       "<div>\n",
       "<style scoped>\n",
       "    .dataframe tbody tr th:only-of-type {\n",
       "        vertical-align: middle;\n",
       "    }\n",
       "\n",
       "    .dataframe tbody tr th {\n",
       "        vertical-align: top;\n",
       "    }\n",
       "\n",
       "    .dataframe thead th {\n",
       "        text-align: right;\n",
       "    }\n",
       "</style>\n",
       "<table border=\"1\" class=\"dataframe\">\n",
       "  <thead>\n",
       "    <tr style=\"text-align: right;\">\n",
       "      <th></th>\n",
       "      <th>Column Name</th>\n",
       "      <th>Total of Unique</th>\n",
       "      <th>Unique Sample</th>\n",
       "    </tr>\n",
       "  </thead>\n",
       "  <tbody>\n",
       "    <tr>\n",
       "      <th>0</th>\n",
       "      <td>item_id</td>\n",
       "      <td>584524</td>\n",
       "      <td>[211131.0, 211133.0, 211134.0, 211135.0, 211136.0, 211137.0, 211138.0, 211139.0, 211140.0, 211141.0, 211142.0, 211143.0, 211144.0, 211145.0, 211146.0, 211147.0, 211149.0, 211150.0, 211151.0, 211152.0, 211153.0, 211154.0, 211155.0, 211156.0, 211157.0, 211158.0, 211160.0, 211162.0, 211163.0, 211164.0, 211166.0, 211168.0, 211169.0, 211170.0, 211171.0, 211172.0, 211173.0, 211174.0, 211175.0, 211176.0, 211177.0, 211179.0, 211180.0, 211182.0, 211184.0, 211185.0, 211186.0, 211187.0, 211188.0, 211189.0, 211190.0, 211191.0, 211192.0, 211193.0, 211194.0, 211196.0, 211197.0, 211198.0, 211199.0, 211200.0, 211202.0, 211201.0, 211203.0, 211204.0, 211205.0, 211206.0, 211207.0, 211208.0, 211209.0, 211211.0, 211212.0, 211213.0, 211214.0, 211215.0, 211217.0, 211218.0, 211219.0, 211220.0, 211221.0, 211222.0, 211223.0, 211225.0, 211224.0, 211226.0, 211227.0, 211228.0, 211229.0, 211230.0, 211231.0, 211232.0, 211233.0, 211234.0, 211235.0, 211236.0, 211237.0, 211238.0, 211239.0, 211240.0, 211241.0, 211242.0, ...]</td>\n",
       "    </tr>\n",
       "    <tr>\n",
       "      <th>1</th>\n",
       "      <td>status</td>\n",
       "      <td>16</td>\n",
       "      <td>[complete, canceled, order_refunded, received, refund, closed, fraud, holded, exchange, pending_paypal, paid, \\N, cod, pending, nan, processing, payment_review]</td>\n",
       "    </tr>\n",
       "    <tr>\n",
       "      <th>2</th>\n",
       "      <td>created_at</td>\n",
       "      <td>789</td>\n",
       "      <td>[7/1/2016, 7/2/2016, 7/3/2016, 7/4/2016, 7/5/2016, 7/6/2016, 7/7/2016, 7/8/2016, 7/9/2016, 7/10/2016, 7/11/2016, 7/12/2016, 7/13/2016, 7/14/2016, 7/15/2016, 7/16/2016, 7/17/2016, 7/18/2016, 7/19/2016, 7/20/2016, 7/21/2016, 7/22/2016, 7/23/2016, 7/24/2016, 7/25/2016, 7/26/2016, 7/27/2016, 7/28/2016, 7/29/2016, 7/30/2016, 7/31/2016, 8/1/2016, 8/2/2016, 8/3/2016, 8/4/2016, 8/5/2016, 8/6/2016, 8/7/2016, 8/8/2016, 8/9/2016, 8/10/2016, 8/11/2016, 8/12/2016, 8/13/2016, 8/14/2016, 8/15/2016, 8/16/2016, 8/17/2016, 8/18/2016, 8/19/2016, 8/20/2016, 8/21/2016, 8/22/2016, 8/23/2016, 8/24/2016, 8/25/2016, 8/26/2016, 8/27/2016, 8/28/2016, 8/29/2016, 8/30/2016, 8/31/2016, 9/1/2016, 9/2/2016, 9/3/2016, 9/4/2016, 9/5/2016, 9/6/2016, 9/7/2016, 9/8/2016, 9/9/2016, 9/10/2016, 9/11/2016, 9/12/2016, 9/13/2016, 9/14/2016, 9/15/2016, 9/16/2016, 9/17/2016, 9/18/2016, 9/19/2016, 9/20/2016, 9/21/2016, 9/22/2016, 9/23/2016, 9/24/2016, 9/25/2016, 9/26/2016, 9/27/2016, 9/28/2016, 9/29/2016, 9/30/2016, 10/1/2016, 10/2/2016, 10/3/2016, 10/4/2016, 10/5/2016, 10/6/2016, 10/7/2016, 10/8/2016, ...]</td>\n",
       "    </tr>\n",
       "    <tr>\n",
       "      <th>3</th>\n",
       "      <td>sku</td>\n",
       "      <td>84889</td>\n",
       "      <td>[kreations_YI 06-L, kcc_Buy 2 Frey Air Freshener &amp; Get 1 Kasual Body Spray Free, Ego_UP0017-999-MR0, kcc_krone deal, BK7010400AG, UK_Namkino All In One 200 Gms, UK_Namkino Mix Nimco 400 Gms, Apple iPhone 6S 64GB, GFC_Pedestal Myga Cross Base (Special Guard) 24\", BK1070200PL, BK1130200CF, kcc_Sultanat, kcc_glamour deal, Assetmen_MD-346-M, cr_DATES WITH CASHEW-400 GM, UK_Gift Box Mix Dry Fruit Sweets 500 Gms, itter_AB 1199, RL_B005, bed&amp;rest_S7, L&amp;L_LLHLE8224S, J&amp;J_JJR-4, J&amp;J_JJR-20, D Lend a Helping Hand, Mochika_M0001112-12, Mochika_M0001112-8, SKMT_Blood Test, SKMT_Medicine, sputnik_701/5-11, Ctees-Black Zip- Up Hoodie-XL, Samsung Galaxy J5, Veet_4, RS_Gulab jaman Tin, cr_PEANUT SALTY-200 GM, Oriflame_21557, JBS_TAT-128, Ajmery_BRR-590-M, HOS_GUCFW75, Lexon_LL116B-Blue, kcc_Fantasy Perfumed Talcum Powder-200gm, 2Zee_SC6, Q MOBILE Noir X20, rehaab_RJ160047, Farah_3-B, RS_Sohan Halwa Tin, UK_Soan Papdi Original 250 Gms, UK_Gift Box Soghaat 500 Gms, RS_Double Delight, Al Muhafiz Sohan Halwa Almond, UK_Gift Box Baklawa 500 Gms, sputnik_2146/6-8, kkc_Kingtox 450ml Classic Green All Insect Killer Spray, Al Muhafiz Sohan Halwa Walnut, RS_Honey Dry Fruit Halwa, itter_AB 1214, Eco Star_40U557, Orient_OR-6057 GX LGFD LV, HOS_JPGCW100, kkc_Jasmine King Air Freshener, asimjofaeanew_5A, ajmery_F9-981, hijabh_JILBAB-C (1)-52x, noritake_NTM163M, RS_Habshi Halwa Tin, sentiments_WRK1612, bata_comfit-8613714-43-9, UK_Namkino Mix Nimco 8 Pcs Gift Pack, Inoxy_Inoxy Hair Miracle Elixir, RS_Chum Chum Tin, Dany_AUK-650 , urban_ PT004-L, jackpot_JP-7999, UK_Gift Box Pistachio Delight 500 Gms, test_tcsconnect, sst_Lyquin-Regular fit-Large, Fcafe_11777-L, LC_359547105042, LC_3349668508587, RS_pheni Desi Ghee 1 kg , UK_Gulab Jamun Tin Pack 500 Gms, UK_Chum Chum Tin Pack  500 Gms, UK_Namkino Mix Nimco 200 Gms, sentiments_Ferrero Rocher Gift Box, EGO_E02377-SML-BG00-S, darzee_DP-234-B-Pink-15-M, Q MOBILE Noir W7, RS_Kaju Barfi, RS_cake rusk, HR_Bhel Puri 200g, UK_Gift Box Almond Delight 500 Gms, UK_Soan Papdi 500 Gms, Huawei Honor 4C, bata_comfit-8614096-43-9, bata_comfit-8614096-41-7, UK_Gift Box Baklawa 300 Gms, UK_Namkino Daal Moth Classic 160 Gms, kcc_Bold Pocket Perfume, UK_Cake Rusk Original 150 Gms, itter_AB 1207, Samsung Galaxy J7, Dany_AUK 55 , ...]</td>\n",
       "    </tr>\n",
       "    <tr>\n",
       "      <th>4</th>\n",
       "      <td>price</td>\n",
       "      <td>9121</td>\n",
       "      <td>[1950.0, 240.0, 2450.0, 360.0, 555.0, 80.0, 170.0, 96499.0, 5500.0, 210.0, 156.0, 120.0, 320.0, 1550.0, 420.0, 490.0, 899.25, 899.0, 149.0, 1000.0, 1913.0, 500.0, 100.0, 1500.0, 450.0, 20999.0, 165.0, 435.0, 90.0, 850.0, 3672.0, 7400.0, 3600.0, 143.0, 225.0, 4500.0, 3156.0, 2996.0, 300.0, 150.0, 465.0, 380.0, 350.0, 425.0, 251.0, 510.0, 325.0, 30417.0, 45250.0, 8100.0, 144.0, 5597.0, 999.0, 4950.0, 805.0, 280.0, 1.0, 760.0, 1875.0, 4200.0, 550.0, 1230.0, 370.0, 2.0, 795.0, 4750.0, 520.0, 260.0, 1450.0, 3950.0, 190.0, 16460.0, 599.0, 265.0, 250.0, 25999.0, 3900.0, 75.0, 140.0, 1050.0, 3750.0, 455.0, 1335.0, 10740.0, 230.0, 799.0, 480.0, 1200.0, 4530.0, 1890.0, 185.0, 5.0, 1350.0, 2490.0, 1650.0, 1870.0, 2050.0, 995.0, 285.0, 1099.0, ...]</td>\n",
       "    </tr>\n",
       "    <tr>\n",
       "      <th>5</th>\n",
       "      <td>qty_ordered</td>\n",
       "      <td>74</td>\n",
       "      <td>[1.0, 2.0, 5.0, 3.0, 4.0, 6.0, 10.0, 34.0, 9.0, 7.0, 14.0, 11.0, 15.0, 8.0, 20.0, 27.0, 12.0, 13.0, 130.0, 16.0, 40.0, 100.0, 50.0, 120.0, 25.0, 22.0, 200.0, 31.0, 97.0, 35.0, 119.0, 24.0, 99.0, 38.0, 30.0, 26.0, 48.0, 19.0, 32.0, 28.0, 37.0, 18.0, 150.0, 300.0, 21.0, 49.0, 17.0, 45.0, 36.0, 56.0, 72.0, 502.0, 33.0, 29.0, 304.0, 1000.0, 52.0, 125.0, 141.0, 180.0, 186.0, 96.0, 187.0, 144.0, 66.0, 60.0, 185.0, 90.0, 70.0, 23.0, 102.0, 500.0, 380.0, 75.0, nan]</td>\n",
       "    </tr>\n",
       "    <tr>\n",
       "      <th>6</th>\n",
       "      <td>grand_total</td>\n",
       "      <td>36829</td>\n",
       "      <td>[1950.0, 240.0, 2450.0, 60.0, 1110.0, 80.0, 170.0, 96499.0, 5500.0, 366.0, 120.0, 0.0, 1550.0, 1270.0, 2118.25, 298.0, 3826.0, 3000.0, 450.0, 20999.0, 360.0, 300.0, 940.0, 3672.0, 740.0, 899.0, 11000.0, 168.0, 4500.0, 6152.0, 2210.0, 350.0, 425.0, 850.0, 251.0, 835.0, 30417.0, 700.0, 45250.0, 24588.0, 5597.0, 999.0, 4950.0, 805.0, 280.0, 1.0, 1195.0, 5.0, 2.0, 320.0, 1875.0, 4200.0, 550.0, 1230.0, 880.0, 1440.0, 2745.0, 12150.0, 520.0, 600.0, 3901.0, 1450.0, 3950.0, 760.0, 1125.0, 150.0, 16460.0, 599.0, 155.0, 250.0, 25999.0, 920.0, 3900.0, 3600.0, 140.0, 900.0, 1050.0, 3750.0, 455.0, 2670.0, 10740.0, 1399.0, 480.0, 1000.0, 4530.0, 1890.0, 8.0, 1350.0, 2490.0, 1650.0, 1870.0, 2050.0, 2160.0, 975.0, 1099.0, 720.0, 640.0, 3290.0, 1013.0, 323.0, ...]</td>\n",
       "    </tr>\n",
       "    <tr>\n",
       "      <th>7</th>\n",
       "      <td>increment_id</td>\n",
       "      <td>408785</td>\n",
       "      <td>[100147443, 100147444, 100147445, 100147446, 100147447, 100147448, 100147449, 100147450, 100147451, 100147452, 100147453, 100147454, 100147455, 100147456, 100147457, 100147458, 100147459, 100147460, 100147461, 100147462, 100147463, 100147464, 100147465, 100147466, 100147467, 100147468, 100147469, 100147470, 100147471, 100147472, 100147473, 100147474, 100147475, 100147476, 100147477, 100147478, 100147479, 100147480, 100147481, 100147482, 100147483, 100147484, 100147486, 100147485, 100147487, 100147488, 100147489, 100147490, 100147491, 100147492, 100147493, 100147494, 100147495, 100147496, 100147497, 100147498, 100147499, 100147500, 100147501, 100147502, 100147503, 100147505, 100147504, 100147506, 100147507, 100147508, 100147509, 100147510, 100147511, 100147512, 100147513, 100147514, 100147515, 100147516, 100147517, 100147518, 100147519, 100147520, 100147521, 100147522, 100147523, 100147524, 100147525, 100147526, 100147527, 100147528, 100147529, 100147530, 100147531, 100147532, 100147533, 100147534, 100147535, 100147536, 100147537, 100147538, 100147539, 100147540, 100147541, 100147542, ...]</td>\n",
       "    </tr>\n",
       "    <tr>\n",
       "      <th>8</th>\n",
       "      <td>category_name_1</td>\n",
       "      <td>16</td>\n",
       "      <td>[Women's Fashion, Beauty &amp; Grooming, Soghaat, Mobiles &amp; Tablets, Appliances, Home &amp; Living, Men's Fashion, Kids &amp; Baby, \\N, Others, Entertainment, Computing, Superstore, Health &amp; Sports, Books, School &amp; Education, nan]</td>\n",
       "    </tr>\n",
       "    <tr>\n",
       "      <th>9</th>\n",
       "      <td>sales_commission_code</td>\n",
       "      <td>7226</td>\n",
       "      <td>[\\N, R-FSD-52352, 105259, R-KHW-104406, R-FSD-58130, C-PEW-104656, C-Rwp-101853, C-ISB-47491, c-uet-44938, C-RWP-103867, R-KHS-104405, 104835, C-ISB-105964, 865116, C-ISB-40310, C-ISB-102148, C-RWP-102627, R-PEW-41424, C-MUX-33202, C-KHS-44926, C-RWP-66032, C-RWP-31924, C-MUX-106279, C-MUX-43032, R-LHW-105666, C-PEW-105784, C-MUX-48271, C-KHS-31122, R-KHS-103986, C-MUX-100079, C SKZ 41328, C-RWP-41876, C-RWP-47599, C-FSD-41249, C-RWP-102528, C LHE 41938, C-RWP-30884, C-RWP-31520, C-RWP-31691, C SKZ 103997, c-fsd-759, C-MUX-R52221, 7828, C-HDD-44781, R-RWP-103991, 103996, R-ISB-58059, C-FSD-42225, c-mux-47236, C-ISB-103273, C-MUX-52058, R-PEW-50644, C-MUX-31510, 80645, C-MUX-7521, 51442, C-MUX-20260, R-isb-57478, R-LHC-104132, C LHE 40936, R-KHS-103982, C-ISB-42133, C-ISB-84674, C-KHC-34670, C-MUX-30078, C-FSD-43702, R6596, R-LHW-104137, C-MUX-104110, R-LHE-90613, C-MUX-102023, C-GUJ-52213, C-MUX-105333, C-MUX-104331, R-LHC-104138, 80226, C-MUX-48275, 0KNFM, C_LHC_102999, 30071, c-mux42203, C-MUX-42203, 41078, C-SKZ43603, v, C-PEW-33551, 3293, 105114, 60615, 101651, C-ISB-102725, C-ISB-43887, R-LHW-103735, C-MUX-51991, R-PEW-104414, C-FSD-104646, C-KHS-43436, C-PEW-103055,  R-LHC-104412, C-PEW-33745, ...]</td>\n",
       "    </tr>\n",
       "    <tr>\n",
       "      <th>10</th>\n",
       "      <td>discount_amount</td>\n",
       "      <td>28058</td>\n",
       "      <td>[0.0, 300.0, 82.5, 217.5, 19.15, 180.85, 77.72, 122.28, 200.0, 149.3, 50.7, 148.57, 51.43, 81.52, 40.76, 157.38, 142.62, 54.79, 35.62, 49.32, 60.27, 1300.65, 1699.35, 136.84, 63.16, 225.0, 75.0, 100.0, 1.0, 141.66, 83.34, 52.63, 94.74, 242.86, 57.14, 134.21, 165.79, 111.11, 88.89, 500.0, 53.73, 52.24, 94.03, 133.33, 66.67, 125.31, 74.69, 195.0, 142.0, 55.0, 182.0, 180.0, 110.0, 70.0, 464.49, 35.51, 246.27, 253.73, 361.7, 138.3, 72.66, 31.14, 55.36, 147.06, 121.11, 1021.11, 245.46, 316.15, 417.28, 93.9, 98.59, 157.28, 75.12, 208.45, 291.55, 120.0, 160.0, 40.0, 423.66, 76.34, 430.23, 69.77, 156.76, 43.24, 44.69, 66.84, 343.77, 194.95, 87.16, 217.89, 351.25, 148.75, 458.0, 42.0, 5000.0, 2.0, 10.0, 2.31, 7.69, 207.6, ...]</td>\n",
       "    </tr>\n",
       "    <tr>\n",
       "      <th>11</th>\n",
       "      <td>payment_method</td>\n",
       "      <td>18</td>\n",
       "      <td>[cod, ublcreditcard, mygateway, customercredit, cashatdoorstep, mcblite, internetbanking, marketingexpense, productcredit, financesettlement, Payaxis, jazzvoucher, jazzwallet, Easypay, Easypay_MA, easypay_voucher, bankalfalah, apg, nan]</td>\n",
       "    </tr>\n",
       "    <tr>\n",
       "      <th>12</th>\n",
       "      <td>Working Date</td>\n",
       "      <td>789</td>\n",
       "      <td>[7/1/2016, 7/2/2016, 7/3/2016, 7/4/2016, 7/5/2016, 7/6/2016, 7/7/2016, 7/8/2016, 7/9/2016, 7/10/2016, 7/11/2016, 7/12/2016, 7/13/2016, 7/14/2016, 7/15/2016, 7/16/2016, 7/17/2016, 7/18/2016, 7/19/2016, 7/20/2016, 7/21/2016, 7/22/2016, 7/23/2016, 7/24/2016, 7/25/2016, 7/26/2016, 7/27/2016, 7/28/2016, 7/29/2016, 7/30/2016, 7/31/2016, 8/1/2016, 8/2/2016, 8/3/2016, 8/4/2016, 8/5/2016, 8/6/2016, 8/7/2016, 8/8/2016, 8/9/2016, 8/10/2016, 8/11/2016, 8/12/2016, 8/13/2016, 8/14/2016, 8/15/2016, 8/16/2016, 8/17/2016, 8/18/2016, 8/19/2016, 8/20/2016, 8/21/2016, 8/22/2016, 8/23/2016, 8/24/2016, 8/25/2016, 8/26/2016, 8/27/2016, 8/28/2016, 8/29/2016, 8/30/2016, 8/31/2016, 9/1/2016, 9/2/2016, 9/3/2016, 9/4/2016, 9/5/2016, 9/6/2016, 9/7/2016, 9/8/2016, 9/9/2016, 9/10/2016, 9/11/2016, 9/12/2016, 9/13/2016, 9/14/2016, 9/15/2016, 9/16/2016, 9/17/2016, 9/18/2016, 9/19/2016, 9/20/2016, 9/21/2016, 9/22/2016, 9/23/2016, 9/24/2016, 9/25/2016, 9/26/2016, 9/27/2016, 9/28/2016, 9/29/2016, 9/30/2016, 10/1/2016, 10/2/2016, 10/3/2016, 10/4/2016, 10/5/2016, 10/6/2016, 10/7/2016, 10/8/2016, ...]</td>\n",
       "    </tr>\n",
       "    <tr>\n",
       "      <th>13</th>\n",
       "      <td>BI Status</td>\n",
       "      <td>4</td>\n",
       "      <td>[#REF!, Gross, Net, Valid, nan]</td>\n",
       "    </tr>\n",
       "    <tr>\n",
       "      <th>14</th>\n",
       "      <td>MV</td>\n",
       "      <td>9720</td>\n",
       "      <td>[ 1,950 ,  240 ,  2,450 ,  360 ,  1,110 ,  80 ,  170 ,  96,499 ,  5,500 ,  210 ,  156 ,  120 ,  320 ,  1,550 ,  420 ,  490 ,  899 ,  149 ,  1,000 ,  1,913 ,  500 ,  3,000 ,  450 ,  20,999 ,  165 ,  435 ,  90 ,  850 ,  3,672 ,  7,400 ,  3,600 ,  143 ,  225 ,  4,500 ,  3,156 ,  2,996 ,  600 ,  300 ,  930 ,  380 ,  350 ,  425 ,  251 ,  510 ,  325 ,  30,417 ,  700 ,  45,250 ,  24,300 ,  288 ,  5,597 ,  999 ,  4,950 ,  805 ,  280 ,  1 ,  760 ,  5 ,  2 ,  1,875 ,  4,200 ,  550 ,  1,230 ,  370 ,  1,440 ,  795 ,  4,750 ,  520 ,  260 ,  3,900 ,  1,450 ,  3,950 ,  190 ,  16,460 ,  599 ,  265 ,  250 ,  25,999 ,  150 ,  75 ,  140 ,  1,050 ,  3,750 ,  455 ,  2,670 ,  10,740 ,  230 ,  799 ,  480 ,  1,200 ,  4,530 ,  1,890 ,  1,350 ,  2,490 ,  1,650 ,  1,870 ,  2,050 ,  995 ,  2,160 ,  285 , ...]</td>\n",
       "    </tr>\n",
       "    <tr>\n",
       "      <th>15</th>\n",
       "      <td>Year</td>\n",
       "      <td>3</td>\n",
       "      <td>[2016.0, 2017.0, 2018.0, nan]</td>\n",
       "    </tr>\n",
       "    <tr>\n",
       "      <th>16</th>\n",
       "      <td>Month</td>\n",
       "      <td>12</td>\n",
       "      <td>[7.0, 8.0, 9.0, 10.0, 11.0, 12.0, 1.0, 2.0, 3.0, 4.0, 5.0, 6.0, nan]</td>\n",
       "    </tr>\n",
       "    <tr>\n",
       "      <th>17</th>\n",
       "      <td>Customer Since</td>\n",
       "      <td>26</td>\n",
       "      <td>[2016-7, 2016-8, 2016-9, 2016-10, 2016-11, 2016-12, 2017-1, 2017-2, 2017-3, 2017-4, 2017-5, 2017-6, 2017-7, 2017-8, 2017-9, 2017-10, 2017-11, 2017-12, 2018-1, nan, 2018-2, 2018-3, 2018-4, 2018-5, 2018-6, 2018-7, 2018-8]</td>\n",
       "    </tr>\n",
       "    <tr>\n",
       "      <th>18</th>\n",
       "      <td>M-Y</td>\n",
       "      <td>26</td>\n",
       "      <td>[7-2016, 8-2016, 9-2016, 10-2016, 11-2016, 12-2016, 1-2017, 2-2017, 3-2017, 4-2017, 5-2017, 6-2017, 7-2017, 8-2017, 9-2017, 10-2017, 11-2017, 12-2017, 2-2018, 1-2018, 3-2018, 4-2018, 5-2018, 6-2018, 7-2018, 8-2018, nan]</td>\n",
       "    </tr>\n",
       "    <tr>\n",
       "      <th>19</th>\n",
       "      <td>FY</td>\n",
       "      <td>3</td>\n",
       "      <td>[FY17, FY18, FY19, nan]</td>\n",
       "    </tr>\n",
       "    <tr>\n",
       "      <th>20</th>\n",
       "      <td>Customer ID</td>\n",
       "      <td>115326</td>\n",
       "      <td>[1.0, 2.0, 3.0, 4.0, 5.0, 6.0, 7.0, 8.0, 9.0, 10.0, 11.0, 12.0, 13.0, 14.0, 15.0, 16.0, 17.0, 18.0, 19.0, 20.0, 21.0, 22.0, 23.0, 24.0, 25.0, 26.0, 27.0, 28.0, 29.0, 30.0, 31.0, 32.0, 33.0, 34.0, 35.0, 36.0, 37.0, 38.0, 39.0, 40.0, 41.0, 42.0, 43.0, 44.0, 45.0, 46.0, 47.0, 48.0, 49.0, 50.0, 51.0, 52.0, 53.0, 54.0, 55.0, 56.0, 57.0, 58.0, 59.0, 60.0, 61.0, 62.0, 63.0, 64.0, 65.0, 66.0, 67.0, 68.0, 69.0, 70.0, 71.0, 72.0, 73.0, 74.0, 75.0, 76.0, 77.0, 78.0, 79.0, 80.0, 81.0, 82.0, 83.0, 84.0, 85.0, 86.0, 87.0, 88.0, 89.0, 90.0, 91.0, 92.0, 93.0, 94.0, 95.0, 96.0, 97.0, 98.0, 99.0, 100.0, ...]</td>\n",
       "    </tr>\n",
       "    <tr>\n",
       "      <th>21</th>\n",
       "      <td>Unnamed: 21</td>\n",
       "      <td>0</td>\n",
       "      <td>[nan]</td>\n",
       "    </tr>\n",
       "    <tr>\n",
       "      <th>22</th>\n",
       "      <td>Unnamed: 22</td>\n",
       "      <td>0</td>\n",
       "      <td>[nan]</td>\n",
       "    </tr>\n",
       "    <tr>\n",
       "      <th>23</th>\n",
       "      <td>Unnamed: 23</td>\n",
       "      <td>0</td>\n",
       "      <td>[nan]</td>\n",
       "    </tr>\n",
       "    <tr>\n",
       "      <th>24</th>\n",
       "      <td>Unnamed: 24</td>\n",
       "      <td>0</td>\n",
       "      <td>[nan]</td>\n",
       "    </tr>\n",
       "    <tr>\n",
       "      <th>25</th>\n",
       "      <td>Unnamed: 25</td>\n",
       "      <td>0</td>\n",
       "      <td>[nan]</td>\n",
       "    </tr>\n",
       "  </tbody>\n",
       "</table>\n",
       "</div>"
      ],
      "text/plain": [
       "              Column Name  Total of Unique  \\\n",
       "0                 item_id           584524   \n",
       "1                  status               16   \n",
       "2              created_at              789   \n",
       "3                     sku            84889   \n",
       "4                   price             9121   \n",
       "5             qty_ordered               74   \n",
       "6             grand_total            36829   \n",
       "7            increment_id           408785   \n",
       "8         category_name_1               16   \n",
       "9   sales_commission_code             7226   \n",
       "10        discount_amount            28058   \n",
       "11         payment_method               18   \n",
       "12           Working Date              789   \n",
       "13              BI Status                4   \n",
       "14                    MV              9720   \n",
       "15                   Year                3   \n",
       "16                  Month               12   \n",
       "17         Customer Since               26   \n",
       "18                    M-Y               26   \n",
       "19                     FY                3   \n",
       "20            Customer ID           115326   \n",
       "21            Unnamed: 21                0   \n",
       "22            Unnamed: 22                0   \n",
       "23            Unnamed: 23                0   \n",
       "24            Unnamed: 24                0   \n",
       "25            Unnamed: 25                0   \n",
       "\n",
       "                                                                                                                                                                                                                                                                                                                                                                                                                                                                                                                                                                                                                                                                                                                                                                                                                                                                                                                                                                                                                                                                                                                                                                                                                                                                                                                                                                                                                                                                                                                                                                                                                                                                                                                                                                                                                                                                                                                                                                                                                                                                                                                                                                                                                                                                                                                                                     Unique Sample  \n",
       "0                                                                                                                                                                                                                                                                                                                                                                                                                                                                                                                                                                                                                                                                                                                                                                                                                                                                                                                                                                                                                                                                                                                                                                                                                                                                                                                    [211131.0, 211133.0, 211134.0, 211135.0, 211136.0, 211137.0, 211138.0, 211139.0, 211140.0, 211141.0, 211142.0, 211143.0, 211144.0, 211145.0, 211146.0, 211147.0, 211149.0, 211150.0, 211151.0, 211152.0, 211153.0, 211154.0, 211155.0, 211156.0, 211157.0, 211158.0, 211160.0, 211162.0, 211163.0, 211164.0, 211166.0, 211168.0, 211169.0, 211170.0, 211171.0, 211172.0, 211173.0, 211174.0, 211175.0, 211176.0, 211177.0, 211179.0, 211180.0, 211182.0, 211184.0, 211185.0, 211186.0, 211187.0, 211188.0, 211189.0, 211190.0, 211191.0, 211192.0, 211193.0, 211194.0, 211196.0, 211197.0, 211198.0, 211199.0, 211200.0, 211202.0, 211201.0, 211203.0, 211204.0, 211205.0, 211206.0, 211207.0, 211208.0, 211209.0, 211211.0, 211212.0, 211213.0, 211214.0, 211215.0, 211217.0, 211218.0, 211219.0, 211220.0, 211221.0, 211222.0, 211223.0, 211225.0, 211224.0, 211226.0, 211227.0, 211228.0, 211229.0, 211230.0, 211231.0, 211232.0, 211233.0, 211234.0, 211235.0, 211236.0, 211237.0, 211238.0, 211239.0, 211240.0, 211241.0, 211242.0, ...]  \n",
       "1                                                                                                                                                                                                                                                                                                                                                                                                                                                                                                                                                                                                                                                                                                                                                                                                                                                                                                                                                                                                                                                                                                                                                                                                                                                                                                                                                                                                                                                                                                                                                                                                                                                                                                                                                                                                                                                                                                                                                                                                                                                                                                                                                                                                 [complete, canceled, order_refunded, received, refund, closed, fraud, holded, exchange, pending_paypal, paid, \\N, cod, pending, nan, processing, payment_review]  \n",
       "2                                                                                                                                                                                                                                                                                                                                                                                                                                                                                                                                                                                                                                                                                                                                                                                                                                                                                                                                                                                                                                                                                                                                                                                                                                           [7/1/2016, 7/2/2016, 7/3/2016, 7/4/2016, 7/5/2016, 7/6/2016, 7/7/2016, 7/8/2016, 7/9/2016, 7/10/2016, 7/11/2016, 7/12/2016, 7/13/2016, 7/14/2016, 7/15/2016, 7/16/2016, 7/17/2016, 7/18/2016, 7/19/2016, 7/20/2016, 7/21/2016, 7/22/2016, 7/23/2016, 7/24/2016, 7/25/2016, 7/26/2016, 7/27/2016, 7/28/2016, 7/29/2016, 7/30/2016, 7/31/2016, 8/1/2016, 8/2/2016, 8/3/2016, 8/4/2016, 8/5/2016, 8/6/2016, 8/7/2016, 8/8/2016, 8/9/2016, 8/10/2016, 8/11/2016, 8/12/2016, 8/13/2016, 8/14/2016, 8/15/2016, 8/16/2016, 8/17/2016, 8/18/2016, 8/19/2016, 8/20/2016, 8/21/2016, 8/22/2016, 8/23/2016, 8/24/2016, 8/25/2016, 8/26/2016, 8/27/2016, 8/28/2016, 8/29/2016, 8/30/2016, 8/31/2016, 9/1/2016, 9/2/2016, 9/3/2016, 9/4/2016, 9/5/2016, 9/6/2016, 9/7/2016, 9/8/2016, 9/9/2016, 9/10/2016, 9/11/2016, 9/12/2016, 9/13/2016, 9/14/2016, 9/15/2016, 9/16/2016, 9/17/2016, 9/18/2016, 9/19/2016, 9/20/2016, 9/21/2016, 9/22/2016, 9/23/2016, 9/24/2016, 9/25/2016, 9/26/2016, 9/27/2016, 9/28/2016, 9/29/2016, 9/30/2016, 10/1/2016, 10/2/2016, 10/3/2016, 10/4/2016, 10/5/2016, 10/6/2016, 10/7/2016, 10/8/2016, ...]  \n",
       "3   [kreations_YI 06-L, kcc_Buy 2 Frey Air Freshener & Get 1 Kasual Body Spray Free, Ego_UP0017-999-MR0, kcc_krone deal, BK7010400AG, UK_Namkino All In One 200 Gms, UK_Namkino Mix Nimco 400 Gms, Apple iPhone 6S 64GB, GFC_Pedestal Myga Cross Base (Special Guard) 24\", BK1070200PL, BK1130200CF, kcc_Sultanat, kcc_glamour deal, Assetmen_MD-346-M, cr_DATES WITH CASHEW-400 GM, UK_Gift Box Mix Dry Fruit Sweets 500 Gms, itter_AB 1199, RL_B005, bed&rest_S7, L&L_LLHLE8224S, J&J_JJR-4, J&J_JJR-20, D Lend a Helping Hand, Mochika_M0001112-12, Mochika_M0001112-8, SKMT_Blood Test, SKMT_Medicine, sputnik_701/5-11, Ctees-Black Zip- Up Hoodie-XL, Samsung Galaxy J5, Veet_4, RS_Gulab jaman Tin, cr_PEANUT SALTY-200 GM, Oriflame_21557, JBS_TAT-128, Ajmery_BRR-590-M, HOS_GUCFW75, Lexon_LL116B-Blue, kcc_Fantasy Perfumed Talcum Powder-200gm, 2Zee_SC6, Q MOBILE Noir X20, rehaab_RJ160047, Farah_3-B, RS_Sohan Halwa Tin, UK_Soan Papdi Original 250 Gms, UK_Gift Box Soghaat 500 Gms, RS_Double Delight, Al Muhafiz Sohan Halwa Almond, UK_Gift Box Baklawa 500 Gms, sputnik_2146/6-8, kkc_Kingtox 450ml Classic Green All Insect Killer Spray, Al Muhafiz Sohan Halwa Walnut, RS_Honey Dry Fruit Halwa, itter_AB 1214, Eco Star_40U557, Orient_OR-6057 GX LGFD LV, HOS_JPGCW100, kkc_Jasmine King Air Freshener, asimjofaeanew_5A, ajmery_F9-981, hijabh_JILBAB-C (1)-52x, noritake_NTM163M, RS_Habshi Halwa Tin, sentiments_WRK1612, bata_comfit-8613714-43-9, UK_Namkino Mix Nimco 8 Pcs Gift Pack, Inoxy_Inoxy Hair Miracle Elixir, RS_Chum Chum Tin, Dany_AUK-650 , urban_ PT004-L, jackpot_JP-7999, UK_Gift Box Pistachio Delight 500 Gms, test_tcsconnect, sst_Lyquin-Regular fit-Large, Fcafe_11777-L, LC_359547105042, LC_3349668508587, RS_pheni Desi Ghee 1 kg , UK_Gulab Jamun Tin Pack 500 Gms, UK_Chum Chum Tin Pack  500 Gms, UK_Namkino Mix Nimco 200 Gms, sentiments_Ferrero Rocher Gift Box, EGO_E02377-SML-BG00-S, darzee_DP-234-B-Pink-15-M, Q MOBILE Noir W7, RS_Kaju Barfi, RS_cake rusk, HR_Bhel Puri 200g, UK_Gift Box Almond Delight 500 Gms, UK_Soan Papdi 500 Gms, Huawei Honor 4C, bata_comfit-8614096-43-9, bata_comfit-8614096-41-7, UK_Gift Box Baklawa 300 Gms, UK_Namkino Daal Moth Classic 160 Gms, kcc_Bold Pocket Perfume, UK_Cake Rusk Original 150 Gms, itter_AB 1207, Samsung Galaxy J7, Dany_AUK 55 , ...]  \n",
       "4                                                                                                                                                                                                                                                                                                                                                                                                                                                                                                                                                                                                                                                                                                                                                                                                                                                                                                                                                                                                                                                                                                                                                                                                                                                                                                                                                                                                                                                                                                                                                                                       [1950.0, 240.0, 2450.0, 360.0, 555.0, 80.0, 170.0, 96499.0, 5500.0, 210.0, 156.0, 120.0, 320.0, 1550.0, 420.0, 490.0, 899.25, 899.0, 149.0, 1000.0, 1913.0, 500.0, 100.0, 1500.0, 450.0, 20999.0, 165.0, 435.0, 90.0, 850.0, 3672.0, 7400.0, 3600.0, 143.0, 225.0, 4500.0, 3156.0, 2996.0, 300.0, 150.0, 465.0, 380.0, 350.0, 425.0, 251.0, 510.0, 325.0, 30417.0, 45250.0, 8100.0, 144.0, 5597.0, 999.0, 4950.0, 805.0, 280.0, 1.0, 760.0, 1875.0, 4200.0, 550.0, 1230.0, 370.0, 2.0, 795.0, 4750.0, 520.0, 260.0, 1450.0, 3950.0, 190.0, 16460.0, 599.0, 265.0, 250.0, 25999.0, 3900.0, 75.0, 140.0, 1050.0, 3750.0, 455.0, 1335.0, 10740.0, 230.0, 799.0, 480.0, 1200.0, 4530.0, 1890.0, 185.0, 5.0, 1350.0, 2490.0, 1650.0, 1870.0, 2050.0, 995.0, 285.0, 1099.0, ...]  \n",
       "5                                                                                                                                                                                                                                                                                                                                                                                                                                                                                                                                                                                                                                                                                                                                                                                                                                                                                                                                                                                                                                                                                                                                                                                                                                                                                                                                                                                                                                                                                                                                                                                                                                                                                                                                                                                                                                                                                    [1.0, 2.0, 5.0, 3.0, 4.0, 6.0, 10.0, 34.0, 9.0, 7.0, 14.0, 11.0, 15.0, 8.0, 20.0, 27.0, 12.0, 13.0, 130.0, 16.0, 40.0, 100.0, 50.0, 120.0, 25.0, 22.0, 200.0, 31.0, 97.0, 35.0, 119.0, 24.0, 99.0, 38.0, 30.0, 26.0, 48.0, 19.0, 32.0, 28.0, 37.0, 18.0, 150.0, 300.0, 21.0, 49.0, 17.0, 45.0, 36.0, 56.0, 72.0, 502.0, 33.0, 29.0, 304.0, 1000.0, 52.0, 125.0, 141.0, 180.0, 186.0, 96.0, 187.0, 144.0, 66.0, 60.0, 185.0, 90.0, 70.0, 23.0, 102.0, 500.0, 380.0, 75.0, nan]  \n",
       "6                                                                                                                                                                                                                                                                                                                                                                                                                                                                                                                                                                                                                                                                                                                                                                                                                                                                                                                                                                                                                                                                                                                                                                                                                                                                                                                                                                                                                                                                                                                                                                            [1950.0, 240.0, 2450.0, 60.0, 1110.0, 80.0, 170.0, 96499.0, 5500.0, 366.0, 120.0, 0.0, 1550.0, 1270.0, 2118.25, 298.0, 3826.0, 3000.0, 450.0, 20999.0, 360.0, 300.0, 940.0, 3672.0, 740.0, 899.0, 11000.0, 168.0, 4500.0, 6152.0, 2210.0, 350.0, 425.0, 850.0, 251.0, 835.0, 30417.0, 700.0, 45250.0, 24588.0, 5597.0, 999.0, 4950.0, 805.0, 280.0, 1.0, 1195.0, 5.0, 2.0, 320.0, 1875.0, 4200.0, 550.0, 1230.0, 880.0, 1440.0, 2745.0, 12150.0, 520.0, 600.0, 3901.0, 1450.0, 3950.0, 760.0, 1125.0, 150.0, 16460.0, 599.0, 155.0, 250.0, 25999.0, 920.0, 3900.0, 3600.0, 140.0, 900.0, 1050.0, 3750.0, 455.0, 2670.0, 10740.0, 1399.0, 480.0, 1000.0, 4530.0, 1890.0, 8.0, 1350.0, 2490.0, 1650.0, 1870.0, 2050.0, 2160.0, 975.0, 1099.0, 720.0, 640.0, 3290.0, 1013.0, 323.0, ...]  \n",
       "7                                                                                                                                                                                                                                                                                                                                                                                                                                                                                                                                                                                                                                                                                                                                                                                                                                                                                                                                                                                                                                                                                                                                                                                                                [100147443, 100147444, 100147445, 100147446, 100147447, 100147448, 100147449, 100147450, 100147451, 100147452, 100147453, 100147454, 100147455, 100147456, 100147457, 100147458, 100147459, 100147460, 100147461, 100147462, 100147463, 100147464, 100147465, 100147466, 100147467, 100147468, 100147469, 100147470, 100147471, 100147472, 100147473, 100147474, 100147475, 100147476, 100147477, 100147478, 100147479, 100147480, 100147481, 100147482, 100147483, 100147484, 100147486, 100147485, 100147487, 100147488, 100147489, 100147490, 100147491, 100147492, 100147493, 100147494, 100147495, 100147496, 100147497, 100147498, 100147499, 100147500, 100147501, 100147502, 100147503, 100147505, 100147504, 100147506, 100147507, 100147508, 100147509, 100147510, 100147511, 100147512, 100147513, 100147514, 100147515, 100147516, 100147517, 100147518, 100147519, 100147520, 100147521, 100147522, 100147523, 100147524, 100147525, 100147526, 100147527, 100147528, 100147529, 100147530, 100147531, 100147532, 100147533, 100147534, 100147535, 100147536, 100147537, 100147538, 100147539, 100147540, 100147541, 100147542, ...]  \n",
       "8                                                                                                                                                                                                                                                                                                                                                                                                                                                                                                                                                                                                                                                                                                                                                                                                                                                                                                                                                                                                                                                                                                                                                                                                                                                                                                                                                                                                                                                                                                                                                                                                                                                                                                                                                                                                                                                                                                                                                                                                                                                                                                                                       [Women's Fashion, Beauty & Grooming, Soghaat, Mobiles & Tablets, Appliances, Home & Living, Men's Fashion, Kids & Baby, \\N, Others, Entertainment, Computing, Superstore, Health & Sports, Books, School & Education, nan]  \n",
       "9                                                                                                                                                                                                                                                                                                                                                                                                                                                                                                                                                                                                                                                                                                                                                                                                                                                                                                                                                                                                                                                                                          [\\N, R-FSD-52352, 105259, R-KHW-104406, R-FSD-58130, C-PEW-104656, C-Rwp-101853, C-ISB-47491, c-uet-44938, C-RWP-103867, R-KHS-104405, 104835, C-ISB-105964, 865116, C-ISB-40310, C-ISB-102148, C-RWP-102627, R-PEW-41424, C-MUX-33202, C-KHS-44926, C-RWP-66032, C-RWP-31924, C-MUX-106279, C-MUX-43032, R-LHW-105666, C-PEW-105784, C-MUX-48271, C-KHS-31122, R-KHS-103986, C-MUX-100079, C SKZ 41328, C-RWP-41876, C-RWP-47599, C-FSD-41249, C-RWP-102528, C LHE 41938, C-RWP-30884, C-RWP-31520, C-RWP-31691, C SKZ 103997, c-fsd-759, C-MUX-R52221, 7828, C-HDD-44781, R-RWP-103991, 103996, R-ISB-58059, C-FSD-42225, c-mux-47236, C-ISB-103273, C-MUX-52058, R-PEW-50644, C-MUX-31510, 80645, C-MUX-7521, 51442, C-MUX-20260, R-isb-57478, R-LHC-104132, C LHE 40936, R-KHS-103982, C-ISB-42133, C-ISB-84674, C-KHC-34670, C-MUX-30078, C-FSD-43702, R6596, R-LHW-104137, C-MUX-104110, R-LHE-90613, C-MUX-102023, C-GUJ-52213, C-MUX-105333, C-MUX-104331, R-LHC-104138, 80226, C-MUX-48275, 0KNFM, C_LHC_102999, 30071, c-mux42203, C-MUX-42203, 41078, C-SKZ43603, v, C-PEW-33551, 3293, 105114, 60615, 101651, C-ISB-102725, C-ISB-43887, R-LHW-103735, C-MUX-51991, R-PEW-104414, C-FSD-104646, C-KHS-43436, C-PEW-103055,  R-LHC-104412, C-PEW-33745, ...]  \n",
       "10                                                                                                                                                                                                                                                                                                                                                                                                                                                                                                                                                                                                                                                                                                                                                                                                                                                                                                                                                                                                                                                                                                                                                                                                                                                                                                                                                                                                                                                                                                                                                                                                         [0.0, 300.0, 82.5, 217.5, 19.15, 180.85, 77.72, 122.28, 200.0, 149.3, 50.7, 148.57, 51.43, 81.52, 40.76, 157.38, 142.62, 54.79, 35.62, 49.32, 60.27, 1300.65, 1699.35, 136.84, 63.16, 225.0, 75.0, 100.0, 1.0, 141.66, 83.34, 52.63, 94.74, 242.86, 57.14, 134.21, 165.79, 111.11, 88.89, 500.0, 53.73, 52.24, 94.03, 133.33, 66.67, 125.31, 74.69, 195.0, 142.0, 55.0, 182.0, 180.0, 110.0, 70.0, 464.49, 35.51, 246.27, 253.73, 361.7, 138.3, 72.66, 31.14, 55.36, 147.06, 121.11, 1021.11, 245.46, 316.15, 417.28, 93.9, 98.59, 157.28, 75.12, 208.45, 291.55, 120.0, 160.0, 40.0, 423.66, 76.34, 430.23, 69.77, 156.76, 43.24, 44.69, 66.84, 343.77, 194.95, 87.16, 217.89, 351.25, 148.75, 458.0, 42.0, 5000.0, 2.0, 10.0, 2.31, 7.69, 207.6, ...]  \n",
       "11                                                                                                                                                                                                                                                                                                                                                                                                                                                                                                                                                                                                                                                                                                                                                                                                                                                                                                                                                                                                                                                                                                                                                                                                                                                                                                                                                                                                                                                                                                                                                                                                                                                                                                                                                                                                                                                                                                                                                                                                                                                                                                                    [cod, ublcreditcard, mygateway, customercredit, cashatdoorstep, mcblite, internetbanking, marketingexpense, productcredit, financesettlement, Payaxis, jazzvoucher, jazzwallet, Easypay, Easypay_MA, easypay_voucher, bankalfalah, apg, nan]  \n",
       "12                                                                                                                                                                                                                                                                                                                                                                                                                                                                                                                                                                                                                                                                                                                                                                                                                                                                                                                                                                                                                                                                                                                                                                                                                                          [7/1/2016, 7/2/2016, 7/3/2016, 7/4/2016, 7/5/2016, 7/6/2016, 7/7/2016, 7/8/2016, 7/9/2016, 7/10/2016, 7/11/2016, 7/12/2016, 7/13/2016, 7/14/2016, 7/15/2016, 7/16/2016, 7/17/2016, 7/18/2016, 7/19/2016, 7/20/2016, 7/21/2016, 7/22/2016, 7/23/2016, 7/24/2016, 7/25/2016, 7/26/2016, 7/27/2016, 7/28/2016, 7/29/2016, 7/30/2016, 7/31/2016, 8/1/2016, 8/2/2016, 8/3/2016, 8/4/2016, 8/5/2016, 8/6/2016, 8/7/2016, 8/8/2016, 8/9/2016, 8/10/2016, 8/11/2016, 8/12/2016, 8/13/2016, 8/14/2016, 8/15/2016, 8/16/2016, 8/17/2016, 8/18/2016, 8/19/2016, 8/20/2016, 8/21/2016, 8/22/2016, 8/23/2016, 8/24/2016, 8/25/2016, 8/26/2016, 8/27/2016, 8/28/2016, 8/29/2016, 8/30/2016, 8/31/2016, 9/1/2016, 9/2/2016, 9/3/2016, 9/4/2016, 9/5/2016, 9/6/2016, 9/7/2016, 9/8/2016, 9/9/2016, 9/10/2016, 9/11/2016, 9/12/2016, 9/13/2016, 9/14/2016, 9/15/2016, 9/16/2016, 9/17/2016, 9/18/2016, 9/19/2016, 9/20/2016, 9/21/2016, 9/22/2016, 9/23/2016, 9/24/2016, 9/25/2016, 9/26/2016, 9/27/2016, 9/28/2016, 9/29/2016, 9/30/2016, 10/1/2016, 10/2/2016, 10/3/2016, 10/4/2016, 10/5/2016, 10/6/2016, 10/7/2016, 10/8/2016, ...]  \n",
       "13                                                                                                                                                                                                                                                                                                                                                                                                                                                                                                                                                                                                                                                                                                                                                                                                                                                                                                                                                                                                                                                                                                                                                                                                                                                                                                                                                                                                                                                                                                                                                                                                                                                                                                                                                                                                                                                                                                                                                                                                                                                                                                                                                                                                                                                                                                                                 [#REF!, Gross, Net, Valid, nan]  \n",
       "14                                                                                                                                                                                                                                                                                                                                                                                                                                                                                                                                                                                                                                                                                                                                                                                                                                                                                                                                                                                                                                                                                                                                                                                                                                                                                                                                                                                                                                                                                                                                        [ 1,950 ,  240 ,  2,450 ,  360 ,  1,110 ,  80 ,  170 ,  96,499 ,  5,500 ,  210 ,  156 ,  120 ,  320 ,  1,550 ,  420 ,  490 ,  899 ,  149 ,  1,000 ,  1,913 ,  500 ,  3,000 ,  450 ,  20,999 ,  165 ,  435 ,  90 ,  850 ,  3,672 ,  7,400 ,  3,600 ,  143 ,  225 ,  4,500 ,  3,156 ,  2,996 ,  600 ,  300 ,  930 ,  380 ,  350 ,  425 ,  251 ,  510 ,  325 ,  30,417 ,  700 ,  45,250 ,  24,300 ,  288 ,  5,597 ,  999 ,  4,950 ,  805 ,  280 ,  1 ,  760 ,  5 ,  2 ,  1,875 ,  4,200 ,  550 ,  1,230 ,  370 ,  1,440 ,  795 ,  4,750 ,  520 ,  260 ,  3,900 ,  1,450 ,  3,950 ,  190 ,  16,460 ,  599 ,  265 ,  250 ,  25,999 ,  150 ,  75 ,  140 ,  1,050 ,  3,750 ,  455 ,  2,670 ,  10,740 ,  230 ,  799 ,  480 ,  1,200 ,  4,530 ,  1,890 ,  1,350 ,  2,490 ,  1,650 ,  1,870 ,  2,050 ,  995 ,  2,160 ,  285 , ...]  \n",
       "15                                                                                                                                                                                                                                                                                                                                                                                                                                                                                                                                                                                                                                                                                                                                                                                                                                                                                                                                                                                                                                                                                                                                                                                                                                                                                                                                                                                                                                                                                                                                                                                                                                                                                                                                                                                                                                                                                                                                                                                                                                                                                                                                                                                                                                                                                                                                   [2016.0, 2017.0, 2018.0, nan]  \n",
       "16                                                                                                                                                                                                                                                                                                                                                                                                                                                                                                                                                                                                                                                                                                                                                                                                                                                                                                                                                                                                                                                                                                                                                                                                                                                                                                                                                                                                                                                                                                                                                                                                                                                                                                                                                                                                                                                                                                                                                                                                                                                                                                                                                                                                                                                                                            [7.0, 8.0, 9.0, 10.0, 11.0, 12.0, 1.0, 2.0, 3.0, 4.0, 5.0, 6.0, nan]  \n",
       "17                                                                                                                                                                                                                                                                                                                                                                                                                                                                                                                                                                                                                                                                                                                                                                                                                                                                                                                                                                                                                                                                                                                                                                                                                                                                                                                                                                                                                                                                                                                                                                                                                                                                                                                                                                                                                                                                                                                                                                                                                                                                                                                                     [2016-7, 2016-8, 2016-9, 2016-10, 2016-11, 2016-12, 2017-1, 2017-2, 2017-3, 2017-4, 2017-5, 2017-6, 2017-7, 2017-8, 2017-9, 2017-10, 2017-11, 2017-12, 2018-1, nan, 2018-2, 2018-3, 2018-4, 2018-5, 2018-6, 2018-7, 2018-8]  \n",
       "18                                                                                                                                                                                                                                                                                                                                                                                                                                                                                                                                                                                                                                                                                                                                                                                                                                                                                                                                                                                                                                                                                                                                                                                                                                                                                                                                                                                                                                                                                                                                                                                                                                                                                                                                                                                                                                                                                                                                                                                                                                                                                                                                     [7-2016, 8-2016, 9-2016, 10-2016, 11-2016, 12-2016, 1-2017, 2-2017, 3-2017, 4-2017, 5-2017, 6-2017, 7-2017, 8-2017, 9-2017, 10-2017, 11-2017, 12-2017, 2-2018, 1-2018, 3-2018, 4-2018, 5-2018, 6-2018, 7-2018, 8-2018, nan]  \n",
       "19                                                                                                                                                                                                                                                                                                                                                                                                                                                                                                                                                                                                                                                                                                                                                                                                                                                                                                                                                                                                                                                                                                                                                                                                                                                                                                                                                                                                                                                                                                                                                                                                                                                                                                                                                                                                                                                                                                                                                                                                                                                                                                                                                                                                                                                                                                                                         [FY17, FY18, FY19, nan]  \n",
       "20                                                                                                                                                                                                                                                                                                                                                                                                                                                                                                                                                                                                                                                                                                                                                                                                                                                                                                                                                                                                                                                                                                                                                                                                                                                                                                                                                                                                                                                                                                                                                                                                                                                                                                                                           [1.0, 2.0, 3.0, 4.0, 5.0, 6.0, 7.0, 8.0, 9.0, 10.0, 11.0, 12.0, 13.0, 14.0, 15.0, 16.0, 17.0, 18.0, 19.0, 20.0, 21.0, 22.0, 23.0, 24.0, 25.0, 26.0, 27.0, 28.0, 29.0, 30.0, 31.0, 32.0, 33.0, 34.0, 35.0, 36.0, 37.0, 38.0, 39.0, 40.0, 41.0, 42.0, 43.0, 44.0, 45.0, 46.0, 47.0, 48.0, 49.0, 50.0, 51.0, 52.0, 53.0, 54.0, 55.0, 56.0, 57.0, 58.0, 59.0, 60.0, 61.0, 62.0, 63.0, 64.0, 65.0, 66.0, 67.0, 68.0, 69.0, 70.0, 71.0, 72.0, 73.0, 74.0, 75.0, 76.0, 77.0, 78.0, 79.0, 80.0, 81.0, 82.0, 83.0, 84.0, 85.0, 86.0, 87.0, 88.0, 89.0, 90.0, 91.0, 92.0, 93.0, 94.0, 95.0, 96.0, 97.0, 98.0, 99.0, 100.0, ...]  \n",
       "21                                                                                                                                                                                                                                                                                                                                                                                                                                                                                                                                                                                                                                                                                                                                                                                                                                                                                                                                                                                                                                                                                                                                                                                                                                                                                                                                                                                                                                                                                                                                                                                                                                                                                                                                                                                                                                                                                                                                                                                                                                                                                                                                                                                                                                                                                                                                                           [nan]  \n",
       "22                                                                                                                                                                                                                                                                                                                                                                                                                                                                                                                                                                                                                                                                                                                                                                                                                                                                                                                                                                                                                                                                                                                                                                                                                                                                                                                                                                                                                                                                                                                                                                                                                                                                                                                                                                                                                                                                                                                                                                                                                                                                                                                                                                                                                                                                                                                                                           [nan]  \n",
       "23                                                                                                                                                                                                                                                                                                                                                                                                                                                                                                                                                                                                                                                                                                                                                                                                                                                                                                                                                                                                                                                                                                                                                                                                                                                                                                                                                                                                                                                                                                                                                                                                                                                                                                                                                                                                                                                                                                                                                                                                                                                                                                                                                                                                                                                                                                                                                           [nan]  \n",
       "24                                                                                                                                                                                                                                                                                                                                                                                                                                                                                                                                                                                                                                                                                                                                                                                                                                                                                                                                                                                                                                                                                                                                                                                                                                                                                                                                                                                                                                                                                                                                                                                                                                                                                                                                                                                                                                                                                                                                                                                                                                                                                                                                                                                                                                                                                                                                                           [nan]  \n",
       "25                                                                                                                                                                                                                                                                                                                                                                                                                                                                                                                                                                                                                                                                                                                                                                                                                                                                                                                                                                                                                                                                                                                                                                                                                                                                                                                                                                                                                                                                                                                                                                                                                                                                                                                                                                                                                                                                                                                                                                                                                                                                                                                                                                                                                                                                                                                                                           [nan]  "
      ]
     },
     "execution_count": 7,
     "metadata": {},
     "output_type": "execute_result"
    }
   ],
   "source": [
    "pd.set_option('display.max_colwidth', None)\n",
    "listUniqueItem = []\n",
    "for col in df.columns :\n",
    "    listUniqueItem.append( [col, df[col].nunique(), df[col].unique()])\n",
    "\n",
    "tableDesc = pd.DataFrame(columns=['Column Name', 'Total of Unique', 'Unique Sample'],\n",
    "                     data=listUniqueItem)\n",
    "tableDesc"
   ]
  },
  {
   "attachments": {},
   "cell_type": "markdown",
   "metadata": {},
   "source": [
    "## Data Cleaning 1: Remove Empty Data\n",
    "In the first step, we will remove empty data from the dataset. To prevent any major change in the data which will affect further analysis, we will only delete rows or columns with 100% empty data."
   ]
  },
  {
   "cell_type": "code",
   "execution_count": 8,
   "metadata": {},
   "outputs": [
    {
     "name": "stdout",
     "output_type": "stream",
     "text": [
      "<class 'pandas.core.frame.DataFrame'>\n",
      "RangeIndex: 1048575 entries, 0 to 1048574\n",
      "Data columns (total 5 columns):\n",
      " #   Column       Non-Null Count  Dtype  \n",
      "---  ------       --------------  -----  \n",
      " 0   Unnamed: 21  0 non-null      float64\n",
      " 1   Unnamed: 22  0 non-null      float64\n",
      " 2   Unnamed: 23  0 non-null      float64\n",
      " 3   Unnamed: 24  0 non-null      float64\n",
      " 4   Unnamed: 25  0 non-null      float64\n",
      "dtypes: float64(5)\n",
      "memory usage: 40.0 MB\n"
     ]
    }
   ],
   "source": [
    "# confirm columns which contain 100% missing values\n",
    "df[['Unnamed: 21','Unnamed: 22','Unnamed: 23','Unnamed: 24','Unnamed: 25']].info()"
   ]
  },
  {
   "cell_type": "code",
   "execution_count": 9,
   "metadata": {},
   "outputs": [],
   "source": [
    "# delete columns with 100% missing values\n",
    "df.drop(['Unnamed: 21', 'Unnamed: 22', 'Unnamed: 23', 'Unnamed: 24', 'Unnamed: 25'], axis=1, inplace=True)"
   ]
  },
  {
   "cell_type": "code",
   "execution_count": 10,
   "metadata": {},
   "outputs": [
    {
     "name": "stdout",
     "output_type": "stream",
     "text": [
      "Total of rows with 100% missing values = 464051\n"
     ]
    }
   ],
   "source": [
    "# count rows with 100% missing values\n",
    "print(f'Total of rows with 100% missing values = {df.isna().all(axis=1).sum()}')"
   ]
  },
  {
   "cell_type": "code",
   "execution_count": 11,
   "metadata": {},
   "outputs": [],
   "source": [
    "# delete rows with 100% missing values\n",
    "df.dropna(axis=0, how='all',inplace=True)"
   ]
  },
  {
   "cell_type": "code",
   "execution_count": 12,
   "metadata": {},
   "outputs": [
    {
     "name": "stdout",
     "output_type": "stream",
     "text": [
      "Total of duplicate rows = 0\n"
     ]
    }
   ],
   "source": [
    "# check for duplicate rows\n",
    "print(f'Total of duplicate rows = {df.duplicated().sum()}')"
   ]
  },
  {
   "cell_type": "code",
   "execution_count": 13,
   "metadata": {},
   "outputs": [
    {
     "name": "stdout",
     "output_type": "stream",
     "text": [
      "Total of rows and columns in the dataset after removing empty data (584524, 21)\n",
      "<class 'pandas.core.frame.DataFrame'>\n",
      "Int64Index: 584524 entries, 0 to 584523\n",
      "Data columns (total 21 columns):\n",
      " #   Column                 Non-Null Count   Dtype  \n",
      "---  ------                 --------------   -----  \n",
      " 0   item_id                584524 non-null  float64\n",
      " 1   status                 584509 non-null  object \n",
      " 2   created_at             584524 non-null  object \n",
      " 3   sku                    584504 non-null  object \n",
      " 4   price                  584524 non-null  float64\n",
      " 5   qty_ordered            584524 non-null  float64\n",
      " 6   grand_total            584524 non-null  float64\n",
      " 7   increment_id           584524 non-null  object \n",
      " 8   category_name_1        584360 non-null  object \n",
      " 9   sales_commission_code  447349 non-null  object \n",
      " 10  discount_amount        584524 non-null  float64\n",
      " 11  payment_method         584524 non-null  object \n",
      " 12  Working Date           584524 non-null  object \n",
      " 13  BI Status              584524 non-null  object \n",
      " 14   MV                    584524 non-null  object \n",
      " 15  Year                   584524 non-null  float64\n",
      " 16  Month                  584524 non-null  float64\n",
      " 17  Customer Since         584513 non-null  object \n",
      " 18  M-Y                    584524 non-null  object \n",
      " 19  FY                     584524 non-null  object \n",
      " 20  Customer ID            584513 non-null  float64\n",
      "dtypes: float64(8), object(13)\n",
      "memory usage: 98.1+ MB\n"
     ]
    }
   ],
   "source": [
    "# result check\n",
    "print(f'Total of rows and columns in the dataset after removing empty data {df.shape}')"
   ]
  },
  {
   "attachments": {},
   "cell_type": "markdown",
   "metadata": {},
   "source": [
    "## Data Cleaning 2: Rename Columns and Check for Whitespaces\n",
    "In the second step, to improve readability and consistency in further steps, we will rename the columns.<br>\n",
    "We also check if there are leading/trailing whitespaces in the values for each column and remove it if found."
   ]
  },
  {
   "cell_type": "code",
   "execution_count": 14,
   "metadata": {},
   "outputs": [],
   "source": [
    "# rename columns to increase readability and consistency\n",
    "df = df.rename(columns={\n",
    "    'item_id': 'ItemID',\n",
    "    'status': 'Status',\n",
    "    'created_at': 'CreatedAt',\n",
    "    'sku': 'SKU',\n",
    "    'price': 'Price',\n",
    "    'qty_ordered': 'QuantityOrdered',\n",
    "    'grand_total': 'GrandTotal',\n",
    "    'increment_id': 'IncrementID',\n",
    "    'category_name_1': 'CategoryName',\n",
    "    'sales_commission_code': 'SalesCommissionCode',\n",
    "    'discount_amount': 'DiscountAmount',\n",
    "    'payment_method': 'PaymentMethod',\n",
    "    'Working Date': 'WorkingDate',\n",
    "    'BI Status': 'BIStatus',\n",
    "    'MV': 'MV',\n",
    "    'Year': 'Year',\n",
    "    'Month': 'Month',\n",
    "    'Customer Since': 'CustomerSince',\n",
    "    'M-Y': 'MY',\n",
    "    'FY': 'FY',\n",
    "    'Customer ID': 'CustomerID'\n",
    "})"
   ]
  },
  {
   "cell_type": "code",
   "execution_count": 15,
   "metadata": {},
   "outputs": [],
   "source": [
    "# rename MV column to remove whitespaces\n",
    "df.rename(columns={' MV ': 'MV'},inplace=True)"
   ]
  },
  {
   "cell_type": "code",
   "execution_count": 16,
   "metadata": {},
   "outputs": [
    {
     "name": "stdout",
     "output_type": "stream",
     "text": [
      "Total number of whitespaces in column 'SKU': 4253.0\n",
      "Total number of whitespaces in column 'SalesCommissionCode': 205.0\n",
      "Total number of whitespaces in column 'MV': 1169048\n"
     ]
    }
   ],
   "source": [
    "# check for leading and trailing whitespaces for each column\n",
    "for col in df.columns:\n",
    "    if df[col].dtype == \"object\":\n",
    "        leading_spaces = df[col].str.count(' $')\n",
    "        trailing_spaces = df[col].str.count('^ ')\n",
    "        total_whitespace = leading_spaces.sum() + trailing_spaces.sum()\n",
    "        if total_whitespace>0:\n",
    "            print(f\"Total number of whitespaces in column '{col}': {total_whitespace}\")"
   ]
  },
  {
   "cell_type": "code",
   "execution_count": 17,
   "metadata": {},
   "outputs": [],
   "source": [
    "# remove whitespaces in SKU, SalesCommissionCode, MV columns\n",
    "df[['SKU','SalesCommissionCode','MV']] = df[['SKU','SalesCommissionCode','MV']].applymap(lambda x: x.strip() if isinstance(x, str) else x)"
   ]
  },
  {
   "attachments": {},
   "cell_type": "markdown",
   "metadata": {},
   "source": [
    "## Data Cleaning 3: Handle Missing Values"
   ]
  },
  {
   "attachments": {},
   "cell_type": "markdown",
   "metadata": {},
   "source": [
    "In the third step, we will handle missing values. From the sample below, we can see there are two types of missing values: NaN and \\N. For each column we will first replace NaN values then \\N values."
   ]
  },
  {
   "cell_type": "code",
   "execution_count": 19,
   "metadata": {},
   "outputs": [
    {
     "data": {
      "text/html": [
       "<div>\n",
       "<style scoped>\n",
       "    .dataframe tbody tr th:only-of-type {\n",
       "        vertical-align: middle;\n",
       "    }\n",
       "\n",
       "    .dataframe tbody tr th {\n",
       "        vertical-align: top;\n",
       "    }\n",
       "\n",
       "    .dataframe thead th {\n",
       "        text-align: right;\n",
       "    }\n",
       "</style>\n",
       "<table border=\"1\" class=\"dataframe\">\n",
       "  <thead>\n",
       "    <tr style=\"text-align: right;\">\n",
       "      <th></th>\n",
       "      <th>ItemID</th>\n",
       "      <th>Status</th>\n",
       "      <th>CreatedAt</th>\n",
       "      <th>SKU</th>\n",
       "      <th>Price</th>\n",
       "      <th>QuantityOrdered</th>\n",
       "      <th>GrandTotal</th>\n",
       "      <th>IncrementID</th>\n",
       "      <th>CategoryName</th>\n",
       "      <th>SalesCommissionCode</th>\n",
       "      <th>DiscountAmount</th>\n",
       "      <th>PaymentMethod</th>\n",
       "      <th>WorkingDate</th>\n",
       "      <th>BIStatus</th>\n",
       "      <th>MV</th>\n",
       "      <th>Year</th>\n",
       "      <th>Month</th>\n",
       "      <th>CustomerSince</th>\n",
       "      <th>MY</th>\n",
       "      <th>FY</th>\n",
       "      <th>CustomerID</th>\n",
       "    </tr>\n",
       "  </thead>\n",
       "  <tbody>\n",
       "    <tr>\n",
       "      <th>83755</th>\n",
       "      <td>314768.0</td>\n",
       "      <td>complete</td>\n",
       "      <td>11/24/2016</td>\n",
       "      <td>sinbo_4419</td>\n",
       "      <td>2200.0</td>\n",
       "      <td>1.0</td>\n",
       "      <td>13634.0</td>\n",
       "      <td>100216916</td>\n",
       "      <td>Appliances</td>\n",
       "      <td>\\N</td>\n",
       "      <td>0.0</td>\n",
       "      <td>cod</td>\n",
       "      <td>11/24/2016</td>\n",
       "      <td>Net</td>\n",
       "      <td>2,200</td>\n",
       "      <td>2016.0</td>\n",
       "      <td>11.0</td>\n",
       "      <td>2016-11</td>\n",
       "      <td>11-2016</td>\n",
       "      <td>FY17</td>\n",
       "      <td>19647.0</td>\n",
       "    </tr>\n",
       "    <tr>\n",
       "      <th>282395</th>\n",
       "      <td>557811.0</td>\n",
       "      <td>canceled</td>\n",
       "      <td>8/11/2017</td>\n",
       "      <td>Valarie_MF 04-M</td>\n",
       "      <td>361.0</td>\n",
       "      <td>1.0</td>\n",
       "      <td>7705.0</td>\n",
       "      <td>100345921</td>\n",
       "      <td>Men's Fashion</td>\n",
       "      <td>\\N</td>\n",
       "      <td>0.0</td>\n",
       "      <td>cod</td>\n",
       "      <td>8/11/2017</td>\n",
       "      <td>Gross</td>\n",
       "      <td>361</td>\n",
       "      <td>2017.0</td>\n",
       "      <td>8.0</td>\n",
       "      <td>2017-3</td>\n",
       "      <td>8-2017</td>\n",
       "      <td>FY18</td>\n",
       "      <td>37904.0</td>\n",
       "    </tr>\n",
       "    <tr>\n",
       "      <th>540452</th>\n",
       "      <td>855982.0</td>\n",
       "      <td>order_refunded</td>\n",
       "      <td>5/23/2018</td>\n",
       "      <td>MATSAM5AA3E58DF3506</td>\n",
       "      <td>104999.0</td>\n",
       "      <td>1.0</td>\n",
       "      <td>104999.0</td>\n",
       "      <td>100533709</td>\n",
       "      <td>Mobiles &amp; Tablets</td>\n",
       "      <td>NaN</td>\n",
       "      <td>0.0</td>\n",
       "      <td>Payaxis</td>\n",
       "      <td>5/23/2018</td>\n",
       "      <td>Valid</td>\n",
       "      <td>104,999</td>\n",
       "      <td>2018.0</td>\n",
       "      <td>5.0</td>\n",
       "      <td>2018-5</td>\n",
       "      <td>5-2018</td>\n",
       "      <td>FY18</td>\n",
       "      <td>109377.0</td>\n",
       "    </tr>\n",
       "    <tr>\n",
       "      <th>527257</th>\n",
       "      <td>842019.0</td>\n",
       "      <td>canceled</td>\n",
       "      <td>5/9/2018</td>\n",
       "      <td>MATSAM5AAB5AEE5DBA7</td>\n",
       "      <td>28770.0</td>\n",
       "      <td>1.0</td>\n",
       "      <td>26180.7</td>\n",
       "      <td>100523824</td>\n",
       "      <td>Mobiles &amp; Tablets</td>\n",
       "      <td>C-PEW-31067</td>\n",
       "      <td>2589.3</td>\n",
       "      <td>easypay_voucher</td>\n",
       "      <td>5/9/2018</td>\n",
       "      <td>Gross</td>\n",
       "      <td>28,770</td>\n",
       "      <td>2018.0</td>\n",
       "      <td>5.0</td>\n",
       "      <td>2017-11</td>\n",
       "      <td>5-2018</td>\n",
       "      <td>FY18</td>\n",
       "      <td>80146.0</td>\n",
       "    </tr>\n",
       "    <tr>\n",
       "      <th>516528</th>\n",
       "      <td>830325.0</td>\n",
       "      <td>refund</td>\n",
       "      <td>4/23/2018</td>\n",
       "      <td>WOFALK5A8D08D89C8CE</td>\n",
       "      <td>2625.0</td>\n",
       "      <td>1.0</td>\n",
       "      <td>7875.0</td>\n",
       "      <td>100515686</td>\n",
       "      <td>Women's Fashion</td>\n",
       "      <td>NaN</td>\n",
       "      <td>0.0</td>\n",
       "      <td>bankalfalah</td>\n",
       "      <td>4/23/2018</td>\n",
       "      <td>Valid</td>\n",
       "      <td>2,625</td>\n",
       "      <td>2018.0</td>\n",
       "      <td>4.0</td>\n",
       "      <td>2017-4</td>\n",
       "      <td>4-2018</td>\n",
       "      <td>FY18</td>\n",
       "      <td>39900.0</td>\n",
       "    </tr>\n",
       "    <tr>\n",
       "      <th>501429</th>\n",
       "      <td>813147.0</td>\n",
       "      <td>canceled</td>\n",
       "      <td>3/28/2018</td>\n",
       "      <td>OTHPCB5ABB207A3FD50</td>\n",
       "      <td>500.0</td>\n",
       "      <td>5.0</td>\n",
       "      <td>2500.0</td>\n",
       "      <td>100504476</td>\n",
       "      <td>Others</td>\n",
       "      <td>NaN</td>\n",
       "      <td>0.0</td>\n",
       "      <td>Easypay</td>\n",
       "      <td>3/28/2018</td>\n",
       "      <td>Gross</td>\n",
       "      <td>2,500</td>\n",
       "      <td>2018.0</td>\n",
       "      <td>3.0</td>\n",
       "      <td>2018-3</td>\n",
       "      <td>3-2018</td>\n",
       "      <td>FY18</td>\n",
       "      <td>98121.0</td>\n",
       "    </tr>\n",
       "    <tr>\n",
       "      <th>320841</th>\n",
       "      <td>600555.0</td>\n",
       "      <td>complete</td>\n",
       "      <td>10/19/2017</td>\n",
       "      <td>MEFWIN59C9073239082</td>\n",
       "      <td>1199.0</td>\n",
       "      <td>1.0</td>\n",
       "      <td>1199.0</td>\n",
       "      <td>100371200</td>\n",
       "      <td>Men's Fashion</td>\n",
       "      <td>\\N</td>\n",
       "      <td>0.0</td>\n",
       "      <td>cod</td>\n",
       "      <td>10/19/2017</td>\n",
       "      <td>Net</td>\n",
       "      <td>1,199</td>\n",
       "      <td>2017.0</td>\n",
       "      <td>10.0</td>\n",
       "      <td>2017-10</td>\n",
       "      <td>10-2017</td>\n",
       "      <td>FY18</td>\n",
       "      <td>64573.0</td>\n",
       "    </tr>\n",
       "    <tr>\n",
       "      <th>346268</th>\n",
       "      <td>631326.0</td>\n",
       "      <td>complete</td>\n",
       "      <td>11/17/2017</td>\n",
       "      <td>APPJAC5A0302E6D2448</td>\n",
       "      <td>1063.0</td>\n",
       "      <td>1.0</td>\n",
       "      <td>1063.0</td>\n",
       "      <td>100388757</td>\n",
       "      <td>Appliances</td>\n",
       "      <td>\\N</td>\n",
       "      <td>0.0</td>\n",
       "      <td>cod</td>\n",
       "      <td>11/17/2017</td>\n",
       "      <td>Net</td>\n",
       "      <td>1,063</td>\n",
       "      <td>2017.0</td>\n",
       "      <td>11.0</td>\n",
       "      <td>2017-11</td>\n",
       "      <td>11-2017</td>\n",
       "      <td>FY18</td>\n",
       "      <td>69295.0</td>\n",
       "    </tr>\n",
       "    <tr>\n",
       "      <th>127028</th>\n",
       "      <td>369952.0</td>\n",
       "      <td>complete</td>\n",
       "      <td>12/15/2016</td>\n",
       "      <td>herbion_Linkus Nova 8's Lozenges - Orange Sugar Free</td>\n",
       "      <td>45.0</td>\n",
       "      <td>2.0</td>\n",
       "      <td>90.0</td>\n",
       "      <td>100249484</td>\n",
       "      <td>Health &amp; Sports</td>\n",
       "      <td>\\N</td>\n",
       "      <td>0.0</td>\n",
       "      <td>cod</td>\n",
       "      <td>12/15/2016</td>\n",
       "      <td>Net</td>\n",
       "      <td>90</td>\n",
       "      <td>2016.0</td>\n",
       "      <td>12.0</td>\n",
       "      <td>2016-8</td>\n",
       "      <td>12-2016</td>\n",
       "      <td>FY17</td>\n",
       "      <td>3888.0</td>\n",
       "    </tr>\n",
       "    <tr>\n",
       "      <th>372321</th>\n",
       "      <td>663091.0</td>\n",
       "      <td>complete</td>\n",
       "      <td>11/22/2017</td>\n",
       "      <td>APPJAC59EF4D640AC4D</td>\n",
       "      <td>799.0</td>\n",
       "      <td>1.0</td>\n",
       "      <td>8320.5</td>\n",
       "      <td>100406549</td>\n",
       "      <td>Appliances</td>\n",
       "      <td>c-uet-44938</td>\n",
       "      <td>169.9</td>\n",
       "      <td>easypay_voucher</td>\n",
       "      <td>11/22/2017</td>\n",
       "      <td>Net</td>\n",
       "      <td>799</td>\n",
       "      <td>2017.0</td>\n",
       "      <td>11.0</td>\n",
       "      <td>2017-5</td>\n",
       "      <td>11-2017</td>\n",
       "      <td>FY18</td>\n",
       "      <td>46050.0</td>\n",
       "    </tr>\n",
       "  </tbody>\n",
       "</table>\n",
       "</div>"
      ],
      "text/plain": [
       "          ItemID          Status   CreatedAt  \\\n",
       "83755   314768.0        complete  11/24/2016   \n",
       "282395  557811.0        canceled   8/11/2017   \n",
       "540452  855982.0  order_refunded   5/23/2018   \n",
       "527257  842019.0        canceled    5/9/2018   \n",
       "516528  830325.0          refund   4/23/2018   \n",
       "501429  813147.0        canceled   3/28/2018   \n",
       "320841  600555.0        complete  10/19/2017   \n",
       "346268  631326.0        complete  11/17/2017   \n",
       "127028  369952.0        complete  12/15/2016   \n",
       "372321  663091.0        complete  11/22/2017   \n",
       "\n",
       "                                                         SKU     Price  \\\n",
       "83755                                             sinbo_4419    2200.0   \n",
       "282395                                       Valarie_MF 04-M     361.0   \n",
       "540452                                   MATSAM5AA3E58DF3506  104999.0   \n",
       "527257                                   MATSAM5AAB5AEE5DBA7   28770.0   \n",
       "516528                                   WOFALK5A8D08D89C8CE    2625.0   \n",
       "501429                                   OTHPCB5ABB207A3FD50     500.0   \n",
       "320841                                   MEFWIN59C9073239082    1199.0   \n",
       "346268                                   APPJAC5A0302E6D2448    1063.0   \n",
       "127028  herbion_Linkus Nova 8's Lozenges - Orange Sugar Free      45.0   \n",
       "372321                                   APPJAC59EF4D640AC4D     799.0   \n",
       "\n",
       "        QuantityOrdered  GrandTotal IncrementID       CategoryName  \\\n",
       "83755               1.0     13634.0   100216916         Appliances   \n",
       "282395              1.0      7705.0   100345921      Men's Fashion   \n",
       "540452              1.0    104999.0   100533709  Mobiles & Tablets   \n",
       "527257              1.0     26180.7   100523824  Mobiles & Tablets   \n",
       "516528              1.0      7875.0   100515686    Women's Fashion   \n",
       "501429              5.0      2500.0   100504476             Others   \n",
       "320841              1.0      1199.0   100371200      Men's Fashion   \n",
       "346268              1.0      1063.0   100388757         Appliances   \n",
       "127028              2.0        90.0   100249484    Health & Sports   \n",
       "372321              1.0      8320.5   100406549         Appliances   \n",
       "\n",
       "       SalesCommissionCode  DiscountAmount    PaymentMethod WorkingDate  \\\n",
       "83755                   \\N             0.0              cod  11/24/2016   \n",
       "282395                  \\N             0.0              cod   8/11/2017   \n",
       "540452                 NaN             0.0          Payaxis   5/23/2018   \n",
       "527257         C-PEW-31067          2589.3  easypay_voucher    5/9/2018   \n",
       "516528                 NaN             0.0      bankalfalah   4/23/2018   \n",
       "501429                 NaN             0.0          Easypay   3/28/2018   \n",
       "320841                  \\N             0.0              cod  10/19/2017   \n",
       "346268                  \\N             0.0              cod  11/17/2017   \n",
       "127028                  \\N             0.0              cod  12/15/2016   \n",
       "372321         c-uet-44938           169.9  easypay_voucher  11/22/2017   \n",
       "\n",
       "       BIStatus       MV    Year  Month CustomerSince       MY    FY  \\\n",
       "83755       Net    2,200  2016.0   11.0       2016-11  11-2016  FY17   \n",
       "282395    Gross      361  2017.0    8.0        2017-3   8-2017  FY18   \n",
       "540452    Valid  104,999  2018.0    5.0        2018-5   5-2018  FY18   \n",
       "527257    Gross   28,770  2018.0    5.0       2017-11   5-2018  FY18   \n",
       "516528    Valid    2,625  2018.0    4.0        2017-4   4-2018  FY18   \n",
       "501429    Gross    2,500  2018.0    3.0        2018-3   3-2018  FY18   \n",
       "320841      Net    1,199  2017.0   10.0       2017-10  10-2017  FY18   \n",
       "346268      Net    1,063  2017.0   11.0       2017-11  11-2017  FY18   \n",
       "127028      Net       90  2016.0   12.0        2016-8  12-2016  FY17   \n",
       "372321      Net      799  2017.0   11.0        2017-5  11-2017  FY18   \n",
       "\n",
       "        CustomerID  \n",
       "83755      19647.0  \n",
       "282395     37904.0  \n",
       "540452    109377.0  \n",
       "527257     80146.0  \n",
       "516528     39900.0  \n",
       "501429     98121.0  \n",
       "320841     64573.0  \n",
       "346268     69295.0  \n",
       "127028      3888.0  \n",
       "372321     46050.0  "
      ]
     },
     "execution_count": 19,
     "metadata": {},
     "output_type": "execute_result"
    }
   ],
   "source": [
    "df.sample(10)"
   ]
  },
  {
   "cell_type": "code",
   "execution_count": 20,
   "metadata": {},
   "outputs": [
    {
     "name": "stdout",
     "output_type": "stream",
     "text": [
      "Status                                  Status: object, 15 missing values\n",
      "SKU                                        SKU: object, 20 missing values\n",
      "CategoryName                     CategoryName: object, 164 missing values\n",
      "SalesCommissionCode    SalesCommissionCode: object, 137175 missing values\n",
      "CustomerSince                    CustomerSince: object, 11 missing values\n",
      "CustomerID                         CustomerID: float64, 11 missing values\n",
      "dtype: object\n"
     ]
    }
   ],
   "source": [
    "# check for missing values in each columns\n",
    "def missing_info(column):\n",
    "    num_missing = column.isnull().sum()\n",
    "    if num_missing > 0:\n",
    "        return f\"{column.name}: {column.dtype}, {num_missing} missing values\"\n",
    "\n",
    "# apply the custom function to each column\n",
    "missing_columns_info = df.apply(missing_info).dropna()\n",
    "\n",
    "# print only the columns with missing values\n",
    "print(missing_columns_info)"
   ]
  },
  {
   "cell_type": "code",
   "execution_count": 21,
   "metadata": {},
   "outputs": [
    {
     "name": "stdout",
     "output_type": "stream",
     "text": [
      "Column: Status\n",
      "Number of '\\N' values: 4\n",
      "------------------------------\n",
      "Column: CategoryName\n",
      "Number of '\\N' values: 7850\n",
      "------------------------------\n",
      "Column: SalesCommissionCode\n",
      "Number of '\\N' values: 339001\n",
      "------------------------------\n"
     ]
    }
   ],
   "source": [
    "# check for \\N values in each columns\n",
    "# Find columns containing '\\N'\n",
    "columns_with_N = [col for col in df.columns if df[col].isin(['\\\\N']).any()]\n",
    "\n",
    "# Display the column name, data type, and number of '\\N' values\n",
    "def display_total_Nvalues():\n",
    "    for col in columns_with_N:\n",
    "        num_N_values = df[col].isin(['\\\\N']).sum()\n",
    "        print(f\"Column: {col}\")\n",
    "        print(f\"Number of '\\\\N' values: {num_N_values}\")\n",
    "        print(\"-\" * 30)\n",
    "display_total_Nvalues()"
   ]
  },
  {
   "attachments": {},
   "cell_type": "markdown",
   "metadata": {},
   "source": [
    "Only column Status, CategoryName, CustomerSince, and CustomerID are modified.<br>\n",
    "Column SKU, SalesCommisionCode are left as it is because not used for the analysis (but NaN values are replaced with \\N)."
   ]
  },
  {
   "attachments": {},
   "cell_type": "markdown",
   "metadata": {},
   "source": [
    "### Column `SKU` & `SalesCommissionCode`\n",
    "We replace all NaN values in SKU & SalesCommissionCode columns with \\N."
   ]
  },
  {
   "cell_type": "code",
   "execution_count": 22,
   "metadata": {},
   "outputs": [],
   "source": [
    "df['SKU'].fillna('\\\\N',inplace=True)\n",
    "df['SalesCommissionCode'].fillna('\\\\N',inplace=True)"
   ]
  },
  {
   "attachments": {},
   "cell_type": "markdown",
   "metadata": {},
   "source": [
    "### Column `Status`"
   ]
  },
  {
   "cell_type": "code",
   "execution_count": 23,
   "metadata": {},
   "outputs": [
    {
     "data": {
      "text/html": [
       "<div>\n",
       "<style scoped>\n",
       "    .dataframe tbody tr th:only-of-type {\n",
       "        vertical-align: middle;\n",
       "    }\n",
       "\n",
       "    .dataframe tbody tr th {\n",
       "        vertical-align: top;\n",
       "    }\n",
       "\n",
       "    .dataframe thead th {\n",
       "        text-align: right;\n",
       "    }\n",
       "</style>\n",
       "<table border=\"1\" class=\"dataframe\">\n",
       "  <thead>\n",
       "    <tr style=\"text-align: right;\">\n",
       "      <th></th>\n",
       "      <th>ItemID</th>\n",
       "      <th>Status</th>\n",
       "      <th>CreatedAt</th>\n",
       "      <th>SKU</th>\n",
       "      <th>Price</th>\n",
       "      <th>QuantityOrdered</th>\n",
       "      <th>GrandTotal</th>\n",
       "      <th>IncrementID</th>\n",
       "      <th>CategoryName</th>\n",
       "      <th>SalesCommissionCode</th>\n",
       "      <th>DiscountAmount</th>\n",
       "      <th>PaymentMethod</th>\n",
       "      <th>WorkingDate</th>\n",
       "      <th>BIStatus</th>\n",
       "      <th>MV</th>\n",
       "      <th>Year</th>\n",
       "      <th>Month</th>\n",
       "      <th>CustomerSince</th>\n",
       "      <th>MY</th>\n",
       "      <th>FY</th>\n",
       "      <th>CustomerID</th>\n",
       "    </tr>\n",
       "  </thead>\n",
       "  <tbody>\n",
       "    <tr>\n",
       "      <th>477519</th>\n",
       "      <td>783751.0</td>\n",
       "      <td>NaN</td>\n",
       "      <td>3/15/2018</td>\n",
       "      <td>OTHPCB5A7D8A0BD10E8</td>\n",
       "      <td>8000.0</td>\n",
       "      <td>1.0</td>\n",
       "      <td>8000.0</td>\n",
       "      <td>100479380</td>\n",
       "      <td>Others</td>\n",
       "      <td>\\N</td>\n",
       "      <td>0.0</td>\n",
       "      <td>cod</td>\n",
       "      <td>3/15/2018</td>\n",
       "      <td>Gross</td>\n",
       "      <td>8,000</td>\n",
       "      <td>2018.0</td>\n",
       "      <td>3.0</td>\n",
       "      <td>2018-3</td>\n",
       "      <td>3-2018</td>\n",
       "      <td>FY18</td>\n",
       "      <td>95141.0</td>\n",
       "    </tr>\n",
       "    <tr>\n",
       "      <th>513736</th>\n",
       "      <td>827187.0</td>\n",
       "      <td>NaN</td>\n",
       "      <td>4/16/2018</td>\n",
       "      <td>KABOXF5ABCC75C7E2F7-32</td>\n",
       "      <td>370.0</td>\n",
       "      <td>1.0</td>\n",
       "      <td>2707.0</td>\n",
       "      <td>100513933</td>\n",
       "      <td>Kids &amp; Baby</td>\n",
       "      <td>\\N</td>\n",
       "      <td>0.0</td>\n",
       "      <td>cod</td>\n",
       "      <td>4/16/2018</td>\n",
       "      <td>Gross</td>\n",
       "      <td>370</td>\n",
       "      <td>2018.0</td>\n",
       "      <td>4.0</td>\n",
       "      <td>2018-4</td>\n",
       "      <td>4-2018</td>\n",
       "      <td>FY18</td>\n",
       "      <td>105059.0</td>\n",
       "    </tr>\n",
       "    <tr>\n",
       "      <th>513737</th>\n",
       "      <td>827189.0</td>\n",
       "      <td>NaN</td>\n",
       "      <td>4/16/2018</td>\n",
       "      <td>KABSHO5AA77C331466F-11-13 Years</td>\n",
       "      <td>473.0</td>\n",
       "      <td>1.0</td>\n",
       "      <td>2707.0</td>\n",
       "      <td>100513933</td>\n",
       "      <td>Kids &amp; Baby</td>\n",
       "      <td>\\N</td>\n",
       "      <td>0.0</td>\n",
       "      <td>cod</td>\n",
       "      <td>4/16/2018</td>\n",
       "      <td>Gross</td>\n",
       "      <td>473</td>\n",
       "      <td>2018.0</td>\n",
       "      <td>4.0</td>\n",
       "      <td>2018-4</td>\n",
       "      <td>4-2018</td>\n",
       "      <td>FY18</td>\n",
       "      <td>105059.0</td>\n",
       "    </tr>\n",
       "    <tr>\n",
       "      <th>513738</th>\n",
       "      <td>827191.0</td>\n",
       "      <td>NaN</td>\n",
       "      <td>4/16/2018</td>\n",
       "      <td>KABBIN5A93E074C501A-8-9 Years</td>\n",
       "      <td>749.0</td>\n",
       "      <td>1.0</td>\n",
       "      <td>2707.0</td>\n",
       "      <td>100513933</td>\n",
       "      <td>Kids &amp; Baby</td>\n",
       "      <td>\\N</td>\n",
       "      <td>0.0</td>\n",
       "      <td>cod</td>\n",
       "      <td>4/16/2018</td>\n",
       "      <td>Gross</td>\n",
       "      <td>749</td>\n",
       "      <td>2018.0</td>\n",
       "      <td>4.0</td>\n",
       "      <td>2018-4</td>\n",
       "      <td>4-2018</td>\n",
       "      <td>FY18</td>\n",
       "      <td>105059.0</td>\n",
       "    </tr>\n",
       "    <tr>\n",
       "      <th>513739</th>\n",
       "      <td>827193.0</td>\n",
       "      <td>NaN</td>\n",
       "      <td>4/16/2018</td>\n",
       "      <td>KABLIT59AC117FD51C4-12-13 Years</td>\n",
       "      <td>692.0</td>\n",
       "      <td>1.0</td>\n",
       "      <td>2707.0</td>\n",
       "      <td>100513933</td>\n",
       "      <td>Kids &amp; Baby</td>\n",
       "      <td>\\N</td>\n",
       "      <td>0.0</td>\n",
       "      <td>cod</td>\n",
       "      <td>4/16/2018</td>\n",
       "      <td>Gross</td>\n",
       "      <td>692</td>\n",
       "      <td>2018.0</td>\n",
       "      <td>4.0</td>\n",
       "      <td>2018-4</td>\n",
       "      <td>4-2018</td>\n",
       "      <td>FY18</td>\n",
       "      <td>105059.0</td>\n",
       "    </tr>\n",
       "    <tr>\n",
       "      <th>513740</th>\n",
       "      <td>827195.0</td>\n",
       "      <td>NaN</td>\n",
       "      <td>4/16/2018</td>\n",
       "      <td>KABCOL5AB2B8019805C-8-9 Years</td>\n",
       "      <td>423.0</td>\n",
       "      <td>1.0</td>\n",
       "      <td>2707.0</td>\n",
       "      <td>100513933</td>\n",
       "      <td>Kids &amp; Baby</td>\n",
       "      <td>\\N</td>\n",
       "      <td>0.0</td>\n",
       "      <td>cod</td>\n",
       "      <td>4/16/2018</td>\n",
       "      <td>Gross</td>\n",
       "      <td>423</td>\n",
       "      <td>2018.0</td>\n",
       "      <td>4.0</td>\n",
       "      <td>2018-4</td>\n",
       "      <td>4-2018</td>\n",
       "      <td>FY18</td>\n",
       "      <td>105059.0</td>\n",
       "    </tr>\n",
       "    <tr>\n",
       "      <th>532965</th>\n",
       "      <td>848003.0</td>\n",
       "      <td>NaN</td>\n",
       "      <td>5/14/2018</td>\n",
       "      <td>MATINF5AE310D2D7A1A</td>\n",
       "      <td>13950.0</td>\n",
       "      <td>1.0</td>\n",
       "      <td>13950.0</td>\n",
       "      <td>100527966</td>\n",
       "      <td>Mobiles &amp; Tablets</td>\n",
       "      <td>\\N</td>\n",
       "      <td>0.0</td>\n",
       "      <td>cod</td>\n",
       "      <td>5/14/2018</td>\n",
       "      <td>Gross</td>\n",
       "      <td>13,950</td>\n",
       "      <td>2018.0</td>\n",
       "      <td>5.0</td>\n",
       "      <td>2018-4</td>\n",
       "      <td>5-2018</td>\n",
       "      <td>FY18</td>\n",
       "      <td>105319.0</td>\n",
       "    </tr>\n",
       "    <tr>\n",
       "      <th>518706</th>\n",
       "      <td>832777.0</td>\n",
       "      <td>NaN</td>\n",
       "      <td>4/30/2018</td>\n",
       "      <td>ENTCLI5A5DD7D800D6E</td>\n",
       "      <td>6042.0</td>\n",
       "      <td>1.0</td>\n",
       "      <td>6042.0</td>\n",
       "      <td>100517141</td>\n",
       "      <td>Entertainment</td>\n",
       "      <td>\\N</td>\n",
       "      <td>0.0</td>\n",
       "      <td>cod</td>\n",
       "      <td>4/30/2018</td>\n",
       "      <td>Gross</td>\n",
       "      <td>6,042</td>\n",
       "      <td>2018.0</td>\n",
       "      <td>4.0</td>\n",
       "      <td>2018-4</td>\n",
       "      <td>4-2018</td>\n",
       "      <td>FY18</td>\n",
       "      <td>106036.0</td>\n",
       "    </tr>\n",
       "    <tr>\n",
       "      <th>554962</th>\n",
       "      <td>872154.0</td>\n",
       "      <td>NaN</td>\n",
       "      <td>6/15/2018</td>\n",
       "      <td>BAGPHI5AA665985A58E</td>\n",
       "      <td>2900.0</td>\n",
       "      <td>1.0</td>\n",
       "      <td>949.0</td>\n",
       "      <td>100542483</td>\n",
       "      <td>Beauty &amp; Grooming</td>\n",
       "      <td>\\N</td>\n",
       "      <td>200.0</td>\n",
       "      <td>bankalfalah</td>\n",
       "      <td>6/15/2018</td>\n",
       "      <td>Gross</td>\n",
       "      <td>2,900</td>\n",
       "      <td>2018.0</td>\n",
       "      <td>6.0</td>\n",
       "      <td>2018-5</td>\n",
       "      <td>6-2018</td>\n",
       "      <td>FY18</td>\n",
       "      <td>109420.0</td>\n",
       "    </tr>\n",
       "    <tr>\n",
       "      <th>542146</th>\n",
       "      <td>857829.0</td>\n",
       "      <td>NaN</td>\n",
       "      <td>5/25/2018</td>\n",
       "      <td>ROO5AE983F2751EA</td>\n",
       "      <td>2280.0</td>\n",
       "      <td>1.0</td>\n",
       "      <td>2280.0</td>\n",
       "      <td>100534786</td>\n",
       "      <td>Superstore</td>\n",
       "      <td>\\N</td>\n",
       "      <td>0.0</td>\n",
       "      <td>cod</td>\n",
       "      <td>5/25/2018</td>\n",
       "      <td>Gross</td>\n",
       "      <td>2,280</td>\n",
       "      <td>2018.0</td>\n",
       "      <td>5.0</td>\n",
       "      <td>2018-5</td>\n",
       "      <td>5-2018</td>\n",
       "      <td>FY18</td>\n",
       "      <td>109580.0</td>\n",
       "    </tr>\n",
       "    <tr>\n",
       "      <th>556575</th>\n",
       "      <td>873867.0</td>\n",
       "      <td>NaN</td>\n",
       "      <td>6/20/2018</td>\n",
       "      <td>SEH59F33B639C948</td>\n",
       "      <td>13998.0</td>\n",
       "      <td>1.0</td>\n",
       "      <td>13998.0</td>\n",
       "      <td>100543636</td>\n",
       "      <td>Superstore</td>\n",
       "      <td>\\N</td>\n",
       "      <td>0.0</td>\n",
       "      <td>cod</td>\n",
       "      <td>6/20/2018</td>\n",
       "      <td>Gross</td>\n",
       "      <td>13,998</td>\n",
       "      <td>2018.0</td>\n",
       "      <td>6.0</td>\n",
       "      <td>2018-6</td>\n",
       "      <td>6-2018</td>\n",
       "      <td>FY18</td>\n",
       "      <td>111346.0</td>\n",
       "    </tr>\n",
       "    <tr>\n",
       "      <th>566295</th>\n",
       "      <td>884706.0</td>\n",
       "      <td>NaN</td>\n",
       "      <td>7/13/2018</td>\n",
       "      <td>OTHOTH5A097CEF981C2</td>\n",
       "      <td>100.0</td>\n",
       "      <td>1.0</td>\n",
       "      <td>250.0</td>\n",
       "      <td>100550314</td>\n",
       "      <td>Others</td>\n",
       "      <td>\\N</td>\n",
       "      <td>0.0</td>\n",
       "      <td>cod</td>\n",
       "      <td>7/13/2018</td>\n",
       "      <td>Gross</td>\n",
       "      <td>100</td>\n",
       "      <td>2018.0</td>\n",
       "      <td>7.0</td>\n",
       "      <td>2018-6</td>\n",
       "      <td>7-2018</td>\n",
       "      <td>FY19</td>\n",
       "      <td>111651.0</td>\n",
       "    </tr>\n",
       "    <tr>\n",
       "      <th>566296</th>\n",
       "      <td>884707.0</td>\n",
       "      <td>NaN</td>\n",
       "      <td>7/13/2018</td>\n",
       "      <td>OTHOTH5A097CEF981C2</td>\n",
       "      <td>100.0</td>\n",
       "      <td>2.0</td>\n",
       "      <td>350.0</td>\n",
       "      <td>100550315</td>\n",
       "      <td>Others</td>\n",
       "      <td>\\N</td>\n",
       "      <td>0.0</td>\n",
       "      <td>cod</td>\n",
       "      <td>7/13/2018</td>\n",
       "      <td>Gross</td>\n",
       "      <td>200</td>\n",
       "      <td>2018.0</td>\n",
       "      <td>7.0</td>\n",
       "      <td>2018-6</td>\n",
       "      <td>7-2018</td>\n",
       "      <td>FY19</td>\n",
       "      <td>111651.0</td>\n",
       "    </tr>\n",
       "    <tr>\n",
       "      <th>568050</th>\n",
       "      <td>886679.0</td>\n",
       "      <td>NaN</td>\n",
       "      <td>7/18/2018</td>\n",
       "      <td>OTHOTH5A097CEF981C2</td>\n",
       "      <td>100.0</td>\n",
       "      <td>4.0</td>\n",
       "      <td>550.0</td>\n",
       "      <td>100551487</td>\n",
       "      <td>Others</td>\n",
       "      <td>\\N</td>\n",
       "      <td>0.0</td>\n",
       "      <td>cod</td>\n",
       "      <td>7/18/2018</td>\n",
       "      <td>Gross</td>\n",
       "      <td>400</td>\n",
       "      <td>2018.0</td>\n",
       "      <td>7.0</td>\n",
       "      <td>2018-6</td>\n",
       "      <td>7-2018</td>\n",
       "      <td>FY19</td>\n",
       "      <td>111651.0</td>\n",
       "    </tr>\n",
       "    <tr>\n",
       "      <th>562052</th>\n",
       "      <td>879771.0</td>\n",
       "      <td>NaN</td>\n",
       "      <td>7/2/2018</td>\n",
       "      <td>MEFTHE5ABD1716014D5-XL</td>\n",
       "      <td>0.0</td>\n",
       "      <td>1.0</td>\n",
       "      <td>150.0</td>\n",
       "      <td>100547232</td>\n",
       "      <td>Men's Fashion</td>\n",
       "      <td>\\N</td>\n",
       "      <td>0.0</td>\n",
       "      <td>cod</td>\n",
       "      <td>7/2/2018</td>\n",
       "      <td>Gross</td>\n",
       "      <td>-</td>\n",
       "      <td>2018.0</td>\n",
       "      <td>7.0</td>\n",
       "      <td>2018-7</td>\n",
       "      <td>7-2018</td>\n",
       "      <td>FY19</td>\n",
       "      <td>112111.0</td>\n",
       "    </tr>\n",
       "  </tbody>\n",
       "</table>\n",
       "</div>"
      ],
      "text/plain": [
       "          ItemID Status  CreatedAt                              SKU    Price  \\\n",
       "477519  783751.0    NaN  3/15/2018              OTHPCB5A7D8A0BD10E8   8000.0   \n",
       "513736  827187.0    NaN  4/16/2018           KABOXF5ABCC75C7E2F7-32    370.0   \n",
       "513737  827189.0    NaN  4/16/2018  KABSHO5AA77C331466F-11-13 Years    473.0   \n",
       "513738  827191.0    NaN  4/16/2018    KABBIN5A93E074C501A-8-9 Years    749.0   \n",
       "513739  827193.0    NaN  4/16/2018  KABLIT59AC117FD51C4-12-13 Years    692.0   \n",
       "513740  827195.0    NaN  4/16/2018    KABCOL5AB2B8019805C-8-9 Years    423.0   \n",
       "532965  848003.0    NaN  5/14/2018              MATINF5AE310D2D7A1A  13950.0   \n",
       "518706  832777.0    NaN  4/30/2018              ENTCLI5A5DD7D800D6E   6042.0   \n",
       "554962  872154.0    NaN  6/15/2018              BAGPHI5AA665985A58E   2900.0   \n",
       "542146  857829.0    NaN  5/25/2018                 ROO5AE983F2751EA   2280.0   \n",
       "556575  873867.0    NaN  6/20/2018                 SEH59F33B639C948  13998.0   \n",
       "566295  884706.0    NaN  7/13/2018              OTHOTH5A097CEF981C2    100.0   \n",
       "566296  884707.0    NaN  7/13/2018              OTHOTH5A097CEF981C2    100.0   \n",
       "568050  886679.0    NaN  7/18/2018              OTHOTH5A097CEF981C2    100.0   \n",
       "562052  879771.0    NaN   7/2/2018           MEFTHE5ABD1716014D5-XL      0.0   \n",
       "\n",
       "        QuantityOrdered  GrandTotal IncrementID       CategoryName  \\\n",
       "477519              1.0      8000.0   100479380             Others   \n",
       "513736              1.0      2707.0   100513933        Kids & Baby   \n",
       "513737              1.0      2707.0   100513933        Kids & Baby   \n",
       "513738              1.0      2707.0   100513933        Kids & Baby   \n",
       "513739              1.0      2707.0   100513933        Kids & Baby   \n",
       "513740              1.0      2707.0   100513933        Kids & Baby   \n",
       "532965              1.0     13950.0   100527966  Mobiles & Tablets   \n",
       "518706              1.0      6042.0   100517141      Entertainment   \n",
       "554962              1.0       949.0   100542483  Beauty & Grooming   \n",
       "542146              1.0      2280.0   100534786         Superstore   \n",
       "556575              1.0     13998.0   100543636         Superstore   \n",
       "566295              1.0       250.0   100550314             Others   \n",
       "566296              2.0       350.0   100550315             Others   \n",
       "568050              4.0       550.0   100551487             Others   \n",
       "562052              1.0       150.0   100547232      Men's Fashion   \n",
       "\n",
       "       SalesCommissionCode  DiscountAmount PaymentMethod WorkingDate BIStatus  \\\n",
       "477519                  \\N             0.0           cod   3/15/2018    Gross   \n",
       "513736                  \\N             0.0           cod   4/16/2018    Gross   \n",
       "513737                  \\N             0.0           cod   4/16/2018    Gross   \n",
       "513738                  \\N             0.0           cod   4/16/2018    Gross   \n",
       "513739                  \\N             0.0           cod   4/16/2018    Gross   \n",
       "513740                  \\N             0.0           cod   4/16/2018    Gross   \n",
       "532965                  \\N             0.0           cod   5/14/2018    Gross   \n",
       "518706                  \\N             0.0           cod   4/30/2018    Gross   \n",
       "554962                  \\N           200.0   bankalfalah   6/15/2018    Gross   \n",
       "542146                  \\N             0.0           cod   5/25/2018    Gross   \n",
       "556575                  \\N             0.0           cod   6/20/2018    Gross   \n",
       "566295                  \\N             0.0           cod   7/13/2018    Gross   \n",
       "566296                  \\N             0.0           cod   7/13/2018    Gross   \n",
       "568050                  \\N             0.0           cod   7/18/2018    Gross   \n",
       "562052                  \\N             0.0           cod    7/2/2018    Gross   \n",
       "\n",
       "            MV    Year  Month CustomerSince      MY    FY  CustomerID  \n",
       "477519   8,000  2018.0    3.0        2018-3  3-2018  FY18     95141.0  \n",
       "513736     370  2018.0    4.0        2018-4  4-2018  FY18    105059.0  \n",
       "513737     473  2018.0    4.0        2018-4  4-2018  FY18    105059.0  \n",
       "513738     749  2018.0    4.0        2018-4  4-2018  FY18    105059.0  \n",
       "513739     692  2018.0    4.0        2018-4  4-2018  FY18    105059.0  \n",
       "513740     423  2018.0    4.0        2018-4  4-2018  FY18    105059.0  \n",
       "532965  13,950  2018.0    5.0        2018-4  5-2018  FY18    105319.0  \n",
       "518706   6,042  2018.0    4.0        2018-4  4-2018  FY18    106036.0  \n",
       "554962   2,900  2018.0    6.0        2018-5  6-2018  FY18    109420.0  \n",
       "542146   2,280  2018.0    5.0        2018-5  5-2018  FY18    109580.0  \n",
       "556575  13,998  2018.0    6.0        2018-6  6-2018  FY18    111346.0  \n",
       "566295     100  2018.0    7.0        2018-6  7-2018  FY19    111651.0  \n",
       "566296     200  2018.0    7.0        2018-6  7-2018  FY19    111651.0  \n",
       "568050     400  2018.0    7.0        2018-6  7-2018  FY19    111651.0  \n",
       "562052       -  2018.0    7.0        2018-7  7-2018  FY19    112111.0  "
      ]
     },
     "execution_count": 23,
     "metadata": {},
     "output_type": "execute_result"
    }
   ],
   "source": [
    "# check missing values in column Status\n",
    "dfStatusTemp1 = df[df['Status'].isnull()].sort_values('CustomerID')\n",
    "dfStatusTemp1"
   ]
  },
  {
   "cell_type": "code",
   "execution_count": 24,
   "metadata": {},
   "outputs": [
    {
     "data": {
      "text/html": [
       "<div>\n",
       "<style scoped>\n",
       "    .dataframe tbody tr th:only-of-type {\n",
       "        vertical-align: middle;\n",
       "    }\n",
       "\n",
       "    .dataframe tbody tr th {\n",
       "        vertical-align: top;\n",
       "    }\n",
       "\n",
       "    .dataframe thead th {\n",
       "        text-align: right;\n",
       "    }\n",
       "</style>\n",
       "<table border=\"1\" class=\"dataframe\">\n",
       "  <thead>\n",
       "    <tr style=\"text-align: right;\">\n",
       "      <th></th>\n",
       "      <th>Column Name</th>\n",
       "      <th>Total of Unique</th>\n",
       "      <th>Unique Data</th>\n",
       "    </tr>\n",
       "  </thead>\n",
       "  <tbody>\n",
       "    <tr>\n",
       "      <th>0</th>\n",
       "      <td>CustomerID</td>\n",
       "      <td>9</td>\n",
       "      <td>[95141.0, 105059.0, 105319.0, 106036.0, 109420.0, 109580.0, 111346.0, 111651.0, 112111.0]</td>\n",
       "    </tr>\n",
       "  </tbody>\n",
       "</table>\n",
       "</div>"
      ],
      "text/plain": [
       "  Column Name  Total of Unique  \\\n",
       "0  CustomerID                9   \n",
       "\n",
       "                                                                                 Unique Data  \n",
       "0  [95141.0, 105059.0, 105319.0, 106036.0, 109420.0, 109580.0, 111346.0, 111651.0, 112111.0]  "
      ]
     },
     "execution_count": 24,
     "metadata": {},
     "output_type": "execute_result"
    }
   ],
   "source": [
    "# display CustomerID where the Status column value is NaN\n",
    "listMissingValue1 = [['CustomerID', dfStatusTemp1['CustomerID'].nunique(), dfStatusTemp1['CustomerID'].unique()]]\n",
    "tableMissingValue1 = pd.DataFrame(columns=['Column Name', 'Total of Unique', 'Unique Data'],data=listMissingValue1)\n",
    "tableMissingValue1"
   ]
  },
  {
   "attachments": {},
   "cell_type": "markdown",
   "metadata": {},
   "source": [
    "From the table above, there are 9 CustomerID that have NaN value in the Status column. We will use this CustomerID to check if there are other orders with the same CustomerID and check for correlation. This correlation will be use to assume what the NaN value should be filled with. Only two example is shown, CustomerID 109420.0 and 105059.0"
   ]
  },
  {
   "cell_type": "code",
   "execution_count": 25,
   "metadata": {},
   "outputs": [
    {
     "data": {
      "text/html": [
       "<div>\n",
       "<style scoped>\n",
       "    .dataframe tbody tr th:only-of-type {\n",
       "        vertical-align: middle;\n",
       "    }\n",
       "\n",
       "    .dataframe tbody tr th {\n",
       "        vertical-align: top;\n",
       "    }\n",
       "\n",
       "    .dataframe thead th {\n",
       "        text-align: right;\n",
       "    }\n",
       "</style>\n",
       "<table border=\"1\" class=\"dataframe\">\n",
       "  <thead>\n",
       "    <tr style=\"text-align: right;\">\n",
       "      <th></th>\n",
       "      <th>ItemID</th>\n",
       "      <th>Status</th>\n",
       "      <th>CreatedAt</th>\n",
       "      <th>SKU</th>\n",
       "      <th>Price</th>\n",
       "      <th>QuantityOrdered</th>\n",
       "      <th>GrandTotal</th>\n",
       "      <th>IncrementID</th>\n",
       "      <th>CategoryName</th>\n",
       "      <th>SalesCommissionCode</th>\n",
       "      <th>DiscountAmount</th>\n",
       "      <th>PaymentMethod</th>\n",
       "      <th>WorkingDate</th>\n",
       "      <th>BIStatus</th>\n",
       "      <th>MV</th>\n",
       "      <th>Year</th>\n",
       "      <th>Month</th>\n",
       "      <th>CustomerSince</th>\n",
       "      <th>MY</th>\n",
       "      <th>FY</th>\n",
       "      <th>CustomerID</th>\n",
       "    </tr>\n",
       "  </thead>\n",
       "  <tbody>\n",
       "    <tr>\n",
       "      <th>540633</th>\n",
       "      <td>856182.0</td>\n",
       "      <td>received</td>\n",
       "      <td>5/23/2018</td>\n",
       "      <td>MATKHU5A8180BB7BA18</td>\n",
       "      <td>1599.0</td>\n",
       "      <td>1.0</td>\n",
       "      <td>1599.00</td>\n",
       "      <td>100533856</td>\n",
       "      <td>Mobiles &amp; Tablets</td>\n",
       "      <td>\\N</td>\n",
       "      <td>0.00</td>\n",
       "      <td>cod</td>\n",
       "      <td>5/23/2018</td>\n",
       "      <td>Valid</td>\n",
       "      <td>1,599</td>\n",
       "      <td>2018.0</td>\n",
       "      <td>5.0</td>\n",
       "      <td>2018-5</td>\n",
       "      <td>5-2018</td>\n",
       "      <td>FY18</td>\n",
       "      <td>109420.0</td>\n",
       "    </tr>\n",
       "    <tr>\n",
       "      <th>546162</th>\n",
       "      <td>862359.0</td>\n",
       "      <td>received</td>\n",
       "      <td>5/30/2018</td>\n",
       "      <td>MATUNB5A9EC9643AD44</td>\n",
       "      <td>1675.0</td>\n",
       "      <td>1.0</td>\n",
       "      <td>1675.00</td>\n",
       "      <td>100536872</td>\n",
       "      <td>Mobiles &amp; Tablets</td>\n",
       "      <td>\\N</td>\n",
       "      <td>0.00</td>\n",
       "      <td>cod</td>\n",
       "      <td>5/30/2018</td>\n",
       "      <td>Valid</td>\n",
       "      <td>1,675</td>\n",
       "      <td>2018.0</td>\n",
       "      <td>5.0</td>\n",
       "      <td>2018-5</td>\n",
       "      <td>5-2018</td>\n",
       "      <td>FY18</td>\n",
       "      <td>109420.0</td>\n",
       "    </tr>\n",
       "    <tr>\n",
       "      <th>548266</th>\n",
       "      <td>864657.0</td>\n",
       "      <td>order_refunded</td>\n",
       "      <td>6/1/2018</td>\n",
       "      <td>MATHAR5A583C483D83C</td>\n",
       "      <td>2061.0</td>\n",
       "      <td>1.0</td>\n",
       "      <td>1751.85</td>\n",
       "      <td>100538105</td>\n",
       "      <td>Mobiles &amp; Tablets</td>\n",
       "      <td>\\N</td>\n",
       "      <td>309.15</td>\n",
       "      <td>Easypay</td>\n",
       "      <td>6/1/2018</td>\n",
       "      <td>Valid</td>\n",
       "      <td>2,061</td>\n",
       "      <td>2018.0</td>\n",
       "      <td>6.0</td>\n",
       "      <td>2018-5</td>\n",
       "      <td>6-2018</td>\n",
       "      <td>FY18</td>\n",
       "      <td>109420.0</td>\n",
       "    </tr>\n",
       "    <tr>\n",
       "      <th>549886</th>\n",
       "      <td>866451.0</td>\n",
       "      <td>canceled</td>\n",
       "      <td>6/5/2018</td>\n",
       "      <td>MATDEA5AFD244F8B501</td>\n",
       "      <td>2499.0</td>\n",
       "      <td>1.0</td>\n",
       "      <td>4098.00</td>\n",
       "      <td>100539163</td>\n",
       "      <td>Mobiles &amp; Tablets</td>\n",
       "      <td>\\N</td>\n",
       "      <td>0.00</td>\n",
       "      <td>cod</td>\n",
       "      <td>6/5/2018</td>\n",
       "      <td>Gross</td>\n",
       "      <td>2,499</td>\n",
       "      <td>2018.0</td>\n",
       "      <td>6.0</td>\n",
       "      <td>2018-5</td>\n",
       "      <td>6-2018</td>\n",
       "      <td>FY18</td>\n",
       "      <td>109420.0</td>\n",
       "    </tr>\n",
       "    <tr>\n",
       "      <th>549887</th>\n",
       "      <td>866452.0</td>\n",
       "      <td>canceled</td>\n",
       "      <td>6/5/2018</td>\n",
       "      <td>MATSUP5A818CA19C6DC</td>\n",
       "      <td>1599.0</td>\n",
       "      <td>1.0</td>\n",
       "      <td>4098.00</td>\n",
       "      <td>100539163</td>\n",
       "      <td>Mobiles &amp; Tablets</td>\n",
       "      <td>\\N</td>\n",
       "      <td>0.00</td>\n",
       "      <td>cod</td>\n",
       "      <td>6/5/2018</td>\n",
       "      <td>Gross</td>\n",
       "      <td>1,599</td>\n",
       "      <td>2018.0</td>\n",
       "      <td>6.0</td>\n",
       "      <td>2018-5</td>\n",
       "      <td>6-2018</td>\n",
       "      <td>FY18</td>\n",
       "      <td>109420.0</td>\n",
       "    </tr>\n",
       "    <tr>\n",
       "      <th>550433</th>\n",
       "      <td>867068.0</td>\n",
       "      <td>canceled</td>\n",
       "      <td>6/6/2018</td>\n",
       "      <td>MATKHU5A8180BD08795</td>\n",
       "      <td>1599.0</td>\n",
       "      <td>1.0</td>\n",
       "      <td>3351.00</td>\n",
       "      <td>100539488</td>\n",
       "      <td>Mobiles &amp; Tablets</td>\n",
       "      <td>\\N</td>\n",
       "      <td>0.00</td>\n",
       "      <td>bankalfalah</td>\n",
       "      <td>6/6/2018</td>\n",
       "      <td>Gross</td>\n",
       "      <td>1,599</td>\n",
       "      <td>2018.0</td>\n",
       "      <td>6.0</td>\n",
       "      <td>2018-5</td>\n",
       "      <td>6-2018</td>\n",
       "      <td>FY18</td>\n",
       "      <td>109420.0</td>\n",
       "    </tr>\n",
       "    <tr>\n",
       "      <th>550434</th>\n",
       "      <td>867069.0</td>\n",
       "      <td>canceled</td>\n",
       "      <td>6/6/2018</td>\n",
       "      <td>MATHAR5A583C411B7B0</td>\n",
       "      <td>1752.0</td>\n",
       "      <td>1.0</td>\n",
       "      <td>3351.00</td>\n",
       "      <td>100539488</td>\n",
       "      <td>Mobiles &amp; Tablets</td>\n",
       "      <td>\\N</td>\n",
       "      <td>0.00</td>\n",
       "      <td>bankalfalah</td>\n",
       "      <td>6/6/2018</td>\n",
       "      <td>Gross</td>\n",
       "      <td>1,752</td>\n",
       "      <td>2018.0</td>\n",
       "      <td>6.0</td>\n",
       "      <td>2018-5</td>\n",
       "      <td>6-2018</td>\n",
       "      <td>FY18</td>\n",
       "      <td>109420.0</td>\n",
       "    </tr>\n",
       "    <tr>\n",
       "      <th>550440</th>\n",
       "      <td>867075.0</td>\n",
       "      <td>received</td>\n",
       "      <td>6/6/2018</td>\n",
       "      <td>MATKHU5A8180BD08795</td>\n",
       "      <td>1599.0</td>\n",
       "      <td>1.0</td>\n",
       "      <td>3351.00</td>\n",
       "      <td>100539491</td>\n",
       "      <td>Mobiles &amp; Tablets</td>\n",
       "      <td>\\N</td>\n",
       "      <td>0.00</td>\n",
       "      <td>cod</td>\n",
       "      <td>6/6/2018</td>\n",
       "      <td>Valid</td>\n",
       "      <td>1,599</td>\n",
       "      <td>2018.0</td>\n",
       "      <td>6.0</td>\n",
       "      <td>2018-5</td>\n",
       "      <td>6-2018</td>\n",
       "      <td>FY18</td>\n",
       "      <td>109420.0</td>\n",
       "    </tr>\n",
       "    <tr>\n",
       "      <th>550441</th>\n",
       "      <td>867076.0</td>\n",
       "      <td>received</td>\n",
       "      <td>6/6/2018</td>\n",
       "      <td>MATHAR5A583C411B7B0</td>\n",
       "      <td>1752.0</td>\n",
       "      <td>1.0</td>\n",
       "      <td>3351.00</td>\n",
       "      <td>100539491</td>\n",
       "      <td>Mobiles &amp; Tablets</td>\n",
       "      <td>\\N</td>\n",
       "      <td>0.00</td>\n",
       "      <td>cod</td>\n",
       "      <td>6/6/2018</td>\n",
       "      <td>Valid</td>\n",
       "      <td>1,752</td>\n",
       "      <td>2018.0</td>\n",
       "      <td>6.0</td>\n",
       "      <td>2018-5</td>\n",
       "      <td>6-2018</td>\n",
       "      <td>FY18</td>\n",
       "      <td>109420.0</td>\n",
       "    </tr>\n",
       "    <tr>\n",
       "      <th>554962</th>\n",
       "      <td>872154.0</td>\n",
       "      <td>NaN</td>\n",
       "      <td>6/15/2018</td>\n",
       "      <td>BAGPHI5AA665985A58E</td>\n",
       "      <td>2900.0</td>\n",
       "      <td>1.0</td>\n",
       "      <td>949.00</td>\n",
       "      <td>100542483</td>\n",
       "      <td>Beauty &amp; Grooming</td>\n",
       "      <td>\\N</td>\n",
       "      <td>200.00</td>\n",
       "      <td>bankalfalah</td>\n",
       "      <td>6/15/2018</td>\n",
       "      <td>Gross</td>\n",
       "      <td>2,900</td>\n",
       "      <td>2018.0</td>\n",
       "      <td>6.0</td>\n",
       "      <td>2018-5</td>\n",
       "      <td>6-2018</td>\n",
       "      <td>FY18</td>\n",
       "      <td>109420.0</td>\n",
       "    </tr>\n",
       "    <tr>\n",
       "      <th>556071</th>\n",
       "      <td>873328.0</td>\n",
       "      <td>received</td>\n",
       "      <td>6/20/2018</td>\n",
       "      <td>BAGPHI5AA665985A58E</td>\n",
       "      <td>2900.0</td>\n",
       "      <td>1.0</td>\n",
       "      <td>1149.00</td>\n",
       "      <td>100543266</td>\n",
       "      <td>Beauty &amp; Grooming</td>\n",
       "      <td>\\N</td>\n",
       "      <td>0.00</td>\n",
       "      <td>cod</td>\n",
       "      <td>6/20/2018</td>\n",
       "      <td>Valid</td>\n",
       "      <td>2,900</td>\n",
       "      <td>2018.0</td>\n",
       "      <td>6.0</td>\n",
       "      <td>2018-5</td>\n",
       "      <td>6-2018</td>\n",
       "      <td>FY18</td>\n",
       "      <td>109420.0</td>\n",
       "    </tr>\n",
       "  </tbody>\n",
       "</table>\n",
       "</div>"
      ],
      "text/plain": [
       "          ItemID          Status  CreatedAt                  SKU   Price  \\\n",
       "540633  856182.0        received  5/23/2018  MATKHU5A8180BB7BA18  1599.0   \n",
       "546162  862359.0        received  5/30/2018  MATUNB5A9EC9643AD44  1675.0   \n",
       "548266  864657.0  order_refunded   6/1/2018  MATHAR5A583C483D83C  2061.0   \n",
       "549886  866451.0        canceled   6/5/2018  MATDEA5AFD244F8B501  2499.0   \n",
       "549887  866452.0        canceled   6/5/2018  MATSUP5A818CA19C6DC  1599.0   \n",
       "550433  867068.0        canceled   6/6/2018  MATKHU5A8180BD08795  1599.0   \n",
       "550434  867069.0        canceled   6/6/2018  MATHAR5A583C411B7B0  1752.0   \n",
       "550440  867075.0        received   6/6/2018  MATKHU5A8180BD08795  1599.0   \n",
       "550441  867076.0        received   6/6/2018  MATHAR5A583C411B7B0  1752.0   \n",
       "554962  872154.0             NaN  6/15/2018  BAGPHI5AA665985A58E  2900.0   \n",
       "556071  873328.0        received  6/20/2018  BAGPHI5AA665985A58E  2900.0   \n",
       "\n",
       "        QuantityOrdered  GrandTotal IncrementID       CategoryName  \\\n",
       "540633              1.0     1599.00   100533856  Mobiles & Tablets   \n",
       "546162              1.0     1675.00   100536872  Mobiles & Tablets   \n",
       "548266              1.0     1751.85   100538105  Mobiles & Tablets   \n",
       "549886              1.0     4098.00   100539163  Mobiles & Tablets   \n",
       "549887              1.0     4098.00   100539163  Mobiles & Tablets   \n",
       "550433              1.0     3351.00   100539488  Mobiles & Tablets   \n",
       "550434              1.0     3351.00   100539488  Mobiles & Tablets   \n",
       "550440              1.0     3351.00   100539491  Mobiles & Tablets   \n",
       "550441              1.0     3351.00   100539491  Mobiles & Tablets   \n",
       "554962              1.0      949.00   100542483  Beauty & Grooming   \n",
       "556071              1.0     1149.00   100543266  Beauty & Grooming   \n",
       "\n",
       "       SalesCommissionCode  DiscountAmount PaymentMethod WorkingDate BIStatus  \\\n",
       "540633                  \\N            0.00           cod   5/23/2018    Valid   \n",
       "546162                  \\N            0.00           cod   5/30/2018    Valid   \n",
       "548266                  \\N          309.15       Easypay    6/1/2018    Valid   \n",
       "549886                  \\N            0.00           cod    6/5/2018    Gross   \n",
       "549887                  \\N            0.00           cod    6/5/2018    Gross   \n",
       "550433                  \\N            0.00   bankalfalah    6/6/2018    Gross   \n",
       "550434                  \\N            0.00   bankalfalah    6/6/2018    Gross   \n",
       "550440                  \\N            0.00           cod    6/6/2018    Valid   \n",
       "550441                  \\N            0.00           cod    6/6/2018    Valid   \n",
       "554962                  \\N          200.00   bankalfalah   6/15/2018    Gross   \n",
       "556071                  \\N            0.00           cod   6/20/2018    Valid   \n",
       "\n",
       "           MV    Year  Month CustomerSince      MY    FY  CustomerID  \n",
       "540633  1,599  2018.0    5.0        2018-5  5-2018  FY18    109420.0  \n",
       "546162  1,675  2018.0    5.0        2018-5  5-2018  FY18    109420.0  \n",
       "548266  2,061  2018.0    6.0        2018-5  6-2018  FY18    109420.0  \n",
       "549886  2,499  2018.0    6.0        2018-5  6-2018  FY18    109420.0  \n",
       "549887  1,599  2018.0    6.0        2018-5  6-2018  FY18    109420.0  \n",
       "550433  1,599  2018.0    6.0        2018-5  6-2018  FY18    109420.0  \n",
       "550434  1,752  2018.0    6.0        2018-5  6-2018  FY18    109420.0  \n",
       "550440  1,599  2018.0    6.0        2018-5  6-2018  FY18    109420.0  \n",
       "550441  1,752  2018.0    6.0        2018-5  6-2018  FY18    109420.0  \n",
       "554962  2,900  2018.0    6.0        2018-5  6-2018  FY18    109420.0  \n",
       "556071  2,900  2018.0    6.0        2018-5  6-2018  FY18    109420.0  "
      ]
     },
     "metadata": {},
     "output_type": "display_data"
    },
    {
     "data": {
      "text/html": [
       "<div>\n",
       "<style scoped>\n",
       "    .dataframe tbody tr th:only-of-type {\n",
       "        vertical-align: middle;\n",
       "    }\n",
       "\n",
       "    .dataframe tbody tr th {\n",
       "        vertical-align: top;\n",
       "    }\n",
       "\n",
       "    .dataframe thead th {\n",
       "        text-align: right;\n",
       "    }\n",
       "</style>\n",
       "<table border=\"1\" class=\"dataframe\">\n",
       "  <thead>\n",
       "    <tr style=\"text-align: right;\">\n",
       "      <th></th>\n",
       "      <th>ItemID</th>\n",
       "      <th>Status</th>\n",
       "      <th>CreatedAt</th>\n",
       "      <th>SKU</th>\n",
       "      <th>Price</th>\n",
       "      <th>QuantityOrdered</th>\n",
       "      <th>GrandTotal</th>\n",
       "      <th>IncrementID</th>\n",
       "      <th>CategoryName</th>\n",
       "      <th>SalesCommissionCode</th>\n",
       "      <th>DiscountAmount</th>\n",
       "      <th>PaymentMethod</th>\n",
       "      <th>WorkingDate</th>\n",
       "      <th>BIStatus</th>\n",
       "      <th>MV</th>\n",
       "      <th>Year</th>\n",
       "      <th>Month</th>\n",
       "      <th>CustomerSince</th>\n",
       "      <th>MY</th>\n",
       "      <th>FY</th>\n",
       "      <th>CustomerID</th>\n",
       "    </tr>\n",
       "  </thead>\n",
       "  <tbody>\n",
       "    <tr>\n",
       "      <th>542118</th>\n",
       "      <td>857793.0</td>\n",
       "      <td>canceled</td>\n",
       "      <td>5/25/2018</td>\n",
       "      <td>ROO5AE983F2751EA</td>\n",
       "      <td>2280.0</td>\n",
       "      <td>1.0</td>\n",
       "      <td>1710.0</td>\n",
       "      <td>100534768</td>\n",
       "      <td>Superstore</td>\n",
       "      <td>\\N</td>\n",
       "      <td>570.0</td>\n",
       "      <td>Easypay</td>\n",
       "      <td>5/25/2018</td>\n",
       "      <td>Gross</td>\n",
       "      <td>2,280</td>\n",
       "      <td>2018.0</td>\n",
       "      <td>5.0</td>\n",
       "      <td>2018-5</td>\n",
       "      <td>5-2018</td>\n",
       "      <td>FY18</td>\n",
       "      <td>109580.0</td>\n",
       "    </tr>\n",
       "    <tr>\n",
       "      <th>542120</th>\n",
       "      <td>857797.0</td>\n",
       "      <td>canceled</td>\n",
       "      <td>5/25/2018</td>\n",
       "      <td>ROO5AE983F2751EA</td>\n",
       "      <td>2280.0</td>\n",
       "      <td>1.0</td>\n",
       "      <td>2052.0</td>\n",
       "      <td>100534770</td>\n",
       "      <td>Superstore</td>\n",
       "      <td>\\N</td>\n",
       "      <td>228.0</td>\n",
       "      <td>Easypay</td>\n",
       "      <td>5/25/2018</td>\n",
       "      <td>Gross</td>\n",
       "      <td>2,280</td>\n",
       "      <td>2018.0</td>\n",
       "      <td>5.0</td>\n",
       "      <td>2018-5</td>\n",
       "      <td>5-2018</td>\n",
       "      <td>FY18</td>\n",
       "      <td>109580.0</td>\n",
       "    </tr>\n",
       "    <tr>\n",
       "      <th>542141</th>\n",
       "      <td>857824.0</td>\n",
       "      <td>canceled</td>\n",
       "      <td>5/25/2018</td>\n",
       "      <td>ROO5AE983F2751EA</td>\n",
       "      <td>2280.0</td>\n",
       "      <td>2.0</td>\n",
       "      <td>3420.0</td>\n",
       "      <td>100534782</td>\n",
       "      <td>Superstore</td>\n",
       "      <td>\\N</td>\n",
       "      <td>1140.0</td>\n",
       "      <td>Easypay</td>\n",
       "      <td>5/25/2018</td>\n",
       "      <td>Gross</td>\n",
       "      <td>4,560</td>\n",
       "      <td>2018.0</td>\n",
       "      <td>5.0</td>\n",
       "      <td>2018-5</td>\n",
       "      <td>5-2018</td>\n",
       "      <td>FY18</td>\n",
       "      <td>109580.0</td>\n",
       "    </tr>\n",
       "    <tr>\n",
       "      <th>542146</th>\n",
       "      <td>857829.0</td>\n",
       "      <td>NaN</td>\n",
       "      <td>5/25/2018</td>\n",
       "      <td>ROO5AE983F2751EA</td>\n",
       "      <td>2280.0</td>\n",
       "      <td>1.0</td>\n",
       "      <td>2280.0</td>\n",
       "      <td>100534786</td>\n",
       "      <td>Superstore</td>\n",
       "      <td>\\N</td>\n",
       "      <td>0.0</td>\n",
       "      <td>cod</td>\n",
       "      <td>5/25/2018</td>\n",
       "      <td>Gross</td>\n",
       "      <td>2,280</td>\n",
       "      <td>2018.0</td>\n",
       "      <td>5.0</td>\n",
       "      <td>2018-5</td>\n",
       "      <td>5-2018</td>\n",
       "      <td>FY18</td>\n",
       "      <td>109580.0</td>\n",
       "    </tr>\n",
       "    <tr>\n",
       "      <th>542154</th>\n",
       "      <td>857838.0</td>\n",
       "      <td>received</td>\n",
       "      <td>5/25/2018</td>\n",
       "      <td>ROO5AE983F2751EA</td>\n",
       "      <td>2280.0</td>\n",
       "      <td>2.0</td>\n",
       "      <td>3420.0</td>\n",
       "      <td>100534792</td>\n",
       "      <td>Superstore</td>\n",
       "      <td>\\N</td>\n",
       "      <td>1140.0</td>\n",
       "      <td>Easypay</td>\n",
       "      <td>5/25/2018</td>\n",
       "      <td>Valid</td>\n",
       "      <td>4,560</td>\n",
       "      <td>2018.0</td>\n",
       "      <td>5.0</td>\n",
       "      <td>2018-5</td>\n",
       "      <td>5-2018</td>\n",
       "      <td>FY18</td>\n",
       "      <td>109580.0</td>\n",
       "    </tr>\n",
       "    <tr>\n",
       "      <th>542163</th>\n",
       "      <td>857847.0</td>\n",
       "      <td>canceled</td>\n",
       "      <td>5/25/2018</td>\n",
       "      <td>ROO5AE983F2751EA</td>\n",
       "      <td>2280.0</td>\n",
       "      <td>2.0</td>\n",
       "      <td>4560.0</td>\n",
       "      <td>100534796</td>\n",
       "      <td>Superstore</td>\n",
       "      <td>\\N</td>\n",
       "      <td>0.0</td>\n",
       "      <td>Easypay</td>\n",
       "      <td>5/25/2018</td>\n",
       "      <td>Gross</td>\n",
       "      <td>4,560</td>\n",
       "      <td>2018.0</td>\n",
       "      <td>5.0</td>\n",
       "      <td>2018-5</td>\n",
       "      <td>5-2018</td>\n",
       "      <td>FY18</td>\n",
       "      <td>109580.0</td>\n",
       "    </tr>\n",
       "  </tbody>\n",
       "</table>\n",
       "</div>"
      ],
      "text/plain": [
       "          ItemID    Status  CreatedAt               SKU   Price  \\\n",
       "542118  857793.0  canceled  5/25/2018  ROO5AE983F2751EA  2280.0   \n",
       "542120  857797.0  canceled  5/25/2018  ROO5AE983F2751EA  2280.0   \n",
       "542141  857824.0  canceled  5/25/2018  ROO5AE983F2751EA  2280.0   \n",
       "542146  857829.0       NaN  5/25/2018  ROO5AE983F2751EA  2280.0   \n",
       "542154  857838.0  received  5/25/2018  ROO5AE983F2751EA  2280.0   \n",
       "542163  857847.0  canceled  5/25/2018  ROO5AE983F2751EA  2280.0   \n",
       "\n",
       "        QuantityOrdered  GrandTotal IncrementID CategoryName  \\\n",
       "542118              1.0      1710.0   100534768   Superstore   \n",
       "542120              1.0      2052.0   100534770   Superstore   \n",
       "542141              2.0      3420.0   100534782   Superstore   \n",
       "542146              1.0      2280.0   100534786   Superstore   \n",
       "542154              2.0      3420.0   100534792   Superstore   \n",
       "542163              2.0      4560.0   100534796   Superstore   \n",
       "\n",
       "       SalesCommissionCode  DiscountAmount PaymentMethod WorkingDate BIStatus  \\\n",
       "542118                  \\N           570.0       Easypay   5/25/2018    Gross   \n",
       "542120                  \\N           228.0       Easypay   5/25/2018    Gross   \n",
       "542141                  \\N          1140.0       Easypay   5/25/2018    Gross   \n",
       "542146                  \\N             0.0           cod   5/25/2018    Gross   \n",
       "542154                  \\N          1140.0       Easypay   5/25/2018    Valid   \n",
       "542163                  \\N             0.0       Easypay   5/25/2018    Gross   \n",
       "\n",
       "           MV    Year  Month CustomerSince      MY    FY  CustomerID  \n",
       "542118  2,280  2018.0    5.0        2018-5  5-2018  FY18    109580.0  \n",
       "542120  2,280  2018.0    5.0        2018-5  5-2018  FY18    109580.0  \n",
       "542141  4,560  2018.0    5.0        2018-5  5-2018  FY18    109580.0  \n",
       "542146  2,280  2018.0    5.0        2018-5  5-2018  FY18    109580.0  \n",
       "542154  4,560  2018.0    5.0        2018-5  5-2018  FY18    109580.0  \n",
       "542163  4,560  2018.0    5.0        2018-5  5-2018  FY18    109580.0  "
      ]
     },
     "metadata": {},
     "output_type": "display_data"
    }
   ],
   "source": [
    "display(df[df['CustomerID']==109420.0],df[df['CustomerID']==109580.0])"
   ]
  },
  {
   "attachments": {},
   "cell_type": "markdown",
   "metadata": {},
   "source": [
    "From both CustomerID 109420 and 109580 tables above, we can see that customer often cancel the order multiple times before finally proceed with the order. Then it can be assumed NaN status is canceled."
   ]
  },
  {
   "cell_type": "code",
   "execution_count": 26,
   "metadata": {},
   "outputs": [],
   "source": [
    "# replace NaN value with canceled\n",
    "indices_Status_NaN = dfStatusTemp1.index.to_list()\n",
    "\n",
    "def replace_N_values(list_name,column_name,replace_with):\n",
    "    for i in list_name:\n",
    "        df.at[i,column_name] = replace_with\n",
    "\n",
    "replace_N_values(indices_Status_NaN,'Status','canceled')"
   ]
  },
  {
   "cell_type": "code",
   "execution_count": 27,
   "metadata": {},
   "outputs": [
    {
     "data": {
      "text/html": [
       "<div>\n",
       "<style scoped>\n",
       "    .dataframe tbody tr th:only-of-type {\n",
       "        vertical-align: middle;\n",
       "    }\n",
       "\n",
       "    .dataframe tbody tr th {\n",
       "        vertical-align: top;\n",
       "    }\n",
       "\n",
       "    .dataframe thead th {\n",
       "        text-align: right;\n",
       "    }\n",
       "</style>\n",
       "<table border=\"1\" class=\"dataframe\">\n",
       "  <thead>\n",
       "    <tr style=\"text-align: right;\">\n",
       "      <th></th>\n",
       "      <th>ItemID</th>\n",
       "      <th>Status</th>\n",
       "      <th>CreatedAt</th>\n",
       "      <th>SKU</th>\n",
       "      <th>Price</th>\n",
       "      <th>QuantityOrdered</th>\n",
       "      <th>GrandTotal</th>\n",
       "      <th>IncrementID</th>\n",
       "      <th>CategoryName</th>\n",
       "      <th>SalesCommissionCode</th>\n",
       "      <th>DiscountAmount</th>\n",
       "      <th>PaymentMethod</th>\n",
       "      <th>WorkingDate</th>\n",
       "      <th>BIStatus</th>\n",
       "      <th>MV</th>\n",
       "      <th>Year</th>\n",
       "      <th>Month</th>\n",
       "      <th>CustomerSince</th>\n",
       "      <th>MY</th>\n",
       "      <th>FY</th>\n",
       "      <th>CustomerID</th>\n",
       "    </tr>\n",
       "  </thead>\n",
       "  <tbody>\n",
       "    <tr>\n",
       "      <th>255520</th>\n",
       "      <td>526623.0</td>\n",
       "      <td>\\N</td>\n",
       "      <td>7/3/2017</td>\n",
       "      <td>test-product-3</td>\n",
       "      <td>3.0</td>\n",
       "      <td>2.0</td>\n",
       "      <td>231.0</td>\n",
       "      <td>100332005</td>\n",
       "      <td>\\N</td>\n",
       "      <td>\\N</td>\n",
       "      <td>0.0</td>\n",
       "      <td>cod</td>\n",
       "      <td>7/3/2017</td>\n",
       "      <td>Gross</td>\n",
       "      <td>6</td>\n",
       "      <td>2017.0</td>\n",
       "      <td>7.0</td>\n",
       "      <td>2016-7</td>\n",
       "      <td>7-2017</td>\n",
       "      <td>FY18</td>\n",
       "      <td>1423.0</td>\n",
       "    </tr>\n",
       "    <tr>\n",
       "      <th>255521</th>\n",
       "      <td>526624.0</td>\n",
       "      <td>\\N</td>\n",
       "      <td>7/3/2017</td>\n",
       "      <td>test-product</td>\n",
       "      <td>75.0</td>\n",
       "      <td>1.0</td>\n",
       "      <td>231.0</td>\n",
       "      <td>100332005</td>\n",
       "      <td>\\N</td>\n",
       "      <td>\\N</td>\n",
       "      <td>0.0</td>\n",
       "      <td>cod</td>\n",
       "      <td>7/3/2017</td>\n",
       "      <td>Gross</td>\n",
       "      <td>75</td>\n",
       "      <td>2017.0</td>\n",
       "      <td>7.0</td>\n",
       "      <td>2016-7</td>\n",
       "      <td>7-2017</td>\n",
       "      <td>FY18</td>\n",
       "      <td>1423.0</td>\n",
       "    </tr>\n",
       "    <tr>\n",
       "      <th>255624</th>\n",
       "      <td>526754.0</td>\n",
       "      <td>\\N</td>\n",
       "      <td>7/3/2017</td>\n",
       "      <td>test-product-3</td>\n",
       "      <td>3.0</td>\n",
       "      <td>2.0</td>\n",
       "      <td>231.0</td>\n",
       "      <td>100332075</td>\n",
       "      <td>\\N</td>\n",
       "      <td>\\N</td>\n",
       "      <td>0.0</td>\n",
       "      <td>cod</td>\n",
       "      <td>7/3/2017</td>\n",
       "      <td>Gross</td>\n",
       "      <td>6</td>\n",
       "      <td>2017.0</td>\n",
       "      <td>7.0</td>\n",
       "      <td>2016-7</td>\n",
       "      <td>7-2017</td>\n",
       "      <td>FY18</td>\n",
       "      <td>1423.0</td>\n",
       "    </tr>\n",
       "    <tr>\n",
       "      <th>255625</th>\n",
       "      <td>526755.0</td>\n",
       "      <td>\\N</td>\n",
       "      <td>7/3/2017</td>\n",
       "      <td>test-product</td>\n",
       "      <td>75.0</td>\n",
       "      <td>1.0</td>\n",
       "      <td>231.0</td>\n",
       "      <td>100332075</td>\n",
       "      <td>\\N</td>\n",
       "      <td>\\N</td>\n",
       "      <td>0.0</td>\n",
       "      <td>cod</td>\n",
       "      <td>7/3/2017</td>\n",
       "      <td>Gross</td>\n",
       "      <td>75</td>\n",
       "      <td>2017.0</td>\n",
       "      <td>7.0</td>\n",
       "      <td>2016-7</td>\n",
       "      <td>7-2017</td>\n",
       "      <td>FY18</td>\n",
       "      <td>1423.0</td>\n",
       "    </tr>\n",
       "  </tbody>\n",
       "</table>\n",
       "</div>"
      ],
      "text/plain": [
       "          ItemID Status CreatedAt             SKU  Price  QuantityOrdered  \\\n",
       "255520  526623.0     \\N  7/3/2017  test-product-3    3.0              2.0   \n",
       "255521  526624.0     \\N  7/3/2017    test-product   75.0              1.0   \n",
       "255624  526754.0     \\N  7/3/2017  test-product-3    3.0              2.0   \n",
       "255625  526755.0     \\N  7/3/2017    test-product   75.0              1.0   \n",
       "\n",
       "        GrandTotal IncrementID CategoryName SalesCommissionCode  \\\n",
       "255520       231.0   100332005           \\N                  \\N   \n",
       "255521       231.0   100332005           \\N                  \\N   \n",
       "255624       231.0   100332075           \\N                  \\N   \n",
       "255625       231.0   100332075           \\N                  \\N   \n",
       "\n",
       "        DiscountAmount PaymentMethod WorkingDate BIStatus  MV    Year  Month  \\\n",
       "255520             0.0           cod    7/3/2017    Gross   6  2017.0    7.0   \n",
       "255521             0.0           cod    7/3/2017    Gross  75  2017.0    7.0   \n",
       "255624             0.0           cod    7/3/2017    Gross   6  2017.0    7.0   \n",
       "255625             0.0           cod    7/3/2017    Gross  75  2017.0    7.0   \n",
       "\n",
       "       CustomerSince      MY    FY  CustomerID  \n",
       "255520        2016-7  7-2017  FY18      1423.0  \n",
       "255521        2016-7  7-2017  FY18      1423.0  \n",
       "255624        2016-7  7-2017  FY18      1423.0  \n",
       "255625        2016-7  7-2017  FY18      1423.0  "
      ]
     },
     "execution_count": 27,
     "metadata": {},
     "output_type": "execute_result"
    }
   ],
   "source": [
    "# check \\N values in column Status\n",
    "dfStatusTemp2 = df[df['Status']=='\\\\N']\n",
    "dfStatusTemp2"
   ]
  },
  {
   "attachments": {},
   "cell_type": "markdown",
   "metadata": {},
   "source": [
    "From the table above, \\N value in Status column is for one CustomerID only: 1423.0 with test-product as the value in SKU column. With that information, we assume the same customer only check the test product then cancel the order. It is then assumed \\N in status column can be replaced with cancelled."
   ]
  },
  {
   "cell_type": "code",
   "execution_count": 28,
   "metadata": {},
   "outputs": [],
   "source": [
    "# replace \\N value with canceled\n",
    "indices_Status_N = dfStatusTemp2.index.to_list()\n",
    "\n",
    "replace_N_values(indices_Status_N,'Status','canceled')"
   ]
  },
  {
   "attachments": {},
   "cell_type": "markdown",
   "metadata": {},
   "source": [
    "### Column `CategoryName`"
   ]
  },
  {
   "attachments": {},
   "cell_type": "markdown",
   "metadata": {},
   "source": [
    "To make the replacing more efficient, we will replace missing values with \\N first, then analyse it as whole."
   ]
  },
  {
   "cell_type": "code",
   "execution_count": 29,
   "metadata": {},
   "outputs": [
    {
     "data": {
      "text/html": [
       "<div>\n",
       "<style scoped>\n",
       "    .dataframe tbody tr th:only-of-type {\n",
       "        vertical-align: middle;\n",
       "    }\n",
       "\n",
       "    .dataframe tbody tr th {\n",
       "        vertical-align: top;\n",
       "    }\n",
       "\n",
       "    .dataframe thead th {\n",
       "        text-align: right;\n",
       "    }\n",
       "</style>\n",
       "<table border=\"1\" class=\"dataframe\">\n",
       "  <thead>\n",
       "    <tr style=\"text-align: right;\">\n",
       "      <th></th>\n",
       "      <th>ItemID</th>\n",
       "      <th>Status</th>\n",
       "      <th>CreatedAt</th>\n",
       "      <th>SKU</th>\n",
       "      <th>Price</th>\n",
       "      <th>QuantityOrdered</th>\n",
       "      <th>GrandTotal</th>\n",
       "      <th>IncrementID</th>\n",
       "      <th>CategoryName</th>\n",
       "      <th>SalesCommissionCode</th>\n",
       "      <th>DiscountAmount</th>\n",
       "      <th>PaymentMethod</th>\n",
       "      <th>WorkingDate</th>\n",
       "      <th>BIStatus</th>\n",
       "      <th>MV</th>\n",
       "      <th>Year</th>\n",
       "      <th>Month</th>\n",
       "      <th>CustomerSince</th>\n",
       "      <th>MY</th>\n",
       "      <th>FY</th>\n",
       "      <th>CustomerID</th>\n",
       "    </tr>\n",
       "  </thead>\n",
       "  <tbody>\n",
       "    <tr>\n",
       "      <th>519389</th>\n",
       "      <td>833551.0</td>\n",
       "      <td>refund</td>\n",
       "      <td>5/2/2018</td>\n",
       "      <td>OTHOTH5A2F72DBBB0C9</td>\n",
       "      <td>100.0</td>\n",
       "      <td>1.0</td>\n",
       "      <td>250.0</td>\n",
       "      <td>100517559</td>\n",
       "      <td>NaN</td>\n",
       "      <td>\\N</td>\n",
       "      <td>0.0</td>\n",
       "      <td>cod</td>\n",
       "      <td>5/2/2018</td>\n",
       "      <td>Valid</td>\n",
       "      <td>100</td>\n",
       "      <td>2018.0</td>\n",
       "      <td>5.0</td>\n",
       "      <td>2016-7</td>\n",
       "      <td>5-2018</td>\n",
       "      <td>FY18</td>\n",
       "      <td>1423.0</td>\n",
       "    </tr>\n",
       "    <tr>\n",
       "      <th>454778</th>\n",
       "      <td>757605.0</td>\n",
       "      <td>canceled</td>\n",
       "      <td>2/21/2018</td>\n",
       "      <td>MEFQMO59B0942707B79-M</td>\n",
       "      <td>99.0</td>\n",
       "      <td>1.0</td>\n",
       "      <td>249.0</td>\n",
       "      <td>100461765</td>\n",
       "      <td>NaN</td>\n",
       "      <td>\\N</td>\n",
       "      <td>0.0</td>\n",
       "      <td>bankalfalah</td>\n",
       "      <td>2/21/2018</td>\n",
       "      <td>Gross</td>\n",
       "      <td>99</td>\n",
       "      <td>2018.0</td>\n",
       "      <td>2.0</td>\n",
       "      <td>2016-7</td>\n",
       "      <td>2-2018</td>\n",
       "      <td>FY18</td>\n",
       "      <td>1423.0</td>\n",
       "    </tr>\n",
       "    <tr>\n",
       "      <th>519472</th>\n",
       "      <td>833638.0</td>\n",
       "      <td>refund</td>\n",
       "      <td>5/2/2018</td>\n",
       "      <td>OTHOTH5A2F72DBBB0C9</td>\n",
       "      <td>100.0</td>\n",
       "      <td>1.0</td>\n",
       "      <td>250.0</td>\n",
       "      <td>100517602</td>\n",
       "      <td>NaN</td>\n",
       "      <td>\\N</td>\n",
       "      <td>0.0</td>\n",
       "      <td>cod</td>\n",
       "      <td>5/2/2018</td>\n",
       "      <td>Valid</td>\n",
       "      <td>100</td>\n",
       "      <td>2018.0</td>\n",
       "      <td>5.0</td>\n",
       "      <td>2016-7</td>\n",
       "      <td>5-2018</td>\n",
       "      <td>FY18</td>\n",
       "      <td>1423.0</td>\n",
       "    </tr>\n",
       "    <tr>\n",
       "      <th>454845</th>\n",
       "      <td>757685.0</td>\n",
       "      <td>order_refunded</td>\n",
       "      <td>2/21/2018</td>\n",
       "      <td>MEFQMO59B0942707B79-M</td>\n",
       "      <td>99.0</td>\n",
       "      <td>1.0</td>\n",
       "      <td>249.0</td>\n",
       "      <td>100461801</td>\n",
       "      <td>NaN</td>\n",
       "      <td>\\N</td>\n",
       "      <td>0.0</td>\n",
       "      <td>cod</td>\n",
       "      <td>2/21/2018</td>\n",
       "      <td>Valid</td>\n",
       "      <td>99</td>\n",
       "      <td>2018.0</td>\n",
       "      <td>2.0</td>\n",
       "      <td>2016-7</td>\n",
       "      <td>2-2018</td>\n",
       "      <td>FY18</td>\n",
       "      <td>1423.0</td>\n",
       "    </tr>\n",
       "    <tr>\n",
       "      <th>541927</th>\n",
       "      <td>857600.0</td>\n",
       "      <td>received</td>\n",
       "      <td>5/25/2018</td>\n",
       "      <td>WOFASA5AE962A6DD038</td>\n",
       "      <td>199.0</td>\n",
       "      <td>1.0</td>\n",
       "      <td>1344.0</td>\n",
       "      <td>100534649</td>\n",
       "      <td>NaN</td>\n",
       "      <td>\\N</td>\n",
       "      <td>0.0</td>\n",
       "      <td>cod</td>\n",
       "      <td>5/25/2018</td>\n",
       "      <td>Valid</td>\n",
       "      <td>199</td>\n",
       "      <td>2018.0</td>\n",
       "      <td>5.0</td>\n",
       "      <td>2016-7</td>\n",
       "      <td>5-2018</td>\n",
       "      <td>FY18</td>\n",
       "      <td>2237.0</td>\n",
       "    </tr>\n",
       "    <tr>\n",
       "      <th>...</th>\n",
       "      <td>...</td>\n",
       "      <td>...</td>\n",
       "      <td>...</td>\n",
       "      <td>...</td>\n",
       "      <td>...</td>\n",
       "      <td>...</td>\n",
       "      <td>...</td>\n",
       "      <td>...</td>\n",
       "      <td>...</td>\n",
       "      <td>...</td>\n",
       "      <td>...</td>\n",
       "      <td>...</td>\n",
       "      <td>...</td>\n",
       "      <td>...</td>\n",
       "      <td>...</td>\n",
       "      <td>...</td>\n",
       "      <td>...</td>\n",
       "      <td>...</td>\n",
       "      <td>...</td>\n",
       "      <td>...</td>\n",
       "      <td>...</td>\n",
       "    </tr>\n",
       "    <tr>\n",
       "      <th>519844</th>\n",
       "      <td>834039.0</td>\n",
       "      <td>cod</td>\n",
       "      <td>5/3/2018</td>\n",
       "      <td>OTHOTH5A2F72DBBB0C9</td>\n",
       "      <td>100.0</td>\n",
       "      <td>1.0</td>\n",
       "      <td>250.0</td>\n",
       "      <td>100517838</td>\n",
       "      <td>NaN</td>\n",
       "      <td>\\N</td>\n",
       "      <td>0.0</td>\n",
       "      <td>cod</td>\n",
       "      <td>5/3/2018</td>\n",
       "      <td>Valid</td>\n",
       "      <td>100</td>\n",
       "      <td>2018.0</td>\n",
       "      <td>5.0</td>\n",
       "      <td>2018-5</td>\n",
       "      <td>5-2018</td>\n",
       "      <td>FY18</td>\n",
       "      <td>106217.0</td>\n",
       "    </tr>\n",
       "    <tr>\n",
       "      <th>519874</th>\n",
       "      <td>834072.0</td>\n",
       "      <td>received</td>\n",
       "      <td>5/3/2018</td>\n",
       "      <td>COMWD5AA8FF5851E73</td>\n",
       "      <td>314.0</td>\n",
       "      <td>1.0</td>\n",
       "      <td>12730.0</td>\n",
       "      <td>100517852</td>\n",
       "      <td>NaN</td>\n",
       "      <td>\\N</td>\n",
       "      <td>0.0</td>\n",
       "      <td>bankalfalah</td>\n",
       "      <td>5/3/2018</td>\n",
       "      <td>Valid</td>\n",
       "      <td>314</td>\n",
       "      <td>2018.0</td>\n",
       "      <td>5.0</td>\n",
       "      <td>2018-5</td>\n",
       "      <td>5-2018</td>\n",
       "      <td>FY18</td>\n",
       "      <td>106285.0</td>\n",
       "    </tr>\n",
       "    <tr>\n",
       "      <th>532988</th>\n",
       "      <td>848026.0</td>\n",
       "      <td>canceled</td>\n",
       "      <td>5/14/2018</td>\n",
       "      <td>COMWD5AA8FF5851E73</td>\n",
       "      <td>314.0</td>\n",
       "      <td>1.0</td>\n",
       "      <td>464.0</td>\n",
       "      <td>100527985</td>\n",
       "      <td>NaN</td>\n",
       "      <td>\\N</td>\n",
       "      <td>0.0</td>\n",
       "      <td>Easypay</td>\n",
       "      <td>5/14/2018</td>\n",
       "      <td>Gross</td>\n",
       "      <td>314</td>\n",
       "      <td>2018.0</td>\n",
       "      <td>5.0</td>\n",
       "      <td>2018-5</td>\n",
       "      <td>5-2018</td>\n",
       "      <td>FY18</td>\n",
       "      <td>108252.0</td>\n",
       "    </tr>\n",
       "    <tr>\n",
       "      <th>535572</th>\n",
       "      <td>850761.0</td>\n",
       "      <td>received</td>\n",
       "      <td>5/16/2018</td>\n",
       "      <td>KABASA5ABC763F62E76</td>\n",
       "      <td>506.0</td>\n",
       "      <td>1.0</td>\n",
       "      <td>656.0</td>\n",
       "      <td>100530038</td>\n",
       "      <td>NaN</td>\n",
       "      <td>\\N</td>\n",
       "      <td>0.0</td>\n",
       "      <td>cod</td>\n",
       "      <td>5/16/2018</td>\n",
       "      <td>Valid</td>\n",
       "      <td>506</td>\n",
       "      <td>2018.0</td>\n",
       "      <td>5.0</td>\n",
       "      <td>2018-5</td>\n",
       "      <td>5-2018</td>\n",
       "      <td>FY18</td>\n",
       "      <td>108622.0</td>\n",
       "    </tr>\n",
       "    <tr>\n",
       "      <th>568069</th>\n",
       "      <td>886699.0</td>\n",
       "      <td>canceled</td>\n",
       "      <td>7/18/2018</td>\n",
       "      <td>COMWD5AA8FF5851E73</td>\n",
       "      <td>314.0</td>\n",
       "      <td>1.0</td>\n",
       "      <td>464.0</td>\n",
       "      <td>100551503</td>\n",
       "      <td>NaN</td>\n",
       "      <td>\\N</td>\n",
       "      <td>0.0</td>\n",
       "      <td>easypay_voucher</td>\n",
       "      <td>7/18/2018</td>\n",
       "      <td>Gross</td>\n",
       "      <td>314</td>\n",
       "      <td>2018.0</td>\n",
       "      <td>7.0</td>\n",
       "      <td>2018-7</td>\n",
       "      <td>7-2018</td>\n",
       "      <td>FY19</td>\n",
       "      <td>113144.0</td>\n",
       "    </tr>\n",
       "  </tbody>\n",
       "</table>\n",
       "<p>164 rows × 21 columns</p>\n",
       "</div>"
      ],
      "text/plain": [
       "          ItemID          Status  CreatedAt                    SKU  Price  \\\n",
       "519389  833551.0          refund   5/2/2018    OTHOTH5A2F72DBBB0C9  100.0   \n",
       "454778  757605.0        canceled  2/21/2018  MEFQMO59B0942707B79-M   99.0   \n",
       "519472  833638.0          refund   5/2/2018    OTHOTH5A2F72DBBB0C9  100.0   \n",
       "454845  757685.0  order_refunded  2/21/2018  MEFQMO59B0942707B79-M   99.0   \n",
       "541927  857600.0        received  5/25/2018    WOFASA5AE962A6DD038  199.0   \n",
       "...          ...             ...        ...                    ...    ...   \n",
       "519844  834039.0             cod   5/3/2018    OTHOTH5A2F72DBBB0C9  100.0   \n",
       "519874  834072.0        received   5/3/2018     COMWD5AA8FF5851E73  314.0   \n",
       "532988  848026.0        canceled  5/14/2018     COMWD5AA8FF5851E73  314.0   \n",
       "535572  850761.0        received  5/16/2018    KABASA5ABC763F62E76  506.0   \n",
       "568069  886699.0        canceled  7/18/2018     COMWD5AA8FF5851E73  314.0   \n",
       "\n",
       "        QuantityOrdered  GrandTotal IncrementID CategoryName  \\\n",
       "519389              1.0       250.0   100517559          NaN   \n",
       "454778              1.0       249.0   100461765          NaN   \n",
       "519472              1.0       250.0   100517602          NaN   \n",
       "454845              1.0       249.0   100461801          NaN   \n",
       "541927              1.0      1344.0   100534649          NaN   \n",
       "...                 ...         ...         ...          ...   \n",
       "519844              1.0       250.0   100517838          NaN   \n",
       "519874              1.0     12730.0   100517852          NaN   \n",
       "532988              1.0       464.0   100527985          NaN   \n",
       "535572              1.0       656.0   100530038          NaN   \n",
       "568069              1.0       464.0   100551503          NaN   \n",
       "\n",
       "       SalesCommissionCode  DiscountAmount    PaymentMethod WorkingDate  \\\n",
       "519389                  \\N             0.0              cod    5/2/2018   \n",
       "454778                  \\N             0.0      bankalfalah   2/21/2018   \n",
       "519472                  \\N             0.0              cod    5/2/2018   \n",
       "454845                  \\N             0.0              cod   2/21/2018   \n",
       "541927                  \\N             0.0              cod   5/25/2018   \n",
       "...                    ...             ...              ...         ...   \n",
       "519844                  \\N             0.0              cod    5/3/2018   \n",
       "519874                  \\N             0.0      bankalfalah    5/3/2018   \n",
       "532988                  \\N             0.0          Easypay   5/14/2018   \n",
       "535572                  \\N             0.0              cod   5/16/2018   \n",
       "568069                  \\N             0.0  easypay_voucher   7/18/2018   \n",
       "\n",
       "       BIStatus   MV    Year  Month CustomerSince      MY    FY  CustomerID  \n",
       "519389    Valid  100  2018.0    5.0        2016-7  5-2018  FY18      1423.0  \n",
       "454778    Gross   99  2018.0    2.0        2016-7  2-2018  FY18      1423.0  \n",
       "519472    Valid  100  2018.0    5.0        2016-7  5-2018  FY18      1423.0  \n",
       "454845    Valid   99  2018.0    2.0        2016-7  2-2018  FY18      1423.0  \n",
       "541927    Valid  199  2018.0    5.0        2016-7  5-2018  FY18      2237.0  \n",
       "...         ...  ...     ...    ...           ...     ...   ...         ...  \n",
       "519844    Valid  100  2018.0    5.0        2018-5  5-2018  FY18    106217.0  \n",
       "519874    Valid  314  2018.0    5.0        2018-5  5-2018  FY18    106285.0  \n",
       "532988    Gross  314  2018.0    5.0        2018-5  5-2018  FY18    108252.0  \n",
       "535572    Valid  506  2018.0    5.0        2018-5  5-2018  FY18    108622.0  \n",
       "568069    Gross  314  2018.0    7.0        2018-7  7-2018  FY19    113144.0  \n",
       "\n",
       "[164 rows x 21 columns]"
      ]
     },
     "execution_count": 29,
     "metadata": {},
     "output_type": "execute_result"
    }
   ],
   "source": [
    "# check missing values in column CategoryName\n",
    "dfCategoryTemp1 = df[df['CategoryName'].isnull()].sort_values('CustomerID')\n",
    "dfCategoryTemp1"
   ]
  },
  {
   "cell_type": "code",
   "execution_count": 30,
   "metadata": {},
   "outputs": [
    {
     "data": {
      "text/html": [
       "<div>\n",
       "<style scoped>\n",
       "    .dataframe tbody tr th:only-of-type {\n",
       "        vertical-align: middle;\n",
       "    }\n",
       "\n",
       "    .dataframe tbody tr th {\n",
       "        vertical-align: top;\n",
       "    }\n",
       "\n",
       "    .dataframe thead th {\n",
       "        text-align: right;\n",
       "    }\n",
       "</style>\n",
       "<table border=\"1\" class=\"dataframe\">\n",
       "  <thead>\n",
       "    <tr style=\"text-align: right;\">\n",
       "      <th></th>\n",
       "      <th>Column Name</th>\n",
       "      <th>Total of Unique</th>\n",
       "      <th>Unique Data</th>\n",
       "    </tr>\n",
       "  </thead>\n",
       "  <tbody>\n",
       "    <tr>\n",
       "      <th>0</th>\n",
       "      <td>SKU</td>\n",
       "      <td>16</td>\n",
       "      <td>[OTHOTH5A2F72DBBB0C9, MEFQMO59B0942707B79-M, WOFASA5AE962A6DD038, WOFASA5AE962ADCB1FD, MEFQMO59B0942707B79-S, MEFQMO59B0942707B79-L, COMWD5AA8FF5851E73, MEFQMO5A963699761E6, MEFQMO5A963699BA878, OTHQMO5A964AFFE94D7-M, OTHQMO5A964B012EE33, OTHQMO5A964B0172970, OTHQMO5A964AFFE94D7-L, MATHAP5A698AF771FCD, BAGEMA5AA697AA2016F, KABASA5ABC763F62E76]</td>\n",
       "    </tr>\n",
       "  </tbody>\n",
       "</table>\n",
       "</div>"
      ],
      "text/plain": [
       "  Column Name  Total of Unique  \\\n",
       "0         SKU               16   \n",
       "\n",
       "                                                                                                                                                                                                                                                                                                                                                 Unique Data  \n",
       "0  [OTHOTH5A2F72DBBB0C9, MEFQMO59B0942707B79-M, WOFASA5AE962A6DD038, WOFASA5AE962ADCB1FD, MEFQMO59B0942707B79-S, MEFQMO59B0942707B79-L, COMWD5AA8FF5851E73, MEFQMO5A963699761E6, MEFQMO5A963699BA878, OTHQMO5A964AFFE94D7-M, OTHQMO5A964B012EE33, OTHQMO5A964B0172970, OTHQMO5A964AFFE94D7-L, MATHAP5A698AF771FCD, BAGEMA5AA697AA2016F, KABASA5ABC763F62E76]  "
      ]
     },
     "execution_count": 30,
     "metadata": {},
     "output_type": "execute_result"
    }
   ],
   "source": [
    "# display SKU where the CategoryName column value is NaN\n",
    "listMissingValue2 = [['SKU', dfCategoryTemp1['SKU'].nunique(), dfCategoryTemp1['SKU'].unique()]]\n",
    "tableMissingValue2 = pd.DataFrame(columns=['Column Name', 'Total of Unique', 'Unique Data'],data=listMissingValue2)\n",
    "tableMissingValue2"
   ]
  },
  {
   "cell_type": "code",
   "execution_count": 31,
   "metadata": {},
   "outputs": [],
   "source": [
    "# replace NaN values with \\N for more efficient replacing process\n",
    "indices_Category_NaN = dfCategoryTemp1.index.to_list()\n",
    "replace_N_values(indices_Category_NaN,'CategoryName','\\\\N')"
   ]
  },
  {
   "attachments": {},
   "cell_type": "markdown",
   "metadata": {},
   "source": [
    "By seeing the missing values from `CategoryName` above, it is possible to pinpoint what is the `CategoryName` should be by seeing the `SKU` and relate it with similar `SKU` that has non null `CategoryName`. So we will use the `SKU` to decide what value the `CategoryName` should be."
   ]
  },
  {
   "cell_type": "code",
   "execution_count": 32,
   "metadata": {},
   "outputs": [],
   "source": [
    "# create copy of SKU column and convert it to lower case for cleaning purpose only\n",
    "df['SKUcopy'] = df['SKU'].copy().str.lower()"
   ]
  },
  {
   "cell_type": "code",
   "execution_count": 33,
   "metadata": {},
   "outputs": [
    {
     "data": {
      "text/plain": [
       "\\N    8014\n",
       "Name: CategoryName, dtype: int64"
      ]
     },
     "execution_count": 33,
     "metadata": {},
     "output_type": "execute_result"
    }
   ],
   "source": [
    "# create new temporary dataframe by filtering only \\N value from CategoryName column\n",
    "dfCategoryTemp2 = df[df['CategoryName']=='\\\\N']\n",
    "dfCategoryTemp2['CategoryName'].value_counts()"
   ]
  },
  {
   "cell_type": "code",
   "execution_count": 34,
   "metadata": {},
   "outputs": [
    {
     "data": {
      "text/html": [
       "<div>\n",
       "<style scoped>\n",
       "    .dataframe tbody tr th:only-of-type {\n",
       "        vertical-align: middle;\n",
       "    }\n",
       "\n",
       "    .dataframe tbody tr th {\n",
       "        vertical-align: top;\n",
       "    }\n",
       "\n",
       "    .dataframe thead th {\n",
       "        text-align: right;\n",
       "    }\n",
       "</style>\n",
       "<table border=\"1\" class=\"dataframe\">\n",
       "  <thead>\n",
       "    <tr style=\"text-align: right;\">\n",
       "      <th></th>\n",
       "      <th>Column Name</th>\n",
       "      <th>Total of Unique</th>\n",
       "      <th>Unique Data</th>\n",
       "    </tr>\n",
       "  </thead>\n",
       "  <tbody>\n",
       "    <tr>\n",
       "      <th>0</th>\n",
       "      <td>SKUcopy</td>\n",
       "      <td>307</td>\n",
       "      <td>[d lend a helping hand, sentiments_wrk1612, urban_ pt004-l, test_tcsconnect, sentiments_ferrero rocher gift box, test_tcsconnect1, test hazir product 2-karachi, we_ni72_parrot-veet-gift, cos_prfume_9, teenz_e-1574 silver, e tcf_educate a child for a month-pkr 1250, gbh_gs802-7, dawlance_md 10 + dwb 600, gasonline-mpt-524-beige-36, gasonline-mpt-560-grey-30, bo_4 ft sunset glow baby swimming pool, jbs_wen-043, alkhair_black seed oil softgel capsules100  cap bottle, kansai_frosted glass, shoppers stop_magicglass-3, xenium_wa-201637, pny_ou3 -32gb, scent_calvin klein fresh 75ml, gasonline-mpt-205-mustard-32, vitamin_265, uk_ramdan gift box 2, hol_d1, test hazir product-karachi, test-product-00, lacie_9000146, the vitamin company kojic acid whitening cream 40gm, duma_4561254076083, us-msac-08, asimjofaeanew_1b, cos_prfume_51, hol_d2, rs_rehmat-e-shereen mix mithai, test hazir product 2-islamabad, oriflame_31131, hol_w-590, we_co4-veet-gift-1, kansai_cardinal red, cosmo_black out - paddle brush, stripyinterior_100006, jbs_hcd-hon-012, sstop_universallensclipkit, hp_hp 1510 - white_16_clear, uc_deeppink-l, trans2_lw 999, uc_deeppink-xl, edifier_xm2_clear, uc_deeppink-m, wb_t-27-m, uc_orange-l, uc_orange-xl, urban_ pt004-m, booster cable 500amp, life source_life source air mattress, hol_d3, xenium_cc-201660, sanasafinaz_march16_11a-veet-gift, infinix_hot 3 gold_veet gift, sanasafinaz_march16_2b-veet gift, sanasafinaz_march16_5a-veet gift, sanasafinaz_march16_5b-veet-gift, sanasafinaz_march16_6a-veet gift, sanasafinaz_march16_9a-veet gift, emart_00-1, kansai_bbq &amp; stove, kansai_v2100 system high heat spray, sp_mango_special, reborn001-l, ashbroe_ablw-152(c), apple mac book pro 13-inch retina display 2.9 ghz, lamp_lamp shade umbrella 1, telemall_mm-dr-hb-l, kansai_chalkboard brush-on, uc_orange-m, bo_royal castle baby pool, bo_intex-sharkspray-grey, lc_8002135125209, wb_t-75-m, aw_pks-0013-white-s, wb_t-27-xl, triumph_fashion 93 wp-32-36, \\n, triumph_britney-32-40, dawlance_bundle_dwek-8229_clear, wb_t-30-m, triumph_bh 007 m-skin, ocean blue36, triumph_beginner 66 crop top-skin, blackm, bo_5 ft sunset glow baby swimming pool, bo_2 ft sunset glow baby swimming pool, infinix hot 4 hazir-black-islamabad, infinix hot 4 hazir-gold-karachi, infinix hot 4 hazir-gold-lahore, infinix hot 4 nationwide-gold, infinix hot 4 nationwide-black, transcend_64gb jetflash 810, wb_t-30-s, ...]</td>\n",
       "    </tr>\n",
       "  </tbody>\n",
       "</table>\n",
       "</div>"
      ],
      "text/plain": [
       "  Column Name  Total of Unique  \\\n",
       "0     SKUcopy              307   \n",
       "\n",
       "                                                                                                                                                                                                                                                                                                                                                                                                                                                                                                                                                                                                                                                                                                                                                                                                                                                                                                                                                                                                                                                                                                                                                                                                                                                                                                                                                                                                                                                                                                                                                                                                                                                                                                                                                                                                                                                                                                                                                                                                                                                                                                                                                                                                                                                                                                                                                                                                                                                                                              Unique Data  \n",
       "0  [d lend a helping hand, sentiments_wrk1612, urban_ pt004-l, test_tcsconnect, sentiments_ferrero rocher gift box, test_tcsconnect1, test hazir product 2-karachi, we_ni72_parrot-veet-gift, cos_prfume_9, teenz_e-1574 silver, e tcf_educate a child for a month-pkr 1250, gbh_gs802-7, dawlance_md 10 + dwb 600, gasonline-mpt-524-beige-36, gasonline-mpt-560-grey-30, bo_4 ft sunset glow baby swimming pool, jbs_wen-043, alkhair_black seed oil softgel capsules100  cap bottle, kansai_frosted glass, shoppers stop_magicglass-3, xenium_wa-201637, pny_ou3 -32gb, scent_calvin klein fresh 75ml, gasonline-mpt-205-mustard-32, vitamin_265, uk_ramdan gift box 2, hol_d1, test hazir product-karachi, test-product-00, lacie_9000146, the vitamin company kojic acid whitening cream 40gm, duma_4561254076083, us-msac-08, asimjofaeanew_1b, cos_prfume_51, hol_d2, rs_rehmat-e-shereen mix mithai, test hazir product 2-islamabad, oriflame_31131, hol_w-590, we_co4-veet-gift-1, kansai_cardinal red, cosmo_black out - paddle brush, stripyinterior_100006, jbs_hcd-hon-012, sstop_universallensclipkit, hp_hp 1510 - white_16_clear, uc_deeppink-l, trans2_lw 999, uc_deeppink-xl, edifier_xm2_clear, uc_deeppink-m, wb_t-27-m, uc_orange-l, uc_orange-xl, urban_ pt004-m, booster cable 500amp, life source_life source air mattress, hol_d3, xenium_cc-201660, sanasafinaz_march16_11a-veet-gift, infinix_hot 3 gold_veet gift, sanasafinaz_march16_2b-veet gift, sanasafinaz_march16_5a-veet gift, sanasafinaz_march16_5b-veet-gift, sanasafinaz_march16_6a-veet gift, sanasafinaz_march16_9a-veet gift, emart_00-1, kansai_bbq & stove, kansai_v2100 system high heat spray, sp_mango_special, reborn001-l, ashbroe_ablw-152(c), apple mac book pro 13-inch retina display 2.9 ghz, lamp_lamp shade umbrella 1, telemall_mm-dr-hb-l, kansai_chalkboard brush-on, uc_orange-m, bo_royal castle baby pool, bo_intex-sharkspray-grey, lc_8002135125209, wb_t-75-m, aw_pks-0013-white-s, wb_t-27-xl, triumph_fashion 93 wp-32-36, \\n, triumph_britney-32-40, dawlance_bundle_dwek-8229_clear, wb_t-30-m, triumph_bh 007 m-skin, ocean blue36, triumph_beginner 66 crop top-skin, blackm, bo_5 ft sunset glow baby swimming pool, bo_2 ft sunset glow baby swimming pool, infinix hot 4 hazir-black-islamabad, infinix hot 4 hazir-gold-karachi, infinix hot 4 hazir-gold-lahore, infinix hot 4 nationwide-gold, infinix hot 4 nationwide-black, transcend_64gb jetflash 810, wb_t-30-s, ...]  "
      ]
     },
     "execution_count": 34,
     "metadata": {},
     "output_type": "execute_result"
    }
   ],
   "source": [
    "# display SKU where the CategoryName column value is \\N\n",
    "listMissingValue3 = [['SKUcopy', dfCategoryTemp2['SKUcopy'].nunique(), dfCategoryTemp2['SKUcopy'].unique()]]\n",
    "tableMissingValue3 = pd.DataFrame(columns=['Column Name', 'Total of Unique', 'Unique Data'],data=listMissingValue3)\n",
    "tableMissingValue3"
   ]
  },
  {
   "attachments": {},
   "cell_type": "markdown",
   "metadata": {},
   "source": [
    "From the table above, we will search similar SKU in the original dataset and narrow it into possible CategoryName. Due to my current skill limitation, I use both excel and dataframe to check each SKU and pinpoint the possible CategoryName.<br><br>\n",
    "I use excel combined with string search (startswith and contains) to pinpoint possible CategoryName. The excel file can be found [here](https://docs.google.com/spreadsheets/d/18dD3KxYJ2uSB7Oe-EjWhgouoSkzEHXzV/edit?usp=share_link&ouid=101189589412275075928&rtpof=true&sd=true)<br>\n",
    "Below I give one example for startswith and contains search process."
   ]
  },
  {
   "attachments": {},
   "cell_type": "markdown",
   "metadata": {},
   "source": [
    "#### Search with startswith\n",
    "Example keyword from list of `SKU` is \"charizma\"."
   ]
  },
  {
   "cell_type": "code",
   "execution_count": 35,
   "metadata": {},
   "outputs": [
    {
     "data": {
      "text/plain": [
       "array([\"Women's Fashion\", '\\\\N'], dtype=object)"
      ]
     },
     "execution_count": 35,
     "metadata": {},
     "output_type": "execute_result"
    }
   ],
   "source": [
    "df[df['SKUcopy'].str.startswith('charizma')]['CategoryName'].unique()"
   ]
  },
  {
   "attachments": {},
   "cell_type": "markdown",
   "metadata": {},
   "source": [
    "The result shows only two unique values from the `CategoryName` column, Women's Fashion and \\\\N. It is then safe to assume the other `SKU` with \"charizma\" keyword can be set to Women's Fashion for its `CategoryName`."
   ]
  },
  {
   "attachments": {},
   "cell_type": "markdown",
   "metadata": {},
   "source": [
    "#### Search with contains\n",
    "Example keyword from list of `SKU` is \"huawei_\"."
   ]
  },
  {
   "cell_type": "code",
   "execution_count": 36,
   "metadata": {},
   "outputs": [
    {
     "data": {
      "text/plain": [
       "array(['Mobiles & Tablets', '\\\\N', 'Entertainment'], dtype=object)"
      ]
     },
     "execution_count": 36,
     "metadata": {},
     "output_type": "execute_result"
    }
   ],
   "source": [
    "df[df['SKUcopy'].str.contains('huawei_')]['CategoryName'].unique()"
   ]
  },
  {
   "attachments": {},
   "cell_type": "markdown",
   "metadata": {},
   "source": [
    "The results shows three uniques values from the `CategoryName` column, Mobiles & Tablets, Entertainment, and \\\\N. For better accuracy, we will try to narrow it further by extending the keyword in below example."
   ]
  },
  {
   "cell_type": "code",
   "execution_count": 37,
   "metadata": {},
   "outputs": [
    {
     "data": {
      "text/plain": [
       "array(['Mobiles & Tablets', '\\\\N'], dtype=object)"
      ]
     },
     "metadata": {},
     "output_type": "display_data"
    },
    {
     "data": {
      "text/plain": [
       "array(['Mobiles & Tablets', '\\\\N'], dtype=object)"
      ]
     },
     "metadata": {},
     "output_type": "display_data"
    }
   ],
   "source": [
    "display(\n",
    "    df[df['SKUcopy'].str.contains('huawei_p')]['CategoryName'].unique(),\n",
    "    df[df['SKUcopy'].str.contains('huawei_y')]['CategoryName'].unique()\n",
    ")"
   ]
  },
  {
   "attachments": {},
   "cell_type": "markdown",
   "metadata": {},
   "source": [
    "By extending the keyword (adding p or y, based on the available `SKU` with \\N value) we can narrow it to only two unique values, Mobiles & Tablets and \\\\N. Then we can safely assume the other `SKU` with \"huawei_\" keyword can be set to Mobiles & Tablets for its `CategoryName`."
   ]
  },
  {
   "attachments": {},
   "cell_type": "markdown",
   "metadata": {},
   "source": [
    "#### Replace with contains\n",
    "After performing both search above, below are the list of keywords correspond to their possible `CategoryName`. Then we replace the \\N values in `CategoryName` using for loop. This section is to replace using contains, we perform contains first because the keyword will match more results than startswith."
   ]
  },
  {
   "cell_type": "code",
   "execution_count": 38,
   "metadata": {},
   "outputs": [],
   "source": [
    "# keywords for each category (contains method only)\n",
    "list_sku_kids1 = [\"baby\",\"edu\"]\n",
    "list_sku_health1 = [\"pain\",\"black seed\"]\n",
    "list_sku_mobile1 = [\"huawei_\"]\n",
    "list_sku_others1 = [\"test\"]\n",
    "\n",
    "# combined keywords for all category (contains method only)\n",
    "list_sku_cont = [list_sku_kids1,list_sku_mobile1,list_sku_health1,list_sku_others1]\n",
    "list_cat_cont = [\"Kids & Baby\",\"Mobiles & Tablets\",\"Health & Sports\",\"Others\"]"
   ]
  },
  {
   "cell_type": "code",
   "execution_count": 39,
   "metadata": {},
   "outputs": [],
   "source": [
    "# replacing CategoryName by using SKU keywords\n",
    "for i, j in enumerate(list_sku_cont):\n",
    "    for x in range(len(j)):\n",
    "        indices_Cat_N = dfCategoryTemp2[dfCategoryTemp2['SKUcopy'].str.contains(j[x])].index.to_list()\n",
    "        replace_N_values(indices_Cat_N,'CategoryName',list_cat_cont[i])"
   ]
  },
  {
   "attachments": {},
   "cell_type": "markdown",
   "metadata": {},
   "source": [
    "#### Replace with startswith\n",
    "Similarly, below are the list of keywords correspond to their possible `CategoryName`. Then we replace the \\N values in `CategoryName` using for loop. This section is to replace using startswith, we perform startswith after contains because the keyword will match less results than contains."
   ]
  },
  {
   "cell_type": "code",
   "execution_count": 40,
   "metadata": {},
   "outputs": [],
   "source": [
    "# keywords for each category (startswith method only)\n",
    "list_sku_beauty = [\"bagema\",\"cos\",\"lc_8\",\"oriflame\",\"shaver\",\"acne\",\"sapil\",\"scent_\",\"the vitamin\",\"xenium_\"]\n",
    "list_sku_kids = [\"asfas\",\"bo_\",\"kabasa\",\"stinnos_\",\"trans\",\"us-m\"]\n",
    "list_sku_computing = [\"apple\",\"audionic_6\",\"audionic_ah\",\"audionic_sh\",\"audionic6-\",\"booster\",\"comwd\",\"edifier_x\",\"hp_\",\n",
    "                      \"kingston\",\"lacie\",\"pny_\",\"reborn\",\"seagate\",\"transcend\",\"tucano\",\"wd_wd\"]\n",
    "list_sku_home = [\"bo_high\",\"bo_lemon\",\"bo_non\",\"bo_pack\",\"bo_pestle\",\"bo_silic\",\"coleman\",\"duma\",\"interwood\",\n",
    "                 \"jbs\",\"kansai\",\"lamp_\",\"rajesh_b\",\"stripy\",\"supersmile\",\"turbo\",\"yc_\"]\n",
    "list_sku_womens = [\"alerashine\",\"ashbroe\",\"asimjo\",\"charizma\",\"clickbuscollection\",\"contessa\",\"gbh_gs\",\"naushemian\",\n",
    "                   \"regal_\",\"sanasafinaz\",\"teenz_e\",\"triumph\",\"wb_th-\",\"we_\",\"wofasa5\",\"xenium_w\",\"zne_\"]\n",
    "list_sku_mobile = [\"audionic_6-954217-5\",\"audionic_69542175988\",\"cl29\",\"dany_69542178\",\"infinix\",\"mathap\",\"mt_red\",\n",
    "                   \"nvc_\",\"q mobile\",\"qmobile\",\"shoppers\",\"sstop_\"]\n",
    "list_sku_superstore = [\"kansai_v\",\"lalqila\",\"ls_8\",\"rb_dettol\",\"sehgal\"]\n",
    "list_sku_appliances = [\"dawlance\",\"haier\",\"mm_ag\",\"ssst_sm\",\"west point\"]\n",
    "list_sku_books = [\"lm_\"]\n",
    "list_sku_entertainment = [\"dany6\"]\n",
    "list_sku_health = [\"life source\",\"rajesh_raj038\",\"telemall_\",\"vitamin_2\"]\n",
    "list_sku_mens = [\"ac_ac\",\"am-ptv\",\"aw_pks\",\"carson\",\"corio\",\"gasonline\",\"hol_\",\"iu_\",\"jsm\",\"mefqmo5\",\"qzs_\",\n",
    "                 \"r-tree\",\"route_km\",\"tcreation\",\"tm_tm\",\"uc_\",\"urban_\",\"wb_t-\",\"zedage_\"]\n",
    "list_sku_others = [\"\\\\n\",\"asdfas\",\"bfw\",\"d lend\",\"emart\",\"oth\",\"sentiments\",\"voucher\",\"wplanit\"]\n",
    "list_sku_school = [\"stbb_\",\"stpat_\"]\n",
    "list_sku_soghaat = [\"rs_rehmat\",\"sp_mango\",\"uk_ramdan\"]\n",
    "\n",
    "# combined keywords for all category (startswith method only)\n",
    "list_sku_start = [list_sku_beauty,list_sku_kids,list_sku_computing,list_sku_home,list_sku_womens,list_sku_mobile,\n",
    "                  list_sku_superstore,list_sku_appliances,list_sku_books,list_sku_entertainment,list_sku_health,\n",
    "                  list_sku_mens,list_sku_others,list_sku_school,list_sku_soghaat]\n",
    "list_cat_start = ['Beauty & Grooming','Kids & Baby','Computing','Home & Living',\"Women's Fashion\",\n",
    "                  'Mobiles & Tablets','Superstore','Appliances','Books','Entertainment','Health & Sports',\n",
    "                  \"Men's Fashion\",'Others','School & Education','Soghaat']"
   ]
  },
  {
   "cell_type": "code",
   "execution_count": 41,
   "metadata": {},
   "outputs": [],
   "source": [
    "# replacing CategoryName by using SKU keywords\n",
    "for i, j in enumerate(list_sku_start):\n",
    "    for x in range(len(j)):\n",
    "        indices_Cat_N = dfCategoryTemp2[dfCategoryTemp2['SKUcopy'].str.contains(j[x])].index.to_list()\n",
    "        replace_N_values(indices_Cat_N,'CategoryName',list_cat_start[i])"
   ]
  },
  {
   "attachments": {},
   "cell_type": "markdown",
   "metadata": {},
   "source": [
    "#### Confirm the result"
   ]
  },
  {
   "cell_type": "code",
   "execution_count": 42,
   "metadata": {},
   "outputs": [
    {
     "name": "stdout",
     "output_type": "stream",
     "text": [
      "Column: Status\n",
      "Number of '\\N' values: 0\n",
      "------------------------------\n",
      "Column: CategoryName\n",
      "Number of '\\N' values: 17\n",
      "------------------------------\n",
      "Column: SalesCommissionCode\n",
      "Number of '\\N' values: 476176\n",
      "------------------------------\n"
     ]
    }
   ],
   "source": [
    "# Display the column name, data type, and number of '\\N' values\n",
    "display_total_Nvalues()"
   ]
  },
  {
   "cell_type": "code",
   "execution_count": 43,
   "metadata": {},
   "outputs": [
    {
     "data": {
      "text/html": [
       "<div>\n",
       "<style scoped>\n",
       "    .dataframe tbody tr th:only-of-type {\n",
       "        vertical-align: middle;\n",
       "    }\n",
       "\n",
       "    .dataframe tbody tr th {\n",
       "        vertical-align: top;\n",
       "    }\n",
       "\n",
       "    .dataframe thead th {\n",
       "        text-align: right;\n",
       "    }\n",
       "</style>\n",
       "<table border=\"1\" class=\"dataframe\">\n",
       "  <thead>\n",
       "    <tr style=\"text-align: right;\">\n",
       "      <th></th>\n",
       "      <th>ItemID</th>\n",
       "      <th>Status</th>\n",
       "      <th>CreatedAt</th>\n",
       "      <th>SKU</th>\n",
       "      <th>Price</th>\n",
       "      <th>QuantityOrdered</th>\n",
       "      <th>GrandTotal</th>\n",
       "      <th>IncrementID</th>\n",
       "      <th>CategoryName</th>\n",
       "      <th>SalesCommissionCode</th>\n",
       "      <th>DiscountAmount</th>\n",
       "      <th>PaymentMethod</th>\n",
       "      <th>WorkingDate</th>\n",
       "      <th>BIStatus</th>\n",
       "      <th>MV</th>\n",
       "      <th>Year</th>\n",
       "      <th>Month</th>\n",
       "      <th>CustomerSince</th>\n",
       "      <th>MY</th>\n",
       "      <th>FY</th>\n",
       "      <th>CustomerID</th>\n",
       "      <th>SKUcopy</th>\n",
       "    </tr>\n",
       "  </thead>\n",
       "  <tbody>\n",
       "    <tr>\n",
       "      <th>14846</th>\n",
       "      <td>230008.0</td>\n",
       "      <td>canceled</td>\n",
       "      <td>8/13/2016</td>\n",
       "      <td>\\N</td>\n",
       "      <td>0.0</td>\n",
       "      <td>1.0</td>\n",
       "      <td>0.0</td>\n",
       "      <td>100160070</td>\n",
       "      <td>\\N</td>\n",
       "      <td>\\N</td>\n",
       "      <td>0.0</td>\n",
       "      <td>cod</td>\n",
       "      <td>8/13/2016</td>\n",
       "      <td>Gross</td>\n",
       "      <td>-</td>\n",
       "      <td>2016.0</td>\n",
       "      <td>8.0</td>\n",
       "      <td>2016-8</td>\n",
       "      <td>8-2016</td>\n",
       "      <td>FY17</td>\n",
       "      <td>3468.0</td>\n",
       "      <td>\\n</td>\n",
       "    </tr>\n",
       "    <tr>\n",
       "      <th>20676</th>\n",
       "      <td>236830.0</td>\n",
       "      <td>canceled</td>\n",
       "      <td>9/1/2016</td>\n",
       "      <td>\\N</td>\n",
       "      <td>0.0</td>\n",
       "      <td>1.0</td>\n",
       "      <td>0.0</td>\n",
       "      <td>100164902</td>\n",
       "      <td>\\N</td>\n",
       "      <td>\\N</td>\n",
       "      <td>0.0</td>\n",
       "      <td>cod</td>\n",
       "      <td>9/1/2016</td>\n",
       "      <td>Gross</td>\n",
       "      <td>-</td>\n",
       "      <td>2016.0</td>\n",
       "      <td>9.0</td>\n",
       "      <td>2016-8</td>\n",
       "      <td>9-2016</td>\n",
       "      <td>FY17</td>\n",
       "      <td>4369.0</td>\n",
       "      <td>\\n</td>\n",
       "    </tr>\n",
       "    <tr>\n",
       "      <th>39838</th>\n",
       "      <td>260006.0</td>\n",
       "      <td>canceled</td>\n",
       "      <td>10/7/2016</td>\n",
       "      <td>\\N</td>\n",
       "      <td>0.0</td>\n",
       "      <td>1.0</td>\n",
       "      <td>0.0</td>\n",
       "      <td>100181136</td>\n",
       "      <td>\\N</td>\n",
       "      <td>\\N</td>\n",
       "      <td>0.0</td>\n",
       "      <td>cod</td>\n",
       "      <td>10/7/2016</td>\n",
       "      <td>Gross</td>\n",
       "      <td>-</td>\n",
       "      <td>2016.0</td>\n",
       "      <td>10.0</td>\n",
       "      <td>2016-7</td>\n",
       "      <td>10-2016</td>\n",
       "      <td>FY17</td>\n",
       "      <td>939.0</td>\n",
       "      <td>\\n</td>\n",
       "    </tr>\n",
       "    <tr>\n",
       "      <th>39839</th>\n",
       "      <td>260007.0</td>\n",
       "      <td>canceled</td>\n",
       "      <td>10/7/2016</td>\n",
       "      <td>\\N</td>\n",
       "      <td>0.0</td>\n",
       "      <td>3.0</td>\n",
       "      <td>0.0</td>\n",
       "      <td>100181137</td>\n",
       "      <td>\\N</td>\n",
       "      <td>\\N</td>\n",
       "      <td>0.0</td>\n",
       "      <td>cod</td>\n",
       "      <td>10/7/2016</td>\n",
       "      <td>Gross</td>\n",
       "      <td>-</td>\n",
       "      <td>2016.0</td>\n",
       "      <td>10.0</td>\n",
       "      <td>2016-7</td>\n",
       "      <td>10-2016</td>\n",
       "      <td>FY17</td>\n",
       "      <td>939.0</td>\n",
       "      <td>\\n</td>\n",
       "    </tr>\n",
       "    <tr>\n",
       "      <th>39880</th>\n",
       "      <td>260061.0</td>\n",
       "      <td>canceled</td>\n",
       "      <td>10/7/2016</td>\n",
       "      <td>\\N</td>\n",
       "      <td>0.0</td>\n",
       "      <td>3.0</td>\n",
       "      <td>0.0</td>\n",
       "      <td>100181174</td>\n",
       "      <td>\\N</td>\n",
       "      <td>\\N</td>\n",
       "      <td>0.0</td>\n",
       "      <td>cod</td>\n",
       "      <td>10/7/2016</td>\n",
       "      <td>Gross</td>\n",
       "      <td>-</td>\n",
       "      <td>2016.0</td>\n",
       "      <td>10.0</td>\n",
       "      <td>2016-7</td>\n",
       "      <td>10-2016</td>\n",
       "      <td>FY17</td>\n",
       "      <td>939.0</td>\n",
       "      <td>\\n</td>\n",
       "    </tr>\n",
       "    <tr>\n",
       "      <th>124968</th>\n",
       "      <td>367292.0</td>\n",
       "      <td>refund</td>\n",
       "      <td>12/10/2016</td>\n",
       "      <td>\\N</td>\n",
       "      <td>0.0</td>\n",
       "      <td>1.0</td>\n",
       "      <td>0.0</td>\n",
       "      <td>100247863</td>\n",
       "      <td>\\N</td>\n",
       "      <td>\\N</td>\n",
       "      <td>0.0</td>\n",
       "      <td>cod</td>\n",
       "      <td>12/10/2016</td>\n",
       "      <td>Valid</td>\n",
       "      <td>-</td>\n",
       "      <td>2016.0</td>\n",
       "      <td>12.0</td>\n",
       "      <td>2016-11</td>\n",
       "      <td>12-2016</td>\n",
       "      <td>FY17</td>\n",
       "      <td>26305.0</td>\n",
       "      <td>\\n</td>\n",
       "    </tr>\n",
       "    <tr>\n",
       "      <th>125636</th>\n",
       "      <td>368122.0</td>\n",
       "      <td>refund</td>\n",
       "      <td>12/12/2016</td>\n",
       "      <td>\\N</td>\n",
       "      <td>0.0</td>\n",
       "      <td>1.0</td>\n",
       "      <td>0.0</td>\n",
       "      <td>100248364</td>\n",
       "      <td>\\N</td>\n",
       "      <td>\\N</td>\n",
       "      <td>0.0</td>\n",
       "      <td>cod</td>\n",
       "      <td>12/12/2016</td>\n",
       "      <td>Valid</td>\n",
       "      <td>-</td>\n",
       "      <td>2016.0</td>\n",
       "      <td>12.0</td>\n",
       "      <td>2016-7</td>\n",
       "      <td>12-2016</td>\n",
       "      <td>FY17</td>\n",
       "      <td>2246.0</td>\n",
       "      <td>\\n</td>\n",
       "    </tr>\n",
       "    <tr>\n",
       "      <th>125811</th>\n",
       "      <td>368362.0</td>\n",
       "      <td>refund</td>\n",
       "      <td>12/13/2016</td>\n",
       "      <td>\\N</td>\n",
       "      <td>0.0</td>\n",
       "      <td>1.0</td>\n",
       "      <td>0.0</td>\n",
       "      <td>100248497</td>\n",
       "      <td>\\N</td>\n",
       "      <td>\\N</td>\n",
       "      <td>0.0</td>\n",
       "      <td>cod</td>\n",
       "      <td>12/13/2016</td>\n",
       "      <td>Valid</td>\n",
       "      <td>-</td>\n",
       "      <td>2016.0</td>\n",
       "      <td>12.0</td>\n",
       "      <td>2016-7</td>\n",
       "      <td>12-2016</td>\n",
       "      <td>FY17</td>\n",
       "      <td>251.0</td>\n",
       "      <td>\\n</td>\n",
       "    </tr>\n",
       "    <tr>\n",
       "      <th>149597</th>\n",
       "      <td>399798.0</td>\n",
       "      <td>refund</td>\n",
       "      <td>2/7/2017</td>\n",
       "      <td>\\N</td>\n",
       "      <td>0.0</td>\n",
       "      <td>1.0</td>\n",
       "      <td>0.0</td>\n",
       "      <td>100267148</td>\n",
       "      <td>\\N</td>\n",
       "      <td>\\N</td>\n",
       "      <td>0.0</td>\n",
       "      <td>cod</td>\n",
       "      <td>2/7/2017</td>\n",
       "      <td>Valid</td>\n",
       "      <td>-</td>\n",
       "      <td>2017.0</td>\n",
       "      <td>2.0</td>\n",
       "      <td>2017-2</td>\n",
       "      <td>2-2017</td>\n",
       "      <td>FY17</td>\n",
       "      <td>33062.0</td>\n",
       "      <td>\\n</td>\n",
       "    </tr>\n",
       "    <tr>\n",
       "      <th>170249</th>\n",
       "      <td>426105.0</td>\n",
       "      <td>canceled</td>\n",
       "      <td>3/21/2017</td>\n",
       "      <td>\\N</td>\n",
       "      <td>0.0</td>\n",
       "      <td>1.0</td>\n",
       "      <td>6952.0</td>\n",
       "      <td>100281645</td>\n",
       "      <td>\\N</td>\n",
       "      <td>\\N</td>\n",
       "      <td>0.0</td>\n",
       "      <td>cod</td>\n",
       "      <td>3/21/2017</td>\n",
       "      <td>Gross</td>\n",
       "      <td>-</td>\n",
       "      <td>2017.0</td>\n",
       "      <td>3.0</td>\n",
       "      <td>2017-3</td>\n",
       "      <td>3-2017</td>\n",
       "      <td>FY17</td>\n",
       "      <td>38242.0</td>\n",
       "      <td>\\n</td>\n",
       "    </tr>\n",
       "    <tr>\n",
       "      <th>170401</th>\n",
       "      <td>426302.0</td>\n",
       "      <td>canceled</td>\n",
       "      <td>3/22/2017</td>\n",
       "      <td>\\N</td>\n",
       "      <td>0.0</td>\n",
       "      <td>1.0</td>\n",
       "      <td>1873.0</td>\n",
       "      <td>100281748</td>\n",
       "      <td>\\N</td>\n",
       "      <td>\\N</td>\n",
       "      <td>0.0</td>\n",
       "      <td>cod</td>\n",
       "      <td>3/22/2017</td>\n",
       "      <td>Gross</td>\n",
       "      <td>-</td>\n",
       "      <td>2017.0</td>\n",
       "      <td>3.0</td>\n",
       "      <td>2017-3</td>\n",
       "      <td>3-2017</td>\n",
       "      <td>FY17</td>\n",
       "      <td>38278.0</td>\n",
       "      <td>\\n</td>\n",
       "    </tr>\n",
       "    <tr>\n",
       "      <th>173040</th>\n",
       "      <td>429392.0</td>\n",
       "      <td>refund</td>\n",
       "      <td>3/23/2017</td>\n",
       "      <td>\\N</td>\n",
       "      <td>0.0</td>\n",
       "      <td>1.0</td>\n",
       "      <td>0.0</td>\n",
       "      <td>100283785</td>\n",
       "      <td>\\N</td>\n",
       "      <td>\\N</td>\n",
       "      <td>0.0</td>\n",
       "      <td>cod</td>\n",
       "      <td>3/23/2017</td>\n",
       "      <td>Valid</td>\n",
       "      <td>-</td>\n",
       "      <td>2017.0</td>\n",
       "      <td>3.0</td>\n",
       "      <td>2016-8</td>\n",
       "      <td>3-2017</td>\n",
       "      <td>FY17</td>\n",
       "      <td>4662.0</td>\n",
       "      <td>\\n</td>\n",
       "    </tr>\n",
       "    <tr>\n",
       "      <th>173045</th>\n",
       "      <td>429393.0</td>\n",
       "      <td>refund</td>\n",
       "      <td>3/23/2017</td>\n",
       "      <td>\\N</td>\n",
       "      <td>0.0</td>\n",
       "      <td>1.0</td>\n",
       "      <td>0.0</td>\n",
       "      <td>100283786</td>\n",
       "      <td>\\N</td>\n",
       "      <td>\\N</td>\n",
       "      <td>0.0</td>\n",
       "      <td>cod</td>\n",
       "      <td>3/23/2017</td>\n",
       "      <td>Valid</td>\n",
       "      <td>-</td>\n",
       "      <td>2017.0</td>\n",
       "      <td>3.0</td>\n",
       "      <td>2016-8</td>\n",
       "      <td>3-2017</td>\n",
       "      <td>FY17</td>\n",
       "      <td>4662.0</td>\n",
       "      <td>\\n</td>\n",
       "    </tr>\n",
       "    <tr>\n",
       "      <th>173069</th>\n",
       "      <td>429421.0</td>\n",
       "      <td>refund</td>\n",
       "      <td>3/23/2017</td>\n",
       "      <td>\\N</td>\n",
       "      <td>0.0</td>\n",
       "      <td>1.0</td>\n",
       "      <td>0.0</td>\n",
       "      <td>100283807</td>\n",
       "      <td>\\N</td>\n",
       "      <td>\\N</td>\n",
       "      <td>0.0</td>\n",
       "      <td>cod</td>\n",
       "      <td>3/23/2017</td>\n",
       "      <td>Valid</td>\n",
       "      <td>-</td>\n",
       "      <td>2017.0</td>\n",
       "      <td>3.0</td>\n",
       "      <td>2016-8</td>\n",
       "      <td>3-2017</td>\n",
       "      <td>FY17</td>\n",
       "      <td>4662.0</td>\n",
       "      <td>\\n</td>\n",
       "    </tr>\n",
       "    <tr>\n",
       "      <th>175411</th>\n",
       "      <td>432276.0</td>\n",
       "      <td>refund</td>\n",
       "      <td>3/26/2017</td>\n",
       "      <td>\\N</td>\n",
       "      <td>0.0</td>\n",
       "      <td>1.0</td>\n",
       "      <td>0.0</td>\n",
       "      <td>100285563</td>\n",
       "      <td>\\N</td>\n",
       "      <td>\\N</td>\n",
       "      <td>0.0</td>\n",
       "      <td>cod</td>\n",
       "      <td>3/26/2017</td>\n",
       "      <td>Valid</td>\n",
       "      <td>-</td>\n",
       "      <td>2017.0</td>\n",
       "      <td>3.0</td>\n",
       "      <td>2016-11</td>\n",
       "      <td>3-2017</td>\n",
       "      <td>FY17</td>\n",
       "      <td>14625.0</td>\n",
       "      <td>\\n</td>\n",
       "    </tr>\n",
       "    <tr>\n",
       "      <th>238273</th>\n",
       "      <td>506324.0</td>\n",
       "      <td>canceled</td>\n",
       "      <td>6/7/2017</td>\n",
       "      <td>\\N</td>\n",
       "      <td>0.0</td>\n",
       "      <td>1.0</td>\n",
       "      <td>0.0</td>\n",
       "      <td>100322823</td>\n",
       "      <td>\\N</td>\n",
       "      <td>\\N</td>\n",
       "      <td>0.0</td>\n",
       "      <td>cod</td>\n",
       "      <td>6/7/2017</td>\n",
       "      <td>Gross</td>\n",
       "      <td>-</td>\n",
       "      <td>2017.0</td>\n",
       "      <td>6.0</td>\n",
       "      <td>2016-11</td>\n",
       "      <td>6-2017</td>\n",
       "      <td>FY17</td>\n",
       "      <td>14905.0</td>\n",
       "      <td>\\n</td>\n",
       "    </tr>\n",
       "    <tr>\n",
       "      <th>316422</th>\n",
       "      <td>595858.0</td>\n",
       "      <td>cod</td>\n",
       "      <td>10/12/2017</td>\n",
       "      <td>\\N</td>\n",
       "      <td>0.0</td>\n",
       "      <td>2.0</td>\n",
       "      <td>0.0</td>\n",
       "      <td>100367801</td>\n",
       "      <td>\\N</td>\n",
       "      <td>0</td>\n",
       "      <td>0.0</td>\n",
       "      <td>cod</td>\n",
       "      <td>10/12/2017</td>\n",
       "      <td>Valid</td>\n",
       "      <td>-</td>\n",
       "      <td>2017.0</td>\n",
       "      <td>10.0</td>\n",
       "      <td>2017-8</td>\n",
       "      <td>10-2017</td>\n",
       "      <td>FY18</td>\n",
       "      <td>58333.0</td>\n",
       "      <td>\\n</td>\n",
       "    </tr>\n",
       "  </tbody>\n",
       "</table>\n",
       "</div>"
      ],
      "text/plain": [
       "          ItemID    Status   CreatedAt SKU  Price  QuantityOrdered  \\\n",
       "14846   230008.0  canceled   8/13/2016  \\N    0.0              1.0   \n",
       "20676   236830.0  canceled    9/1/2016  \\N    0.0              1.0   \n",
       "39838   260006.0  canceled   10/7/2016  \\N    0.0              1.0   \n",
       "39839   260007.0  canceled   10/7/2016  \\N    0.0              3.0   \n",
       "39880   260061.0  canceled   10/7/2016  \\N    0.0              3.0   \n",
       "124968  367292.0    refund  12/10/2016  \\N    0.0              1.0   \n",
       "125636  368122.0    refund  12/12/2016  \\N    0.0              1.0   \n",
       "125811  368362.0    refund  12/13/2016  \\N    0.0              1.0   \n",
       "149597  399798.0    refund    2/7/2017  \\N    0.0              1.0   \n",
       "170249  426105.0  canceled   3/21/2017  \\N    0.0              1.0   \n",
       "170401  426302.0  canceled   3/22/2017  \\N    0.0              1.0   \n",
       "173040  429392.0    refund   3/23/2017  \\N    0.0              1.0   \n",
       "173045  429393.0    refund   3/23/2017  \\N    0.0              1.0   \n",
       "173069  429421.0    refund   3/23/2017  \\N    0.0              1.0   \n",
       "175411  432276.0    refund   3/26/2017  \\N    0.0              1.0   \n",
       "238273  506324.0  canceled    6/7/2017  \\N    0.0              1.0   \n",
       "316422  595858.0       cod  10/12/2017  \\N    0.0              2.0   \n",
       "\n",
       "        GrandTotal IncrementID CategoryName SalesCommissionCode  \\\n",
       "14846          0.0   100160070           \\N                  \\N   \n",
       "20676          0.0   100164902           \\N                  \\N   \n",
       "39838          0.0   100181136           \\N                  \\N   \n",
       "39839          0.0   100181137           \\N                  \\N   \n",
       "39880          0.0   100181174           \\N                  \\N   \n",
       "124968         0.0   100247863           \\N                  \\N   \n",
       "125636         0.0   100248364           \\N                  \\N   \n",
       "125811         0.0   100248497           \\N                  \\N   \n",
       "149597         0.0   100267148           \\N                  \\N   \n",
       "170249      6952.0   100281645           \\N                  \\N   \n",
       "170401      1873.0   100281748           \\N                  \\N   \n",
       "173040         0.0   100283785           \\N                  \\N   \n",
       "173045         0.0   100283786           \\N                  \\N   \n",
       "173069         0.0   100283807           \\N                  \\N   \n",
       "175411         0.0   100285563           \\N                  \\N   \n",
       "238273         0.0   100322823           \\N                  \\N   \n",
       "316422         0.0   100367801           \\N                   0   \n",
       "\n",
       "        DiscountAmount PaymentMethod WorkingDate BIStatus MV    Year  Month  \\\n",
       "14846              0.0           cod   8/13/2016    Gross  -  2016.0    8.0   \n",
       "20676              0.0           cod    9/1/2016    Gross  -  2016.0    9.0   \n",
       "39838              0.0           cod   10/7/2016    Gross  -  2016.0   10.0   \n",
       "39839              0.0           cod   10/7/2016    Gross  -  2016.0   10.0   \n",
       "39880              0.0           cod   10/7/2016    Gross  -  2016.0   10.0   \n",
       "124968             0.0           cod  12/10/2016    Valid  -  2016.0   12.0   \n",
       "125636             0.0           cod  12/12/2016    Valid  -  2016.0   12.0   \n",
       "125811             0.0           cod  12/13/2016    Valid  -  2016.0   12.0   \n",
       "149597             0.0           cod    2/7/2017    Valid  -  2017.0    2.0   \n",
       "170249             0.0           cod   3/21/2017    Gross  -  2017.0    3.0   \n",
       "170401             0.0           cod   3/22/2017    Gross  -  2017.0    3.0   \n",
       "173040             0.0           cod   3/23/2017    Valid  -  2017.0    3.0   \n",
       "173045             0.0           cod   3/23/2017    Valid  -  2017.0    3.0   \n",
       "173069             0.0           cod   3/23/2017    Valid  -  2017.0    3.0   \n",
       "175411             0.0           cod   3/26/2017    Valid  -  2017.0    3.0   \n",
       "238273             0.0           cod    6/7/2017    Gross  -  2017.0    6.0   \n",
       "316422             0.0           cod  10/12/2017    Valid  -  2017.0   10.0   \n",
       "\n",
       "       CustomerSince       MY    FY  CustomerID SKUcopy  \n",
       "14846         2016-8   8-2016  FY17      3468.0      \\n  \n",
       "20676         2016-8   9-2016  FY17      4369.0      \\n  \n",
       "39838         2016-7  10-2016  FY17       939.0      \\n  \n",
       "39839         2016-7  10-2016  FY17       939.0      \\n  \n",
       "39880         2016-7  10-2016  FY17       939.0      \\n  \n",
       "124968       2016-11  12-2016  FY17     26305.0      \\n  \n",
       "125636        2016-7  12-2016  FY17      2246.0      \\n  \n",
       "125811        2016-7  12-2016  FY17       251.0      \\n  \n",
       "149597        2017-2   2-2017  FY17     33062.0      \\n  \n",
       "170249        2017-3   3-2017  FY17     38242.0      \\n  \n",
       "170401        2017-3   3-2017  FY17     38278.0      \\n  \n",
       "173040        2016-8   3-2017  FY17      4662.0      \\n  \n",
       "173045        2016-8   3-2017  FY17      4662.0      \\n  \n",
       "173069        2016-8   3-2017  FY17      4662.0      \\n  \n",
       "175411       2016-11   3-2017  FY17     14625.0      \\n  \n",
       "238273       2016-11   6-2017  FY17     14905.0      \\n  \n",
       "316422        2017-8  10-2017  FY18     58333.0      \\n  "
      ]
     },
     "execution_count": 43,
     "metadata": {},
     "output_type": "execute_result"
    }
   ],
   "source": [
    "# check the remaining 17 \\N values in CategoryName column\n",
    "df[df['CategoryName']=='\\\\N']"
   ]
  },
  {
   "attachments": {},
   "cell_type": "markdown",
   "metadata": {},
   "source": [
    "From the result check above, we find that there are 17 \\N values remain in `CategoryName` columns. All those 17 values also have \\N value in the `SKU` column. Because both columns value are \\N, we cannot safely assume what is the `CategoryName`. So we will delete those 17 rows."
   ]
  },
  {
   "cell_type": "code",
   "execution_count": 44,
   "metadata": {},
   "outputs": [],
   "source": [
    "# delete 17 rows with \\N value in CategoryName column\n",
    "df.drop(df[df['CategoryName']=='\\\\N'].index,inplace=True)"
   ]
  },
  {
   "cell_type": "code",
   "execution_count": 45,
   "metadata": {},
   "outputs": [],
   "source": [
    "# delete temporary column SKU copy\n",
    "df.drop('SKUcopy',axis=1,inplace=True)"
   ]
  },
  {
   "attachments": {},
   "cell_type": "markdown",
   "metadata": {},
   "source": [
    "### Column CustomerSince & CustomerID"
   ]
  },
  {
   "cell_type": "code",
   "execution_count": 46,
   "metadata": {},
   "outputs": [
    {
     "name": "stdout",
     "output_type": "stream",
     "text": [
      "Total of missing values =  11\n"
     ]
    },
    {
     "data": {
      "text/html": [
       "<div>\n",
       "<style scoped>\n",
       "    .dataframe tbody tr th:only-of-type {\n",
       "        vertical-align: middle;\n",
       "    }\n",
       "\n",
       "    .dataframe tbody tr th {\n",
       "        vertical-align: top;\n",
       "    }\n",
       "\n",
       "    .dataframe thead th {\n",
       "        text-align: right;\n",
       "    }\n",
       "</style>\n",
       "<table border=\"1\" class=\"dataframe\">\n",
       "  <thead>\n",
       "    <tr style=\"text-align: right;\">\n",
       "      <th></th>\n",
       "      <th>ItemID</th>\n",
       "      <th>Status</th>\n",
       "      <th>CreatedAt</th>\n",
       "      <th>SKU</th>\n",
       "      <th>Price</th>\n",
       "      <th>QuantityOrdered</th>\n",
       "      <th>GrandTotal</th>\n",
       "      <th>IncrementID</th>\n",
       "      <th>CategoryName</th>\n",
       "      <th>SalesCommissionCode</th>\n",
       "      <th>DiscountAmount</th>\n",
       "      <th>PaymentMethod</th>\n",
       "      <th>WorkingDate</th>\n",
       "      <th>BIStatus</th>\n",
       "      <th>MV</th>\n",
       "      <th>Year</th>\n",
       "      <th>Month</th>\n",
       "      <th>CustomerSince</th>\n",
       "      <th>MY</th>\n",
       "      <th>FY</th>\n",
       "      <th>CustomerID</th>\n",
       "    </tr>\n",
       "  </thead>\n",
       "  <tbody>\n",
       "    <tr>\n",
       "      <th>427377</th>\n",
       "      <td>726862.0</td>\n",
       "      <td>order_refunded</td>\n",
       "      <td>1/5/2018</td>\n",
       "      <td>BAGLOR5A12C5C756AE5</td>\n",
       "      <td>209.0</td>\n",
       "      <td>1.0</td>\n",
       "      <td>1074.0</td>\n",
       "      <td>100443451</td>\n",
       "      <td>Beauty &amp; Grooming</td>\n",
       "      <td>\\N</td>\n",
       "      <td>0.0</td>\n",
       "      <td>cod</td>\n",
       "      <td>1/5/2018</td>\n",
       "      <td>Valid</td>\n",
       "      <td>209</td>\n",
       "      <td>2018.0</td>\n",
       "      <td>1.0</td>\n",
       "      <td>NaN</td>\n",
       "      <td>1-2018</td>\n",
       "      <td>FY18</td>\n",
       "      <td>NaN</td>\n",
       "    </tr>\n",
       "    <tr>\n",
       "      <th>427378</th>\n",
       "      <td>726863.0</td>\n",
       "      <td>order_refunded</td>\n",
       "      <td>1/5/2018</td>\n",
       "      <td>WOFGUL59C24CC9BE5D9</td>\n",
       "      <td>720.0</td>\n",
       "      <td>1.0</td>\n",
       "      <td>1074.0</td>\n",
       "      <td>100443451</td>\n",
       "      <td>Women's Fashion</td>\n",
       "      <td>\\N</td>\n",
       "      <td>0.0</td>\n",
       "      <td>cod</td>\n",
       "      <td>1/5/2018</td>\n",
       "      <td>Valid</td>\n",
       "      <td>720</td>\n",
       "      <td>2018.0</td>\n",
       "      <td>1.0</td>\n",
       "      <td>NaN</td>\n",
       "      <td>1-2018</td>\n",
       "      <td>FY18</td>\n",
       "      <td>NaN</td>\n",
       "    </tr>\n",
       "    <tr>\n",
       "      <th>427379</th>\n",
       "      <td>726864.0</td>\n",
       "      <td>order_refunded</td>\n",
       "      <td>1/5/2018</td>\n",
       "      <td>BAGNAD59E0AAC250E6D</td>\n",
       "      <td>145.0</td>\n",
       "      <td>1.0</td>\n",
       "      <td>1074.0</td>\n",
       "      <td>100443451</td>\n",
       "      <td>Beauty &amp; Grooming</td>\n",
       "      <td>\\N</td>\n",
       "      <td>0.0</td>\n",
       "      <td>cod</td>\n",
       "      <td>1/5/2018</td>\n",
       "      <td>Valid</td>\n",
       "      <td>145</td>\n",
       "      <td>2018.0</td>\n",
       "      <td>1.0</td>\n",
       "      <td>NaN</td>\n",
       "      <td>1-2018</td>\n",
       "      <td>FY18</td>\n",
       "      <td>NaN</td>\n",
       "    </tr>\n",
       "    <tr>\n",
       "      <th>437567</th>\n",
       "      <td>738191.0</td>\n",
       "      <td>order_refunded</td>\n",
       "      <td>1/31/2018</td>\n",
       "      <td>MEFMUN5A0ACC3A894BE-9</td>\n",
       "      <td>999.0</td>\n",
       "      <td>1.0</td>\n",
       "      <td>1149.0</td>\n",
       "      <td>100449683</td>\n",
       "      <td>Men's Fashion</td>\n",
       "      <td>\\N</td>\n",
       "      <td>0.0</td>\n",
       "      <td>cod</td>\n",
       "      <td>1/31/2018</td>\n",
       "      <td>Valid</td>\n",
       "      <td>999</td>\n",
       "      <td>2018.0</td>\n",
       "      <td>1.0</td>\n",
       "      <td>NaN</td>\n",
       "      <td>1-2018</td>\n",
       "      <td>FY18</td>\n",
       "      <td>NaN</td>\n",
       "    </tr>\n",
       "    <tr>\n",
       "      <th>478699</th>\n",
       "      <td>784981.0</td>\n",
       "      <td>received</td>\n",
       "      <td>3/15/2018</td>\n",
       "      <td>OTHPCB5A7D8A0DA56C6</td>\n",
       "      <td>8000.0</td>\n",
       "      <td>2.0</td>\n",
       "      <td>16000.0</td>\n",
       "      <td>100480546</td>\n",
       "      <td>Others</td>\n",
       "      <td>\\N</td>\n",
       "      <td>0.0</td>\n",
       "      <td>Payaxis</td>\n",
       "      <td>3/15/2018</td>\n",
       "      <td>Valid</td>\n",
       "      <td>16,000</td>\n",
       "      <td>2018.0</td>\n",
       "      <td>3.0</td>\n",
       "      <td>NaN</td>\n",
       "      <td>3-2018</td>\n",
       "      <td>FY18</td>\n",
       "      <td>NaN</td>\n",
       "    </tr>\n",
       "    <tr>\n",
       "      <th>478779</th>\n",
       "      <td>785061.0</td>\n",
       "      <td>canceled</td>\n",
       "      <td>3/15/2018</td>\n",
       "      <td>OTHPCB5A7D8A0DA56C6</td>\n",
       "      <td>8000.0</td>\n",
       "      <td>2.0</td>\n",
       "      <td>16000.0</td>\n",
       "      <td>100480623</td>\n",
       "      <td>Others</td>\n",
       "      <td>\\N</td>\n",
       "      <td>0.0</td>\n",
       "      <td>Easypay_MA</td>\n",
       "      <td>3/15/2018</td>\n",
       "      <td>Gross</td>\n",
       "      <td>16,000</td>\n",
       "      <td>2018.0</td>\n",
       "      <td>3.0</td>\n",
       "      <td>NaN</td>\n",
       "      <td>3-2018</td>\n",
       "      <td>FY18</td>\n",
       "      <td>NaN</td>\n",
       "    </tr>\n",
       "    <tr>\n",
       "      <th>494278</th>\n",
       "      <td>804621.0</td>\n",
       "      <td>canceled</td>\n",
       "      <td>3/27/2018</td>\n",
       "      <td>OTHPCB5AB351ED6A8F2</td>\n",
       "      <td>5000.0</td>\n",
       "      <td>2.0</td>\n",
       "      <td>10000.0</td>\n",
       "      <td>100496269</td>\n",
       "      <td>Others</td>\n",
       "      <td>\\N</td>\n",
       "      <td>0.0</td>\n",
       "      <td>Easypay</td>\n",
       "      <td>3/27/2018</td>\n",
       "      <td>Gross</td>\n",
       "      <td>10,000</td>\n",
       "      <td>2018.0</td>\n",
       "      <td>3.0</td>\n",
       "      <td>NaN</td>\n",
       "      <td>3-2018</td>\n",
       "      <td>FY18</td>\n",
       "      <td>NaN</td>\n",
       "    </tr>\n",
       "    <tr>\n",
       "      <th>495340</th>\n",
       "      <td>805750.0</td>\n",
       "      <td>canceled</td>\n",
       "      <td>3/27/2018</td>\n",
       "      <td>OTHPCB5AB351ECC7118</td>\n",
       "      <td>500.0</td>\n",
       "      <td>2.0</td>\n",
       "      <td>1000.0</td>\n",
       "      <td>100497359</td>\n",
       "      <td>Others</td>\n",
       "      <td>\\N</td>\n",
       "      <td>0.0</td>\n",
       "      <td>Easypay</td>\n",
       "      <td>3/27/2018</td>\n",
       "      <td>Gross</td>\n",
       "      <td>1,000</td>\n",
       "      <td>2018.0</td>\n",
       "      <td>3.0</td>\n",
       "      <td>NaN</td>\n",
       "      <td>3-2018</td>\n",
       "      <td>FY18</td>\n",
       "      <td>NaN</td>\n",
       "    </tr>\n",
       "    <tr>\n",
       "      <th>495945</th>\n",
       "      <td>807010.0</td>\n",
       "      <td>canceled</td>\n",
       "      <td>3/27/2018</td>\n",
       "      <td>OTHPCB5AB351EEC46EC</td>\n",
       "      <td>500.0</td>\n",
       "      <td>4.0</td>\n",
       "      <td>2000.0</td>\n",
       "      <td>100498582</td>\n",
       "      <td>Others</td>\n",
       "      <td>\\N</td>\n",
       "      <td>0.0</td>\n",
       "      <td>Easypay</td>\n",
       "      <td>3/27/2018</td>\n",
       "      <td>Gross</td>\n",
       "      <td>2,000</td>\n",
       "      <td>2018.0</td>\n",
       "      <td>3.0</td>\n",
       "      <td>NaN</td>\n",
       "      <td>3-2018</td>\n",
       "      <td>FY18</td>\n",
       "      <td>NaN</td>\n",
       "    </tr>\n",
       "    <tr>\n",
       "      <th>496921</th>\n",
       "      <td>808287.0</td>\n",
       "      <td>order_refunded</td>\n",
       "      <td>3/27/2018</td>\n",
       "      <td>MEFKAR5A7C138CE9EBD-L</td>\n",
       "      <td>1040.0</td>\n",
       "      <td>1.0</td>\n",
       "      <td>1040.0</td>\n",
       "      <td>100499821</td>\n",
       "      <td>Men's Fashion</td>\n",
       "      <td>\\N</td>\n",
       "      <td>0.0</td>\n",
       "      <td>cod</td>\n",
       "      <td>3/27/2018</td>\n",
       "      <td>Valid</td>\n",
       "      <td>1,040</td>\n",
       "      <td>2018.0</td>\n",
       "      <td>3.0</td>\n",
       "      <td>NaN</td>\n",
       "      <td>3-2018</td>\n",
       "      <td>FY18</td>\n",
       "      <td>NaN</td>\n",
       "    </tr>\n",
       "    <tr>\n",
       "      <th>502446</th>\n",
       "      <td>814174.0</td>\n",
       "      <td>canceled</td>\n",
       "      <td>3/28/2018</td>\n",
       "      <td>OTHPCB5ABB207673754</td>\n",
       "      <td>2000.0</td>\n",
       "      <td>5.0</td>\n",
       "      <td>10000.0</td>\n",
       "      <td>100505460</td>\n",
       "      <td>Others</td>\n",
       "      <td>\\N</td>\n",
       "      <td>0.0</td>\n",
       "      <td>Easypay</td>\n",
       "      <td>3/28/2018</td>\n",
       "      <td>Gross</td>\n",
       "      <td>10,000</td>\n",
       "      <td>2018.0</td>\n",
       "      <td>3.0</td>\n",
       "      <td>NaN</td>\n",
       "      <td>3-2018</td>\n",
       "      <td>FY18</td>\n",
       "      <td>NaN</td>\n",
       "    </tr>\n",
       "  </tbody>\n",
       "</table>\n",
       "</div>"
      ],
      "text/plain": [
       "          ItemID          Status  CreatedAt                    SKU   Price  \\\n",
       "427377  726862.0  order_refunded   1/5/2018    BAGLOR5A12C5C756AE5   209.0   \n",
       "427378  726863.0  order_refunded   1/5/2018    WOFGUL59C24CC9BE5D9   720.0   \n",
       "427379  726864.0  order_refunded   1/5/2018    BAGNAD59E0AAC250E6D   145.0   \n",
       "437567  738191.0  order_refunded  1/31/2018  MEFMUN5A0ACC3A894BE-9   999.0   \n",
       "478699  784981.0        received  3/15/2018    OTHPCB5A7D8A0DA56C6  8000.0   \n",
       "478779  785061.0        canceled  3/15/2018    OTHPCB5A7D8A0DA56C6  8000.0   \n",
       "494278  804621.0        canceled  3/27/2018    OTHPCB5AB351ED6A8F2  5000.0   \n",
       "495340  805750.0        canceled  3/27/2018    OTHPCB5AB351ECC7118   500.0   \n",
       "495945  807010.0        canceled  3/27/2018    OTHPCB5AB351EEC46EC   500.0   \n",
       "496921  808287.0  order_refunded  3/27/2018  MEFKAR5A7C138CE9EBD-L  1040.0   \n",
       "502446  814174.0        canceled  3/28/2018    OTHPCB5ABB207673754  2000.0   \n",
       "\n",
       "        QuantityOrdered  GrandTotal IncrementID       CategoryName  \\\n",
       "427377              1.0      1074.0   100443451  Beauty & Grooming   \n",
       "427378              1.0      1074.0   100443451    Women's Fashion   \n",
       "427379              1.0      1074.0   100443451  Beauty & Grooming   \n",
       "437567              1.0      1149.0   100449683      Men's Fashion   \n",
       "478699              2.0     16000.0   100480546             Others   \n",
       "478779              2.0     16000.0   100480623             Others   \n",
       "494278              2.0     10000.0   100496269             Others   \n",
       "495340              2.0      1000.0   100497359             Others   \n",
       "495945              4.0      2000.0   100498582             Others   \n",
       "496921              1.0      1040.0   100499821      Men's Fashion   \n",
       "502446              5.0     10000.0   100505460             Others   \n",
       "\n",
       "       SalesCommissionCode  DiscountAmount PaymentMethod WorkingDate BIStatus  \\\n",
       "427377                  \\N             0.0           cod    1/5/2018    Valid   \n",
       "427378                  \\N             0.0           cod    1/5/2018    Valid   \n",
       "427379                  \\N             0.0           cod    1/5/2018    Valid   \n",
       "437567                  \\N             0.0           cod   1/31/2018    Valid   \n",
       "478699                  \\N             0.0       Payaxis   3/15/2018    Valid   \n",
       "478779                  \\N             0.0    Easypay_MA   3/15/2018    Gross   \n",
       "494278                  \\N             0.0       Easypay   3/27/2018    Gross   \n",
       "495340                  \\N             0.0       Easypay   3/27/2018    Gross   \n",
       "495945                  \\N             0.0       Easypay   3/27/2018    Gross   \n",
       "496921                  \\N             0.0           cod   3/27/2018    Valid   \n",
       "502446                  \\N             0.0       Easypay   3/28/2018    Gross   \n",
       "\n",
       "            MV    Year  Month CustomerSince      MY    FY  CustomerID  \n",
       "427377     209  2018.0    1.0           NaN  1-2018  FY18         NaN  \n",
       "427378     720  2018.0    1.0           NaN  1-2018  FY18         NaN  \n",
       "427379     145  2018.0    1.0           NaN  1-2018  FY18         NaN  \n",
       "437567     999  2018.0    1.0           NaN  1-2018  FY18         NaN  \n",
       "478699  16,000  2018.0    3.0           NaN  3-2018  FY18         NaN  \n",
       "478779  16,000  2018.0    3.0           NaN  3-2018  FY18         NaN  \n",
       "494278  10,000  2018.0    3.0           NaN  3-2018  FY18         NaN  \n",
       "495340   1,000  2018.0    3.0           NaN  3-2018  FY18         NaN  \n",
       "495945   2,000  2018.0    3.0           NaN  3-2018  FY18         NaN  \n",
       "496921   1,040  2018.0    3.0           NaN  3-2018  FY18         NaN  \n",
       "502446  10,000  2018.0    3.0           NaN  3-2018  FY18         NaN  "
      ]
     },
     "metadata": {},
     "output_type": "display_data"
    }
   ],
   "source": [
    "# check missing values in column CustomerSince\n",
    "print('Total of missing values = ',df[df['CustomerSince'].isnull()].shape[0])\n",
    "display(df[df['CustomerSince'].isnull()])"
   ]
  },
  {
   "attachments": {},
   "cell_type": "markdown",
   "metadata": {},
   "source": [
    "As shown in the table above, both `CustomerSince` and `CustomerID` values are missing. Due to that reason, it is impossible to pinpoint the possible value using related data. It is impossible to pinpoint using other columns such as `SKU`/`IncrementID` if `CustomerID` value is missing. Thus it is decided to drop the data, this is also possible because the amount is small (11 rows of data only)."
   ]
  },
  {
   "cell_type": "code",
   "execution_count": 47,
   "metadata": {},
   "outputs": [],
   "source": [
    "# delete 11 rows with missing values in bothh CustomerSince and CustomerID columns\n",
    "df.drop(df[df['CustomerSince'].isnull()].index,inplace=True)"
   ]
  },
  {
   "attachments": {},
   "cell_type": "markdown",
   "metadata": {},
   "source": [
    "## Data Cleaning 4: Convert data types"
   ]
  },
  {
   "cell_type": "code",
   "execution_count": 48,
   "metadata": {},
   "outputs": [],
   "source": [
    "# convert dates to consistent format\n",
    "df['CreatedAt'] = pd.to_datetime(df['CreatedAt'])\n",
    "df['WorkingDate'] = pd.to_datetime(df['WorkingDate'])"
   ]
  },
  {
   "cell_type": "code",
   "execution_count": 49,
   "metadata": {},
   "outputs": [
    {
     "name": "stdout",
     "output_type": "stream",
     "text": [
      "It's safe to convert Month to integer type.\n",
      "It's safe to convert Year to integer type.\n"
     ]
    }
   ],
   "source": [
    "# check columns can be safely converted to integers\n",
    "def check_and_convert(column_name):\n",
    "    is_safe_to_convert = all(pd.to_numeric(df[column_name], errors='coerce').notna() & df[column_name].apply(lambda x: float(x).is_integer()))\n",
    "\n",
    "    if is_safe_to_convert:\n",
    "        print(f\"It's safe to convert {column_name} to integer type.\")\n",
    "        df[column_name] = df[column_name].astype(int)\n",
    "    else:\n",
    "        print(f\"It's not safe to convert {column_name} to integer type.\")\n",
    "\n",
    "check_and_convert('Month')\n",
    "check_and_convert('Year')"
   ]
  },
  {
   "cell_type": "code",
   "execution_count": 50,
   "metadata": {},
   "outputs": [],
   "source": [
    "# convert both column CustomerSince and MY into datetime\n",
    "df['CustomerSince'] = pd.to_datetime(df['CustomerSince'], format='%Y-%m')\n",
    "df['MY'] = pd.to_datetime(df['MY'], format='%m-%Y')\n",
    "\n",
    "for col in ['CustomerSince','MY']:\n",
    "    df[col] = df[col].dt.to_period('M')"
   ]
  },
  {
   "cell_type": "code",
   "execution_count": 51,
   "metadata": {},
   "outputs": [],
   "source": [
    "# categorize or encode categorical data\n",
    "cols_to_convert = ['CategoryName', 'Status', 'PaymentMethod','FY']\n",
    "df[cols_to_convert] = df[cols_to_convert].astype('category')"
   ]
  },
  {
   "attachments": {},
   "cell_type": "markdown",
   "metadata": {},
   "source": [
    "## Data Cleaning 5: Result"
   ]
  },
  {
   "cell_type": "code",
   "execution_count": 52,
   "metadata": {},
   "outputs": [
    {
     "name": "stdout",
     "output_type": "stream",
     "text": [
      "(584496, 21)\n"
     ]
    },
    {
     "data": {
      "text/html": [
       "<div>\n",
       "<style scoped>\n",
       "    .dataframe tbody tr th:only-of-type {\n",
       "        vertical-align: middle;\n",
       "    }\n",
       "\n",
       "    .dataframe tbody tr th {\n",
       "        vertical-align: top;\n",
       "    }\n",
       "\n",
       "    .dataframe thead th {\n",
       "        text-align: right;\n",
       "    }\n",
       "</style>\n",
       "<table border=\"1\" class=\"dataframe\">\n",
       "  <thead>\n",
       "    <tr style=\"text-align: right;\">\n",
       "      <th></th>\n",
       "      <th>dataFeatures</th>\n",
       "      <th>dataType</th>\n",
       "      <th>null</th>\n",
       "      <th>unique</th>\n",
       "      <th>uniqueSample</th>\n",
       "    </tr>\n",
       "  </thead>\n",
       "  <tbody>\n",
       "    <tr>\n",
       "      <th>0</th>\n",
       "      <td>ItemID</td>\n",
       "      <td>float64</td>\n",
       "      <td>0</td>\n",
       "      <td>584496</td>\n",
       "      <td>[247626.0, 681582.0]</td>\n",
       "    </tr>\n",
       "    <tr>\n",
       "      <th>1</th>\n",
       "      <td>Status</td>\n",
       "      <td>category</td>\n",
       "      <td>0</td>\n",
       "      <td>15</td>\n",
       "      <td>[payment_review, closed]</td>\n",
       "    </tr>\n",
       "    <tr>\n",
       "      <th>2</th>\n",
       "      <td>CreatedAt</td>\n",
       "      <td>datetime64[ns]</td>\n",
       "      <td>0</td>\n",
       "      <td>789</td>\n",
       "      <td>[2016-11-17T00:00:00.000000000, 2017-08-28T00:00:00.000000000]</td>\n",
       "    </tr>\n",
       "    <tr>\n",
       "      <th>3</th>\n",
       "      <td>SKU</td>\n",
       "      <td>object</td>\n",
       "      <td>0</td>\n",
       "      <td>84799</td>\n",
       "      <td>[WOFPHU5AFBCC9A15F1E, HASTRE59B66F7F962A1]</td>\n",
       "    </tr>\n",
       "    <tr>\n",
       "      <th>4</th>\n",
       "      <td>Price</td>\n",
       "      <td>float64</td>\n",
       "      <td>0</td>\n",
       "      <td>9121</td>\n",
       "      <td>[5014.0, 10319.0]</td>\n",
       "    </tr>\n",
       "    <tr>\n",
       "      <th>5</th>\n",
       "      <td>QuantityOrdered</td>\n",
       "      <td>float64</td>\n",
       "      <td>0</td>\n",
       "      <td>74</td>\n",
       "      <td>[150.0, 186.0]</td>\n",
       "    </tr>\n",
       "    <tr>\n",
       "      <th>6</th>\n",
       "      <td>GrandTotal</td>\n",
       "      <td>float64</td>\n",
       "      <td>0</td>\n",
       "      <td>36829</td>\n",
       "      <td>[1435.65, 7408.0]</td>\n",
       "    </tr>\n",
       "    <tr>\n",
       "      <th>7</th>\n",
       "      <td>IncrementID</td>\n",
       "      <td>object</td>\n",
       "      <td>0</td>\n",
       "      <td>408761</td>\n",
       "      <td>[100316425, 100287196]</td>\n",
       "    </tr>\n",
       "    <tr>\n",
       "      <th>8</th>\n",
       "      <td>CategoryName</td>\n",
       "      <td>category</td>\n",
       "      <td>0</td>\n",
       "      <td>15</td>\n",
       "      <td>[Others, Appliances]</td>\n",
       "    </tr>\n",
       "    <tr>\n",
       "      <th>9</th>\n",
       "      <td>SalesCommissionCode</td>\n",
       "      <td>object</td>\n",
       "      <td>0</td>\n",
       "      <td>7195</td>\n",
       "      <td>[KHE-WC51065, M13 41180]</td>\n",
       "    </tr>\n",
       "    <tr>\n",
       "      <th>10</th>\n",
       "      <td>DiscountAmount</td>\n",
       "      <td>float64</td>\n",
       "      <td>0</td>\n",
       "      <td>28058</td>\n",
       "      <td>[19.2841, 529.95]</td>\n",
       "    </tr>\n",
       "    <tr>\n",
       "      <th>11</th>\n",
       "      <td>PaymentMethod</td>\n",
       "      <td>category</td>\n",
       "      <td>0</td>\n",
       "      <td>18</td>\n",
       "      <td>[bankalfalah, productcredit]</td>\n",
       "    </tr>\n",
       "    <tr>\n",
       "      <th>12</th>\n",
       "      <td>WorkingDate</td>\n",
       "      <td>datetime64[ns]</td>\n",
       "      <td>0</td>\n",
       "      <td>789</td>\n",
       "      <td>[2018-06-05T00:00:00.000000000, 2017-06-12T00:00:00.000000000]</td>\n",
       "    </tr>\n",
       "    <tr>\n",
       "      <th>13</th>\n",
       "      <td>BIStatus</td>\n",
       "      <td>object</td>\n",
       "      <td>0</td>\n",
       "      <td>4</td>\n",
       "      <td>[#REF!, Gross]</td>\n",
       "    </tr>\n",
       "    <tr>\n",
       "      <th>14</th>\n",
       "      <td>MV</td>\n",
       "      <td>object</td>\n",
       "      <td>0</td>\n",
       "      <td>9720</td>\n",
       "      <td>[33,495, 467]</td>\n",
       "    </tr>\n",
       "    <tr>\n",
       "      <th>15</th>\n",
       "      <td>Year</td>\n",
       "      <td>int64</td>\n",
       "      <td>0</td>\n",
       "      <td>3</td>\n",
       "      <td>[2018, 2016]</td>\n",
       "    </tr>\n",
       "    <tr>\n",
       "      <th>16</th>\n",
       "      <td>Month</td>\n",
       "      <td>int64</td>\n",
       "      <td>0</td>\n",
       "      <td>12</td>\n",
       "      <td>[10, 9]</td>\n",
       "    </tr>\n",
       "    <tr>\n",
       "      <th>17</th>\n",
       "      <td>CustomerSince</td>\n",
       "      <td>period[M]</td>\n",
       "      <td>0</td>\n",
       "      <td>26</td>\n",
       "      <td>[2016-12, 2018-08]</td>\n",
       "    </tr>\n",
       "    <tr>\n",
       "      <th>18</th>\n",
       "      <td>MY</td>\n",
       "      <td>period[M]</td>\n",
       "      <td>0</td>\n",
       "      <td>26</td>\n",
       "      <td>[2016-07, 2017-03]</td>\n",
       "    </tr>\n",
       "    <tr>\n",
       "      <th>19</th>\n",
       "      <td>FY</td>\n",
       "      <td>category</td>\n",
       "      <td>0</td>\n",
       "      <td>3</td>\n",
       "      <td>[FY19, FY17]</td>\n",
       "    </tr>\n",
       "    <tr>\n",
       "      <th>20</th>\n",
       "      <td>CustomerID</td>\n",
       "      <td>float64</td>\n",
       "      <td>0</td>\n",
       "      <td>115326</td>\n",
       "      <td>[58023.0, 29377.0]</td>\n",
       "    </tr>\n",
       "  </tbody>\n",
       "</table>\n",
       "</div>"
      ],
      "text/plain": [
       "           dataFeatures        dataType  null  unique  \\\n",
       "0                ItemID         float64     0  584496   \n",
       "1                Status        category     0      15   \n",
       "2             CreatedAt  datetime64[ns]     0     789   \n",
       "3                   SKU          object     0   84799   \n",
       "4                 Price         float64     0    9121   \n",
       "5       QuantityOrdered         float64     0      74   \n",
       "6            GrandTotal         float64     0   36829   \n",
       "7           IncrementID          object     0  408761   \n",
       "8          CategoryName        category     0      15   \n",
       "9   SalesCommissionCode          object     0    7195   \n",
       "10       DiscountAmount         float64     0   28058   \n",
       "11        PaymentMethod        category     0      18   \n",
       "12          WorkingDate  datetime64[ns]     0     789   \n",
       "13             BIStatus          object     0       4   \n",
       "14                   MV          object     0    9720   \n",
       "15                 Year           int64     0       3   \n",
       "16                Month           int64     0      12   \n",
       "17        CustomerSince       period[M]     0      26   \n",
       "18                   MY       period[M]     0      26   \n",
       "19                   FY        category     0       3   \n",
       "20           CustomerID         float64     0  115326   \n",
       "\n",
       "                                                      uniqueSample  \n",
       "0                                             [247626.0, 681582.0]  \n",
       "1                                         [payment_review, closed]  \n",
       "2   [2016-11-17T00:00:00.000000000, 2017-08-28T00:00:00.000000000]  \n",
       "3                       [WOFPHU5AFBCC9A15F1E, HASTRE59B66F7F962A1]  \n",
       "4                                                [5014.0, 10319.0]  \n",
       "5                                                   [150.0, 186.0]  \n",
       "6                                                [1435.65, 7408.0]  \n",
       "7                                           [100316425, 100287196]  \n",
       "8                                             [Others, Appliances]  \n",
       "9                                         [KHE-WC51065, M13 41180]  \n",
       "10                                               [19.2841, 529.95]  \n",
       "11                                    [bankalfalah, productcredit]  \n",
       "12  [2018-06-05T00:00:00.000000000, 2017-06-12T00:00:00.000000000]  \n",
       "13                                                  [#REF!, Gross]  \n",
       "14                                                   [33,495, 467]  \n",
       "15                                                    [2018, 2016]  \n",
       "16                                                         [10, 9]  \n",
       "17                                              [2016-12, 2018-08]  \n",
       "18                                              [2016-07, 2017-03]  \n",
       "19                                                    [FY19, FY17]  \n",
       "20                                              [58023.0, 29377.0]  "
      ]
     },
     "execution_count": 52,
     "metadata": {},
     "output_type": "execute_result"
    }
   ],
   "source": [
    "# show information of the cleaned data\n",
    "listItem = []\n",
    "for col in df.columns :\n",
    "    listItem.append([col, df[col].dtype, df[col].isna().sum(),\n",
    "                    df[col].nunique(), list(df[col].drop_duplicates().sample(2).values)]);\n",
    "\n",
    "dfDesc = pd.DataFrame(columns=['dataFeatures', 'dataType', 'null', 'unique', 'uniqueSample'],\n",
    "                     data=listItem)\n",
    "print(df.shape)\n",
    "dfDesc"
   ]
  },
  {
   "attachments": {},
   "cell_type": "markdown",
   "metadata": {},
   "source": [
    "Before cleaning we have 1048575 rows of data with 464051 rows have 100% missing value. Those rows are deleted, and after further cleaning (handling partial missing values, convert columns) we end up with 584496 rows of data."
   ]
  },
  {
   "attachments": {},
   "cell_type": "markdown",
   "metadata": {},
   "source": [
    "## Additional Data Preparation\n",
    "After cleaning complete, in this phase we will check important columns for the analysis. Also we will create new dataframe with necessary columns only. "
   ]
  },
  {
   "cell_type": "code",
   "execution_count": 53,
   "metadata": {},
   "outputs": [
    {
     "data": {
      "text/html": [
       "<div>\n",
       "<style scoped>\n",
       "    .dataframe tbody tr th:only-of-type {\n",
       "        vertical-align: middle;\n",
       "    }\n",
       "\n",
       "    .dataframe tbody tr th {\n",
       "        vertical-align: top;\n",
       "    }\n",
       "\n",
       "    .dataframe thead th {\n",
       "        text-align: right;\n",
       "    }\n",
       "</style>\n",
       "<table border=\"1\" class=\"dataframe\">\n",
       "  <thead>\n",
       "    <tr style=\"text-align: right;\">\n",
       "      <th></th>\n",
       "      <th>ItemID</th>\n",
       "      <th>Status</th>\n",
       "      <th>CreatedAt</th>\n",
       "      <th>SKU</th>\n",
       "      <th>Price</th>\n",
       "      <th>QuantityOrdered</th>\n",
       "      <th>GrandTotal</th>\n",
       "      <th>IncrementID</th>\n",
       "      <th>CategoryName</th>\n",
       "      <th>SalesCommissionCode</th>\n",
       "      <th>DiscountAmount</th>\n",
       "      <th>PaymentMethod</th>\n",
       "      <th>WorkingDate</th>\n",
       "      <th>BIStatus</th>\n",
       "      <th>MV</th>\n",
       "      <th>Year</th>\n",
       "      <th>Month</th>\n",
       "      <th>CustomerSince</th>\n",
       "      <th>MY</th>\n",
       "      <th>FY</th>\n",
       "      <th>CustomerID</th>\n",
       "    </tr>\n",
       "  </thead>\n",
       "  <tbody>\n",
       "    <tr>\n",
       "      <th>31860</th>\n",
       "      <td>250613.0</td>\n",
       "      <td>complete</td>\n",
       "      <td>2016-09-29</td>\n",
       "      <td>RB_Household Bundle</td>\n",
       "      <td>999.0</td>\n",
       "      <td>1.0</td>\n",
       "      <td>799.2</td>\n",
       "      <td>100174443</td>\n",
       "      <td>Superstore</td>\n",
       "      <td>\\N</td>\n",
       "      <td>199.8</td>\n",
       "      <td>Payaxis</td>\n",
       "      <td>2016-09-29</td>\n",
       "      <td>Net</td>\n",
       "      <td>999</td>\n",
       "      <td>2016</td>\n",
       "      <td>9</td>\n",
       "      <td>2016-09</td>\n",
       "      <td>2016-09</td>\n",
       "      <td>FY17</td>\n",
       "      <td>9351.0</td>\n",
       "    </tr>\n",
       "    <tr>\n",
       "      <th>38611</th>\n",
       "      <td>258480.0</td>\n",
       "      <td>complete</td>\n",
       "      <td>2016-10-04</td>\n",
       "      <td>Gloria_1506A</td>\n",
       "      <td>1715.0</td>\n",
       "      <td>1.0</td>\n",
       "      <td>1715.0</td>\n",
       "      <td>100180100</td>\n",
       "      <td>Women's Fashion</td>\n",
       "      <td>\\N</td>\n",
       "      <td>0.0</td>\n",
       "      <td>Payaxis</td>\n",
       "      <td>2016-10-04</td>\n",
       "      <td>Net</td>\n",
       "      <td>1,715</td>\n",
       "      <td>2016</td>\n",
       "      <td>10</td>\n",
       "      <td>2016-09</td>\n",
       "      <td>2016-10</td>\n",
       "      <td>FY17</td>\n",
       "      <td>9351.0</td>\n",
       "    </tr>\n",
       "    <tr>\n",
       "      <th>38618</th>\n",
       "      <td>258486.0</td>\n",
       "      <td>complete</td>\n",
       "      <td>2016-10-04</td>\n",
       "      <td>Gloria_1502B</td>\n",
       "      <td>1715.0</td>\n",
       "      <td>1.0</td>\n",
       "      <td>1715.0</td>\n",
       "      <td>100180105</td>\n",
       "      <td>Women's Fashion</td>\n",
       "      <td>\\N</td>\n",
       "      <td>0.0</td>\n",
       "      <td>Payaxis</td>\n",
       "      <td>2016-10-04</td>\n",
       "      <td>Net</td>\n",
       "      <td>1,715</td>\n",
       "      <td>2016</td>\n",
       "      <td>10</td>\n",
       "      <td>2016-09</td>\n",
       "      <td>2016-10</td>\n",
       "      <td>FY17</td>\n",
       "      <td>9351.0</td>\n",
       "    </tr>\n",
       "    <tr>\n",
       "      <th>41139</th>\n",
       "      <td>261686.0</td>\n",
       "      <td>complete</td>\n",
       "      <td>2016-10-11</td>\n",
       "      <td>Gloria_1504B</td>\n",
       "      <td>1715.0</td>\n",
       "      <td>1.0</td>\n",
       "      <td>3510.0</td>\n",
       "      <td>100182221</td>\n",
       "      <td>Women's Fashion</td>\n",
       "      <td>\\N</td>\n",
       "      <td>0.0</td>\n",
       "      <td>Payaxis</td>\n",
       "      <td>2016-10-11</td>\n",
       "      <td>Net</td>\n",
       "      <td>1,715</td>\n",
       "      <td>2016</td>\n",
       "      <td>10</td>\n",
       "      <td>2016-09</td>\n",
       "      <td>2016-10</td>\n",
       "      <td>FY17</td>\n",
       "      <td>9351.0</td>\n",
       "    </tr>\n",
       "    <tr>\n",
       "      <th>41140</th>\n",
       "      <td>261687.0</td>\n",
       "      <td>complete</td>\n",
       "      <td>2016-10-11</td>\n",
       "      <td>Gloria_1502A</td>\n",
       "      <td>1715.0</td>\n",
       "      <td>1.0</td>\n",
       "      <td>3510.0</td>\n",
       "      <td>100182221</td>\n",
       "      <td>Women's Fashion</td>\n",
       "      <td>\\N</td>\n",
       "      <td>0.0</td>\n",
       "      <td>Payaxis</td>\n",
       "      <td>2016-10-11</td>\n",
       "      <td>Net</td>\n",
       "      <td>1,715</td>\n",
       "      <td>2016</td>\n",
       "      <td>10</td>\n",
       "      <td>2016-09</td>\n",
       "      <td>2016-10</td>\n",
       "      <td>FY17</td>\n",
       "      <td>9351.0</td>\n",
       "    </tr>\n",
       "    <tr>\n",
       "      <th>...</th>\n",
       "      <td>...</td>\n",
       "      <td>...</td>\n",
       "      <td>...</td>\n",
       "      <td>...</td>\n",
       "      <td>...</td>\n",
       "      <td>...</td>\n",
       "      <td>...</td>\n",
       "      <td>...</td>\n",
       "      <td>...</td>\n",
       "      <td>...</td>\n",
       "      <td>...</td>\n",
       "      <td>...</td>\n",
       "      <td>...</td>\n",
       "      <td>...</td>\n",
       "      <td>...</td>\n",
       "      <td>...</td>\n",
       "      <td>...</td>\n",
       "      <td>...</td>\n",
       "      <td>...</td>\n",
       "      <td>...</td>\n",
       "      <td>...</td>\n",
       "    </tr>\n",
       "    <tr>\n",
       "      <th>432397</th>\n",
       "      <td>732469.0</td>\n",
       "      <td>complete</td>\n",
       "      <td>2018-01-19</td>\n",
       "      <td>PAM59F0572493D39</td>\n",
       "      <td>948.0</td>\n",
       "      <td>2.0</td>\n",
       "      <td>3964.8</td>\n",
       "      <td>100446437</td>\n",
       "      <td>Superstore</td>\n",
       "      <td>\\N</td>\n",
       "      <td>991.2</td>\n",
       "      <td>Payaxis</td>\n",
       "      <td>2018-01-19</td>\n",
       "      <td>Net</td>\n",
       "      <td>1,896</td>\n",
       "      <td>2018</td>\n",
       "      <td>1</td>\n",
       "      <td>2016-09</td>\n",
       "      <td>2018-01</td>\n",
       "      <td>FY18</td>\n",
       "      <td>9351.0</td>\n",
       "    </tr>\n",
       "    <tr>\n",
       "      <th>432395</th>\n",
       "      <td>732467.0</td>\n",
       "      <td>complete</td>\n",
       "      <td>2018-01-19</td>\n",
       "      <td>BAGLUX5A099F4E3D5CF</td>\n",
       "      <td>210.0</td>\n",
       "      <td>10.0</td>\n",
       "      <td>3964.8</td>\n",
       "      <td>100446437</td>\n",
       "      <td>Beauty &amp; Grooming</td>\n",
       "      <td>\\N</td>\n",
       "      <td>991.2</td>\n",
       "      <td>Payaxis</td>\n",
       "      <td>2018-01-19</td>\n",
       "      <td>Net</td>\n",
       "      <td>2,100</td>\n",
       "      <td>2018</td>\n",
       "      <td>1</td>\n",
       "      <td>2016-09</td>\n",
       "      <td>2018-01</td>\n",
       "      <td>FY18</td>\n",
       "      <td>9351.0</td>\n",
       "    </tr>\n",
       "    <tr>\n",
       "      <th>432420</th>\n",
       "      <td>732492.0</td>\n",
       "      <td>complete</td>\n",
       "      <td>2018-01-19</td>\n",
       "      <td>BAGDOV5A099F4EF3FFA</td>\n",
       "      <td>370.0</td>\n",
       "      <td>2.0</td>\n",
       "      <td>3680.8</td>\n",
       "      <td>100446454</td>\n",
       "      <td>Beauty &amp; Grooming</td>\n",
       "      <td>\\N</td>\n",
       "      <td>1170.2</td>\n",
       "      <td>Payaxis</td>\n",
       "      <td>2018-01-19</td>\n",
       "      <td>Net</td>\n",
       "      <td>740</td>\n",
       "      <td>2018</td>\n",
       "      <td>1</td>\n",
       "      <td>2016-09</td>\n",
       "      <td>2018-01</td>\n",
       "      <td>FY18</td>\n",
       "      <td>9351.0</td>\n",
       "    </tr>\n",
       "    <tr>\n",
       "      <th>434264</th>\n",
       "      <td>734581.0</td>\n",
       "      <td>canceled</td>\n",
       "      <td>2018-01-26</td>\n",
       "      <td>BAGLUX5A099F4E3D5CF</td>\n",
       "      <td>210.0</td>\n",
       "      <td>29.0</td>\n",
       "      <td>6090.0</td>\n",
       "      <td>100447678</td>\n",
       "      <td>Beauty &amp; Grooming</td>\n",
       "      <td>\\N</td>\n",
       "      <td>0.0</td>\n",
       "      <td>Easypay</td>\n",
       "      <td>2018-01-26</td>\n",
       "      <td>Gross</td>\n",
       "      <td>6,090</td>\n",
       "      <td>2018</td>\n",
       "      <td>1</td>\n",
       "      <td>2016-09</td>\n",
       "      <td>2018-01</td>\n",
       "      <td>FY18</td>\n",
       "      <td>9351.0</td>\n",
       "    </tr>\n",
       "    <tr>\n",
       "      <th>434265</th>\n",
       "      <td>734582.0</td>\n",
       "      <td>complete</td>\n",
       "      <td>2018-01-26</td>\n",
       "      <td>BAGLUX5A099F4E3D5CF</td>\n",
       "      <td>210.0</td>\n",
       "      <td>29.0</td>\n",
       "      <td>6090.0</td>\n",
       "      <td>100447679</td>\n",
       "      <td>Beauty &amp; Grooming</td>\n",
       "      <td>\\N</td>\n",
       "      <td>0.0</td>\n",
       "      <td>Payaxis</td>\n",
       "      <td>2018-01-26</td>\n",
       "      <td>Net</td>\n",
       "      <td>6,090</td>\n",
       "      <td>2018</td>\n",
       "      <td>1</td>\n",
       "      <td>2016-09</td>\n",
       "      <td>2018-01</td>\n",
       "      <td>FY18</td>\n",
       "      <td>9351.0</td>\n",
       "    </tr>\n",
       "  </tbody>\n",
       "</table>\n",
       "<p>311 rows × 21 columns</p>\n",
       "</div>"
      ],
      "text/plain": [
       "          ItemID    Status  CreatedAt                  SKU   Price  \\\n",
       "31860   250613.0  complete 2016-09-29  RB_Household Bundle   999.0   \n",
       "38611   258480.0  complete 2016-10-04         Gloria_1506A  1715.0   \n",
       "38618   258486.0  complete 2016-10-04         Gloria_1502B  1715.0   \n",
       "41139   261686.0  complete 2016-10-11         Gloria_1504B  1715.0   \n",
       "41140   261687.0  complete 2016-10-11         Gloria_1502A  1715.0   \n",
       "...          ...       ...        ...                  ...     ...   \n",
       "432397  732469.0  complete 2018-01-19     PAM59F0572493D39   948.0   \n",
       "432395  732467.0  complete 2018-01-19  BAGLUX5A099F4E3D5CF   210.0   \n",
       "432420  732492.0  complete 2018-01-19  BAGDOV5A099F4EF3FFA   370.0   \n",
       "434264  734581.0  canceled 2018-01-26  BAGLUX5A099F4E3D5CF   210.0   \n",
       "434265  734582.0  complete 2018-01-26  BAGLUX5A099F4E3D5CF   210.0   \n",
       "\n",
       "        QuantityOrdered  GrandTotal IncrementID       CategoryName  \\\n",
       "31860               1.0       799.2   100174443         Superstore   \n",
       "38611               1.0      1715.0   100180100    Women's Fashion   \n",
       "38618               1.0      1715.0   100180105    Women's Fashion   \n",
       "41139               1.0      3510.0   100182221    Women's Fashion   \n",
       "41140               1.0      3510.0   100182221    Women's Fashion   \n",
       "...                 ...         ...         ...                ...   \n",
       "432397              2.0      3964.8   100446437         Superstore   \n",
       "432395             10.0      3964.8   100446437  Beauty & Grooming   \n",
       "432420              2.0      3680.8   100446454  Beauty & Grooming   \n",
       "434264             29.0      6090.0   100447678  Beauty & Grooming   \n",
       "434265             29.0      6090.0   100447679  Beauty & Grooming   \n",
       "\n",
       "       SalesCommissionCode  DiscountAmount PaymentMethod WorkingDate BIStatus  \\\n",
       "31860                   \\N           199.8       Payaxis  2016-09-29      Net   \n",
       "38611                   \\N             0.0       Payaxis  2016-10-04      Net   \n",
       "38618                   \\N             0.0       Payaxis  2016-10-04      Net   \n",
       "41139                   \\N             0.0       Payaxis  2016-10-11      Net   \n",
       "41140                   \\N             0.0       Payaxis  2016-10-11      Net   \n",
       "...                    ...             ...           ...         ...      ...   \n",
       "432397                  \\N           991.2       Payaxis  2018-01-19      Net   \n",
       "432395                  \\N           991.2       Payaxis  2018-01-19      Net   \n",
       "432420                  \\N          1170.2       Payaxis  2018-01-19      Net   \n",
       "434264                  \\N             0.0       Easypay  2018-01-26    Gross   \n",
       "434265                  \\N             0.0       Payaxis  2018-01-26      Net   \n",
       "\n",
       "           MV  Year  Month CustomerSince       MY    FY  CustomerID  \n",
       "31860     999  2016      9       2016-09  2016-09  FY17      9351.0  \n",
       "38611   1,715  2016     10       2016-09  2016-10  FY17      9351.0  \n",
       "38618   1,715  2016     10       2016-09  2016-10  FY17      9351.0  \n",
       "41139   1,715  2016     10       2016-09  2016-10  FY17      9351.0  \n",
       "41140   1,715  2016     10       2016-09  2016-10  FY17      9351.0  \n",
       "...       ...   ...    ...           ...      ...   ...         ...  \n",
       "432397  1,896  2018      1       2016-09  2018-01  FY18      9351.0  \n",
       "432395  2,100  2018      1       2016-09  2018-01  FY18      9351.0  \n",
       "432420    740  2018      1       2016-09  2018-01  FY18      9351.0  \n",
       "434264  6,090  2018      1       2016-09  2018-01  FY18      9351.0  \n",
       "434265  6,090  2018      1       2016-09  2018-01  FY18      9351.0  \n",
       "\n",
       "[311 rows x 21 columns]"
      ]
     },
     "metadata": {},
     "output_type": "display_data"
    },
    {
     "data": {
      "text/html": [
       "<div>\n",
       "<style scoped>\n",
       "    .dataframe tbody tr th:only-of-type {\n",
       "        vertical-align: middle;\n",
       "    }\n",
       "\n",
       "    .dataframe tbody tr th {\n",
       "        vertical-align: top;\n",
       "    }\n",
       "\n",
       "    .dataframe thead th {\n",
       "        text-align: right;\n",
       "    }\n",
       "</style>\n",
       "<table border=\"1\" class=\"dataframe\">\n",
       "  <thead>\n",
       "    <tr style=\"text-align: right;\">\n",
       "      <th></th>\n",
       "      <th>ItemID</th>\n",
       "      <th>Status</th>\n",
       "      <th>CreatedAt</th>\n",
       "      <th>SKU</th>\n",
       "      <th>Price</th>\n",
       "      <th>QuantityOrdered</th>\n",
       "      <th>GrandTotal</th>\n",
       "      <th>IncrementID</th>\n",
       "      <th>CategoryName</th>\n",
       "      <th>SalesCommissionCode</th>\n",
       "      <th>DiscountAmount</th>\n",
       "      <th>PaymentMethod</th>\n",
       "      <th>WorkingDate</th>\n",
       "      <th>BIStatus</th>\n",
       "      <th>MV</th>\n",
       "      <th>Year</th>\n",
       "      <th>Month</th>\n",
       "      <th>CustomerSince</th>\n",
       "      <th>MY</th>\n",
       "      <th>FY</th>\n",
       "      <th>CustomerID</th>\n",
       "    </tr>\n",
       "  </thead>\n",
       "  <tbody>\n",
       "    <tr>\n",
       "      <th>520765</th>\n",
       "      <td>835013.0</td>\n",
       "      <td>canceled</td>\n",
       "      <td>2018-05-04</td>\n",
       "      <td>MATSAM5AAB5AEE5DBA7</td>\n",
       "      <td>28770.0</td>\n",
       "      <td>5.0</td>\n",
       "      <td>506847.25</td>\n",
       "      <td>100518623</td>\n",
       "      <td>Mobiles &amp; Tablets</td>\n",
       "      <td>\\N</td>\n",
       "      <td>50127.75</td>\n",
       "      <td>apg</td>\n",
       "      <td>2018-05-04</td>\n",
       "      <td>Gross</td>\n",
       "      <td>143,850</td>\n",
       "      <td>2018</td>\n",
       "      <td>5</td>\n",
       "      <td>2018-05</td>\n",
       "      <td>2018-05</td>\n",
       "      <td>FY18</td>\n",
       "      <td>106389.0</td>\n",
       "    </tr>\n",
       "    <tr>\n",
       "      <th>520766</th>\n",
       "      <td>835014.0</td>\n",
       "      <td>canceled</td>\n",
       "      <td>2018-05-04</td>\n",
       "      <td>MATSAM5A7AF87C6A511</td>\n",
       "      <td>28770.0</td>\n",
       "      <td>5.0</td>\n",
       "      <td>506847.25</td>\n",
       "      <td>100518623</td>\n",
       "      <td>Mobiles &amp; Tablets</td>\n",
       "      <td>\\N</td>\n",
       "      <td>50127.75</td>\n",
       "      <td>apg</td>\n",
       "      <td>2018-05-04</td>\n",
       "      <td>Gross</td>\n",
       "      <td>143,850</td>\n",
       "      <td>2018</td>\n",
       "      <td>5</td>\n",
       "      <td>2018-05</td>\n",
       "      <td>2018-05</td>\n",
       "      <td>FY18</td>\n",
       "      <td>106389.0</td>\n",
       "    </tr>\n",
       "    <tr>\n",
       "      <th>520767</th>\n",
       "      <td>835016.0</td>\n",
       "      <td>canceled</td>\n",
       "      <td>2018-05-04</td>\n",
       "      <td>MATSAM5A7463EE3C1A5</td>\n",
       "      <td>16328.0</td>\n",
       "      <td>5.0</td>\n",
       "      <td>506847.25</td>\n",
       "      <td>100518623</td>\n",
       "      <td>Mobiles &amp; Tablets</td>\n",
       "      <td>\\N</td>\n",
       "      <td>50127.75</td>\n",
       "      <td>apg</td>\n",
       "      <td>2018-05-04</td>\n",
       "      <td>Gross</td>\n",
       "      <td>81,640</td>\n",
       "      <td>2018</td>\n",
       "      <td>5</td>\n",
       "      <td>2018-05</td>\n",
       "      <td>2018-05</td>\n",
       "      <td>FY18</td>\n",
       "      <td>106389.0</td>\n",
       "    </tr>\n",
       "    <tr>\n",
       "      <th>520768</th>\n",
       "      <td>835017.0</td>\n",
       "      <td>canceled</td>\n",
       "      <td>2018-05-04</td>\n",
       "      <td>MATSAM5AE97AA4635AA</td>\n",
       "      <td>21199.0</td>\n",
       "      <td>5.0</td>\n",
       "      <td>506847.25</td>\n",
       "      <td>100518623</td>\n",
       "      <td>Mobiles &amp; Tablets</td>\n",
       "      <td>\\N</td>\n",
       "      <td>50127.75</td>\n",
       "      <td>apg</td>\n",
       "      <td>2018-05-04</td>\n",
       "      <td>Gross</td>\n",
       "      <td>105,995</td>\n",
       "      <td>2018</td>\n",
       "      <td>5</td>\n",
       "      <td>2018-05</td>\n",
       "      <td>2018-05</td>\n",
       "      <td>FY18</td>\n",
       "      <td>106389.0</td>\n",
       "    </tr>\n",
       "    <tr>\n",
       "      <th>520769</th>\n",
       "      <td>835018.0</td>\n",
       "      <td>canceled</td>\n",
       "      <td>2018-05-04</td>\n",
       "      <td>MATSAM5A5DF6D4F152F</td>\n",
       "      <td>16328.0</td>\n",
       "      <td>5.0</td>\n",
       "      <td>506847.25</td>\n",
       "      <td>100518623</td>\n",
       "      <td>Mobiles &amp; Tablets</td>\n",
       "      <td>\\N</td>\n",
       "      <td>50127.75</td>\n",
       "      <td>apg</td>\n",
       "      <td>2018-05-04</td>\n",
       "      <td>Gross</td>\n",
       "      <td>81,640</td>\n",
       "      <td>2018</td>\n",
       "      <td>5</td>\n",
       "      <td>2018-05</td>\n",
       "      <td>2018-05</td>\n",
       "      <td>FY18</td>\n",
       "      <td>106389.0</td>\n",
       "    </tr>\n",
       "    <tr>\n",
       "      <th>520858</th>\n",
       "      <td>835108.0</td>\n",
       "      <td>canceled</td>\n",
       "      <td>2018-05-04</td>\n",
       "      <td>MATSAM5AAB5AEE5DBA7</td>\n",
       "      <td>28770.0</td>\n",
       "      <td>5.0</td>\n",
       "      <td>358620.08</td>\n",
       "      <td>100518707</td>\n",
       "      <td>Mobiles &amp; Tablets</td>\n",
       "      <td>C_LHC_30667</td>\n",
       "      <td>35467.92</td>\n",
       "      <td>apg</td>\n",
       "      <td>2018-05-04</td>\n",
       "      <td>Gross</td>\n",
       "      <td>143,850</td>\n",
       "      <td>2018</td>\n",
       "      <td>5</td>\n",
       "      <td>2018-05</td>\n",
       "      <td>2018-05</td>\n",
       "      <td>FY18</td>\n",
       "      <td>106389.0</td>\n",
       "    </tr>\n",
       "    <tr>\n",
       "      <th>520859</th>\n",
       "      <td>835109.0</td>\n",
       "      <td>canceled</td>\n",
       "      <td>2018-05-04</td>\n",
       "      <td>MATNOK5A61D114CDD82</td>\n",
       "      <td>6399.0</td>\n",
       "      <td>5.0</td>\n",
       "      <td>358620.08</td>\n",
       "      <td>100518707</td>\n",
       "      <td>Mobiles &amp; Tablets</td>\n",
       "      <td>C_LHC_30667</td>\n",
       "      <td>35467.92</td>\n",
       "      <td>apg</td>\n",
       "      <td>2018-05-04</td>\n",
       "      <td>Gross</td>\n",
       "      <td>31,995</td>\n",
       "      <td>2018</td>\n",
       "      <td>5</td>\n",
       "      <td>2018-05</td>\n",
       "      <td>2018-05</td>\n",
       "      <td>FY18</td>\n",
       "      <td>106389.0</td>\n",
       "    </tr>\n",
       "    <tr>\n",
       "      <th>520860</th>\n",
       "      <td>835110.0</td>\n",
       "      <td>canceled</td>\n",
       "      <td>2018-05-04</td>\n",
       "      <td>MATNOK5A61D196CD9DC</td>\n",
       "      <td>6399.0</td>\n",
       "      <td>5.0</td>\n",
       "      <td>358620.08</td>\n",
       "      <td>100518707</td>\n",
       "      <td>Mobiles &amp; Tablets</td>\n",
       "      <td>C_LHC_30667</td>\n",
       "      <td>35467.92</td>\n",
       "      <td>apg</td>\n",
       "      <td>2018-05-04</td>\n",
       "      <td>Gross</td>\n",
       "      <td>31,995</td>\n",
       "      <td>2018</td>\n",
       "      <td>5</td>\n",
       "      <td>2018-05</td>\n",
       "      <td>2018-05</td>\n",
       "      <td>FY18</td>\n",
       "      <td>106389.0</td>\n",
       "    </tr>\n",
       "    <tr>\n",
       "      <th>520861</th>\n",
       "      <td>835111.0</td>\n",
       "      <td>canceled</td>\n",
       "      <td>2018-05-04</td>\n",
       "      <td>MATSAM5AE97AA4635AA</td>\n",
       "      <td>21199.0</td>\n",
       "      <td>2.0</td>\n",
       "      <td>358620.08</td>\n",
       "      <td>100518707</td>\n",
       "      <td>Mobiles &amp; Tablets</td>\n",
       "      <td>C_LHC_30667</td>\n",
       "      <td>35467.92</td>\n",
       "      <td>apg</td>\n",
       "      <td>2018-05-04</td>\n",
       "      <td>Gross</td>\n",
       "      <td>42,398</td>\n",
       "      <td>2018</td>\n",
       "      <td>5</td>\n",
       "      <td>2018-05</td>\n",
       "      <td>2018-05</td>\n",
       "      <td>FY18</td>\n",
       "      <td>106389.0</td>\n",
       "    </tr>\n",
       "    <tr>\n",
       "      <th>520862</th>\n",
       "      <td>835112.0</td>\n",
       "      <td>canceled</td>\n",
       "      <td>2018-05-04</td>\n",
       "      <td>MATSAM5A7AF87C6A511</td>\n",
       "      <td>28770.0</td>\n",
       "      <td>5.0</td>\n",
       "      <td>358620.08</td>\n",
       "      <td>100518707</td>\n",
       "      <td>Mobiles &amp; Tablets</td>\n",
       "      <td>C_LHC_30667</td>\n",
       "      <td>35467.92</td>\n",
       "      <td>apg</td>\n",
       "      <td>2018-05-04</td>\n",
       "      <td>Gross</td>\n",
       "      <td>143,850</td>\n",
       "      <td>2018</td>\n",
       "      <td>5</td>\n",
       "      <td>2018-05</td>\n",
       "      <td>2018-05</td>\n",
       "      <td>FY18</td>\n",
       "      <td>106389.0</td>\n",
       "    </tr>\n",
       "  </tbody>\n",
       "</table>\n",
       "</div>"
      ],
      "text/plain": [
       "          ItemID    Status  CreatedAt                  SKU    Price  \\\n",
       "520765  835013.0  canceled 2018-05-04  MATSAM5AAB5AEE5DBA7  28770.0   \n",
       "520766  835014.0  canceled 2018-05-04  MATSAM5A7AF87C6A511  28770.0   \n",
       "520767  835016.0  canceled 2018-05-04  MATSAM5A7463EE3C1A5  16328.0   \n",
       "520768  835017.0  canceled 2018-05-04  MATSAM5AE97AA4635AA  21199.0   \n",
       "520769  835018.0  canceled 2018-05-04  MATSAM5A5DF6D4F152F  16328.0   \n",
       "520858  835108.0  canceled 2018-05-04  MATSAM5AAB5AEE5DBA7  28770.0   \n",
       "520859  835109.0  canceled 2018-05-04  MATNOK5A61D114CDD82   6399.0   \n",
       "520860  835110.0  canceled 2018-05-04  MATNOK5A61D196CD9DC   6399.0   \n",
       "520861  835111.0  canceled 2018-05-04  MATSAM5AE97AA4635AA  21199.0   \n",
       "520862  835112.0  canceled 2018-05-04  MATSAM5A7AF87C6A511  28770.0   \n",
       "\n",
       "        QuantityOrdered  GrandTotal IncrementID       CategoryName  \\\n",
       "520765              5.0   506847.25   100518623  Mobiles & Tablets   \n",
       "520766              5.0   506847.25   100518623  Mobiles & Tablets   \n",
       "520767              5.0   506847.25   100518623  Mobiles & Tablets   \n",
       "520768              5.0   506847.25   100518623  Mobiles & Tablets   \n",
       "520769              5.0   506847.25   100518623  Mobiles & Tablets   \n",
       "520858              5.0   358620.08   100518707  Mobiles & Tablets   \n",
       "520859              5.0   358620.08   100518707  Mobiles & Tablets   \n",
       "520860              5.0   358620.08   100518707  Mobiles & Tablets   \n",
       "520861              2.0   358620.08   100518707  Mobiles & Tablets   \n",
       "520862              5.0   358620.08   100518707  Mobiles & Tablets   \n",
       "\n",
       "       SalesCommissionCode  DiscountAmount PaymentMethod WorkingDate BIStatus  \\\n",
       "520765                  \\N        50127.75           apg  2018-05-04    Gross   \n",
       "520766                  \\N        50127.75           apg  2018-05-04    Gross   \n",
       "520767                  \\N        50127.75           apg  2018-05-04    Gross   \n",
       "520768                  \\N        50127.75           apg  2018-05-04    Gross   \n",
       "520769                  \\N        50127.75           apg  2018-05-04    Gross   \n",
       "520858         C_LHC_30667        35467.92           apg  2018-05-04    Gross   \n",
       "520859         C_LHC_30667        35467.92           apg  2018-05-04    Gross   \n",
       "520860         C_LHC_30667        35467.92           apg  2018-05-04    Gross   \n",
       "520861         C_LHC_30667        35467.92           apg  2018-05-04    Gross   \n",
       "520862         C_LHC_30667        35467.92           apg  2018-05-04    Gross   \n",
       "\n",
       "             MV  Year  Month CustomerSince       MY    FY  CustomerID  \n",
       "520765  143,850  2018      5       2018-05  2018-05  FY18    106389.0  \n",
       "520766  143,850  2018      5       2018-05  2018-05  FY18    106389.0  \n",
       "520767   81,640  2018      5       2018-05  2018-05  FY18    106389.0  \n",
       "520768  105,995  2018      5       2018-05  2018-05  FY18    106389.0  \n",
       "520769   81,640  2018      5       2018-05  2018-05  FY18    106389.0  \n",
       "520858  143,850  2018      5       2018-05  2018-05  FY18    106389.0  \n",
       "520859   31,995  2018      5       2018-05  2018-05  FY18    106389.0  \n",
       "520860   31,995  2018      5       2018-05  2018-05  FY18    106389.0  \n",
       "520861   42,398  2018      5       2018-05  2018-05  FY18    106389.0  \n",
       "520862  143,850  2018      5       2018-05  2018-05  FY18    106389.0  "
      ]
     },
     "metadata": {},
     "output_type": "display_data"
    }
   ],
   "source": [
    "# check Grand Total column by filtering one CustomerID\n",
    "display(\n",
    "    df[df['CustomerID']==9351.0].sort_values('CreatedAt',ascending=True),\n",
    "    df[df['CustomerID']==106389.0].sort_values('CreatedAt').head(10)\n",
    ")"
   ]
  },
  {
   "cell_type": "markdown",
   "metadata": {},
   "source": [
    "From the table above, we can see that `GrandTotal` column is not reliable. The value doesn't change consistently, for example there are two orders created at 2016-10-04 with complete status yet the grand total value is still 1715.0. The column also doesn't add up even the same customer order a lot. And the calculation with the discount is also not reliable (row 520765 for example).<br><br>Because of all this reasons, we will create new column called `TotalPaid` with formula (`Price` * `QuantityOrdered`) - `Discount`"
   ]
  },
  {
   "cell_type": "code",
   "execution_count": 54,
   "metadata": {},
   "outputs": [],
   "source": [
    "# create TotalPaid column\n",
    "df[\"TotalPaid\"] = (df[\"Price\"] * df[\"QuantityOrdered\"]) - df[\"DiscountAmount\"]"
   ]
  },
  {
   "cell_type": "code",
   "execution_count": 55,
   "metadata": {},
   "outputs": [
    {
     "data": {
      "text/html": [
       "<div>\n",
       "<style scoped>\n",
       "    .dataframe tbody tr th:only-of-type {\n",
       "        vertical-align: middle;\n",
       "    }\n",
       "\n",
       "    .dataframe tbody tr th {\n",
       "        vertical-align: top;\n",
       "    }\n",
       "\n",
       "    .dataframe thead th {\n",
       "        text-align: right;\n",
       "    }\n",
       "</style>\n",
       "<table border=\"1\" class=\"dataframe\">\n",
       "  <thead>\n",
       "    <tr style=\"text-align: right;\">\n",
       "      <th></th>\n",
       "      <th>ItemID</th>\n",
       "      <th>Status</th>\n",
       "      <th>CreatedAt</th>\n",
       "      <th>SKU</th>\n",
       "      <th>Price</th>\n",
       "      <th>QuantityOrdered</th>\n",
       "      <th>GrandTotal</th>\n",
       "      <th>IncrementID</th>\n",
       "      <th>CategoryName</th>\n",
       "      <th>SalesCommissionCode</th>\n",
       "      <th>DiscountAmount</th>\n",
       "      <th>PaymentMethod</th>\n",
       "      <th>WorkingDate</th>\n",
       "      <th>BIStatus</th>\n",
       "      <th>MV</th>\n",
       "      <th>Year</th>\n",
       "      <th>Month</th>\n",
       "      <th>CustomerSince</th>\n",
       "      <th>MY</th>\n",
       "      <th>FY</th>\n",
       "      <th>CustomerID</th>\n",
       "      <th>TotalPaid</th>\n",
       "    </tr>\n",
       "  </thead>\n",
       "  <tbody>\n",
       "    <tr>\n",
       "      <th>363276</th>\n",
       "      <td>652029.0</td>\n",
       "      <td>complete</td>\n",
       "      <td>2017-11-20</td>\n",
       "      <td>MATSAM5A0BFFEF4DA20</td>\n",
       "      <td>14000.0</td>\n",
       "      <td>1.0</td>\n",
       "      <td>-1594.00</td>\n",
       "      <td>100400392</td>\n",
       "      <td>Mobiles &amp; Tablets</td>\n",
       "      <td>C-LHW-50074</td>\n",
       "      <td>2800.00</td>\n",
       "      <td>Easypay</td>\n",
       "      <td>2017-11-20</td>\n",
       "      <td>Net</td>\n",
       "      <td>14,000</td>\n",
       "      <td>2017</td>\n",
       "      <td>11</td>\n",
       "      <td>2017-10</td>\n",
       "      <td>2017-11</td>\n",
       "      <td>FY18</td>\n",
       "      <td>62778.0</td>\n",
       "      <td>11200.00</td>\n",
       "    </tr>\n",
       "    <tr>\n",
       "      <th>434599</th>\n",
       "      <td>734960.0</td>\n",
       "      <td>refund</td>\n",
       "      <td>2018-01-27</td>\n",
       "      <td>HALWIN5A2FBB39AA071</td>\n",
       "      <td>1099.0</td>\n",
       "      <td>1.0</td>\n",
       "      <td>-1311.50</td>\n",
       "      <td>100447905</td>\n",
       "      <td>Home &amp; Living</td>\n",
       "      <td>\\N</td>\n",
       "      <td>1489.50</td>\n",
       "      <td>Easypay</td>\n",
       "      <td>2018-01-27</td>\n",
       "      <td>Valid</td>\n",
       "      <td>1,099</td>\n",
       "      <td>2018</td>\n",
       "      <td>1</td>\n",
       "      <td>2017-05</td>\n",
       "      <td>2018-01</td>\n",
       "      <td>FY18</td>\n",
       "      <td>46120.0</td>\n",
       "      <td>-390.50</td>\n",
       "    </tr>\n",
       "    <tr>\n",
       "      <th>434605</th>\n",
       "      <td>734967.0</td>\n",
       "      <td>refund</td>\n",
       "      <td>2018-01-27</td>\n",
       "      <td>MATBIG59AC9147C07E7</td>\n",
       "      <td>999.0</td>\n",
       "      <td>1.0</td>\n",
       "      <td>-1311.50</td>\n",
       "      <td>100447905</td>\n",
       "      <td>Mobiles &amp; Tablets</td>\n",
       "      <td>\\N</td>\n",
       "      <td>1489.50</td>\n",
       "      <td>Easypay</td>\n",
       "      <td>2018-01-27</td>\n",
       "      <td>Valid</td>\n",
       "      <td>999</td>\n",
       "      <td>2018</td>\n",
       "      <td>1</td>\n",
       "      <td>2017-05</td>\n",
       "      <td>2018-01</td>\n",
       "      <td>FY18</td>\n",
       "      <td>46120.0</td>\n",
       "      <td>-490.50</td>\n",
       "    </tr>\n",
       "    <tr>\n",
       "      <th>434604</th>\n",
       "      <td>734966.0</td>\n",
       "      <td>refund</td>\n",
       "      <td>2018-01-27</td>\n",
       "      <td>APPSHA59EDFE7AD47B1</td>\n",
       "      <td>79.0</td>\n",
       "      <td>1.0</td>\n",
       "      <td>-1311.50</td>\n",
       "      <td>100447905</td>\n",
       "      <td>Appliances</td>\n",
       "      <td>\\N</td>\n",
       "      <td>1489.50</td>\n",
       "      <td>Easypay</td>\n",
       "      <td>2018-01-27</td>\n",
       "      <td>Valid</td>\n",
       "      <td>79</td>\n",
       "      <td>2018</td>\n",
       "      <td>1</td>\n",
       "      <td>2017-05</td>\n",
       "      <td>2018-01</td>\n",
       "      <td>FY18</td>\n",
       "      <td>46120.0</td>\n",
       "      <td>-1410.50</td>\n",
       "    </tr>\n",
       "    <tr>\n",
       "      <th>434603</th>\n",
       "      <td>734964.0</td>\n",
       "      <td>refund</td>\n",
       "      <td>2018-01-27</td>\n",
       "      <td>HASTEL59C37E7D8697C-M</td>\n",
       "      <td>299.0</td>\n",
       "      <td>1.0</td>\n",
       "      <td>-1311.50</td>\n",
       "      <td>100447905</td>\n",
       "      <td>Health &amp; Sports</td>\n",
       "      <td>\\N</td>\n",
       "      <td>1489.50</td>\n",
       "      <td>Easypay</td>\n",
       "      <td>2018-01-27</td>\n",
       "      <td>Valid</td>\n",
       "      <td>299</td>\n",
       "      <td>2018</td>\n",
       "      <td>1</td>\n",
       "      <td>2017-05</td>\n",
       "      <td>2018-01</td>\n",
       "      <td>FY18</td>\n",
       "      <td>46120.0</td>\n",
       "      <td>-1190.50</td>\n",
       "    </tr>\n",
       "    <tr>\n",
       "      <th>434602</th>\n",
       "      <td>734963.0</td>\n",
       "      <td>refund</td>\n",
       "      <td>2018-01-27</td>\n",
       "      <td>APPBUY5A5ED09AF213C</td>\n",
       "      <td>1590.0</td>\n",
       "      <td>1.0</td>\n",
       "      <td>-1311.50</td>\n",
       "      <td>100447905</td>\n",
       "      <td>Appliances</td>\n",
       "      <td>\\N</td>\n",
       "      <td>1489.50</td>\n",
       "      <td>Easypay</td>\n",
       "      <td>2018-01-27</td>\n",
       "      <td>Valid</td>\n",
       "      <td>1,590</td>\n",
       "      <td>2018</td>\n",
       "      <td>1</td>\n",
       "      <td>2017-05</td>\n",
       "      <td>2018-01</td>\n",
       "      <td>FY18</td>\n",
       "      <td>46120.0</td>\n",
       "      <td>100.50</td>\n",
       "    </tr>\n",
       "    <tr>\n",
       "      <th>434601</th>\n",
       "      <td>734962.0</td>\n",
       "      <td>refund</td>\n",
       "      <td>2018-01-27</td>\n",
       "      <td>HASASA5A54B0F15B222</td>\n",
       "      <td>299.0</td>\n",
       "      <td>1.0</td>\n",
       "      <td>-1311.50</td>\n",
       "      <td>100447905</td>\n",
       "      <td>Health &amp; Sports</td>\n",
       "      <td>\\N</td>\n",
       "      <td>1489.50</td>\n",
       "      <td>Easypay</td>\n",
       "      <td>2018-01-27</td>\n",
       "      <td>Valid</td>\n",
       "      <td>299</td>\n",
       "      <td>2018</td>\n",
       "      <td>1</td>\n",
       "      <td>2017-05</td>\n",
       "      <td>2018-01</td>\n",
       "      <td>FY18</td>\n",
       "      <td>46120.0</td>\n",
       "      <td>-1190.50</td>\n",
       "    </tr>\n",
       "    <tr>\n",
       "      <th>434600</th>\n",
       "      <td>734961.0</td>\n",
       "      <td>refund</td>\n",
       "      <td>2018-01-27</td>\n",
       "      <td>APPSHO5A3233821C5FF</td>\n",
       "      <td>600.0</td>\n",
       "      <td>1.0</td>\n",
       "      <td>-1311.50</td>\n",
       "      <td>100447905</td>\n",
       "      <td>Appliances</td>\n",
       "      <td>\\N</td>\n",
       "      <td>1489.50</td>\n",
       "      <td>Easypay</td>\n",
       "      <td>2018-01-27</td>\n",
       "      <td>Valid</td>\n",
       "      <td>600</td>\n",
       "      <td>2018</td>\n",
       "      <td>1</td>\n",
       "      <td>2017-05</td>\n",
       "      <td>2018-01</td>\n",
       "      <td>FY18</td>\n",
       "      <td>46120.0</td>\n",
       "      <td>-889.50</td>\n",
       "    </tr>\n",
       "    <tr>\n",
       "      <th>383677</th>\n",
       "      <td>676170.0</td>\n",
       "      <td>order_refunded</td>\n",
       "      <td>2017-11-24</td>\n",
       "      <td>MATHUA5A0C4EEFA7A5B</td>\n",
       "      <td>12551.0</td>\n",
       "      <td>1.0</td>\n",
       "      <td>-1106.65</td>\n",
       "      <td>100414604</td>\n",
       "      <td>Mobiles &amp; Tablets</td>\n",
       "      <td>\\N</td>\n",
       "      <td>2882.65</td>\n",
       "      <td>Easypay</td>\n",
       "      <td>2017-11-24</td>\n",
       "      <td>Valid</td>\n",
       "      <td>12,551</td>\n",
       "      <td>2017</td>\n",
       "      <td>11</td>\n",
       "      <td>2016-09</td>\n",
       "      <td>2017-11</td>\n",
       "      <td>FY18</td>\n",
       "      <td>9647.0</td>\n",
       "      <td>9668.35</td>\n",
       "    </tr>\n",
       "    <tr>\n",
       "      <th>469887</th>\n",
       "      <td>774914.0</td>\n",
       "      <td>canceled</td>\n",
       "      <td>2018-03-07</td>\n",
       "      <td>MATTEL5A462528E403F</td>\n",
       "      <td>4792.0</td>\n",
       "      <td>2.0</td>\n",
       "      <td>-873.40</td>\n",
       "      <td>100473208</td>\n",
       "      <td>Mobiles &amp; Tablets</td>\n",
       "      <td>R-FSD-58130</td>\n",
       "      <td>958.40</td>\n",
       "      <td>Payaxis</td>\n",
       "      <td>2018-03-07</td>\n",
       "      <td>Gross</td>\n",
       "      <td>9,584</td>\n",
       "      <td>2018</td>\n",
       "      <td>3</td>\n",
       "      <td>2016-11</td>\n",
       "      <td>2018-03</td>\n",
       "      <td>FY18</td>\n",
       "      <td>17238.0</td>\n",
       "      <td>8625.60</td>\n",
       "    </tr>\n",
       "  </tbody>\n",
       "</table>\n",
       "</div>"
      ],
      "text/plain": [
       "          ItemID          Status  CreatedAt                    SKU    Price  \\\n",
       "363276  652029.0        complete 2017-11-20    MATSAM5A0BFFEF4DA20  14000.0   \n",
       "434599  734960.0          refund 2018-01-27    HALWIN5A2FBB39AA071   1099.0   \n",
       "434605  734967.0          refund 2018-01-27    MATBIG59AC9147C07E7    999.0   \n",
       "434604  734966.0          refund 2018-01-27    APPSHA59EDFE7AD47B1     79.0   \n",
       "434603  734964.0          refund 2018-01-27  HASTEL59C37E7D8697C-M    299.0   \n",
       "434602  734963.0          refund 2018-01-27    APPBUY5A5ED09AF213C   1590.0   \n",
       "434601  734962.0          refund 2018-01-27    HASASA5A54B0F15B222    299.0   \n",
       "434600  734961.0          refund 2018-01-27    APPSHO5A3233821C5FF    600.0   \n",
       "383677  676170.0  order_refunded 2017-11-24    MATHUA5A0C4EEFA7A5B  12551.0   \n",
       "469887  774914.0        canceled 2018-03-07    MATTEL5A462528E403F   4792.0   \n",
       "\n",
       "        QuantityOrdered  GrandTotal IncrementID       CategoryName  \\\n",
       "363276              1.0    -1594.00   100400392  Mobiles & Tablets   \n",
       "434599              1.0    -1311.50   100447905      Home & Living   \n",
       "434605              1.0    -1311.50   100447905  Mobiles & Tablets   \n",
       "434604              1.0    -1311.50   100447905         Appliances   \n",
       "434603              1.0    -1311.50   100447905    Health & Sports   \n",
       "434602              1.0    -1311.50   100447905         Appliances   \n",
       "434601              1.0    -1311.50   100447905    Health & Sports   \n",
       "434600              1.0    -1311.50   100447905         Appliances   \n",
       "383677              1.0    -1106.65   100414604  Mobiles & Tablets   \n",
       "469887              2.0     -873.40   100473208  Mobiles & Tablets   \n",
       "\n",
       "       SalesCommissionCode  DiscountAmount PaymentMethod WorkingDate BIStatus  \\\n",
       "363276         C-LHW-50074         2800.00       Easypay  2017-11-20      Net   \n",
       "434599                  \\N         1489.50       Easypay  2018-01-27    Valid   \n",
       "434605                  \\N         1489.50       Easypay  2018-01-27    Valid   \n",
       "434604                  \\N         1489.50       Easypay  2018-01-27    Valid   \n",
       "434603                  \\N         1489.50       Easypay  2018-01-27    Valid   \n",
       "434602                  \\N         1489.50       Easypay  2018-01-27    Valid   \n",
       "434601                  \\N         1489.50       Easypay  2018-01-27    Valid   \n",
       "434600                  \\N         1489.50       Easypay  2018-01-27    Valid   \n",
       "383677                  \\N         2882.65       Easypay  2017-11-24    Valid   \n",
       "469887         R-FSD-58130          958.40       Payaxis  2018-03-07    Gross   \n",
       "\n",
       "            MV  Year  Month CustomerSince       MY    FY  CustomerID  \\\n",
       "363276  14,000  2017     11       2017-10  2017-11  FY18     62778.0   \n",
       "434599   1,099  2018      1       2017-05  2018-01  FY18     46120.0   \n",
       "434605     999  2018      1       2017-05  2018-01  FY18     46120.0   \n",
       "434604      79  2018      1       2017-05  2018-01  FY18     46120.0   \n",
       "434603     299  2018      1       2017-05  2018-01  FY18     46120.0   \n",
       "434602   1,590  2018      1       2017-05  2018-01  FY18     46120.0   \n",
       "434601     299  2018      1       2017-05  2018-01  FY18     46120.0   \n",
       "434600     600  2018      1       2017-05  2018-01  FY18     46120.0   \n",
       "383677  12,551  2017     11       2016-09  2017-11  FY18      9647.0   \n",
       "469887   9,584  2018      3       2016-11  2018-03  FY18     17238.0   \n",
       "\n",
       "        TotalPaid  \n",
       "363276   11200.00  \n",
       "434599    -390.50  \n",
       "434605    -490.50  \n",
       "434604   -1410.50  \n",
       "434603   -1190.50  \n",
       "434602     100.50  \n",
       "434601   -1190.50  \n",
       "434600    -889.50  \n",
       "383677    9668.35  \n",
       "469887    8625.60  "
      ]
     },
     "execution_count": 55,
     "metadata": {},
     "output_type": "execute_result"
    }
   ],
   "source": [
    "# check for negative or 0 value in column GrandTotal and TotalPaid\n",
    "df.sort_values('GrandTotal').head(10)"
   ]
  },
  {
   "cell_type": "markdown",
   "metadata": {},
   "source": [
    "From the table above, we can see that `GrandTotal` column have some negative values, and the `TotalPaid` column we created also have negative values albeit the positions are different. The difference between `GrandTotal` and `TotalPaid` column in negative values is due to unreliable value of `GrandTotal` and sometimes `DiscountAmount` are bigger than the total price. Even with this conditions, we will still use `TotalPaid` because its more reliable due to lack of knowledge about `GrandTotal` & `DiscountAmount` formula/reasoning behind it to justify the unreliable data.\n",
    "<br><br>\n",
    "We can also see below, many of the `GrandTotal` values are 0, this is because the discount is bigger than the total price itself. So we will apply the same method to `TotalPaid` column which have negative values. Because it doesn't make sense for the e-commerce to pay customer for the item they bought."
   ]
  },
  {
   "cell_type": "code",
   "execution_count": 56,
   "metadata": {},
   "outputs": [
    {
     "name": "stdout",
     "output_type": "stream",
     "text": [
      "Total of rows with negative values in GrandTotal =  76\n",
      "Total of rows with negative values in TotalPaid =  9713\n",
      "Total of rows with 0 value in GrandTotal =  9617\n",
      "Total of rows with 0 value in TotalPaid =  4424\n"
     ]
    }
   ],
   "source": [
    "# calculate total rows with negative & 0 values\n",
    "print('Total of rows with negative values in GrandTotal = ',len(df[df[\"GrandTotal\"] < 0]))\n",
    "print('Total of rows with negative values in TotalPaid = ',len(df[df[\"TotalPaid\"] < 0]))\n",
    "print('Total of rows with 0 value in GrandTotal = ',len(df[df[\"GrandTotal\"] == 0]))\n",
    "print('Total of rows with 0 value in TotalPaid = ',len(df[df[\"TotalPaid\"] == 0]))"
   ]
  },
  {
   "cell_type": "code",
   "execution_count": 57,
   "metadata": {},
   "outputs": [],
   "source": [
    "# replace negative values in TotalPaid column with 0\n",
    "df[\"TotalPaid\"] = df[\"TotalPaid\"].apply(lambda x: max(x, 0))"
   ]
  },
  {
   "attachments": {},
   "cell_type": "markdown",
   "metadata": {},
   "source": [
    "In the `Status` column, there are failed transaction status (as shown below) such as *canceled, order_refunded, refund, and fraud*. To better increase the analysis accuracy, we will filter out those status. We first create new column called `NewStatus` with only Success and Fail as the value. Status *canceled, order_refunded, refund, and fraud* are considered Fail, while the others are Success.<br><br>\n",
    "\n",
    "Note: This can be done because 97% of the `Status` column are filled with 4 top categories which can be safely divided into success and fail. See table below."
   ]
  },
  {
   "cell_type": "code",
   "execution_count": 58,
   "metadata": {},
   "outputs": [
    {
     "data": {
      "text/html": [
       "<div>\n",
       "<style scoped>\n",
       "    .dataframe tbody tr th:only-of-type {\n",
       "        vertical-align: middle;\n",
       "    }\n",
       "\n",
       "    .dataframe tbody tr th {\n",
       "        vertical-align: top;\n",
       "    }\n",
       "\n",
       "    .dataframe thead th {\n",
       "        text-align: right;\n",
       "    }\n",
       "</style>\n",
       "<table border=\"1\" class=\"dataframe\">\n",
       "  <thead>\n",
       "    <tr style=\"text-align: right;\">\n",
       "      <th></th>\n",
       "      <th>Status</th>\n",
       "      <th>TotalOrders</th>\n",
       "      <th>Percentage</th>\n",
       "    </tr>\n",
       "  </thead>\n",
       "  <tbody>\n",
       "    <tr>\n",
       "      <th>3</th>\n",
       "      <td>complete</td>\n",
       "      <td>233685</td>\n",
       "      <td>39.98</td>\n",
       "    </tr>\n",
       "    <tr>\n",
       "      <th>0</th>\n",
       "      <td>canceled</td>\n",
       "      <td>201255</td>\n",
       "      <td>34.43</td>\n",
       "    </tr>\n",
       "    <tr>\n",
       "      <th>13</th>\n",
       "      <td>received</td>\n",
       "      <td>77289</td>\n",
       "      <td>13.22</td>\n",
       "    </tr>\n",
       "    <tr>\n",
       "      <th>7</th>\n",
       "      <td>order_refunded</td>\n",
       "      <td>59524</td>\n",
       "      <td>10.18</td>\n",
       "    </tr>\n",
       "    <tr>\n",
       "      <th>14</th>\n",
       "      <td>refund</td>\n",
       "      <td>8042</td>\n",
       "      <td>1.38</td>\n",
       "    </tr>\n",
       "    <tr>\n",
       "      <th>2</th>\n",
       "      <td>cod</td>\n",
       "      <td>2858</td>\n",
       "      <td>0.49</td>\n",
       "    </tr>\n",
       "    <tr>\n",
       "      <th>8</th>\n",
       "      <td>paid</td>\n",
       "      <td>1159</td>\n",
       "      <td>0.20</td>\n",
       "    </tr>\n",
       "    <tr>\n",
       "      <th>1</th>\n",
       "      <td>closed</td>\n",
       "      <td>494</td>\n",
       "      <td>0.08</td>\n",
       "    </tr>\n",
       "    <tr>\n",
       "      <th>6</th>\n",
       "      <td>holded</td>\n",
       "      <td>31</td>\n",
       "      <td>0.01</td>\n",
       "    </tr>\n",
       "    <tr>\n",
       "      <th>9</th>\n",
       "      <td>payment_review</td>\n",
       "      <td>57</td>\n",
       "      <td>0.01</td>\n",
       "    </tr>\n",
       "    <tr>\n",
       "      <th>10</th>\n",
       "      <td>pending</td>\n",
       "      <td>48</td>\n",
       "      <td>0.01</td>\n",
       "    </tr>\n",
       "    <tr>\n",
       "      <th>12</th>\n",
       "      <td>processing</td>\n",
       "      <td>33</td>\n",
       "      <td>0.01</td>\n",
       "    </tr>\n",
       "    <tr>\n",
       "      <th>4</th>\n",
       "      <td>exchange</td>\n",
       "      <td>4</td>\n",
       "      <td>0.00</td>\n",
       "    </tr>\n",
       "    <tr>\n",
       "      <th>5</th>\n",
       "      <td>fraud</td>\n",
       "      <td>10</td>\n",
       "      <td>0.00</td>\n",
       "    </tr>\n",
       "    <tr>\n",
       "      <th>11</th>\n",
       "      <td>pending_paypal</td>\n",
       "      <td>7</td>\n",
       "      <td>0.00</td>\n",
       "    </tr>\n",
       "  </tbody>\n",
       "</table>\n",
       "</div>"
      ],
      "text/plain": [
       "            Status  TotalOrders  Percentage\n",
       "3         complete       233685       39.98\n",
       "0         canceled       201255       34.43\n",
       "13        received        77289       13.22\n",
       "7   order_refunded        59524       10.18\n",
       "14          refund         8042        1.38\n",
       "2              cod         2858        0.49\n",
       "8             paid         1159        0.20\n",
       "1           closed          494        0.08\n",
       "6           holded           31        0.01\n",
       "9   payment_review           57        0.01\n",
       "10         pending           48        0.01\n",
       "12      processing           33        0.01\n",
       "4         exchange            4        0.00\n",
       "5            fraud           10        0.00\n",
       "11  pending_paypal            7        0.00"
      ]
     },
     "execution_count": 58,
     "metadata": {},
     "output_type": "execute_result"
    }
   ],
   "source": [
    "df_show_status = df.groupby(\"Status\").size().reset_index(name=\"TotalOrders\")\n",
    "df_show_status[\"Percentage\"] = round(100 * df_show_status[\"TotalOrders\"] / df_show_status[\"TotalOrders\"].sum(),2)\n",
    "df_show_status.sort_values('Percentage', ascending=False)\n"
   ]
  },
  {
   "cell_type": "code",
   "execution_count": 59,
   "metadata": {},
   "outputs": [],
   "source": [
    "# create NewStatus column\n",
    "df['NewStatus'] = df['Status'].apply(lambda x: 'fail' if x in ['order_refunded', 'canceled', 'refund', 'fraud'] else 'success')\n",
    "df['NewStatus'] = df['NewStatus'].astype('category')"
   ]
  },
  {
   "attachments": {},
   "cell_type": "markdown",
   "metadata": {},
   "source": [
    "Then we will create new dataframe called df1 with only necessary columns for analysis. This are the list of unnecessary columns for our analysis: `SKU`, `IncrementID`, `SalesCommissionCode`, `BIStatus`, and `MV`."
   ]
  },
  {
   "cell_type": "code",
   "execution_count": 60,
   "metadata": {},
   "outputs": [],
   "source": [
    "# drop unnecessary columns and assign it to new dataframe df1\n",
    "df1 = df.drop(['SKU','IncrementID','SalesCommissionCode','BIStatus','MV'],axis=1)"
   ]
  },
  {
   "attachments": {},
   "cell_type": "markdown",
   "metadata": {},
   "source": [
    "# Data Analysis\n",
    "Now we will analyze the cleaned data to find top 5 categories based on the order success rate along with their preferred payment method."
   ]
  },
  {
   "attachments": {},
   "cell_type": "markdown",
   "metadata": {},
   "source": [
    "We will start by checking if different categories and different payment method affect the order success rate.<br><br>\n",
    "\n",
    "We will use Chi-Squared test for both `CategoryName` and `PaymentMethod` columns with `NewStatus` *(reminder: `NewStatus` is new column resulted from categorization of 15 different order status into 2, success and fail)*. With this method we can know order success rate is dependent to whether categories or payment method.<br><br>\n",
    "\n",
    "The hypothesis for this test are:<br>\n",
    "- **H0**: the two variables (`CategoryName` or `PaymentMethod` and `NewStatus`) are independent\n",
    "- **Ha**: the two variables (`CategoryName` or `PaymentMethod` and `NewStatus`) are dependent\n",
    "\n",
    "with alpha or significance level is set to 0.05. <br><br>\n",
    "**Note**: We don't need to perform a normality test before conducting a Chi-Square test because Chi-Square test is a non-parametric test and does not require any assumptions about the normality of the data. The main assumption of the Chi-Square test is that each observation should be independent, and the categories should be mutually exclusive."
   ]
  },
  {
   "cell_type": "code",
   "execution_count": 116,
   "metadata": {},
   "outputs": [
    {
     "name": "stdout",
     "output_type": "stream",
     "text": [
      "CategoryName p-value (0.0000) is lower than alpha, thus reject H0\n",
      "PaymentMethod p-value (0.0000) is lower than alpha, thus reject H0\n"
     ]
    }
   ],
   "source": [
    "# perform chi-squared test\n",
    "alpha = 0.05\n",
    "\n",
    "# for categoryname\n",
    "contingency_table1 = pd.crosstab(df1['CategoryName'], df1['NewStatus'])\n",
    "chi2_1, p_value1, dof, expected = chi2_contingency(contingency_table1)\n",
    "if p_value1 < alpha:\n",
    "    print(f\"CategoryName p-value ({format(p_value1, '.4f')}) is lower than alpha, thus reject H0\")\n",
    "\n",
    "# for paymentmethod\n",
    "contingency_table2 = pd.crosstab(df1['PaymentMethod'], df1['NewStatus'])\n",
    "chi2_2, p_value2, dof, expected = chi2_contingency(contingency_table2)\n",
    "if p_value2 < alpha:\n",
    "    print(f\"PaymentMethod p-value ({format(p_value2, '.4f')}) is lower than alpha, thus reject H0\")"
   ]
  },
  {
   "attachments": {},
   "cell_type": "markdown",
   "metadata": {},
   "source": [
    "Based on the chi-squared test results above, we see that both H0 are rejected. This means the order success rate is dependent to both `CategoryName` and `PaymentMethod`. Now we want to know which one has stronger effects to the success rate.<br><br>\n",
    "\n",
    "We can compare the strength of the associations by examining the Cramér's V statistic. Cramér's V is a measure of association based on the Chi-Square statistic and ranges from 0 (no association) to 1 (perfect association). It takes into account the size of the contingency table and the degrees of freedom. The formula for Cramér's V is:<br>\n",
    "\n",
    "$V = sqrt(χ² / (n * min(k-1, r-1)))$\n",
    "\n",
    "where $χ²$ is the Chi-Square statistic, $n$ is the total number of observations, $k$ is the number of columns, and $r$ is the number of rows in the contingency table."
   ]
  },
  {
   "cell_type": "code",
   "execution_count": 102,
   "metadata": {},
   "outputs": [
    {
     "name": "stdout",
     "output_type": "stream",
     "text": [
      "Cramér's V for CategoryName and NewStatus: 0.2092\n",
      "Cramér's V for PaymentMethod and NewStatus: 0.3789\n"
     ]
    }
   ],
   "source": [
    "# perform strength associations test by using Cramér's V\n",
    "def cramers_v(chi2, contingency_table):\n",
    "    n = contingency_table.sum().sum()\n",
    "    k = contingency_table.shape[1]\n",
    "    r = contingency_table.shape[0]\n",
    "    return np.sqrt(chi2 / (n * min(k - 1, r - 1)))\n",
    "\n",
    "cramers_v1 = cramers_v(chi2_1, contingency_table1)\n",
    "cramers_v2 = cramers_v(chi2_2, contingency_table2)\n",
    "\n",
    "print(f\"Cramér's V for CategoryName and NewStatus: {format(cramers_v1, '.4f')}\")\n",
    "print(f\"Cramér's V for PaymentMethod and NewStatus: {format(cramers_v2, '.4f')}\")"
   ]
  },
  {
   "attachments": {},
   "cell_type": "markdown",
   "metadata": {},
   "source": [
    "From the Cramér's V test above, we can conclude `PaymentMethod` has greater associations with order success rate than `CategoryName`. With this result, we will continue further analysis to find the top 5 categories by success rate and their most preferred payment method."
   ]
  },
  {
   "cell_type": "code",
   "execution_count": 107,
   "metadata": {},
   "outputs": [
    {
     "name": "stdout",
     "output_type": "stream",
     "text": [
      "Percentage of Success Order =  54.01 %\n",
      "Percentage of Fail Order =  46.0 %\n"
     ]
    }
   ],
   "source": [
    "# Group the dataset by 'NewStatus' and 'CategoryName' and count the number of orders for each combination\n",
    "df_status_category = df1.groupby(['NewStatus', 'CategoryName']).size().reset_index(name='Number of Orders')\n",
    "\n",
    "# Calculate the percentage of orders for each combination\n",
    "df_status_category['Percentage'] = round((df_status_category['Number of Orders'] / \n",
    "                                    df_status_category['Number of Orders'].sum()) * 100,3)\n",
    "\n",
    "# Group the dataset by 'NewStatus' and 'PaymentMethod' and count the number of orders for each combination\n",
    "df_status_payment = df1.groupby(['NewStatus', 'PaymentMethod']).size().reset_index(name='Number of Orders')\n",
    "\n",
    "# Calculate the percentage of orders for each combination\n",
    "df_status_payment['Percentage'] = round((df_status_payment['Number of Orders'] / \n",
    "                                    df_status_payment['Number of Orders'].sum()) * 100,3)\n",
    "\n",
    "print('Percentage of Success Order = ', \n",
    "      round(df_status_category[df_status_category['NewStatus']=='success']['Percentage'].sum(),2),'%')\n",
    "print('Percentage of Fail Order = ', \n",
    "      round(df_status_category[df_status_category['NewStatus']=='fail']['Percentage'].sum(),2),'%')"
   ]
  },
  {
   "attachments": {},
   "cell_type": "markdown",
   "metadata": {},
   "source": [
    "We know from calculation above the number of success order is higher than fail order. Next we create treemap figures to show the order distribution by `CategoryName` and by `PaymentMethod`."
   ]
  },
  {
   "cell_type": "code",
   "execution_count": 115,
   "metadata": {},
   "outputs": [
    {
     "data": {
      "application/vnd.plotly.v1+json": {
       "config": {
        "plotlyServerURL": "https://plot.ly"
       },
       "data": [
        {
         "branchvalues": "total",
         "customdata": [
          [
           4.603
          ],
          [
           4.376
          ],
          [
           2.399
          ],
          [
           4.709
          ],
          [
           0.09
          ],
          [
           0.23
          ],
          [
           1.492
          ],
          [
           1.246
          ],
          [
           2.5360000000000005
          ],
          [
           1.969
          ],
          [
           1.055
          ],
          [
           2.099
          ],
          [
           1.758
          ],
          [
           2.786
          ],
          [
           1.122
          ],
          [
           1.751
          ],
          [
           6.696
          ],
          [
           9.128
          ],
          [
           11.315
          ],
          [
           8.816
          ],
          [
           3.865
          ],
          [
           1.6929999999999998
          ],
          [
           0.223
          ],
          [
           0.374
          ],
          [
           1.687
          ],
          [
           4.208
          ],
          [
           2.833
          ],
          [
           4.708
          ],
          [
           4.322
          ],
          [
           5.913
          ],
          [
           5.619791009965368
          ],
          [
           5.57197457747929
          ]
         ],
         "domain": {
          "x": [
           0,
           1
          ],
          "y": [
           0,
           1
          ]
         },
         "hovertemplate": "<b>%{label}:</b> %{color:.2f}%",
         "ids": [
          "fail/Appliances",
          "success/Appliances",
          "fail/Beauty & Grooming",
          "success/Beauty & Grooming",
          "fail/Books",
          "success/Books",
          "fail/Computing",
          "success/Computing",
          "fail/Entertainment",
          "success/Entertainment",
          "fail/Health & Sports",
          "success/Health & Sports",
          "fail/Home & Living",
          "success/Home & Living",
          "fail/Kids & Baby",
          "success/Kids & Baby",
          "fail/Men's Fashion",
          "success/Men's Fashion",
          "fail/Mobiles & Tablets",
          "success/Mobiles & Tablets",
          "fail/Others",
          "success/Others",
          "fail/School & Education",
          "success/School & Education",
          "fail/Soghaat",
          "success/Soghaat",
          "fail/Superstore",
          "success/Superstore",
          "fail/Women's Fashion",
          "success/Women's Fashion",
          "fail",
          "success"
         ],
         "labels": [
          "Appliances",
          "Appliances",
          "Beauty & Grooming",
          "Beauty & Grooming",
          "Books",
          "Books",
          "Computing",
          "Computing",
          "Entertainment",
          "Entertainment",
          "Health & Sports",
          "Health & Sports",
          "Home & Living",
          "Home & Living",
          "Kids & Baby",
          "Kids & Baby",
          "Men's Fashion",
          "Men's Fashion",
          "Mobiles & Tablets",
          "Mobiles & Tablets",
          "Others",
          "Others",
          "School & Education",
          "School & Education",
          "Soghaat",
          "Soghaat",
          "Superstore",
          "Superstore",
          "Women's Fashion",
          "Women's Fashion",
          "fail",
          "success"
         ],
         "marker": {
          "coloraxis": "coloraxis",
          "colors": [
           4.603,
           4.376,
           2.399,
           4.709,
           0.09,
           0.23,
           1.492,
           1.246,
           2.5360000000000005,
           1.969,
           1.055,
           2.099,
           1.758,
           2.786,
           1.122,
           1.751,
           6.696,
           9.128,
           11.315,
           8.816,
           3.865,
           1.6929999999999998,
           0.223,
           0.374,
           1.687,
           4.208,
           2.833,
           4.708,
           4.322,
           5.913,
           5.619791009965368,
           5.57197457747929
          ]
         },
         "name": "",
         "parents": [
          "fail",
          "success",
          "fail",
          "success",
          "fail",
          "success",
          "fail",
          "success",
          "fail",
          "success",
          "fail",
          "success",
          "fail",
          "success",
          "fail",
          "success",
          "fail",
          "success",
          "fail",
          "success",
          "fail",
          "success",
          "fail",
          "success",
          "fail",
          "success",
          "fail",
          "success",
          "fail",
          "success",
          "",
          ""
         ],
         "type": "treemap",
         "values": [
          26907,
          25578,
          14020,
          27526,
          527,
          1347,
          8721,
          7285,
          14820,
          11508,
          6164,
          12268,
          10273,
          16285,
          6556,
          10232,
          39137,
          53352,
          66137,
          51529,
          22592,
          9897,
          1301,
          2187,
          9858,
          24594,
          16556,
          27517,
          25262,
          34560,
          268831,
          315665
         ]
        }
       ],
       "layout": {
        "coloraxis": {
         "colorbar": {
          "title": {
           "text": "Percentage"
          }
         },
         "colorscale": [
          [
           0,
           "#440154"
          ],
          [
           0.1111111111111111,
           "#482878"
          ],
          [
           0.2222222222222222,
           "#3e4989"
          ],
          [
           0.3333333333333333,
           "#31688e"
          ],
          [
           0.4444444444444444,
           "#26828e"
          ],
          [
           0.5555555555555556,
           "#1f9e89"
          ],
          [
           0.6666666666666666,
           "#35b779"
          ],
          [
           0.7777777777777778,
           "#6ece58"
          ],
          [
           0.8888888888888888,
           "#b5de2b"
          ],
          [
           1,
           "#fde725"
          ]
         ]
        },
        "legend": {
         "tracegroupgap": 0
        },
        "template": {
         "data": {
          "bar": [
           {
            "error_x": {
             "color": "#2a3f5f"
            },
            "error_y": {
             "color": "#2a3f5f"
            },
            "marker": {
             "line": {
              "color": "#E5ECF6",
              "width": 0.5
             },
             "pattern": {
              "fillmode": "overlay",
              "size": 10,
              "solidity": 0.2
             }
            },
            "type": "bar"
           }
          ],
          "barpolar": [
           {
            "marker": {
             "line": {
              "color": "#E5ECF6",
              "width": 0.5
             },
             "pattern": {
              "fillmode": "overlay",
              "size": 10,
              "solidity": 0.2
             }
            },
            "type": "barpolar"
           }
          ],
          "carpet": [
           {
            "aaxis": {
             "endlinecolor": "#2a3f5f",
             "gridcolor": "white",
             "linecolor": "white",
             "minorgridcolor": "white",
             "startlinecolor": "#2a3f5f"
            },
            "baxis": {
             "endlinecolor": "#2a3f5f",
             "gridcolor": "white",
             "linecolor": "white",
             "minorgridcolor": "white",
             "startlinecolor": "#2a3f5f"
            },
            "type": "carpet"
           }
          ],
          "choropleth": [
           {
            "colorbar": {
             "outlinewidth": 0,
             "ticks": ""
            },
            "type": "choropleth"
           }
          ],
          "contour": [
           {
            "colorbar": {
             "outlinewidth": 0,
             "ticks": ""
            },
            "colorscale": [
             [
              0,
              "#0d0887"
             ],
             [
              0.1111111111111111,
              "#46039f"
             ],
             [
              0.2222222222222222,
              "#7201a8"
             ],
             [
              0.3333333333333333,
              "#9c179e"
             ],
             [
              0.4444444444444444,
              "#bd3786"
             ],
             [
              0.5555555555555556,
              "#d8576b"
             ],
             [
              0.6666666666666666,
              "#ed7953"
             ],
             [
              0.7777777777777778,
              "#fb9f3a"
             ],
             [
              0.8888888888888888,
              "#fdca26"
             ],
             [
              1,
              "#f0f921"
             ]
            ],
            "type": "contour"
           }
          ],
          "contourcarpet": [
           {
            "colorbar": {
             "outlinewidth": 0,
             "ticks": ""
            },
            "type": "contourcarpet"
           }
          ],
          "heatmap": [
           {
            "colorbar": {
             "outlinewidth": 0,
             "ticks": ""
            },
            "colorscale": [
             [
              0,
              "#0d0887"
             ],
             [
              0.1111111111111111,
              "#46039f"
             ],
             [
              0.2222222222222222,
              "#7201a8"
             ],
             [
              0.3333333333333333,
              "#9c179e"
             ],
             [
              0.4444444444444444,
              "#bd3786"
             ],
             [
              0.5555555555555556,
              "#d8576b"
             ],
             [
              0.6666666666666666,
              "#ed7953"
             ],
             [
              0.7777777777777778,
              "#fb9f3a"
             ],
             [
              0.8888888888888888,
              "#fdca26"
             ],
             [
              1,
              "#f0f921"
             ]
            ],
            "type": "heatmap"
           }
          ],
          "heatmapgl": [
           {
            "colorbar": {
             "outlinewidth": 0,
             "ticks": ""
            },
            "colorscale": [
             [
              0,
              "#0d0887"
             ],
             [
              0.1111111111111111,
              "#46039f"
             ],
             [
              0.2222222222222222,
              "#7201a8"
             ],
             [
              0.3333333333333333,
              "#9c179e"
             ],
             [
              0.4444444444444444,
              "#bd3786"
             ],
             [
              0.5555555555555556,
              "#d8576b"
             ],
             [
              0.6666666666666666,
              "#ed7953"
             ],
             [
              0.7777777777777778,
              "#fb9f3a"
             ],
             [
              0.8888888888888888,
              "#fdca26"
             ],
             [
              1,
              "#f0f921"
             ]
            ],
            "type": "heatmapgl"
           }
          ],
          "histogram": [
           {
            "marker": {
             "pattern": {
              "fillmode": "overlay",
              "size": 10,
              "solidity": 0.2
             }
            },
            "type": "histogram"
           }
          ],
          "histogram2d": [
           {
            "colorbar": {
             "outlinewidth": 0,
             "ticks": ""
            },
            "colorscale": [
             [
              0,
              "#0d0887"
             ],
             [
              0.1111111111111111,
              "#46039f"
             ],
             [
              0.2222222222222222,
              "#7201a8"
             ],
             [
              0.3333333333333333,
              "#9c179e"
             ],
             [
              0.4444444444444444,
              "#bd3786"
             ],
             [
              0.5555555555555556,
              "#d8576b"
             ],
             [
              0.6666666666666666,
              "#ed7953"
             ],
             [
              0.7777777777777778,
              "#fb9f3a"
             ],
             [
              0.8888888888888888,
              "#fdca26"
             ],
             [
              1,
              "#f0f921"
             ]
            ],
            "type": "histogram2d"
           }
          ],
          "histogram2dcontour": [
           {
            "colorbar": {
             "outlinewidth": 0,
             "ticks": ""
            },
            "colorscale": [
             [
              0,
              "#0d0887"
             ],
             [
              0.1111111111111111,
              "#46039f"
             ],
             [
              0.2222222222222222,
              "#7201a8"
             ],
             [
              0.3333333333333333,
              "#9c179e"
             ],
             [
              0.4444444444444444,
              "#bd3786"
             ],
             [
              0.5555555555555556,
              "#d8576b"
             ],
             [
              0.6666666666666666,
              "#ed7953"
             ],
             [
              0.7777777777777778,
              "#fb9f3a"
             ],
             [
              0.8888888888888888,
              "#fdca26"
             ],
             [
              1,
              "#f0f921"
             ]
            ],
            "type": "histogram2dcontour"
           }
          ],
          "mesh3d": [
           {
            "colorbar": {
             "outlinewidth": 0,
             "ticks": ""
            },
            "type": "mesh3d"
           }
          ],
          "parcoords": [
           {
            "line": {
             "colorbar": {
              "outlinewidth": 0,
              "ticks": ""
             }
            },
            "type": "parcoords"
           }
          ],
          "pie": [
           {
            "automargin": true,
            "type": "pie"
           }
          ],
          "scatter": [
           {
            "fillpattern": {
             "fillmode": "overlay",
             "size": 10,
             "solidity": 0.2
            },
            "type": "scatter"
           }
          ],
          "scatter3d": [
           {
            "line": {
             "colorbar": {
              "outlinewidth": 0,
              "ticks": ""
             }
            },
            "marker": {
             "colorbar": {
              "outlinewidth": 0,
              "ticks": ""
             }
            },
            "type": "scatter3d"
           }
          ],
          "scattercarpet": [
           {
            "marker": {
             "colorbar": {
              "outlinewidth": 0,
              "ticks": ""
             }
            },
            "type": "scattercarpet"
           }
          ],
          "scattergeo": [
           {
            "marker": {
             "colorbar": {
              "outlinewidth": 0,
              "ticks": ""
             }
            },
            "type": "scattergeo"
           }
          ],
          "scattergl": [
           {
            "marker": {
             "colorbar": {
              "outlinewidth": 0,
              "ticks": ""
             }
            },
            "type": "scattergl"
           }
          ],
          "scattermapbox": [
           {
            "marker": {
             "colorbar": {
              "outlinewidth": 0,
              "ticks": ""
             }
            },
            "type": "scattermapbox"
           }
          ],
          "scatterpolar": [
           {
            "marker": {
             "colorbar": {
              "outlinewidth": 0,
              "ticks": ""
             }
            },
            "type": "scatterpolar"
           }
          ],
          "scatterpolargl": [
           {
            "marker": {
             "colorbar": {
              "outlinewidth": 0,
              "ticks": ""
             }
            },
            "type": "scatterpolargl"
           }
          ],
          "scatterternary": [
           {
            "marker": {
             "colorbar": {
              "outlinewidth": 0,
              "ticks": ""
             }
            },
            "type": "scatterternary"
           }
          ],
          "surface": [
           {
            "colorbar": {
             "outlinewidth": 0,
             "ticks": ""
            },
            "colorscale": [
             [
              0,
              "#0d0887"
             ],
             [
              0.1111111111111111,
              "#46039f"
             ],
             [
              0.2222222222222222,
              "#7201a8"
             ],
             [
              0.3333333333333333,
              "#9c179e"
             ],
             [
              0.4444444444444444,
              "#bd3786"
             ],
             [
              0.5555555555555556,
              "#d8576b"
             ],
             [
              0.6666666666666666,
              "#ed7953"
             ],
             [
              0.7777777777777778,
              "#fb9f3a"
             ],
             [
              0.8888888888888888,
              "#fdca26"
             ],
             [
              1,
              "#f0f921"
             ]
            ],
            "type": "surface"
           }
          ],
          "table": [
           {
            "cells": {
             "fill": {
              "color": "#EBF0F8"
             },
             "line": {
              "color": "white"
             }
            },
            "header": {
             "fill": {
              "color": "#C8D4E3"
             },
             "line": {
              "color": "white"
             }
            },
            "type": "table"
           }
          ]
         },
         "layout": {
          "annotationdefaults": {
           "arrowcolor": "#2a3f5f",
           "arrowhead": 0,
           "arrowwidth": 1
          },
          "autotypenumbers": "strict",
          "coloraxis": {
           "colorbar": {
            "outlinewidth": 0,
            "ticks": ""
           }
          },
          "colorscale": {
           "diverging": [
            [
             0,
             "#8e0152"
            ],
            [
             0.1,
             "#c51b7d"
            ],
            [
             0.2,
             "#de77ae"
            ],
            [
             0.3,
             "#f1b6da"
            ],
            [
             0.4,
             "#fde0ef"
            ],
            [
             0.5,
             "#f7f7f7"
            ],
            [
             0.6,
             "#e6f5d0"
            ],
            [
             0.7,
             "#b8e186"
            ],
            [
             0.8,
             "#7fbc41"
            ],
            [
             0.9,
             "#4d9221"
            ],
            [
             1,
             "#276419"
            ]
           ],
           "sequential": [
            [
             0,
             "#0d0887"
            ],
            [
             0.1111111111111111,
             "#46039f"
            ],
            [
             0.2222222222222222,
             "#7201a8"
            ],
            [
             0.3333333333333333,
             "#9c179e"
            ],
            [
             0.4444444444444444,
             "#bd3786"
            ],
            [
             0.5555555555555556,
             "#d8576b"
            ],
            [
             0.6666666666666666,
             "#ed7953"
            ],
            [
             0.7777777777777778,
             "#fb9f3a"
            ],
            [
             0.8888888888888888,
             "#fdca26"
            ],
            [
             1,
             "#f0f921"
            ]
           ],
           "sequentialminus": [
            [
             0,
             "#0d0887"
            ],
            [
             0.1111111111111111,
             "#46039f"
            ],
            [
             0.2222222222222222,
             "#7201a8"
            ],
            [
             0.3333333333333333,
             "#9c179e"
            ],
            [
             0.4444444444444444,
             "#bd3786"
            ],
            [
             0.5555555555555556,
             "#d8576b"
            ],
            [
             0.6666666666666666,
             "#ed7953"
            ],
            [
             0.7777777777777778,
             "#fb9f3a"
            ],
            [
             0.8888888888888888,
             "#fdca26"
            ],
            [
             1,
             "#f0f921"
            ]
           ]
          },
          "colorway": [
           "#636efa",
           "#EF553B",
           "#00cc96",
           "#ab63fa",
           "#FFA15A",
           "#19d3f3",
           "#FF6692",
           "#B6E880",
           "#FF97FF",
           "#FECB52"
          ],
          "font": {
           "color": "#2a3f5f"
          },
          "geo": {
           "bgcolor": "white",
           "lakecolor": "white",
           "landcolor": "#E5ECF6",
           "showlakes": true,
           "showland": true,
           "subunitcolor": "white"
          },
          "hoverlabel": {
           "align": "left"
          },
          "hovermode": "closest",
          "mapbox": {
           "style": "light"
          },
          "paper_bgcolor": "white",
          "plot_bgcolor": "#E5ECF6",
          "polar": {
           "angularaxis": {
            "gridcolor": "white",
            "linecolor": "white",
            "ticks": ""
           },
           "bgcolor": "#E5ECF6",
           "radialaxis": {
            "gridcolor": "white",
            "linecolor": "white",
            "ticks": ""
           }
          },
          "scene": {
           "xaxis": {
            "backgroundcolor": "#E5ECF6",
            "gridcolor": "white",
            "gridwidth": 2,
            "linecolor": "white",
            "showbackground": true,
            "ticks": "",
            "zerolinecolor": "white"
           },
           "yaxis": {
            "backgroundcolor": "#E5ECF6",
            "gridcolor": "white",
            "gridwidth": 2,
            "linecolor": "white",
            "showbackground": true,
            "ticks": "",
            "zerolinecolor": "white"
           },
           "zaxis": {
            "backgroundcolor": "#E5ECF6",
            "gridcolor": "white",
            "gridwidth": 2,
            "linecolor": "white",
            "showbackground": true,
            "ticks": "",
            "zerolinecolor": "white"
           }
          },
          "shapedefaults": {
           "line": {
            "color": "#2a3f5f"
           }
          },
          "ternary": {
           "aaxis": {
            "gridcolor": "white",
            "linecolor": "white",
            "ticks": ""
           },
           "baxis": {
            "gridcolor": "white",
            "linecolor": "white",
            "ticks": ""
           },
           "bgcolor": "#E5ECF6",
           "caxis": {
            "gridcolor": "white",
            "linecolor": "white",
            "ticks": ""
           }
          },
          "title": {
           "x": 0.05
          },
          "xaxis": {
           "automargin": true,
           "gridcolor": "white",
           "linecolor": "white",
           "ticks": "",
           "title": {
            "standoff": 15
           },
           "zerolinecolor": "white",
           "zerolinewidth": 2
          },
          "yaxis": {
           "automargin": true,
           "gridcolor": "white",
           "linecolor": "white",
           "ticks": "",
           "title": {
            "standoff": 15
           },
           "zerolinecolor": "white",
           "zerolinewidth": 2
          }
         }
        },
        "title": {
         "text": "[Fig 1] Order Distribution by Category"
        }
       }
      }
     },
     "metadata": {},
     "output_type": "display_data"
    },
    {
     "data": {
      "application/vnd.plotly.v1+json": {
       "config": {
        "plotlyServerURL": "https://plot.ly"
       },
       "data": [
        {
         "branchvalues": "total",
         "customdata": [
          [
           9.476
          ],
          [
           4.706
          ],
          [
           1.654
          ],
          [
           0.746
          ],
          [
           11.231
          ],
          [
           5.474
          ],
          [
           0.241
          ],
          [
           0.05999999999999999
          ],
          [
           2.916
          ],
          [
           1.03
          ],
          [
           0.009
          ],
          [
           0.11600000000000002
          ],
          [
           13.018
          ],
          [
           33.507
          ],
          [
           0.263
          ],
          [
           1.029
          ],
          [
           2.209
          ],
          [
           3.125
          ],
          [
           0.001
          ],
          [
           0.002
          ],
          [
           0.05299999999999999
          ],
          [
           0.027000000000000003
          ],
          [
           1.54
          ],
          [
           1.135
          ],
          [
           3.09
          ],
          [
           2.923
          ],
          [
           0
          ],
          [
           0.008
          ],
          [
           0.056
          ],
          [
           0.068
          ],
          [
           0.112
          ],
          [
           0.002
          ],
          [
           0.007000000000000001
          ],
          [
           0.015
          ],
          [
           0.11800000000000001
          ],
          [
           0.033
          ],
          [
           8.992312389568166
          ],
          [
           22.16671754233127
          ]
         ],
         "domain": {
          "x": [
           0,
           1
          ],
          "y": [
           0,
           1
          ]
         },
         "hovertemplate": "<b>%{label}:</b> %{color:.2f}%",
         "ids": [
          "fail/Easypay",
          "success/Easypay",
          "fail/Easypay_MA",
          "success/Easypay_MA",
          "fail/Payaxis",
          "success/Payaxis",
          "fail/apg",
          "success/apg",
          "fail/bankalfalah",
          "success/bankalfalah",
          "fail/cashatdoorstep",
          "success/cashatdoorstep",
          "fail/cod",
          "success/cod",
          "fail/customercredit",
          "success/customercredit",
          "fail/easypay_voucher",
          "success/easypay_voucher",
          "fail/financesettlement",
          "success/financesettlement",
          "fail/internetbanking",
          "success/internetbanking",
          "fail/jazzvoucher",
          "success/jazzvoucher",
          "fail/jazzwallet",
          "success/jazzwallet",
          "fail/marketingexpense",
          "success/marketingexpense",
          "fail/mcblite",
          "success/mcblite",
          "fail/mygateway",
          "success/mygateway",
          "fail/productcredit",
          "success/productcredit",
          "fail/ublcreditcard",
          "success/ublcreditcard",
          "fail",
          "success"
         ],
         "labels": [
          "Easypay",
          "Easypay",
          "Easypay_MA",
          "Easypay_MA",
          "Payaxis",
          "Payaxis",
          "apg",
          "apg",
          "bankalfalah",
          "bankalfalah",
          "cashatdoorstep",
          "cashatdoorstep",
          "cod",
          "cod",
          "customercredit",
          "customercredit",
          "easypay_voucher",
          "easypay_voucher",
          "financesettlement",
          "financesettlement",
          "internetbanking",
          "internetbanking",
          "jazzvoucher",
          "jazzvoucher",
          "jazzwallet",
          "jazzwallet",
          "marketingexpense",
          "marketingexpense",
          "mcblite",
          "mcblite",
          "mygateway",
          "mygateway",
          "productcredit",
          "productcredit",
          "ublcreditcard",
          "ublcreditcard",
          "fail",
          "success"
         ],
         "marker": {
          "coloraxis": "coloraxis",
          "colors": [
           9.476,
           4.706,
           1.654,
           0.746,
           11.231,
           5.474,
           0.241,
           0.05999999999999999,
           2.916,
           1.03,
           0.009,
           0.11600000000000002,
           13.018,
           33.507,
           0.263,
           1.029,
           2.209,
           3.125,
           0.001,
           0.002,
           0.05299999999999999,
           0.027000000000000003,
           1.54,
           1.135,
           3.09,
           2.923,
           0,
           0.008,
           0.056,
           0.068,
           0.112,
           0.002,
           0.007000000000000001,
           0.015,
           0.11800000000000001,
           0.033,
           8.992312389568166,
           22.16671754233127
          ]
         },
         "name": "",
         "parents": [
          "fail",
          "success",
          "fail",
          "success",
          "fail",
          "success",
          "fail",
          "success",
          "fail",
          "success",
          "fail",
          "success",
          "fail",
          "success",
          "fail",
          "success",
          "fail",
          "success",
          "fail",
          "success",
          "fail",
          "success",
          "fail",
          "success",
          "fail",
          "success",
          "fail",
          "success",
          "fail",
          "success",
          "fail",
          "success",
          "fail",
          "success",
          "fail",
          "success",
          "",
          ""
         ],
         "type": "treemap",
         "values": [
          55387,
          27509,
          9668,
          4359,
          65642,
          31998,
          1406,
          352,
          17045,
          6020,
          53,
          679,
          76089,
          195849,
          1539,
          6016,
          12910,
          18266,
          6,
          9,
          312,
          160,
          9001,
          6632,
          18060,
          17085,
          1,
          44,
          327,
          396,
          655,
          14,
          40,
          85,
          690,
          192,
          268831,
          315665
         ]
        }
       ],
       "layout": {
        "coloraxis": {
         "colorbar": {
          "title": {
           "text": "Percentage"
          }
         },
         "colorscale": [
          [
           0,
           "#440154"
          ],
          [
           0.1111111111111111,
           "#482878"
          ],
          [
           0.2222222222222222,
           "#3e4989"
          ],
          [
           0.3333333333333333,
           "#31688e"
          ],
          [
           0.4444444444444444,
           "#26828e"
          ],
          [
           0.5555555555555556,
           "#1f9e89"
          ],
          [
           0.6666666666666666,
           "#35b779"
          ],
          [
           0.7777777777777778,
           "#6ece58"
          ],
          [
           0.8888888888888888,
           "#b5de2b"
          ],
          [
           1,
           "#fde725"
          ]
         ]
        },
        "legend": {
         "tracegroupgap": 0
        },
        "template": {
         "data": {
          "bar": [
           {
            "error_x": {
             "color": "#2a3f5f"
            },
            "error_y": {
             "color": "#2a3f5f"
            },
            "marker": {
             "line": {
              "color": "#E5ECF6",
              "width": 0.5
             },
             "pattern": {
              "fillmode": "overlay",
              "size": 10,
              "solidity": 0.2
             }
            },
            "type": "bar"
           }
          ],
          "barpolar": [
           {
            "marker": {
             "line": {
              "color": "#E5ECF6",
              "width": 0.5
             },
             "pattern": {
              "fillmode": "overlay",
              "size": 10,
              "solidity": 0.2
             }
            },
            "type": "barpolar"
           }
          ],
          "carpet": [
           {
            "aaxis": {
             "endlinecolor": "#2a3f5f",
             "gridcolor": "white",
             "linecolor": "white",
             "minorgridcolor": "white",
             "startlinecolor": "#2a3f5f"
            },
            "baxis": {
             "endlinecolor": "#2a3f5f",
             "gridcolor": "white",
             "linecolor": "white",
             "minorgridcolor": "white",
             "startlinecolor": "#2a3f5f"
            },
            "type": "carpet"
           }
          ],
          "choropleth": [
           {
            "colorbar": {
             "outlinewidth": 0,
             "ticks": ""
            },
            "type": "choropleth"
           }
          ],
          "contour": [
           {
            "colorbar": {
             "outlinewidth": 0,
             "ticks": ""
            },
            "colorscale": [
             [
              0,
              "#0d0887"
             ],
             [
              0.1111111111111111,
              "#46039f"
             ],
             [
              0.2222222222222222,
              "#7201a8"
             ],
             [
              0.3333333333333333,
              "#9c179e"
             ],
             [
              0.4444444444444444,
              "#bd3786"
             ],
             [
              0.5555555555555556,
              "#d8576b"
             ],
             [
              0.6666666666666666,
              "#ed7953"
             ],
             [
              0.7777777777777778,
              "#fb9f3a"
             ],
             [
              0.8888888888888888,
              "#fdca26"
             ],
             [
              1,
              "#f0f921"
             ]
            ],
            "type": "contour"
           }
          ],
          "contourcarpet": [
           {
            "colorbar": {
             "outlinewidth": 0,
             "ticks": ""
            },
            "type": "contourcarpet"
           }
          ],
          "heatmap": [
           {
            "colorbar": {
             "outlinewidth": 0,
             "ticks": ""
            },
            "colorscale": [
             [
              0,
              "#0d0887"
             ],
             [
              0.1111111111111111,
              "#46039f"
             ],
             [
              0.2222222222222222,
              "#7201a8"
             ],
             [
              0.3333333333333333,
              "#9c179e"
             ],
             [
              0.4444444444444444,
              "#bd3786"
             ],
             [
              0.5555555555555556,
              "#d8576b"
             ],
             [
              0.6666666666666666,
              "#ed7953"
             ],
             [
              0.7777777777777778,
              "#fb9f3a"
             ],
             [
              0.8888888888888888,
              "#fdca26"
             ],
             [
              1,
              "#f0f921"
             ]
            ],
            "type": "heatmap"
           }
          ],
          "heatmapgl": [
           {
            "colorbar": {
             "outlinewidth": 0,
             "ticks": ""
            },
            "colorscale": [
             [
              0,
              "#0d0887"
             ],
             [
              0.1111111111111111,
              "#46039f"
             ],
             [
              0.2222222222222222,
              "#7201a8"
             ],
             [
              0.3333333333333333,
              "#9c179e"
             ],
             [
              0.4444444444444444,
              "#bd3786"
             ],
             [
              0.5555555555555556,
              "#d8576b"
             ],
             [
              0.6666666666666666,
              "#ed7953"
             ],
             [
              0.7777777777777778,
              "#fb9f3a"
             ],
             [
              0.8888888888888888,
              "#fdca26"
             ],
             [
              1,
              "#f0f921"
             ]
            ],
            "type": "heatmapgl"
           }
          ],
          "histogram": [
           {
            "marker": {
             "pattern": {
              "fillmode": "overlay",
              "size": 10,
              "solidity": 0.2
             }
            },
            "type": "histogram"
           }
          ],
          "histogram2d": [
           {
            "colorbar": {
             "outlinewidth": 0,
             "ticks": ""
            },
            "colorscale": [
             [
              0,
              "#0d0887"
             ],
             [
              0.1111111111111111,
              "#46039f"
             ],
             [
              0.2222222222222222,
              "#7201a8"
             ],
             [
              0.3333333333333333,
              "#9c179e"
             ],
             [
              0.4444444444444444,
              "#bd3786"
             ],
             [
              0.5555555555555556,
              "#d8576b"
             ],
             [
              0.6666666666666666,
              "#ed7953"
             ],
             [
              0.7777777777777778,
              "#fb9f3a"
             ],
             [
              0.8888888888888888,
              "#fdca26"
             ],
             [
              1,
              "#f0f921"
             ]
            ],
            "type": "histogram2d"
           }
          ],
          "histogram2dcontour": [
           {
            "colorbar": {
             "outlinewidth": 0,
             "ticks": ""
            },
            "colorscale": [
             [
              0,
              "#0d0887"
             ],
             [
              0.1111111111111111,
              "#46039f"
             ],
             [
              0.2222222222222222,
              "#7201a8"
             ],
             [
              0.3333333333333333,
              "#9c179e"
             ],
             [
              0.4444444444444444,
              "#bd3786"
             ],
             [
              0.5555555555555556,
              "#d8576b"
             ],
             [
              0.6666666666666666,
              "#ed7953"
             ],
             [
              0.7777777777777778,
              "#fb9f3a"
             ],
             [
              0.8888888888888888,
              "#fdca26"
             ],
             [
              1,
              "#f0f921"
             ]
            ],
            "type": "histogram2dcontour"
           }
          ],
          "mesh3d": [
           {
            "colorbar": {
             "outlinewidth": 0,
             "ticks": ""
            },
            "type": "mesh3d"
           }
          ],
          "parcoords": [
           {
            "line": {
             "colorbar": {
              "outlinewidth": 0,
              "ticks": ""
             }
            },
            "type": "parcoords"
           }
          ],
          "pie": [
           {
            "automargin": true,
            "type": "pie"
           }
          ],
          "scatter": [
           {
            "fillpattern": {
             "fillmode": "overlay",
             "size": 10,
             "solidity": 0.2
            },
            "type": "scatter"
           }
          ],
          "scatter3d": [
           {
            "line": {
             "colorbar": {
              "outlinewidth": 0,
              "ticks": ""
             }
            },
            "marker": {
             "colorbar": {
              "outlinewidth": 0,
              "ticks": ""
             }
            },
            "type": "scatter3d"
           }
          ],
          "scattercarpet": [
           {
            "marker": {
             "colorbar": {
              "outlinewidth": 0,
              "ticks": ""
             }
            },
            "type": "scattercarpet"
           }
          ],
          "scattergeo": [
           {
            "marker": {
             "colorbar": {
              "outlinewidth": 0,
              "ticks": ""
             }
            },
            "type": "scattergeo"
           }
          ],
          "scattergl": [
           {
            "marker": {
             "colorbar": {
              "outlinewidth": 0,
              "ticks": ""
             }
            },
            "type": "scattergl"
           }
          ],
          "scattermapbox": [
           {
            "marker": {
             "colorbar": {
              "outlinewidth": 0,
              "ticks": ""
             }
            },
            "type": "scattermapbox"
           }
          ],
          "scatterpolar": [
           {
            "marker": {
             "colorbar": {
              "outlinewidth": 0,
              "ticks": ""
             }
            },
            "type": "scatterpolar"
           }
          ],
          "scatterpolargl": [
           {
            "marker": {
             "colorbar": {
              "outlinewidth": 0,
              "ticks": ""
             }
            },
            "type": "scatterpolargl"
           }
          ],
          "scatterternary": [
           {
            "marker": {
             "colorbar": {
              "outlinewidth": 0,
              "ticks": ""
             }
            },
            "type": "scatterternary"
           }
          ],
          "surface": [
           {
            "colorbar": {
             "outlinewidth": 0,
             "ticks": ""
            },
            "colorscale": [
             [
              0,
              "#0d0887"
             ],
             [
              0.1111111111111111,
              "#46039f"
             ],
             [
              0.2222222222222222,
              "#7201a8"
             ],
             [
              0.3333333333333333,
              "#9c179e"
             ],
             [
              0.4444444444444444,
              "#bd3786"
             ],
             [
              0.5555555555555556,
              "#d8576b"
             ],
             [
              0.6666666666666666,
              "#ed7953"
             ],
             [
              0.7777777777777778,
              "#fb9f3a"
             ],
             [
              0.8888888888888888,
              "#fdca26"
             ],
             [
              1,
              "#f0f921"
             ]
            ],
            "type": "surface"
           }
          ],
          "table": [
           {
            "cells": {
             "fill": {
              "color": "#EBF0F8"
             },
             "line": {
              "color": "white"
             }
            },
            "header": {
             "fill": {
              "color": "#C8D4E3"
             },
             "line": {
              "color": "white"
             }
            },
            "type": "table"
           }
          ]
         },
         "layout": {
          "annotationdefaults": {
           "arrowcolor": "#2a3f5f",
           "arrowhead": 0,
           "arrowwidth": 1
          },
          "autotypenumbers": "strict",
          "coloraxis": {
           "colorbar": {
            "outlinewidth": 0,
            "ticks": ""
           }
          },
          "colorscale": {
           "diverging": [
            [
             0,
             "#8e0152"
            ],
            [
             0.1,
             "#c51b7d"
            ],
            [
             0.2,
             "#de77ae"
            ],
            [
             0.3,
             "#f1b6da"
            ],
            [
             0.4,
             "#fde0ef"
            ],
            [
             0.5,
             "#f7f7f7"
            ],
            [
             0.6,
             "#e6f5d0"
            ],
            [
             0.7,
             "#b8e186"
            ],
            [
             0.8,
             "#7fbc41"
            ],
            [
             0.9,
             "#4d9221"
            ],
            [
             1,
             "#276419"
            ]
           ],
           "sequential": [
            [
             0,
             "#0d0887"
            ],
            [
             0.1111111111111111,
             "#46039f"
            ],
            [
             0.2222222222222222,
             "#7201a8"
            ],
            [
             0.3333333333333333,
             "#9c179e"
            ],
            [
             0.4444444444444444,
             "#bd3786"
            ],
            [
             0.5555555555555556,
             "#d8576b"
            ],
            [
             0.6666666666666666,
             "#ed7953"
            ],
            [
             0.7777777777777778,
             "#fb9f3a"
            ],
            [
             0.8888888888888888,
             "#fdca26"
            ],
            [
             1,
             "#f0f921"
            ]
           ],
           "sequentialminus": [
            [
             0,
             "#0d0887"
            ],
            [
             0.1111111111111111,
             "#46039f"
            ],
            [
             0.2222222222222222,
             "#7201a8"
            ],
            [
             0.3333333333333333,
             "#9c179e"
            ],
            [
             0.4444444444444444,
             "#bd3786"
            ],
            [
             0.5555555555555556,
             "#d8576b"
            ],
            [
             0.6666666666666666,
             "#ed7953"
            ],
            [
             0.7777777777777778,
             "#fb9f3a"
            ],
            [
             0.8888888888888888,
             "#fdca26"
            ],
            [
             1,
             "#f0f921"
            ]
           ]
          },
          "colorway": [
           "#636efa",
           "#EF553B",
           "#00cc96",
           "#ab63fa",
           "#FFA15A",
           "#19d3f3",
           "#FF6692",
           "#B6E880",
           "#FF97FF",
           "#FECB52"
          ],
          "font": {
           "color": "#2a3f5f"
          },
          "geo": {
           "bgcolor": "white",
           "lakecolor": "white",
           "landcolor": "#E5ECF6",
           "showlakes": true,
           "showland": true,
           "subunitcolor": "white"
          },
          "hoverlabel": {
           "align": "left"
          },
          "hovermode": "closest",
          "mapbox": {
           "style": "light"
          },
          "paper_bgcolor": "white",
          "plot_bgcolor": "#E5ECF6",
          "polar": {
           "angularaxis": {
            "gridcolor": "white",
            "linecolor": "white",
            "ticks": ""
           },
           "bgcolor": "#E5ECF6",
           "radialaxis": {
            "gridcolor": "white",
            "linecolor": "white",
            "ticks": ""
           }
          },
          "scene": {
           "xaxis": {
            "backgroundcolor": "#E5ECF6",
            "gridcolor": "white",
            "gridwidth": 2,
            "linecolor": "white",
            "showbackground": true,
            "ticks": "",
            "zerolinecolor": "white"
           },
           "yaxis": {
            "backgroundcolor": "#E5ECF6",
            "gridcolor": "white",
            "gridwidth": 2,
            "linecolor": "white",
            "showbackground": true,
            "ticks": "",
            "zerolinecolor": "white"
           },
           "zaxis": {
            "backgroundcolor": "#E5ECF6",
            "gridcolor": "white",
            "gridwidth": 2,
            "linecolor": "white",
            "showbackground": true,
            "ticks": "",
            "zerolinecolor": "white"
           }
          },
          "shapedefaults": {
           "line": {
            "color": "#2a3f5f"
           }
          },
          "ternary": {
           "aaxis": {
            "gridcolor": "white",
            "linecolor": "white",
            "ticks": ""
           },
           "baxis": {
            "gridcolor": "white",
            "linecolor": "white",
            "ticks": ""
           },
           "bgcolor": "#E5ECF6",
           "caxis": {
            "gridcolor": "white",
            "linecolor": "white",
            "ticks": ""
           }
          },
          "title": {
           "x": 0.05
          },
          "xaxis": {
           "automargin": true,
           "gridcolor": "white",
           "linecolor": "white",
           "ticks": "",
           "title": {
            "standoff": 15
           },
           "zerolinecolor": "white",
           "zerolinewidth": 2
          },
          "yaxis": {
           "automargin": true,
           "gridcolor": "white",
           "linecolor": "white",
           "ticks": "",
           "title": {
            "standoff": 15
           },
           "zerolinecolor": "white",
           "zerolinewidth": 2
          }
         }
        },
        "title": {
         "text": "[Fig 2] Order Distribution by Payment Method"
        }
       }
      }
     },
     "metadata": {},
     "output_type": "display_data"
    }
   ],
   "source": [
    "# create the treemap with the number of orders divided by new status and category\n",
    "fig01 = px.treemap(df_status_category,\n",
    "                    path=['NewStatus', 'CategoryName'],\n",
    "                    values='Number of Orders',\n",
    "                    color='Percentage',\n",
    "                    color_continuous_scale='Viridis',\n",
    "                    title='[Fig 1] Order Distribution by Category')\n",
    "\n",
    "# update the hover template to show the percentage of orders\n",
    "fig01.update_traces(hovertemplate='<b>%{label}:</b> %{color:.2f}%')\n",
    "\n",
    "# create the treemap with the number of orders divided by new status and payment method\n",
    "fig02 = px.treemap(df_status_payment,\n",
    "                    path=['NewStatus', 'PaymentMethod'],\n",
    "                    values='Number of Orders',\n",
    "                    color='Percentage',\n",
    "                    color_continuous_scale='Viridis',\n",
    "                    title='[Fig 2] Order Distribution by Payment Method')\n",
    "\n",
    "# Update the hover template to show the percentage of orders\n",
    "fig02.update_traces(hovertemplate='<b>%{label}:</b> %{color:.2f}%')\n",
    "\n",
    "# Show the treemap\n",
    "fig01.show()\n",
    "fig02.show()"
   ]
  },
  {
   "attachments": {},
   "cell_type": "markdown",
   "metadata": {},
   "source": [
    "From [Fig 1] we find the top 5 categories with the highest success rate are:\n",
    "1. `Men's Fashion` with 9.13% from total orders\n",
    "2. `Mobiles & Tablets` with 8.82% from total orders\n",
    "3. `Women's Fashion` with 5.91% from total orders\n",
    "4. `Beauty & Grooming` with 4.71% from total orders\n",
    "5. `Superstore` with 4.71% from total orders\n",
    "\n",
    "**Important Note:** Some categories, such as `Mobiles & Tablets` also has high failure rate (11,31% from total orders, higher than the success rate). This is what we want to decrease by suggesting preferred payment method as payment method has greater association to order success rate than category.<br><br>\n",
    "\n",
    "From [Fig 2] we find the top 5 payment method with the highest success rate are:\n",
    "1. `cod` with 33.51% from total orders\n",
    "2. `Payaxis` with 5.47% from total orders\n",
    "3. `Easypay` with 4.71% from total orders\n",
    "4. `easypay_voucher` with 3.13% from total orders\n",
    "5. `jazzwallet` with 2.92% from total orders\n",
    "\n",
    "Note that only `cod` and `easypay_voucher` which have higher total of success order than its fail order. The other such as `Payaxis` and `Easypay` almost have 2 times of fail order than success order.<br><br>\n",
    "\n",
    "Now we will further check our analysis by seeing it from different figures and using total revenue as the comparator."
   ]
  },
  {
   "cell_type": "code",
   "execution_count": 67,
   "metadata": {},
   "outputs": [],
   "source": [
    "# create new dataframe with only success status filtered\n",
    "df_success = df1[df1['NewStatus']=='success']\n",
    "\n",
    "# create new dataframe with only fail status filtered\n",
    "df_fail = df1[df1['NewStatus']=='fail']"
   ]
  },
  {
   "cell_type": "code",
   "execution_count": 68,
   "metadata": {},
   "outputs": [],
   "source": [
    "# calculate num_orders, total_revenue, avg_revenue for success status\n",
    "num_orders = df_success.groupby('CategoryName')['ItemID'].count()\n",
    "total_revenue = df_success.groupby('CategoryName')['TotalPaid'].sum()\n",
    "avg_revenue = round(total_revenue / num_orders,2)\n",
    "\n",
    "df_result1 = pd.DataFrame({'Number of Orders': num_orders,\n",
    "                       'Total Revenue': total_revenue,\n",
    "                       'Average Revenue per Order': avg_revenue}).reset_index()\n",
    "\n",
    "# calculate the overall number of orders and total revenue\n",
    "overall_num_orders = df_success['ItemID'].count()\n",
    "overall_total_revenue = df_success['TotalPaid'].sum()\n",
    "\n",
    "# calculate the percentage share for each category in terms of order count and total revenue\n",
    "df_result1['Percentage Share (Order Count)'] = round((df_result1['Number of Orders'] / overall_num_orders) * 100,2)\n",
    "df_result1['Percentage Share (Total Revenue)'] = round((df_result1['Total Revenue'] / overall_total_revenue) * 100,2)"
   ]
  },
  {
   "cell_type": "code",
   "execution_count": 69,
   "metadata": {},
   "outputs": [],
   "source": [
    "# calculate num_orders, total_revenue, avg_revenue for fail status\n",
    "num_fail_orders = df_fail.groupby('CategoryName')['ItemID'].count()\n",
    "total_fail_revenue = df_fail.groupby('CategoryName')['TotalPaid'].sum()\n",
    "avg_fail_revenue = round(total_fail_revenue / num_fail_orders,2)\n",
    "\n",
    "df_result_fail = pd.DataFrame({'Number of Possible Orders': num_fail_orders,\n",
    "                       'Possible Total Revenue': total_fail_revenue,\n",
    "                       'Possible Average Revenue per Order': avg_fail_revenue}).reset_index()\n",
    "\n",
    "# calculate the overall number of orders and total revenue\n",
    "overall_fail_orders = df_fail['ItemID'].count()\n",
    "overall_fail_revenue = df_fail['TotalPaid'].sum()\n",
    "\n",
    "# calculate the percentage share for each category in terms of order count and total revenue\n",
    "df_result_fail['Possible Order Percentage'] = round((df_result_fail['Number of Possible Orders'] / overall_fail_orders) * 100,2)\n",
    "df_result_fail['Possible Revenue Percentage'] = round((df_result_fail['Possible Total Revenue'] / overall_fail_revenue) * 100,2)"
   ]
  },
  {
   "cell_type": "code",
   "execution_count": 123,
   "metadata": {},
   "outputs": [
    {
     "data": {
      "application/vnd.plotly.v1+json": {
       "config": {
        "plotlyServerURL": "https://plot.ly"
       },
       "data": [
        {
         "name": "Success",
         "type": "bar",
         "x": [
          "Men's Fashion",
          "Mobiles & Tablets",
          "Women's Fashion",
          "Beauty & Grooming",
          "Superstore",
          "Appliances",
          "Soghaat",
          "Home & Living",
          "Health & Sports",
          "Entertainment",
          "Kids & Baby",
          "Others",
          "Computing",
          "School & Education",
          "Books"
         ],
         "y": [
          53352,
          51529,
          34560,
          27526,
          27517,
          25578,
          24594,
          16285,
          12268,
          11508,
          10232,
          9897,
          7285,
          2187,
          1347
         ]
        },
        {
         "name": "Fail",
         "type": "bar",
         "x": [
          "Appliances",
          "Beauty & Grooming",
          "Books",
          "Computing",
          "Entertainment",
          "Health & Sports",
          "Home & Living",
          "Kids & Baby",
          "Men's Fashion",
          "Mobiles & Tablets",
          "Others",
          "School & Education",
          "Soghaat",
          "Superstore",
          "Women's Fashion"
         ],
         "y": [
          26907,
          14020,
          527,
          8721,
          14820,
          6164,
          10273,
          6556,
          39137,
          66137,
          22592,
          1301,
          9858,
          16556,
          25262
         ]
        }
       ],
       "layout": {
        "barmode": "group",
        "template": {
         "data": {
          "bar": [
           {
            "error_x": {
             "color": "#2a3f5f"
            },
            "error_y": {
             "color": "#2a3f5f"
            },
            "marker": {
             "line": {
              "color": "#E5ECF6",
              "width": 0.5
             },
             "pattern": {
              "fillmode": "overlay",
              "size": 10,
              "solidity": 0.2
             }
            },
            "type": "bar"
           }
          ],
          "barpolar": [
           {
            "marker": {
             "line": {
              "color": "#E5ECF6",
              "width": 0.5
             },
             "pattern": {
              "fillmode": "overlay",
              "size": 10,
              "solidity": 0.2
             }
            },
            "type": "barpolar"
           }
          ],
          "carpet": [
           {
            "aaxis": {
             "endlinecolor": "#2a3f5f",
             "gridcolor": "white",
             "linecolor": "white",
             "minorgridcolor": "white",
             "startlinecolor": "#2a3f5f"
            },
            "baxis": {
             "endlinecolor": "#2a3f5f",
             "gridcolor": "white",
             "linecolor": "white",
             "minorgridcolor": "white",
             "startlinecolor": "#2a3f5f"
            },
            "type": "carpet"
           }
          ],
          "choropleth": [
           {
            "colorbar": {
             "outlinewidth": 0,
             "ticks": ""
            },
            "type": "choropleth"
           }
          ],
          "contour": [
           {
            "colorbar": {
             "outlinewidth": 0,
             "ticks": ""
            },
            "colorscale": [
             [
              0,
              "#0d0887"
             ],
             [
              0.1111111111111111,
              "#46039f"
             ],
             [
              0.2222222222222222,
              "#7201a8"
             ],
             [
              0.3333333333333333,
              "#9c179e"
             ],
             [
              0.4444444444444444,
              "#bd3786"
             ],
             [
              0.5555555555555556,
              "#d8576b"
             ],
             [
              0.6666666666666666,
              "#ed7953"
             ],
             [
              0.7777777777777778,
              "#fb9f3a"
             ],
             [
              0.8888888888888888,
              "#fdca26"
             ],
             [
              1,
              "#f0f921"
             ]
            ],
            "type": "contour"
           }
          ],
          "contourcarpet": [
           {
            "colorbar": {
             "outlinewidth": 0,
             "ticks": ""
            },
            "type": "contourcarpet"
           }
          ],
          "heatmap": [
           {
            "colorbar": {
             "outlinewidth": 0,
             "ticks": ""
            },
            "colorscale": [
             [
              0,
              "#0d0887"
             ],
             [
              0.1111111111111111,
              "#46039f"
             ],
             [
              0.2222222222222222,
              "#7201a8"
             ],
             [
              0.3333333333333333,
              "#9c179e"
             ],
             [
              0.4444444444444444,
              "#bd3786"
             ],
             [
              0.5555555555555556,
              "#d8576b"
             ],
             [
              0.6666666666666666,
              "#ed7953"
             ],
             [
              0.7777777777777778,
              "#fb9f3a"
             ],
             [
              0.8888888888888888,
              "#fdca26"
             ],
             [
              1,
              "#f0f921"
             ]
            ],
            "type": "heatmap"
           }
          ],
          "heatmapgl": [
           {
            "colorbar": {
             "outlinewidth": 0,
             "ticks": ""
            },
            "colorscale": [
             [
              0,
              "#0d0887"
             ],
             [
              0.1111111111111111,
              "#46039f"
             ],
             [
              0.2222222222222222,
              "#7201a8"
             ],
             [
              0.3333333333333333,
              "#9c179e"
             ],
             [
              0.4444444444444444,
              "#bd3786"
             ],
             [
              0.5555555555555556,
              "#d8576b"
             ],
             [
              0.6666666666666666,
              "#ed7953"
             ],
             [
              0.7777777777777778,
              "#fb9f3a"
             ],
             [
              0.8888888888888888,
              "#fdca26"
             ],
             [
              1,
              "#f0f921"
             ]
            ],
            "type": "heatmapgl"
           }
          ],
          "histogram": [
           {
            "marker": {
             "pattern": {
              "fillmode": "overlay",
              "size": 10,
              "solidity": 0.2
             }
            },
            "type": "histogram"
           }
          ],
          "histogram2d": [
           {
            "colorbar": {
             "outlinewidth": 0,
             "ticks": ""
            },
            "colorscale": [
             [
              0,
              "#0d0887"
             ],
             [
              0.1111111111111111,
              "#46039f"
             ],
             [
              0.2222222222222222,
              "#7201a8"
             ],
             [
              0.3333333333333333,
              "#9c179e"
             ],
             [
              0.4444444444444444,
              "#bd3786"
             ],
             [
              0.5555555555555556,
              "#d8576b"
             ],
             [
              0.6666666666666666,
              "#ed7953"
             ],
             [
              0.7777777777777778,
              "#fb9f3a"
             ],
             [
              0.8888888888888888,
              "#fdca26"
             ],
             [
              1,
              "#f0f921"
             ]
            ],
            "type": "histogram2d"
           }
          ],
          "histogram2dcontour": [
           {
            "colorbar": {
             "outlinewidth": 0,
             "ticks": ""
            },
            "colorscale": [
             [
              0,
              "#0d0887"
             ],
             [
              0.1111111111111111,
              "#46039f"
             ],
             [
              0.2222222222222222,
              "#7201a8"
             ],
             [
              0.3333333333333333,
              "#9c179e"
             ],
             [
              0.4444444444444444,
              "#bd3786"
             ],
             [
              0.5555555555555556,
              "#d8576b"
             ],
             [
              0.6666666666666666,
              "#ed7953"
             ],
             [
              0.7777777777777778,
              "#fb9f3a"
             ],
             [
              0.8888888888888888,
              "#fdca26"
             ],
             [
              1,
              "#f0f921"
             ]
            ],
            "type": "histogram2dcontour"
           }
          ],
          "mesh3d": [
           {
            "colorbar": {
             "outlinewidth": 0,
             "ticks": ""
            },
            "type": "mesh3d"
           }
          ],
          "parcoords": [
           {
            "line": {
             "colorbar": {
              "outlinewidth": 0,
              "ticks": ""
             }
            },
            "type": "parcoords"
           }
          ],
          "pie": [
           {
            "automargin": true,
            "type": "pie"
           }
          ],
          "scatter": [
           {
            "fillpattern": {
             "fillmode": "overlay",
             "size": 10,
             "solidity": 0.2
            },
            "type": "scatter"
           }
          ],
          "scatter3d": [
           {
            "line": {
             "colorbar": {
              "outlinewidth": 0,
              "ticks": ""
             }
            },
            "marker": {
             "colorbar": {
              "outlinewidth": 0,
              "ticks": ""
             }
            },
            "type": "scatter3d"
           }
          ],
          "scattercarpet": [
           {
            "marker": {
             "colorbar": {
              "outlinewidth": 0,
              "ticks": ""
             }
            },
            "type": "scattercarpet"
           }
          ],
          "scattergeo": [
           {
            "marker": {
             "colorbar": {
              "outlinewidth": 0,
              "ticks": ""
             }
            },
            "type": "scattergeo"
           }
          ],
          "scattergl": [
           {
            "marker": {
             "colorbar": {
              "outlinewidth": 0,
              "ticks": ""
             }
            },
            "type": "scattergl"
           }
          ],
          "scattermapbox": [
           {
            "marker": {
             "colorbar": {
              "outlinewidth": 0,
              "ticks": ""
             }
            },
            "type": "scattermapbox"
           }
          ],
          "scatterpolar": [
           {
            "marker": {
             "colorbar": {
              "outlinewidth": 0,
              "ticks": ""
             }
            },
            "type": "scatterpolar"
           }
          ],
          "scatterpolargl": [
           {
            "marker": {
             "colorbar": {
              "outlinewidth": 0,
              "ticks": ""
             }
            },
            "type": "scatterpolargl"
           }
          ],
          "scatterternary": [
           {
            "marker": {
             "colorbar": {
              "outlinewidth": 0,
              "ticks": ""
             }
            },
            "type": "scatterternary"
           }
          ],
          "surface": [
           {
            "colorbar": {
             "outlinewidth": 0,
             "ticks": ""
            },
            "colorscale": [
             [
              0,
              "#0d0887"
             ],
             [
              0.1111111111111111,
              "#46039f"
             ],
             [
              0.2222222222222222,
              "#7201a8"
             ],
             [
              0.3333333333333333,
              "#9c179e"
             ],
             [
              0.4444444444444444,
              "#bd3786"
             ],
             [
              0.5555555555555556,
              "#d8576b"
             ],
             [
              0.6666666666666666,
              "#ed7953"
             ],
             [
              0.7777777777777778,
              "#fb9f3a"
             ],
             [
              0.8888888888888888,
              "#fdca26"
             ],
             [
              1,
              "#f0f921"
             ]
            ],
            "type": "surface"
           }
          ],
          "table": [
           {
            "cells": {
             "fill": {
              "color": "#EBF0F8"
             },
             "line": {
              "color": "white"
             }
            },
            "header": {
             "fill": {
              "color": "#C8D4E3"
             },
             "line": {
              "color": "white"
             }
            },
            "type": "table"
           }
          ]
         },
         "layout": {
          "annotationdefaults": {
           "arrowcolor": "#2a3f5f",
           "arrowhead": 0,
           "arrowwidth": 1
          },
          "autotypenumbers": "strict",
          "coloraxis": {
           "colorbar": {
            "outlinewidth": 0,
            "ticks": ""
           }
          },
          "colorscale": {
           "diverging": [
            [
             0,
             "#8e0152"
            ],
            [
             0.1,
             "#c51b7d"
            ],
            [
             0.2,
             "#de77ae"
            ],
            [
             0.3,
             "#f1b6da"
            ],
            [
             0.4,
             "#fde0ef"
            ],
            [
             0.5,
             "#f7f7f7"
            ],
            [
             0.6,
             "#e6f5d0"
            ],
            [
             0.7,
             "#b8e186"
            ],
            [
             0.8,
             "#7fbc41"
            ],
            [
             0.9,
             "#4d9221"
            ],
            [
             1,
             "#276419"
            ]
           ],
           "sequential": [
            [
             0,
             "#0d0887"
            ],
            [
             0.1111111111111111,
             "#46039f"
            ],
            [
             0.2222222222222222,
             "#7201a8"
            ],
            [
             0.3333333333333333,
             "#9c179e"
            ],
            [
             0.4444444444444444,
             "#bd3786"
            ],
            [
             0.5555555555555556,
             "#d8576b"
            ],
            [
             0.6666666666666666,
             "#ed7953"
            ],
            [
             0.7777777777777778,
             "#fb9f3a"
            ],
            [
             0.8888888888888888,
             "#fdca26"
            ],
            [
             1,
             "#f0f921"
            ]
           ],
           "sequentialminus": [
            [
             0,
             "#0d0887"
            ],
            [
             0.1111111111111111,
             "#46039f"
            ],
            [
             0.2222222222222222,
             "#7201a8"
            ],
            [
             0.3333333333333333,
             "#9c179e"
            ],
            [
             0.4444444444444444,
             "#bd3786"
            ],
            [
             0.5555555555555556,
             "#d8576b"
            ],
            [
             0.6666666666666666,
             "#ed7953"
            ],
            [
             0.7777777777777778,
             "#fb9f3a"
            ],
            [
             0.8888888888888888,
             "#fdca26"
            ],
            [
             1,
             "#f0f921"
            ]
           ]
          },
          "colorway": [
           "#636efa",
           "#EF553B",
           "#00cc96",
           "#ab63fa",
           "#FFA15A",
           "#19d3f3",
           "#FF6692",
           "#B6E880",
           "#FF97FF",
           "#FECB52"
          ],
          "font": {
           "color": "#2a3f5f"
          },
          "geo": {
           "bgcolor": "white",
           "lakecolor": "white",
           "landcolor": "#E5ECF6",
           "showlakes": true,
           "showland": true,
           "subunitcolor": "white"
          },
          "hoverlabel": {
           "align": "left"
          },
          "hovermode": "closest",
          "mapbox": {
           "style": "light"
          },
          "paper_bgcolor": "white",
          "plot_bgcolor": "#E5ECF6",
          "polar": {
           "angularaxis": {
            "gridcolor": "white",
            "linecolor": "white",
            "ticks": ""
           },
           "bgcolor": "#E5ECF6",
           "radialaxis": {
            "gridcolor": "white",
            "linecolor": "white",
            "ticks": ""
           }
          },
          "scene": {
           "xaxis": {
            "backgroundcolor": "#E5ECF6",
            "gridcolor": "white",
            "gridwidth": 2,
            "linecolor": "white",
            "showbackground": true,
            "ticks": "",
            "zerolinecolor": "white"
           },
           "yaxis": {
            "backgroundcolor": "#E5ECF6",
            "gridcolor": "white",
            "gridwidth": 2,
            "linecolor": "white",
            "showbackground": true,
            "ticks": "",
            "zerolinecolor": "white"
           },
           "zaxis": {
            "backgroundcolor": "#E5ECF6",
            "gridcolor": "white",
            "gridwidth": 2,
            "linecolor": "white",
            "showbackground": true,
            "ticks": "",
            "zerolinecolor": "white"
           }
          },
          "shapedefaults": {
           "line": {
            "color": "#2a3f5f"
           }
          },
          "ternary": {
           "aaxis": {
            "gridcolor": "white",
            "linecolor": "white",
            "ticks": ""
           },
           "baxis": {
            "gridcolor": "white",
            "linecolor": "white",
            "ticks": ""
           },
           "bgcolor": "#E5ECF6",
           "caxis": {
            "gridcolor": "white",
            "linecolor": "white",
            "ticks": ""
           }
          },
          "title": {
           "x": 0.05
          },
          "xaxis": {
           "automargin": true,
           "gridcolor": "white",
           "linecolor": "white",
           "ticks": "",
           "title": {
            "standoff": 15
           },
           "zerolinecolor": "white",
           "zerolinewidth": 2
          },
          "yaxis": {
           "automargin": true,
           "gridcolor": "white",
           "linecolor": "white",
           "ticks": "",
           "title": {
            "standoff": 15
           },
           "zerolinecolor": "white",
           "zerolinewidth": 2
          }
         }
        },
        "title": {
         "text": "[Fig 3] Total Orders per Category"
        },
        "xaxis": {
         "title": {
          "text": "Category Name"
         }
        },
        "yaxis": {
         "title": {
          "text": "Total Orders"
         }
        }
       }
      }
     },
     "metadata": {},
     "output_type": "display_data"
    }
   ],
   "source": [
    "# create bar traces with the data\n",
    "trace1 = go.Bar(\n",
    "    x=df_result1.sort_values('Number of Orders', ascending=False)['CategoryName'],\n",
    "    y=df_result1.sort_values('Number of Orders', ascending=False)['Number of Orders'],\n",
    "    name='Success'\n",
    ")\n",
    "\n",
    "trace2 = go.Bar(\n",
    "    x=df_result_fail['CategoryName'],\n",
    "    y=df_result_fail['Number of Possible Orders'],\n",
    "    name='Fail'\n",
    ")\n",
    "\n",
    "# create a layout for the dual bar chart\n",
    "layout = go.Layout(\n",
    "    title='[Fig 3] Total Orders per Category',\n",
    "    xaxis=dict(title='Category Name'),\n",
    "    yaxis=dict(title='Total Orders'),\n",
    "    barmode='group'\n",
    ")\n",
    "\n",
    "# create a Figure with the traces and layout\n",
    "fig03 = go.Figure(data=[trace1, trace2], layout=layout)\n",
    "\n",
    "# Show the plot\n",
    "fig03.show()"
   ]
  },
  {
   "attachments": {},
   "cell_type": "markdown",
   "metadata": {},
   "source": [
    "By seeing [Fig 3] above, it can be inferred that from the top 5 categories only `Mobiles & Tablets` that has significantly higher number of fail order than success order. This means even without giving preferred payment method, we can still safely suggest the top 5 categories as preferred categories for emerging start-up.<br><br>\n",
    "\n",
    "Next we will check the total revenue compared to category and payment method."
   ]
  },
  {
   "cell_type": "code",
   "execution_count": 122,
   "metadata": {},
   "outputs": [
    {
     "data": {
      "application/vnd.plotly.v1+json": {
       "config": {
        "plotlyServerURL": "https://plot.ly"
       },
       "data": [
        {
         "name": "Success",
         "type": "bar",
         "x": [
          "Mobiles & Tablets",
          "Appliances",
          "Entertainment",
          "Women's Fashion",
          "Others",
          "Computing",
          "Men's Fashion",
          "Beauty & Grooming",
          "Superstore",
          "Home & Living",
          "Health & Sports",
          "Soghaat",
          "Kids & Baby",
          "School & Education",
          "Books"
         ],
         "y": [
          586412815.0331,
          210556763.2267,
          185518722.0884,
          53110134.6963,
          52154402.6885,
          41203305.3382,
          39471997.7925,
          20168688.8165,
          18500229.8096,
          12932987.3049,
          9565951.2598,
          7771213.3966,
          5464460.6154,
          966047.3083,
          576997.2609999999
         ]
        },
        {
         "name": "Fail",
         "type": "bar",
         "x": [
          "Appliances",
          "Beauty & Grooming",
          "Books",
          "Computing",
          "Entertainment",
          "Health & Sports",
          "Home & Living",
          "Kids & Baby",
          "Men's Fashion",
          "Mobiles & Tablets",
          "Others",
          "School & Education",
          "Soghaat",
          "Superstore",
          "Women's Fashion"
         ],
         "y": [
          350235345.8299,
          17819137.3932,
          425733.1557,
          131807768.6799,
          292705658.8624,
          9317895.7876,
          16450493.8976,
          5787522.3599,
          44569499.4157,
          1622808220.1735,
          116159028.749,
          791486.6385,
          5238360.5581,
          16273393.359,
          50752310.6855
         ]
        }
       ],
       "layout": {
        "barmode": "group",
        "template": {
         "data": {
          "bar": [
           {
            "error_x": {
             "color": "#2a3f5f"
            },
            "error_y": {
             "color": "#2a3f5f"
            },
            "marker": {
             "line": {
              "color": "#E5ECF6",
              "width": 0.5
             },
             "pattern": {
              "fillmode": "overlay",
              "size": 10,
              "solidity": 0.2
             }
            },
            "type": "bar"
           }
          ],
          "barpolar": [
           {
            "marker": {
             "line": {
              "color": "#E5ECF6",
              "width": 0.5
             },
             "pattern": {
              "fillmode": "overlay",
              "size": 10,
              "solidity": 0.2
             }
            },
            "type": "barpolar"
           }
          ],
          "carpet": [
           {
            "aaxis": {
             "endlinecolor": "#2a3f5f",
             "gridcolor": "white",
             "linecolor": "white",
             "minorgridcolor": "white",
             "startlinecolor": "#2a3f5f"
            },
            "baxis": {
             "endlinecolor": "#2a3f5f",
             "gridcolor": "white",
             "linecolor": "white",
             "minorgridcolor": "white",
             "startlinecolor": "#2a3f5f"
            },
            "type": "carpet"
           }
          ],
          "choropleth": [
           {
            "colorbar": {
             "outlinewidth": 0,
             "ticks": ""
            },
            "type": "choropleth"
           }
          ],
          "contour": [
           {
            "colorbar": {
             "outlinewidth": 0,
             "ticks": ""
            },
            "colorscale": [
             [
              0,
              "#0d0887"
             ],
             [
              0.1111111111111111,
              "#46039f"
             ],
             [
              0.2222222222222222,
              "#7201a8"
             ],
             [
              0.3333333333333333,
              "#9c179e"
             ],
             [
              0.4444444444444444,
              "#bd3786"
             ],
             [
              0.5555555555555556,
              "#d8576b"
             ],
             [
              0.6666666666666666,
              "#ed7953"
             ],
             [
              0.7777777777777778,
              "#fb9f3a"
             ],
             [
              0.8888888888888888,
              "#fdca26"
             ],
             [
              1,
              "#f0f921"
             ]
            ],
            "type": "contour"
           }
          ],
          "contourcarpet": [
           {
            "colorbar": {
             "outlinewidth": 0,
             "ticks": ""
            },
            "type": "contourcarpet"
           }
          ],
          "heatmap": [
           {
            "colorbar": {
             "outlinewidth": 0,
             "ticks": ""
            },
            "colorscale": [
             [
              0,
              "#0d0887"
             ],
             [
              0.1111111111111111,
              "#46039f"
             ],
             [
              0.2222222222222222,
              "#7201a8"
             ],
             [
              0.3333333333333333,
              "#9c179e"
             ],
             [
              0.4444444444444444,
              "#bd3786"
             ],
             [
              0.5555555555555556,
              "#d8576b"
             ],
             [
              0.6666666666666666,
              "#ed7953"
             ],
             [
              0.7777777777777778,
              "#fb9f3a"
             ],
             [
              0.8888888888888888,
              "#fdca26"
             ],
             [
              1,
              "#f0f921"
             ]
            ],
            "type": "heatmap"
           }
          ],
          "heatmapgl": [
           {
            "colorbar": {
             "outlinewidth": 0,
             "ticks": ""
            },
            "colorscale": [
             [
              0,
              "#0d0887"
             ],
             [
              0.1111111111111111,
              "#46039f"
             ],
             [
              0.2222222222222222,
              "#7201a8"
             ],
             [
              0.3333333333333333,
              "#9c179e"
             ],
             [
              0.4444444444444444,
              "#bd3786"
             ],
             [
              0.5555555555555556,
              "#d8576b"
             ],
             [
              0.6666666666666666,
              "#ed7953"
             ],
             [
              0.7777777777777778,
              "#fb9f3a"
             ],
             [
              0.8888888888888888,
              "#fdca26"
             ],
             [
              1,
              "#f0f921"
             ]
            ],
            "type": "heatmapgl"
           }
          ],
          "histogram": [
           {
            "marker": {
             "pattern": {
              "fillmode": "overlay",
              "size": 10,
              "solidity": 0.2
             }
            },
            "type": "histogram"
           }
          ],
          "histogram2d": [
           {
            "colorbar": {
             "outlinewidth": 0,
             "ticks": ""
            },
            "colorscale": [
             [
              0,
              "#0d0887"
             ],
             [
              0.1111111111111111,
              "#46039f"
             ],
             [
              0.2222222222222222,
              "#7201a8"
             ],
             [
              0.3333333333333333,
              "#9c179e"
             ],
             [
              0.4444444444444444,
              "#bd3786"
             ],
             [
              0.5555555555555556,
              "#d8576b"
             ],
             [
              0.6666666666666666,
              "#ed7953"
             ],
             [
              0.7777777777777778,
              "#fb9f3a"
             ],
             [
              0.8888888888888888,
              "#fdca26"
             ],
             [
              1,
              "#f0f921"
             ]
            ],
            "type": "histogram2d"
           }
          ],
          "histogram2dcontour": [
           {
            "colorbar": {
             "outlinewidth": 0,
             "ticks": ""
            },
            "colorscale": [
             [
              0,
              "#0d0887"
             ],
             [
              0.1111111111111111,
              "#46039f"
             ],
             [
              0.2222222222222222,
              "#7201a8"
             ],
             [
              0.3333333333333333,
              "#9c179e"
             ],
             [
              0.4444444444444444,
              "#bd3786"
             ],
             [
              0.5555555555555556,
              "#d8576b"
             ],
             [
              0.6666666666666666,
              "#ed7953"
             ],
             [
              0.7777777777777778,
              "#fb9f3a"
             ],
             [
              0.8888888888888888,
              "#fdca26"
             ],
             [
              1,
              "#f0f921"
             ]
            ],
            "type": "histogram2dcontour"
           }
          ],
          "mesh3d": [
           {
            "colorbar": {
             "outlinewidth": 0,
             "ticks": ""
            },
            "type": "mesh3d"
           }
          ],
          "parcoords": [
           {
            "line": {
             "colorbar": {
              "outlinewidth": 0,
              "ticks": ""
             }
            },
            "type": "parcoords"
           }
          ],
          "pie": [
           {
            "automargin": true,
            "type": "pie"
           }
          ],
          "scatter": [
           {
            "fillpattern": {
             "fillmode": "overlay",
             "size": 10,
             "solidity": 0.2
            },
            "type": "scatter"
           }
          ],
          "scatter3d": [
           {
            "line": {
             "colorbar": {
              "outlinewidth": 0,
              "ticks": ""
             }
            },
            "marker": {
             "colorbar": {
              "outlinewidth": 0,
              "ticks": ""
             }
            },
            "type": "scatter3d"
           }
          ],
          "scattercarpet": [
           {
            "marker": {
             "colorbar": {
              "outlinewidth": 0,
              "ticks": ""
             }
            },
            "type": "scattercarpet"
           }
          ],
          "scattergeo": [
           {
            "marker": {
             "colorbar": {
              "outlinewidth": 0,
              "ticks": ""
             }
            },
            "type": "scattergeo"
           }
          ],
          "scattergl": [
           {
            "marker": {
             "colorbar": {
              "outlinewidth": 0,
              "ticks": ""
             }
            },
            "type": "scattergl"
           }
          ],
          "scattermapbox": [
           {
            "marker": {
             "colorbar": {
              "outlinewidth": 0,
              "ticks": ""
             }
            },
            "type": "scattermapbox"
           }
          ],
          "scatterpolar": [
           {
            "marker": {
             "colorbar": {
              "outlinewidth": 0,
              "ticks": ""
             }
            },
            "type": "scatterpolar"
           }
          ],
          "scatterpolargl": [
           {
            "marker": {
             "colorbar": {
              "outlinewidth": 0,
              "ticks": ""
             }
            },
            "type": "scatterpolargl"
           }
          ],
          "scatterternary": [
           {
            "marker": {
             "colorbar": {
              "outlinewidth": 0,
              "ticks": ""
             }
            },
            "type": "scatterternary"
           }
          ],
          "surface": [
           {
            "colorbar": {
             "outlinewidth": 0,
             "ticks": ""
            },
            "colorscale": [
             [
              0,
              "#0d0887"
             ],
             [
              0.1111111111111111,
              "#46039f"
             ],
             [
              0.2222222222222222,
              "#7201a8"
             ],
             [
              0.3333333333333333,
              "#9c179e"
             ],
             [
              0.4444444444444444,
              "#bd3786"
             ],
             [
              0.5555555555555556,
              "#d8576b"
             ],
             [
              0.6666666666666666,
              "#ed7953"
             ],
             [
              0.7777777777777778,
              "#fb9f3a"
             ],
             [
              0.8888888888888888,
              "#fdca26"
             ],
             [
              1,
              "#f0f921"
             ]
            ],
            "type": "surface"
           }
          ],
          "table": [
           {
            "cells": {
             "fill": {
              "color": "#EBF0F8"
             },
             "line": {
              "color": "white"
             }
            },
            "header": {
             "fill": {
              "color": "#C8D4E3"
             },
             "line": {
              "color": "white"
             }
            },
            "type": "table"
           }
          ]
         },
         "layout": {
          "annotationdefaults": {
           "arrowcolor": "#2a3f5f",
           "arrowhead": 0,
           "arrowwidth": 1
          },
          "autotypenumbers": "strict",
          "coloraxis": {
           "colorbar": {
            "outlinewidth": 0,
            "ticks": ""
           }
          },
          "colorscale": {
           "diverging": [
            [
             0,
             "#8e0152"
            ],
            [
             0.1,
             "#c51b7d"
            ],
            [
             0.2,
             "#de77ae"
            ],
            [
             0.3,
             "#f1b6da"
            ],
            [
             0.4,
             "#fde0ef"
            ],
            [
             0.5,
             "#f7f7f7"
            ],
            [
             0.6,
             "#e6f5d0"
            ],
            [
             0.7,
             "#b8e186"
            ],
            [
             0.8,
             "#7fbc41"
            ],
            [
             0.9,
             "#4d9221"
            ],
            [
             1,
             "#276419"
            ]
           ],
           "sequential": [
            [
             0,
             "#0d0887"
            ],
            [
             0.1111111111111111,
             "#46039f"
            ],
            [
             0.2222222222222222,
             "#7201a8"
            ],
            [
             0.3333333333333333,
             "#9c179e"
            ],
            [
             0.4444444444444444,
             "#bd3786"
            ],
            [
             0.5555555555555556,
             "#d8576b"
            ],
            [
             0.6666666666666666,
             "#ed7953"
            ],
            [
             0.7777777777777778,
             "#fb9f3a"
            ],
            [
             0.8888888888888888,
             "#fdca26"
            ],
            [
             1,
             "#f0f921"
            ]
           ],
           "sequentialminus": [
            [
             0,
             "#0d0887"
            ],
            [
             0.1111111111111111,
             "#46039f"
            ],
            [
             0.2222222222222222,
             "#7201a8"
            ],
            [
             0.3333333333333333,
             "#9c179e"
            ],
            [
             0.4444444444444444,
             "#bd3786"
            ],
            [
             0.5555555555555556,
             "#d8576b"
            ],
            [
             0.6666666666666666,
             "#ed7953"
            ],
            [
             0.7777777777777778,
             "#fb9f3a"
            ],
            [
             0.8888888888888888,
             "#fdca26"
            ],
            [
             1,
             "#f0f921"
            ]
           ]
          },
          "colorway": [
           "#636efa",
           "#EF553B",
           "#00cc96",
           "#ab63fa",
           "#FFA15A",
           "#19d3f3",
           "#FF6692",
           "#B6E880",
           "#FF97FF",
           "#FECB52"
          ],
          "font": {
           "color": "#2a3f5f"
          },
          "geo": {
           "bgcolor": "white",
           "lakecolor": "white",
           "landcolor": "#E5ECF6",
           "showlakes": true,
           "showland": true,
           "subunitcolor": "white"
          },
          "hoverlabel": {
           "align": "left"
          },
          "hovermode": "closest",
          "mapbox": {
           "style": "light"
          },
          "paper_bgcolor": "white",
          "plot_bgcolor": "#E5ECF6",
          "polar": {
           "angularaxis": {
            "gridcolor": "white",
            "linecolor": "white",
            "ticks": ""
           },
           "bgcolor": "#E5ECF6",
           "radialaxis": {
            "gridcolor": "white",
            "linecolor": "white",
            "ticks": ""
           }
          },
          "scene": {
           "xaxis": {
            "backgroundcolor": "#E5ECF6",
            "gridcolor": "white",
            "gridwidth": 2,
            "linecolor": "white",
            "showbackground": true,
            "ticks": "",
            "zerolinecolor": "white"
           },
           "yaxis": {
            "backgroundcolor": "#E5ECF6",
            "gridcolor": "white",
            "gridwidth": 2,
            "linecolor": "white",
            "showbackground": true,
            "ticks": "",
            "zerolinecolor": "white"
           },
           "zaxis": {
            "backgroundcolor": "#E5ECF6",
            "gridcolor": "white",
            "gridwidth": 2,
            "linecolor": "white",
            "showbackground": true,
            "ticks": "",
            "zerolinecolor": "white"
           }
          },
          "shapedefaults": {
           "line": {
            "color": "#2a3f5f"
           }
          },
          "ternary": {
           "aaxis": {
            "gridcolor": "white",
            "linecolor": "white",
            "ticks": ""
           },
           "baxis": {
            "gridcolor": "white",
            "linecolor": "white",
            "ticks": ""
           },
           "bgcolor": "#E5ECF6",
           "caxis": {
            "gridcolor": "white",
            "linecolor": "white",
            "ticks": ""
           }
          },
          "title": {
           "x": 0.05
          },
          "xaxis": {
           "automargin": true,
           "gridcolor": "white",
           "linecolor": "white",
           "ticks": "",
           "title": {
            "standoff": 15
           },
           "zerolinecolor": "white",
           "zerolinewidth": 2
          },
          "yaxis": {
           "automargin": true,
           "gridcolor": "white",
           "linecolor": "white",
           "ticks": "",
           "title": {
            "standoff": 15
           },
           "zerolinecolor": "white",
           "zerolinewidth": 2
          }
         }
        },
        "title": {
         "text": "[Fig 4] Total Revenue per Category"
        },
        "xaxis": {
         "title": {
          "text": "Category Name"
         }
        },
        "yaxis": {
         "title": {
          "text": "Total Revenue"
         }
        }
       }
      }
     },
     "metadata": {},
     "output_type": "display_data"
    }
   ],
   "source": [
    "# Create bar traces with the data\n",
    "trace1 = go.Bar(\n",
    "    x=df_result1.sort_values('Total Revenue', ascending=False)['CategoryName'],\n",
    "    y=df_result1.sort_values('Total Revenue', ascending=False)['Total Revenue'],\n",
    "    name='Success'\n",
    ")\n",
    "\n",
    "trace2 = go.Bar(\n",
    "    x=df_result_fail['CategoryName'],\n",
    "    y=df_result_fail['Possible Total Revenue'],\n",
    "    name='Fail'\n",
    ")\n",
    "\n",
    "# Create a layout for the dual bar chart\n",
    "layout = go.Layout(\n",
    "    title='[Fig 4] Total Revenue per Category',\n",
    "    xaxis=dict(title='Category Name'),\n",
    "    yaxis=dict(title='Total Revenue'),\n",
    "    barmode='group'\n",
    ")\n",
    "\n",
    "# Create a Figure with the traces and layout\n",
    "fig04 = go.Figure(data=[trace1, trace2], layout=layout)\n",
    "\n",
    "# Show the plot\n",
    "fig04.show()"
   ]
  },
  {
   "cell_type": "code",
   "execution_count": 121,
   "metadata": {},
   "outputs": [
    {
     "data": {
      "application/vnd.plotly.v1+json": {
       "config": {
        "plotlyServerURL": "https://plot.ly"
       },
       "data": [
        {
         "name": "Success",
         "type": "bar",
         "x": [
          "Entertainment",
          "Mobiles & Tablets",
          "Appliances",
          "Computing",
          "Others",
          "Women's Fashion",
          "Home & Living",
          "Health & Sports",
          "Men's Fashion",
          "Beauty & Grooming",
          "Superstore",
          "Kids & Baby",
          "School & Education",
          "Books",
          "Soghaat"
         ],
         "y": [
          16120.85,
          11380.25,
          8231.95,
          5655.91,
          5269.72,
          1536.75,
          794.17,
          779.75,
          739.84,
          732.71,
          672.32,
          534.06,
          441.72,
          428.36,
          315.98
         ]
        },
        {
         "name": "Fail",
         "type": "bar",
         "x": [
          "Appliances",
          "Beauty & Grooming",
          "Books",
          "Computing",
          "Entertainment",
          "Health & Sports",
          "Home & Living",
          "Kids & Baby",
          "Men's Fashion",
          "Mobiles & Tablets",
          "Others",
          "School & Education",
          "Soghaat",
          "Superstore",
          "Women's Fashion"
         ],
         "y": [
          13016.51,
          1270.98,
          807.84,
          15113.84,
          19750.72,
          1511.66,
          1601.33,
          882.78,
          1138.81,
          24537.07,
          5141.6,
          608.37,
          531.38,
          982.93,
          2009.04
         ]
        }
       ],
       "layout": {
        "barmode": "group",
        "template": {
         "data": {
          "bar": [
           {
            "error_x": {
             "color": "#2a3f5f"
            },
            "error_y": {
             "color": "#2a3f5f"
            },
            "marker": {
             "line": {
              "color": "#E5ECF6",
              "width": 0.5
             },
             "pattern": {
              "fillmode": "overlay",
              "size": 10,
              "solidity": 0.2
             }
            },
            "type": "bar"
           }
          ],
          "barpolar": [
           {
            "marker": {
             "line": {
              "color": "#E5ECF6",
              "width": 0.5
             },
             "pattern": {
              "fillmode": "overlay",
              "size": 10,
              "solidity": 0.2
             }
            },
            "type": "barpolar"
           }
          ],
          "carpet": [
           {
            "aaxis": {
             "endlinecolor": "#2a3f5f",
             "gridcolor": "white",
             "linecolor": "white",
             "minorgridcolor": "white",
             "startlinecolor": "#2a3f5f"
            },
            "baxis": {
             "endlinecolor": "#2a3f5f",
             "gridcolor": "white",
             "linecolor": "white",
             "minorgridcolor": "white",
             "startlinecolor": "#2a3f5f"
            },
            "type": "carpet"
           }
          ],
          "choropleth": [
           {
            "colorbar": {
             "outlinewidth": 0,
             "ticks": ""
            },
            "type": "choropleth"
           }
          ],
          "contour": [
           {
            "colorbar": {
             "outlinewidth": 0,
             "ticks": ""
            },
            "colorscale": [
             [
              0,
              "#0d0887"
             ],
             [
              0.1111111111111111,
              "#46039f"
             ],
             [
              0.2222222222222222,
              "#7201a8"
             ],
             [
              0.3333333333333333,
              "#9c179e"
             ],
             [
              0.4444444444444444,
              "#bd3786"
             ],
             [
              0.5555555555555556,
              "#d8576b"
             ],
             [
              0.6666666666666666,
              "#ed7953"
             ],
             [
              0.7777777777777778,
              "#fb9f3a"
             ],
             [
              0.8888888888888888,
              "#fdca26"
             ],
             [
              1,
              "#f0f921"
             ]
            ],
            "type": "contour"
           }
          ],
          "contourcarpet": [
           {
            "colorbar": {
             "outlinewidth": 0,
             "ticks": ""
            },
            "type": "contourcarpet"
           }
          ],
          "heatmap": [
           {
            "colorbar": {
             "outlinewidth": 0,
             "ticks": ""
            },
            "colorscale": [
             [
              0,
              "#0d0887"
             ],
             [
              0.1111111111111111,
              "#46039f"
             ],
             [
              0.2222222222222222,
              "#7201a8"
             ],
             [
              0.3333333333333333,
              "#9c179e"
             ],
             [
              0.4444444444444444,
              "#bd3786"
             ],
             [
              0.5555555555555556,
              "#d8576b"
             ],
             [
              0.6666666666666666,
              "#ed7953"
             ],
             [
              0.7777777777777778,
              "#fb9f3a"
             ],
             [
              0.8888888888888888,
              "#fdca26"
             ],
             [
              1,
              "#f0f921"
             ]
            ],
            "type": "heatmap"
           }
          ],
          "heatmapgl": [
           {
            "colorbar": {
             "outlinewidth": 0,
             "ticks": ""
            },
            "colorscale": [
             [
              0,
              "#0d0887"
             ],
             [
              0.1111111111111111,
              "#46039f"
             ],
             [
              0.2222222222222222,
              "#7201a8"
             ],
             [
              0.3333333333333333,
              "#9c179e"
             ],
             [
              0.4444444444444444,
              "#bd3786"
             ],
             [
              0.5555555555555556,
              "#d8576b"
             ],
             [
              0.6666666666666666,
              "#ed7953"
             ],
             [
              0.7777777777777778,
              "#fb9f3a"
             ],
             [
              0.8888888888888888,
              "#fdca26"
             ],
             [
              1,
              "#f0f921"
             ]
            ],
            "type": "heatmapgl"
           }
          ],
          "histogram": [
           {
            "marker": {
             "pattern": {
              "fillmode": "overlay",
              "size": 10,
              "solidity": 0.2
             }
            },
            "type": "histogram"
           }
          ],
          "histogram2d": [
           {
            "colorbar": {
             "outlinewidth": 0,
             "ticks": ""
            },
            "colorscale": [
             [
              0,
              "#0d0887"
             ],
             [
              0.1111111111111111,
              "#46039f"
             ],
             [
              0.2222222222222222,
              "#7201a8"
             ],
             [
              0.3333333333333333,
              "#9c179e"
             ],
             [
              0.4444444444444444,
              "#bd3786"
             ],
             [
              0.5555555555555556,
              "#d8576b"
             ],
             [
              0.6666666666666666,
              "#ed7953"
             ],
             [
              0.7777777777777778,
              "#fb9f3a"
             ],
             [
              0.8888888888888888,
              "#fdca26"
             ],
             [
              1,
              "#f0f921"
             ]
            ],
            "type": "histogram2d"
           }
          ],
          "histogram2dcontour": [
           {
            "colorbar": {
             "outlinewidth": 0,
             "ticks": ""
            },
            "colorscale": [
             [
              0,
              "#0d0887"
             ],
             [
              0.1111111111111111,
              "#46039f"
             ],
             [
              0.2222222222222222,
              "#7201a8"
             ],
             [
              0.3333333333333333,
              "#9c179e"
             ],
             [
              0.4444444444444444,
              "#bd3786"
             ],
             [
              0.5555555555555556,
              "#d8576b"
             ],
             [
              0.6666666666666666,
              "#ed7953"
             ],
             [
              0.7777777777777778,
              "#fb9f3a"
             ],
             [
              0.8888888888888888,
              "#fdca26"
             ],
             [
              1,
              "#f0f921"
             ]
            ],
            "type": "histogram2dcontour"
           }
          ],
          "mesh3d": [
           {
            "colorbar": {
             "outlinewidth": 0,
             "ticks": ""
            },
            "type": "mesh3d"
           }
          ],
          "parcoords": [
           {
            "line": {
             "colorbar": {
              "outlinewidth": 0,
              "ticks": ""
             }
            },
            "type": "parcoords"
           }
          ],
          "pie": [
           {
            "automargin": true,
            "type": "pie"
           }
          ],
          "scatter": [
           {
            "fillpattern": {
             "fillmode": "overlay",
             "size": 10,
             "solidity": 0.2
            },
            "type": "scatter"
           }
          ],
          "scatter3d": [
           {
            "line": {
             "colorbar": {
              "outlinewidth": 0,
              "ticks": ""
             }
            },
            "marker": {
             "colorbar": {
              "outlinewidth": 0,
              "ticks": ""
             }
            },
            "type": "scatter3d"
           }
          ],
          "scattercarpet": [
           {
            "marker": {
             "colorbar": {
              "outlinewidth": 0,
              "ticks": ""
             }
            },
            "type": "scattercarpet"
           }
          ],
          "scattergeo": [
           {
            "marker": {
             "colorbar": {
              "outlinewidth": 0,
              "ticks": ""
             }
            },
            "type": "scattergeo"
           }
          ],
          "scattergl": [
           {
            "marker": {
             "colorbar": {
              "outlinewidth": 0,
              "ticks": ""
             }
            },
            "type": "scattergl"
           }
          ],
          "scattermapbox": [
           {
            "marker": {
             "colorbar": {
              "outlinewidth": 0,
              "ticks": ""
             }
            },
            "type": "scattermapbox"
           }
          ],
          "scatterpolar": [
           {
            "marker": {
             "colorbar": {
              "outlinewidth": 0,
              "ticks": ""
             }
            },
            "type": "scatterpolar"
           }
          ],
          "scatterpolargl": [
           {
            "marker": {
             "colorbar": {
              "outlinewidth": 0,
              "ticks": ""
             }
            },
            "type": "scatterpolargl"
           }
          ],
          "scatterternary": [
           {
            "marker": {
             "colorbar": {
              "outlinewidth": 0,
              "ticks": ""
             }
            },
            "type": "scatterternary"
           }
          ],
          "surface": [
           {
            "colorbar": {
             "outlinewidth": 0,
             "ticks": ""
            },
            "colorscale": [
             [
              0,
              "#0d0887"
             ],
             [
              0.1111111111111111,
              "#46039f"
             ],
             [
              0.2222222222222222,
              "#7201a8"
             ],
             [
              0.3333333333333333,
              "#9c179e"
             ],
             [
              0.4444444444444444,
              "#bd3786"
             ],
             [
              0.5555555555555556,
              "#d8576b"
             ],
             [
              0.6666666666666666,
              "#ed7953"
             ],
             [
              0.7777777777777778,
              "#fb9f3a"
             ],
             [
              0.8888888888888888,
              "#fdca26"
             ],
             [
              1,
              "#f0f921"
             ]
            ],
            "type": "surface"
           }
          ],
          "table": [
           {
            "cells": {
             "fill": {
              "color": "#EBF0F8"
             },
             "line": {
              "color": "white"
             }
            },
            "header": {
             "fill": {
              "color": "#C8D4E3"
             },
             "line": {
              "color": "white"
             }
            },
            "type": "table"
           }
          ]
         },
         "layout": {
          "annotationdefaults": {
           "arrowcolor": "#2a3f5f",
           "arrowhead": 0,
           "arrowwidth": 1
          },
          "autotypenumbers": "strict",
          "coloraxis": {
           "colorbar": {
            "outlinewidth": 0,
            "ticks": ""
           }
          },
          "colorscale": {
           "diverging": [
            [
             0,
             "#8e0152"
            ],
            [
             0.1,
             "#c51b7d"
            ],
            [
             0.2,
             "#de77ae"
            ],
            [
             0.3,
             "#f1b6da"
            ],
            [
             0.4,
             "#fde0ef"
            ],
            [
             0.5,
             "#f7f7f7"
            ],
            [
             0.6,
             "#e6f5d0"
            ],
            [
             0.7,
             "#b8e186"
            ],
            [
             0.8,
             "#7fbc41"
            ],
            [
             0.9,
             "#4d9221"
            ],
            [
             1,
             "#276419"
            ]
           ],
           "sequential": [
            [
             0,
             "#0d0887"
            ],
            [
             0.1111111111111111,
             "#46039f"
            ],
            [
             0.2222222222222222,
             "#7201a8"
            ],
            [
             0.3333333333333333,
             "#9c179e"
            ],
            [
             0.4444444444444444,
             "#bd3786"
            ],
            [
             0.5555555555555556,
             "#d8576b"
            ],
            [
             0.6666666666666666,
             "#ed7953"
            ],
            [
             0.7777777777777778,
             "#fb9f3a"
            ],
            [
             0.8888888888888888,
             "#fdca26"
            ],
            [
             1,
             "#f0f921"
            ]
           ],
           "sequentialminus": [
            [
             0,
             "#0d0887"
            ],
            [
             0.1111111111111111,
             "#46039f"
            ],
            [
             0.2222222222222222,
             "#7201a8"
            ],
            [
             0.3333333333333333,
             "#9c179e"
            ],
            [
             0.4444444444444444,
             "#bd3786"
            ],
            [
             0.5555555555555556,
             "#d8576b"
            ],
            [
             0.6666666666666666,
             "#ed7953"
            ],
            [
             0.7777777777777778,
             "#fb9f3a"
            ],
            [
             0.8888888888888888,
             "#fdca26"
            ],
            [
             1,
             "#f0f921"
            ]
           ]
          },
          "colorway": [
           "#636efa",
           "#EF553B",
           "#00cc96",
           "#ab63fa",
           "#FFA15A",
           "#19d3f3",
           "#FF6692",
           "#B6E880",
           "#FF97FF",
           "#FECB52"
          ],
          "font": {
           "color": "#2a3f5f"
          },
          "geo": {
           "bgcolor": "white",
           "lakecolor": "white",
           "landcolor": "#E5ECF6",
           "showlakes": true,
           "showland": true,
           "subunitcolor": "white"
          },
          "hoverlabel": {
           "align": "left"
          },
          "hovermode": "closest",
          "mapbox": {
           "style": "light"
          },
          "paper_bgcolor": "white",
          "plot_bgcolor": "#E5ECF6",
          "polar": {
           "angularaxis": {
            "gridcolor": "white",
            "linecolor": "white",
            "ticks": ""
           },
           "bgcolor": "#E5ECF6",
           "radialaxis": {
            "gridcolor": "white",
            "linecolor": "white",
            "ticks": ""
           }
          },
          "scene": {
           "xaxis": {
            "backgroundcolor": "#E5ECF6",
            "gridcolor": "white",
            "gridwidth": 2,
            "linecolor": "white",
            "showbackground": true,
            "ticks": "",
            "zerolinecolor": "white"
           },
           "yaxis": {
            "backgroundcolor": "#E5ECF6",
            "gridcolor": "white",
            "gridwidth": 2,
            "linecolor": "white",
            "showbackground": true,
            "ticks": "",
            "zerolinecolor": "white"
           },
           "zaxis": {
            "backgroundcolor": "#E5ECF6",
            "gridcolor": "white",
            "gridwidth": 2,
            "linecolor": "white",
            "showbackground": true,
            "ticks": "",
            "zerolinecolor": "white"
           }
          },
          "shapedefaults": {
           "line": {
            "color": "#2a3f5f"
           }
          },
          "ternary": {
           "aaxis": {
            "gridcolor": "white",
            "linecolor": "white",
            "ticks": ""
           },
           "baxis": {
            "gridcolor": "white",
            "linecolor": "white",
            "ticks": ""
           },
           "bgcolor": "#E5ECF6",
           "caxis": {
            "gridcolor": "white",
            "linecolor": "white",
            "ticks": ""
           }
          },
          "title": {
           "x": 0.05
          },
          "xaxis": {
           "automargin": true,
           "gridcolor": "white",
           "linecolor": "white",
           "ticks": "",
           "title": {
            "standoff": 15
           },
           "zerolinecolor": "white",
           "zerolinewidth": 2
          },
          "yaxis": {
           "automargin": true,
           "gridcolor": "white",
           "linecolor": "white",
           "ticks": "",
           "title": {
            "standoff": 15
           },
           "zerolinecolor": "white",
           "zerolinewidth": 2
          }
         }
        },
        "title": {
         "text": "[Fig 5] Average Revenue per Order per Category"
        },
        "xaxis": {
         "title": {
          "text": "Category Name"
         }
        },
        "yaxis": {
         "title": {
          "text": "Average Revenue"
         }
        }
       }
      }
     },
     "metadata": {},
     "output_type": "display_data"
    }
   ],
   "source": [
    "# Create bar traces with the data\n",
    "trace1 = go.Bar(\n",
    "    x=df_result1.sort_values('Average Revenue per Order', ascending=False)['CategoryName'],\n",
    "    y=df_result1.sort_values('Average Revenue per Order', ascending=False)['Average Revenue per Order'],\n",
    "    name='Success'\n",
    ")\n",
    "\n",
    "trace2 = go.Bar(\n",
    "    x=df_result_fail['CategoryName'],\n",
    "    y=df_result_fail['Possible Average Revenue per Order'],\n",
    "    name='Fail'\n",
    ")\n",
    "\n",
    "# Create a layout for the dual bar chart\n",
    "layout = go.Layout(\n",
    "    title='[Fig 5] Average Revenue per Order per Category',\n",
    "    xaxis=dict(title='Category Name'),\n",
    "    yaxis=dict(title='Average Revenue'),\n",
    "    barmode='group'\n",
    ")\n",
    "\n",
    "# Create a Figure with the traces and layout\n",
    "fig05 = go.Figure(data=[trace1, trace2], layout=layout)\n",
    "\n",
    "# Show the plot\n",
    "fig05.show()"
   ]
  },
  {
   "attachments": {},
   "cell_type": "markdown",
   "metadata": {},
   "source": [
    "From [Fig 4] and [Fig 5] we can see that the top 3 category by total revenue for success orders are:\n",
    "1. `Mobiles & Tablets` with total revenue of 586M and average revenue of 11.4k per order\n",
    "2. `Appliances` with total revenue of 210M and average revenue of 8.2k per order\n",
    "3. `Entertainment` with total revenue of 185M and average revenue of 16.1k per order\n",
    "\n",
    "While the other 4 categories from our previous analysis are:\n",
    "1. `Women's Fashion` ranks 4th in the total revenue (53M) and 6th in average revenue (1.5k per order)\n",
    "2. `Men's Fashion` ranks 7th in the total revenue (39M) and 9th in the average revenue (739 per order)\n",
    "3. `Beauty & Grooming` ranks 8th in the total revenue (20M) and 10th in the average revenue (732 per order)\n",
    "4. `Superstore` ranks 9th in the total revenue (18M) and 11th in the average revenue (672 per order)\n",
    "\n",
    "By combining our previous analysis based on order and our current analysis based on revenue, we can conclude the top 5 categories are: `Mobiles & Tablets`, `Appliances`, `Entertainment`, `Women's Fashion`, and `Men's Fashion`. Next we will finalize our analysis by finding the preferred payment method for those 5 categories.<br><br>\n",
    "\n",
    "**Important Note**: <br>From [Fig 4] and [Fig 5] we can also see `Mobiles & Tablets`, `Appliances`, and `Entertainment` have very significant total failed revenue from failed orders (shown by red bars). Below are the percentage difference between success and fail orders from total orders at [Fig 1] for those 3 categories.\n",
    "1. `Mobiles & Tablets`: success 8.82% | fail 11.31% from total orders\n",
    "2. `Appliances`: success 4.38% | fail 4.60% from total orders\n",
    "3. `Entertainment`: success 1.97% | fail 2.54% from total orders\n",
    "\n",
    "As we can see the difference between total success and fail orders are not significant yet the revenue difference is very significant. This is possibly because of the ordered quantity for fail orders are bigger than success orders. For example at first person A wanted to buy 5 phones, then he canceled and bought 2 phones instead. Because our analysis focus on total orders only not the quantity of orders, this condition is not analyzed further."
   ]
  },
  {
   "cell_type": "code",
   "execution_count": 156,
   "metadata": {},
   "outputs": [],
   "source": [
    "# select combined 5 categories\n",
    "selected_categories_combined = [\n",
    "    \"Men's Fashion\",\n",
    "    \"Entertainment\",\n",
    "    \"Mobiles & Tablets\",\n",
    "    \"Women's Fashion\",\n",
    "    \"Appliances\"\n",
    "]\n",
    "df_success_combined = df_success.groupby(['CategoryName', 'PaymentMethod']).size().reset_index(name='Number of Orders')\n",
    "df_fail_combined = df_fail.groupby(['CategoryName', 'PaymentMethod']).size().reset_index(name='Number of Orders')"
   ]
  },
  {
   "cell_type": "code",
   "execution_count": 157,
   "metadata": {},
   "outputs": [
    {
     "data": {
      "application/vnd.plotly.v1+json": {
       "config": {
        "plotlyServerURL": "https://plot.ly"
       },
       "data": [
        {
         "branchvalues": "total",
         "domain": {
          "x": [
           0,
           1
          ],
          "y": [
           0,
           1
          ]
         },
         "hovertemplate": "labels=%{label}<br>Number of Orders=%{value}<br>parent=%{parent}<br>id=%{id}<extra></extra>",
         "ids": [
          "Appliances/Easypay",
          "Beauty & Grooming/Easypay",
          "Books/Easypay",
          "Computing/Easypay",
          "Entertainment/Easypay",
          "Health & Sports/Easypay",
          "Home & Living/Easypay",
          "Kids & Baby/Easypay",
          "Men's Fashion/Easypay",
          "Mobiles & Tablets/Easypay",
          "Others/Easypay",
          "School & Education/Easypay",
          "Soghaat/Easypay",
          "Superstore/Easypay",
          "Women's Fashion/Easypay",
          "Appliances/Easypay_MA",
          "Beauty & Grooming/Easypay_MA",
          "Books/Easypay_MA",
          "Computing/Easypay_MA",
          "Entertainment/Easypay_MA",
          "Health & Sports/Easypay_MA",
          "Home & Living/Easypay_MA",
          "Kids & Baby/Easypay_MA",
          "Men's Fashion/Easypay_MA",
          "Mobiles & Tablets/Easypay_MA",
          "Others/Easypay_MA",
          "School & Education/Easypay_MA",
          "Soghaat/Easypay_MA",
          "Superstore/Easypay_MA",
          "Women's Fashion/Easypay_MA",
          "Appliances/Payaxis",
          "Beauty & Grooming/Payaxis",
          "Books/Payaxis",
          "Computing/Payaxis",
          "Entertainment/Payaxis",
          "Health & Sports/Payaxis",
          "Home & Living/Payaxis",
          "Kids & Baby/Payaxis",
          "Men's Fashion/Payaxis",
          "Mobiles & Tablets/Payaxis",
          "Others/Payaxis",
          "School & Education/Payaxis",
          "Soghaat/Payaxis",
          "Superstore/Payaxis",
          "Women's Fashion/Payaxis",
          "Appliances/apg",
          "Beauty & Grooming/apg",
          "Books/apg",
          "Computing/apg",
          "Entertainment/apg",
          "Health & Sports/apg",
          "Home & Living/apg",
          "Kids & Baby/apg",
          "Men's Fashion/apg",
          "Mobiles & Tablets/apg",
          "Others/apg",
          "School & Education/apg",
          "Soghaat/apg",
          "Superstore/apg",
          "Women's Fashion/apg",
          "Appliances/bankalfalah",
          "Beauty & Grooming/bankalfalah",
          "Books/bankalfalah",
          "Computing/bankalfalah",
          "Entertainment/bankalfalah",
          "Health & Sports/bankalfalah",
          "Home & Living/bankalfalah",
          "Kids & Baby/bankalfalah",
          "Men's Fashion/bankalfalah",
          "Mobiles & Tablets/bankalfalah",
          "Others/bankalfalah",
          "School & Education/bankalfalah",
          "Soghaat/bankalfalah",
          "Superstore/bankalfalah",
          "Women's Fashion/bankalfalah",
          "Appliances/cashatdoorstep",
          "Beauty & Grooming/cashatdoorstep",
          "Books/cashatdoorstep",
          "Computing/cashatdoorstep",
          "Entertainment/cashatdoorstep",
          "Health & Sports/cashatdoorstep",
          "Home & Living/cashatdoorstep",
          "Kids & Baby/cashatdoorstep",
          "Men's Fashion/cashatdoorstep",
          "Mobiles & Tablets/cashatdoorstep",
          "Others/cashatdoorstep",
          "School & Education/cashatdoorstep",
          "Soghaat/cashatdoorstep",
          "Superstore/cashatdoorstep",
          "Women's Fashion/cashatdoorstep",
          "Appliances/cod",
          "Beauty & Grooming/cod",
          "Books/cod",
          "Computing/cod",
          "Entertainment/cod",
          "Health & Sports/cod",
          "Home & Living/cod",
          "Kids & Baby/cod",
          "Men's Fashion/cod",
          "Mobiles & Tablets/cod",
          "Others/cod",
          "School & Education/cod",
          "Soghaat/cod",
          "Superstore/cod",
          "Women's Fashion/cod",
          "Appliances/customercredit",
          "Beauty & Grooming/customercredit",
          "Books/customercredit",
          "Computing/customercredit",
          "Entertainment/customercredit",
          "Health & Sports/customercredit",
          "Home & Living/customercredit",
          "Kids & Baby/customercredit",
          "Men's Fashion/customercredit",
          "Mobiles & Tablets/customercredit",
          "Others/customercredit",
          "School & Education/customercredit",
          "Soghaat/customercredit",
          "Superstore/customercredit",
          "Women's Fashion/customercredit",
          "Appliances/easypay_voucher",
          "Beauty & Grooming/easypay_voucher",
          "Books/easypay_voucher",
          "Computing/easypay_voucher",
          "Entertainment/easypay_voucher",
          "Health & Sports/easypay_voucher",
          "Home & Living/easypay_voucher",
          "Kids & Baby/easypay_voucher",
          "Men's Fashion/easypay_voucher",
          "Mobiles & Tablets/easypay_voucher",
          "Others/easypay_voucher",
          "School & Education/easypay_voucher",
          "Soghaat/easypay_voucher",
          "Superstore/easypay_voucher",
          "Women's Fashion/easypay_voucher",
          "Appliances/financesettlement",
          "Beauty & Grooming/financesettlement",
          "Books/financesettlement",
          "Computing/financesettlement",
          "Entertainment/financesettlement",
          "Health & Sports/financesettlement",
          "Home & Living/financesettlement",
          "Kids & Baby/financesettlement",
          "Men's Fashion/financesettlement",
          "Mobiles & Tablets/financesettlement",
          "Others/financesettlement",
          "School & Education/financesettlement",
          "Soghaat/financesettlement",
          "Superstore/financesettlement",
          "Women's Fashion/financesettlement",
          "Appliances/internetbanking",
          "Beauty & Grooming/internetbanking",
          "Books/internetbanking",
          "Computing/internetbanking",
          "Entertainment/internetbanking",
          "Health & Sports/internetbanking",
          "Home & Living/internetbanking",
          "Kids & Baby/internetbanking",
          "Men's Fashion/internetbanking",
          "Mobiles & Tablets/internetbanking",
          "Others/internetbanking",
          "School & Education/internetbanking",
          "Soghaat/internetbanking",
          "Superstore/internetbanking",
          "Women's Fashion/internetbanking",
          "Appliances/jazzvoucher",
          "Beauty & Grooming/jazzvoucher",
          "Books/jazzvoucher",
          "Computing/jazzvoucher",
          "Entertainment/jazzvoucher",
          "Health & Sports/jazzvoucher",
          "Home & Living/jazzvoucher",
          "Kids & Baby/jazzvoucher",
          "Men's Fashion/jazzvoucher",
          "Mobiles & Tablets/jazzvoucher",
          "Others/jazzvoucher",
          "School & Education/jazzvoucher",
          "Soghaat/jazzvoucher",
          "Superstore/jazzvoucher",
          "Women's Fashion/jazzvoucher",
          "Appliances/jazzwallet",
          "Beauty & Grooming/jazzwallet",
          "Books/jazzwallet",
          "Computing/jazzwallet",
          "Entertainment/jazzwallet",
          "Health & Sports/jazzwallet",
          "Home & Living/jazzwallet",
          "Kids & Baby/jazzwallet",
          "Men's Fashion/jazzwallet",
          "Mobiles & Tablets/jazzwallet",
          "Others/jazzwallet",
          "School & Education/jazzwallet",
          "Soghaat/jazzwallet",
          "Superstore/jazzwallet",
          "Women's Fashion/jazzwallet",
          "Appliances/marketingexpense",
          "Beauty & Grooming/marketingexpense",
          "Books/marketingexpense",
          "Computing/marketingexpense",
          "Entertainment/marketingexpense",
          "Health & Sports/marketingexpense",
          "Home & Living/marketingexpense",
          "Kids & Baby/marketingexpense",
          "Men's Fashion/marketingexpense",
          "Mobiles & Tablets/marketingexpense",
          "Others/marketingexpense",
          "School & Education/marketingexpense",
          "Soghaat/marketingexpense",
          "Superstore/marketingexpense",
          "Women's Fashion/marketingexpense",
          "Appliances/mcblite",
          "Beauty & Grooming/mcblite",
          "Books/mcblite",
          "Computing/mcblite",
          "Entertainment/mcblite",
          "Health & Sports/mcblite",
          "Home & Living/mcblite",
          "Kids & Baby/mcblite",
          "Men's Fashion/mcblite",
          "Mobiles & Tablets/mcblite",
          "Others/mcblite",
          "School & Education/mcblite",
          "Soghaat/mcblite",
          "Superstore/mcblite",
          "Women's Fashion/mcblite",
          "Appliances/mygateway",
          "Beauty & Grooming/mygateway",
          "Books/mygateway",
          "Computing/mygateway",
          "Entertainment/mygateway",
          "Health & Sports/mygateway",
          "Home & Living/mygateway",
          "Kids & Baby/mygateway",
          "Men's Fashion/mygateway",
          "Mobiles & Tablets/mygateway",
          "Others/mygateway",
          "School & Education/mygateway",
          "Soghaat/mygateway",
          "Superstore/mygateway",
          "Women's Fashion/mygateway",
          "Appliances/productcredit",
          "Beauty & Grooming/productcredit",
          "Books/productcredit",
          "Computing/productcredit",
          "Entertainment/productcredit",
          "Health & Sports/productcredit",
          "Home & Living/productcredit",
          "Kids & Baby/productcredit",
          "Men's Fashion/productcredit",
          "Mobiles & Tablets/productcredit",
          "Others/productcredit",
          "School & Education/productcredit",
          "Soghaat/productcredit",
          "Superstore/productcredit",
          "Women's Fashion/productcredit",
          "Appliances/ublcreditcard",
          "Beauty & Grooming/ublcreditcard",
          "Books/ublcreditcard",
          "Computing/ublcreditcard",
          "Entertainment/ublcreditcard",
          "Health & Sports/ublcreditcard",
          "Home & Living/ublcreditcard",
          "Kids & Baby/ublcreditcard",
          "Men's Fashion/ublcreditcard",
          "Mobiles & Tablets/ublcreditcard",
          "Others/ublcreditcard",
          "School & Education/ublcreditcard",
          "Soghaat/ublcreditcard",
          "Superstore/ublcreditcard",
          "Women's Fashion/ublcreditcard",
          "Appliances",
          "Beauty & Grooming",
          "Books",
          "Computing",
          "Entertainment",
          "Health & Sports",
          "Home & Living",
          "Kids & Baby",
          "Men's Fashion",
          "Mobiles & Tablets",
          "Others",
          "School & Education",
          "Soghaat",
          "Superstore",
          "Women's Fashion"
         ],
         "labels": [
          "Easypay",
          "Easypay",
          "Easypay",
          "Easypay",
          "Easypay",
          "Easypay",
          "Easypay",
          "Easypay",
          "Easypay",
          "Easypay",
          "Easypay",
          "Easypay",
          "Easypay",
          "Easypay",
          "Easypay",
          "Easypay_MA",
          "Easypay_MA",
          "Easypay_MA",
          "Easypay_MA",
          "Easypay_MA",
          "Easypay_MA",
          "Easypay_MA",
          "Easypay_MA",
          "Easypay_MA",
          "Easypay_MA",
          "Easypay_MA",
          "Easypay_MA",
          "Easypay_MA",
          "Easypay_MA",
          "Easypay_MA",
          "Payaxis",
          "Payaxis",
          "Payaxis",
          "Payaxis",
          "Payaxis",
          "Payaxis",
          "Payaxis",
          "Payaxis",
          "Payaxis",
          "Payaxis",
          "Payaxis",
          "Payaxis",
          "Payaxis",
          "Payaxis",
          "Payaxis",
          "apg",
          "apg",
          "apg",
          "apg",
          "apg",
          "apg",
          "apg",
          "apg",
          "apg",
          "apg",
          "apg",
          "apg",
          "apg",
          "apg",
          "apg",
          "bankalfalah",
          "bankalfalah",
          "bankalfalah",
          "bankalfalah",
          "bankalfalah",
          "bankalfalah",
          "bankalfalah",
          "bankalfalah",
          "bankalfalah",
          "bankalfalah",
          "bankalfalah",
          "bankalfalah",
          "bankalfalah",
          "bankalfalah",
          "bankalfalah",
          "cashatdoorstep",
          "cashatdoorstep",
          "cashatdoorstep",
          "cashatdoorstep",
          "cashatdoorstep",
          "cashatdoorstep",
          "cashatdoorstep",
          "cashatdoorstep",
          "cashatdoorstep",
          "cashatdoorstep",
          "cashatdoorstep",
          "cashatdoorstep",
          "cashatdoorstep",
          "cashatdoorstep",
          "cashatdoorstep",
          "cod",
          "cod",
          "cod",
          "cod",
          "cod",
          "cod",
          "cod",
          "cod",
          "cod",
          "cod",
          "cod",
          "cod",
          "cod",
          "cod",
          "cod",
          "customercredit",
          "customercredit",
          "customercredit",
          "customercredit",
          "customercredit",
          "customercredit",
          "customercredit",
          "customercredit",
          "customercredit",
          "customercredit",
          "customercredit",
          "customercredit",
          "customercredit",
          "customercredit",
          "customercredit",
          "easypay_voucher",
          "easypay_voucher",
          "easypay_voucher",
          "easypay_voucher",
          "easypay_voucher",
          "easypay_voucher",
          "easypay_voucher",
          "easypay_voucher",
          "easypay_voucher",
          "easypay_voucher",
          "easypay_voucher",
          "easypay_voucher",
          "easypay_voucher",
          "easypay_voucher",
          "easypay_voucher",
          "financesettlement",
          "financesettlement",
          "financesettlement",
          "financesettlement",
          "financesettlement",
          "financesettlement",
          "financesettlement",
          "financesettlement",
          "financesettlement",
          "financesettlement",
          "financesettlement",
          "financesettlement",
          "financesettlement",
          "financesettlement",
          "financesettlement",
          "internetbanking",
          "internetbanking",
          "internetbanking",
          "internetbanking",
          "internetbanking",
          "internetbanking",
          "internetbanking",
          "internetbanking",
          "internetbanking",
          "internetbanking",
          "internetbanking",
          "internetbanking",
          "internetbanking",
          "internetbanking",
          "internetbanking",
          "jazzvoucher",
          "jazzvoucher",
          "jazzvoucher",
          "jazzvoucher",
          "jazzvoucher",
          "jazzvoucher",
          "jazzvoucher",
          "jazzvoucher",
          "jazzvoucher",
          "jazzvoucher",
          "jazzvoucher",
          "jazzvoucher",
          "jazzvoucher",
          "jazzvoucher",
          "jazzvoucher",
          "jazzwallet",
          "jazzwallet",
          "jazzwallet",
          "jazzwallet",
          "jazzwallet",
          "jazzwallet",
          "jazzwallet",
          "jazzwallet",
          "jazzwallet",
          "jazzwallet",
          "jazzwallet",
          "jazzwallet",
          "jazzwallet",
          "jazzwallet",
          "jazzwallet",
          "marketingexpense",
          "marketingexpense",
          "marketingexpense",
          "marketingexpense",
          "marketingexpense",
          "marketingexpense",
          "marketingexpense",
          "marketingexpense",
          "marketingexpense",
          "marketingexpense",
          "marketingexpense",
          "marketingexpense",
          "marketingexpense",
          "marketingexpense",
          "marketingexpense",
          "mcblite",
          "mcblite",
          "mcblite",
          "mcblite",
          "mcblite",
          "mcblite",
          "mcblite",
          "mcblite",
          "mcblite",
          "mcblite",
          "mcblite",
          "mcblite",
          "mcblite",
          "mcblite",
          "mcblite",
          "mygateway",
          "mygateway",
          "mygateway",
          "mygateway",
          "mygateway",
          "mygateway",
          "mygateway",
          "mygateway",
          "mygateway",
          "mygateway",
          "mygateway",
          "mygateway",
          "mygateway",
          "mygateway",
          "mygateway",
          "productcredit",
          "productcredit",
          "productcredit",
          "productcredit",
          "productcredit",
          "productcredit",
          "productcredit",
          "productcredit",
          "productcredit",
          "productcredit",
          "productcredit",
          "productcredit",
          "productcredit",
          "productcredit",
          "productcredit",
          "ublcreditcard",
          "ublcreditcard",
          "ublcreditcard",
          "ublcreditcard",
          "ublcreditcard",
          "ublcreditcard",
          "ublcreditcard",
          "ublcreditcard",
          "ublcreditcard",
          "ublcreditcard",
          "ublcreditcard",
          "ublcreditcard",
          "ublcreditcard",
          "ublcreditcard",
          "ublcreditcard",
          "Appliances",
          "Beauty & Grooming",
          "Books",
          "Computing",
          "Entertainment",
          "Health & Sports",
          "Home & Living",
          "Kids & Baby",
          "Men's Fashion",
          "Mobiles & Tablets",
          "Others",
          "School & Education",
          "Soghaat",
          "Superstore",
          "Women's Fashion"
         ],
         "name": "",
         "parents": [
          "Appliances",
          "Beauty & Grooming",
          "Books",
          "Computing",
          "Entertainment",
          "Health & Sports",
          "Home & Living",
          "Kids & Baby",
          "Men's Fashion",
          "Mobiles & Tablets",
          "Others",
          "School & Education",
          "Soghaat",
          "Superstore",
          "Women's Fashion",
          "Appliances",
          "Beauty & Grooming",
          "Books",
          "Computing",
          "Entertainment",
          "Health & Sports",
          "Home & Living",
          "Kids & Baby",
          "Men's Fashion",
          "Mobiles & Tablets",
          "Others",
          "School & Education",
          "Soghaat",
          "Superstore",
          "Women's Fashion",
          "Appliances",
          "Beauty & Grooming",
          "Books",
          "Computing",
          "Entertainment",
          "Health & Sports",
          "Home & Living",
          "Kids & Baby",
          "Men's Fashion",
          "Mobiles & Tablets",
          "Others",
          "School & Education",
          "Soghaat",
          "Superstore",
          "Women's Fashion",
          "Appliances",
          "Beauty & Grooming",
          "Books",
          "Computing",
          "Entertainment",
          "Health & Sports",
          "Home & Living",
          "Kids & Baby",
          "Men's Fashion",
          "Mobiles & Tablets",
          "Others",
          "School & Education",
          "Soghaat",
          "Superstore",
          "Women's Fashion",
          "Appliances",
          "Beauty & Grooming",
          "Books",
          "Computing",
          "Entertainment",
          "Health & Sports",
          "Home & Living",
          "Kids & Baby",
          "Men's Fashion",
          "Mobiles & Tablets",
          "Others",
          "School & Education",
          "Soghaat",
          "Superstore",
          "Women's Fashion",
          "Appliances",
          "Beauty & Grooming",
          "Books",
          "Computing",
          "Entertainment",
          "Health & Sports",
          "Home & Living",
          "Kids & Baby",
          "Men's Fashion",
          "Mobiles & Tablets",
          "Others",
          "School & Education",
          "Soghaat",
          "Superstore",
          "Women's Fashion",
          "Appliances",
          "Beauty & Grooming",
          "Books",
          "Computing",
          "Entertainment",
          "Health & Sports",
          "Home & Living",
          "Kids & Baby",
          "Men's Fashion",
          "Mobiles & Tablets",
          "Others",
          "School & Education",
          "Soghaat",
          "Superstore",
          "Women's Fashion",
          "Appliances",
          "Beauty & Grooming",
          "Books",
          "Computing",
          "Entertainment",
          "Health & Sports",
          "Home & Living",
          "Kids & Baby",
          "Men's Fashion",
          "Mobiles & Tablets",
          "Others",
          "School & Education",
          "Soghaat",
          "Superstore",
          "Women's Fashion",
          "Appliances",
          "Beauty & Grooming",
          "Books",
          "Computing",
          "Entertainment",
          "Health & Sports",
          "Home & Living",
          "Kids & Baby",
          "Men's Fashion",
          "Mobiles & Tablets",
          "Others",
          "School & Education",
          "Soghaat",
          "Superstore",
          "Women's Fashion",
          "Appliances",
          "Beauty & Grooming",
          "Books",
          "Computing",
          "Entertainment",
          "Health & Sports",
          "Home & Living",
          "Kids & Baby",
          "Men's Fashion",
          "Mobiles & Tablets",
          "Others",
          "School & Education",
          "Soghaat",
          "Superstore",
          "Women's Fashion",
          "Appliances",
          "Beauty & Grooming",
          "Books",
          "Computing",
          "Entertainment",
          "Health & Sports",
          "Home & Living",
          "Kids & Baby",
          "Men's Fashion",
          "Mobiles & Tablets",
          "Others",
          "School & Education",
          "Soghaat",
          "Superstore",
          "Women's Fashion",
          "Appliances",
          "Beauty & Grooming",
          "Books",
          "Computing",
          "Entertainment",
          "Health & Sports",
          "Home & Living",
          "Kids & Baby",
          "Men's Fashion",
          "Mobiles & Tablets",
          "Others",
          "School & Education",
          "Soghaat",
          "Superstore",
          "Women's Fashion",
          "Appliances",
          "Beauty & Grooming",
          "Books",
          "Computing",
          "Entertainment",
          "Health & Sports",
          "Home & Living",
          "Kids & Baby",
          "Men's Fashion",
          "Mobiles & Tablets",
          "Others",
          "School & Education",
          "Soghaat",
          "Superstore",
          "Women's Fashion",
          "Appliances",
          "Beauty & Grooming",
          "Books",
          "Computing",
          "Entertainment",
          "Health & Sports",
          "Home & Living",
          "Kids & Baby",
          "Men's Fashion",
          "Mobiles & Tablets",
          "Others",
          "School & Education",
          "Soghaat",
          "Superstore",
          "Women's Fashion",
          "Appliances",
          "Beauty & Grooming",
          "Books",
          "Computing",
          "Entertainment",
          "Health & Sports",
          "Home & Living",
          "Kids & Baby",
          "Men's Fashion",
          "Mobiles & Tablets",
          "Others",
          "School & Education",
          "Soghaat",
          "Superstore",
          "Women's Fashion",
          "Appliances",
          "Beauty & Grooming",
          "Books",
          "Computing",
          "Entertainment",
          "Health & Sports",
          "Home & Living",
          "Kids & Baby",
          "Men's Fashion",
          "Mobiles & Tablets",
          "Others",
          "School & Education",
          "Soghaat",
          "Superstore",
          "Women's Fashion",
          "Appliances",
          "Beauty & Grooming",
          "Books",
          "Computing",
          "Entertainment",
          "Health & Sports",
          "Home & Living",
          "Kids & Baby",
          "Men's Fashion",
          "Mobiles & Tablets",
          "Others",
          "School & Education",
          "Soghaat",
          "Superstore",
          "Women's Fashion",
          "Appliances",
          "Beauty & Grooming",
          "Books",
          "Computing",
          "Entertainment",
          "Health & Sports",
          "Home & Living",
          "Kids & Baby",
          "Men's Fashion",
          "Mobiles & Tablets",
          "Others",
          "School & Education",
          "Soghaat",
          "Superstore",
          "Women's Fashion",
          "",
          "",
          "",
          "",
          "",
          "",
          "",
          "",
          "",
          "",
          "",
          "",
          "",
          "",
          ""
         ],
         "type": "treemap",
         "values": [
          4156,
          0,
          0,
          0,
          1687,
          0,
          0,
          0,
          2373,
          5951,
          0,
          0,
          0,
          0,
          2098,
          709,
          0,
          0,
          0,
          218,
          0,
          0,
          0,
          574,
          796,
          0,
          0,
          0,
          0,
          281,
          3093,
          0,
          0,
          0,
          2346,
          0,
          0,
          0,
          2788,
          6708,
          0,
          0,
          0,
          0,
          2775,
          58,
          0,
          0,
          0,
          25,
          0,
          0,
          0,
          25,
          48,
          0,
          0,
          0,
          0,
          47,
          717,
          0,
          0,
          0,
          370,
          0,
          0,
          0,
          448,
          1103,
          0,
          0,
          0,
          0,
          630,
          31,
          0,
          0,
          0,
          2,
          0,
          0,
          0,
          48,
          29,
          0,
          0,
          0,
          0,
          18,
          10472,
          0,
          0,
          0,
          2495,
          0,
          0,
          0,
          43806,
          23458,
          0,
          0,
          0,
          0,
          26677,
          506,
          0,
          0,
          0,
          192,
          0,
          0,
          0,
          1053,
          870,
          0,
          0,
          0,
          0,
          660,
          3726,
          0,
          0,
          0,
          3148,
          0,
          0,
          0,
          656,
          7924,
          0,
          0,
          0,
          0,
          386,
          0,
          0,
          0,
          0,
          0,
          0,
          0,
          0,
          0,
          9,
          0,
          0,
          0,
          0,
          0,
          11,
          0,
          0,
          0,
          1,
          0,
          0,
          0,
          18,
          16,
          0,
          0,
          0,
          0,
          22,
          897,
          0,
          0,
          0,
          760,
          0,
          0,
          0,
          319,
          2180,
          0,
          0,
          0,
          0,
          265,
          1153,
          0,
          0,
          0,
          244,
          0,
          0,
          0,
          1199,
          2361,
          0,
          0,
          0,
          0,
          604,
          0,
          0,
          0,
          0,
          0,
          0,
          0,
          0,
          0,
          5,
          0,
          0,
          0,
          0,
          34,
          14,
          0,
          0,
          0,
          13,
          0,
          0,
          0,
          12,
          24,
          0,
          0,
          0,
          0,
          20,
          0,
          0,
          0,
          0,
          0,
          0,
          0,
          0,
          2,
          0,
          0,
          0,
          0,
          0,
          11,
          12,
          0,
          0,
          0,
          2,
          0,
          0,
          0,
          19,
          7,
          0,
          0,
          0,
          0,
          10,
          23,
          0,
          0,
          0,
          5,
          0,
          0,
          0,
          12,
          40,
          0,
          0,
          0,
          0,
          22,
          25578,
          0,
          0,
          0,
          11508,
          0,
          0,
          0,
          53352,
          51529,
          0,
          0,
          0,
          0,
          34560
         ]
        }
       ],
       "layout": {
        "legend": {
         "tracegroupgap": 0
        },
        "margin": {
         "b": 25,
         "l": 25,
         "r": 25,
         "t": 50
        },
        "template": {
         "data": {
          "bar": [
           {
            "error_x": {
             "color": "#2a3f5f"
            },
            "error_y": {
             "color": "#2a3f5f"
            },
            "marker": {
             "line": {
              "color": "#E5ECF6",
              "width": 0.5
             },
             "pattern": {
              "fillmode": "overlay",
              "size": 10,
              "solidity": 0.2
             }
            },
            "type": "bar"
           }
          ],
          "barpolar": [
           {
            "marker": {
             "line": {
              "color": "#E5ECF6",
              "width": 0.5
             },
             "pattern": {
              "fillmode": "overlay",
              "size": 10,
              "solidity": 0.2
             }
            },
            "type": "barpolar"
           }
          ],
          "carpet": [
           {
            "aaxis": {
             "endlinecolor": "#2a3f5f",
             "gridcolor": "white",
             "linecolor": "white",
             "minorgridcolor": "white",
             "startlinecolor": "#2a3f5f"
            },
            "baxis": {
             "endlinecolor": "#2a3f5f",
             "gridcolor": "white",
             "linecolor": "white",
             "minorgridcolor": "white",
             "startlinecolor": "#2a3f5f"
            },
            "type": "carpet"
           }
          ],
          "choropleth": [
           {
            "colorbar": {
             "outlinewidth": 0,
             "ticks": ""
            },
            "type": "choropleth"
           }
          ],
          "contour": [
           {
            "colorbar": {
             "outlinewidth": 0,
             "ticks": ""
            },
            "colorscale": [
             [
              0,
              "#0d0887"
             ],
             [
              0.1111111111111111,
              "#46039f"
             ],
             [
              0.2222222222222222,
              "#7201a8"
             ],
             [
              0.3333333333333333,
              "#9c179e"
             ],
             [
              0.4444444444444444,
              "#bd3786"
             ],
             [
              0.5555555555555556,
              "#d8576b"
             ],
             [
              0.6666666666666666,
              "#ed7953"
             ],
             [
              0.7777777777777778,
              "#fb9f3a"
             ],
             [
              0.8888888888888888,
              "#fdca26"
             ],
             [
              1,
              "#f0f921"
             ]
            ],
            "type": "contour"
           }
          ],
          "contourcarpet": [
           {
            "colorbar": {
             "outlinewidth": 0,
             "ticks": ""
            },
            "type": "contourcarpet"
           }
          ],
          "heatmap": [
           {
            "colorbar": {
             "outlinewidth": 0,
             "ticks": ""
            },
            "colorscale": [
             [
              0,
              "#0d0887"
             ],
             [
              0.1111111111111111,
              "#46039f"
             ],
             [
              0.2222222222222222,
              "#7201a8"
             ],
             [
              0.3333333333333333,
              "#9c179e"
             ],
             [
              0.4444444444444444,
              "#bd3786"
             ],
             [
              0.5555555555555556,
              "#d8576b"
             ],
             [
              0.6666666666666666,
              "#ed7953"
             ],
             [
              0.7777777777777778,
              "#fb9f3a"
             ],
             [
              0.8888888888888888,
              "#fdca26"
             ],
             [
              1,
              "#f0f921"
             ]
            ],
            "type": "heatmap"
           }
          ],
          "heatmapgl": [
           {
            "colorbar": {
             "outlinewidth": 0,
             "ticks": ""
            },
            "colorscale": [
             [
              0,
              "#0d0887"
             ],
             [
              0.1111111111111111,
              "#46039f"
             ],
             [
              0.2222222222222222,
              "#7201a8"
             ],
             [
              0.3333333333333333,
              "#9c179e"
             ],
             [
              0.4444444444444444,
              "#bd3786"
             ],
             [
              0.5555555555555556,
              "#d8576b"
             ],
             [
              0.6666666666666666,
              "#ed7953"
             ],
             [
              0.7777777777777778,
              "#fb9f3a"
             ],
             [
              0.8888888888888888,
              "#fdca26"
             ],
             [
              1,
              "#f0f921"
             ]
            ],
            "type": "heatmapgl"
           }
          ],
          "histogram": [
           {
            "marker": {
             "pattern": {
              "fillmode": "overlay",
              "size": 10,
              "solidity": 0.2
             }
            },
            "type": "histogram"
           }
          ],
          "histogram2d": [
           {
            "colorbar": {
             "outlinewidth": 0,
             "ticks": ""
            },
            "colorscale": [
             [
              0,
              "#0d0887"
             ],
             [
              0.1111111111111111,
              "#46039f"
             ],
             [
              0.2222222222222222,
              "#7201a8"
             ],
             [
              0.3333333333333333,
              "#9c179e"
             ],
             [
              0.4444444444444444,
              "#bd3786"
             ],
             [
              0.5555555555555556,
              "#d8576b"
             ],
             [
              0.6666666666666666,
              "#ed7953"
             ],
             [
              0.7777777777777778,
              "#fb9f3a"
             ],
             [
              0.8888888888888888,
              "#fdca26"
             ],
             [
              1,
              "#f0f921"
             ]
            ],
            "type": "histogram2d"
           }
          ],
          "histogram2dcontour": [
           {
            "colorbar": {
             "outlinewidth": 0,
             "ticks": ""
            },
            "colorscale": [
             [
              0,
              "#0d0887"
             ],
             [
              0.1111111111111111,
              "#46039f"
             ],
             [
              0.2222222222222222,
              "#7201a8"
             ],
             [
              0.3333333333333333,
              "#9c179e"
             ],
             [
              0.4444444444444444,
              "#bd3786"
             ],
             [
              0.5555555555555556,
              "#d8576b"
             ],
             [
              0.6666666666666666,
              "#ed7953"
             ],
             [
              0.7777777777777778,
              "#fb9f3a"
             ],
             [
              0.8888888888888888,
              "#fdca26"
             ],
             [
              1,
              "#f0f921"
             ]
            ],
            "type": "histogram2dcontour"
           }
          ],
          "mesh3d": [
           {
            "colorbar": {
             "outlinewidth": 0,
             "ticks": ""
            },
            "type": "mesh3d"
           }
          ],
          "parcoords": [
           {
            "line": {
             "colorbar": {
              "outlinewidth": 0,
              "ticks": ""
             }
            },
            "type": "parcoords"
           }
          ],
          "pie": [
           {
            "automargin": true,
            "type": "pie"
           }
          ],
          "scatter": [
           {
            "fillpattern": {
             "fillmode": "overlay",
             "size": 10,
             "solidity": 0.2
            },
            "type": "scatter"
           }
          ],
          "scatter3d": [
           {
            "line": {
             "colorbar": {
              "outlinewidth": 0,
              "ticks": ""
             }
            },
            "marker": {
             "colorbar": {
              "outlinewidth": 0,
              "ticks": ""
             }
            },
            "type": "scatter3d"
           }
          ],
          "scattercarpet": [
           {
            "marker": {
             "colorbar": {
              "outlinewidth": 0,
              "ticks": ""
             }
            },
            "type": "scattercarpet"
           }
          ],
          "scattergeo": [
           {
            "marker": {
             "colorbar": {
              "outlinewidth": 0,
              "ticks": ""
             }
            },
            "type": "scattergeo"
           }
          ],
          "scattergl": [
           {
            "marker": {
             "colorbar": {
              "outlinewidth": 0,
              "ticks": ""
             }
            },
            "type": "scattergl"
           }
          ],
          "scattermapbox": [
           {
            "marker": {
             "colorbar": {
              "outlinewidth": 0,
              "ticks": ""
             }
            },
            "type": "scattermapbox"
           }
          ],
          "scatterpolar": [
           {
            "marker": {
             "colorbar": {
              "outlinewidth": 0,
              "ticks": ""
             }
            },
            "type": "scatterpolar"
           }
          ],
          "scatterpolargl": [
           {
            "marker": {
             "colorbar": {
              "outlinewidth": 0,
              "ticks": ""
             }
            },
            "type": "scatterpolargl"
           }
          ],
          "scatterternary": [
           {
            "marker": {
             "colorbar": {
              "outlinewidth": 0,
              "ticks": ""
             }
            },
            "type": "scatterternary"
           }
          ],
          "surface": [
           {
            "colorbar": {
             "outlinewidth": 0,
             "ticks": ""
            },
            "colorscale": [
             [
              0,
              "#0d0887"
             ],
             [
              0.1111111111111111,
              "#46039f"
             ],
             [
              0.2222222222222222,
              "#7201a8"
             ],
             [
              0.3333333333333333,
              "#9c179e"
             ],
             [
              0.4444444444444444,
              "#bd3786"
             ],
             [
              0.5555555555555556,
              "#d8576b"
             ],
             [
              0.6666666666666666,
              "#ed7953"
             ],
             [
              0.7777777777777778,
              "#fb9f3a"
             ],
             [
              0.8888888888888888,
              "#fdca26"
             ],
             [
              1,
              "#f0f921"
             ]
            ],
            "type": "surface"
           }
          ],
          "table": [
           {
            "cells": {
             "fill": {
              "color": "#EBF0F8"
             },
             "line": {
              "color": "white"
             }
            },
            "header": {
             "fill": {
              "color": "#C8D4E3"
             },
             "line": {
              "color": "white"
             }
            },
            "type": "table"
           }
          ]
         },
         "layout": {
          "annotationdefaults": {
           "arrowcolor": "#2a3f5f",
           "arrowhead": 0,
           "arrowwidth": 1
          },
          "autotypenumbers": "strict",
          "coloraxis": {
           "colorbar": {
            "outlinewidth": 0,
            "ticks": ""
           }
          },
          "colorscale": {
           "diverging": [
            [
             0,
             "#8e0152"
            ],
            [
             0.1,
             "#c51b7d"
            ],
            [
             0.2,
             "#de77ae"
            ],
            [
             0.3,
             "#f1b6da"
            ],
            [
             0.4,
             "#fde0ef"
            ],
            [
             0.5,
             "#f7f7f7"
            ],
            [
             0.6,
             "#e6f5d0"
            ],
            [
             0.7,
             "#b8e186"
            ],
            [
             0.8,
             "#7fbc41"
            ],
            [
             0.9,
             "#4d9221"
            ],
            [
             1,
             "#276419"
            ]
           ],
           "sequential": [
            [
             0,
             "#0d0887"
            ],
            [
             0.1111111111111111,
             "#46039f"
            ],
            [
             0.2222222222222222,
             "#7201a8"
            ],
            [
             0.3333333333333333,
             "#9c179e"
            ],
            [
             0.4444444444444444,
             "#bd3786"
            ],
            [
             0.5555555555555556,
             "#d8576b"
            ],
            [
             0.6666666666666666,
             "#ed7953"
            ],
            [
             0.7777777777777778,
             "#fb9f3a"
            ],
            [
             0.8888888888888888,
             "#fdca26"
            ],
            [
             1,
             "#f0f921"
            ]
           ],
           "sequentialminus": [
            [
             0,
             "#0d0887"
            ],
            [
             0.1111111111111111,
             "#46039f"
            ],
            [
             0.2222222222222222,
             "#7201a8"
            ],
            [
             0.3333333333333333,
             "#9c179e"
            ],
            [
             0.4444444444444444,
             "#bd3786"
            ],
            [
             0.5555555555555556,
             "#d8576b"
            ],
            [
             0.6666666666666666,
             "#ed7953"
            ],
            [
             0.7777777777777778,
             "#fb9f3a"
            ],
            [
             0.8888888888888888,
             "#fdca26"
            ],
            [
             1,
             "#f0f921"
            ]
           ]
          },
          "colorway": [
           "#636efa",
           "#EF553B",
           "#00cc96",
           "#ab63fa",
           "#FFA15A",
           "#19d3f3",
           "#FF6692",
           "#B6E880",
           "#FF97FF",
           "#FECB52"
          ],
          "font": {
           "color": "#2a3f5f"
          },
          "geo": {
           "bgcolor": "white",
           "lakecolor": "white",
           "landcolor": "#E5ECF6",
           "showlakes": true,
           "showland": true,
           "subunitcolor": "white"
          },
          "hoverlabel": {
           "align": "left"
          },
          "hovermode": "closest",
          "mapbox": {
           "style": "light"
          },
          "paper_bgcolor": "white",
          "plot_bgcolor": "#E5ECF6",
          "polar": {
           "angularaxis": {
            "gridcolor": "white",
            "linecolor": "white",
            "ticks": ""
           },
           "bgcolor": "#E5ECF6",
           "radialaxis": {
            "gridcolor": "white",
            "linecolor": "white",
            "ticks": ""
           }
          },
          "scene": {
           "xaxis": {
            "backgroundcolor": "#E5ECF6",
            "gridcolor": "white",
            "gridwidth": 2,
            "linecolor": "white",
            "showbackground": true,
            "ticks": "",
            "zerolinecolor": "white"
           },
           "yaxis": {
            "backgroundcolor": "#E5ECF6",
            "gridcolor": "white",
            "gridwidth": 2,
            "linecolor": "white",
            "showbackground": true,
            "ticks": "",
            "zerolinecolor": "white"
           },
           "zaxis": {
            "backgroundcolor": "#E5ECF6",
            "gridcolor": "white",
            "gridwidth": 2,
            "linecolor": "white",
            "showbackground": true,
            "ticks": "",
            "zerolinecolor": "white"
           }
          },
          "shapedefaults": {
           "line": {
            "color": "#2a3f5f"
           }
          },
          "ternary": {
           "aaxis": {
            "gridcolor": "white",
            "linecolor": "white",
            "ticks": ""
           },
           "baxis": {
            "gridcolor": "white",
            "linecolor": "white",
            "ticks": ""
           },
           "bgcolor": "#E5ECF6",
           "caxis": {
            "gridcolor": "white",
            "linecolor": "white",
            "ticks": ""
           }
          },
          "title": {
           "x": 0.05
          },
          "xaxis": {
           "automargin": true,
           "gridcolor": "white",
           "linecolor": "white",
           "ticks": "",
           "title": {
            "standoff": 15
           },
           "zerolinecolor": "white",
           "zerolinewidth": 2
          },
          "yaxis": {
           "automargin": true,
           "gridcolor": "white",
           "linecolor": "white",
           "ticks": "",
           "title": {
            "standoff": 15
           },
           "zerolinecolor": "white",
           "zerolinewidth": 2
          }
         }
        },
        "title": {
         "text": "[Fig 6] Payment Method from each 5 Selected Categories (Success Status)"
        }
       }
      }
     },
     "metadata": {},
     "output_type": "display_data"
    },
    {
     "data": {
      "application/vnd.plotly.v1+json": {
       "config": {
        "plotlyServerURL": "https://plot.ly"
       },
       "data": [
        {
         "branchvalues": "total",
         "domain": {
          "x": [
           0,
           1
          ],
          "y": [
           0,
           1
          ]
         },
         "hovertemplate": "labels=%{label}<br>Number of Orders=%{value}<br>parent=%{parent}<br>id=%{id}<extra></extra>",
         "ids": [
          "Appliances/Easypay",
          "Beauty & Grooming/Easypay",
          "Books/Easypay",
          "Computing/Easypay",
          "Entertainment/Easypay",
          "Health & Sports/Easypay",
          "Home & Living/Easypay",
          "Kids & Baby/Easypay",
          "Men's Fashion/Easypay",
          "Mobiles & Tablets/Easypay",
          "Others/Easypay",
          "School & Education/Easypay",
          "Soghaat/Easypay",
          "Superstore/Easypay",
          "Women's Fashion/Easypay",
          "Appliances/Easypay_MA",
          "Beauty & Grooming/Easypay_MA",
          "Books/Easypay_MA",
          "Computing/Easypay_MA",
          "Entertainment/Easypay_MA",
          "Health & Sports/Easypay_MA",
          "Home & Living/Easypay_MA",
          "Kids & Baby/Easypay_MA",
          "Men's Fashion/Easypay_MA",
          "Mobiles & Tablets/Easypay_MA",
          "Others/Easypay_MA",
          "School & Education/Easypay_MA",
          "Soghaat/Easypay_MA",
          "Superstore/Easypay_MA",
          "Women's Fashion/Easypay_MA",
          "Appliances/Payaxis",
          "Beauty & Grooming/Payaxis",
          "Books/Payaxis",
          "Computing/Payaxis",
          "Entertainment/Payaxis",
          "Health & Sports/Payaxis",
          "Home & Living/Payaxis",
          "Kids & Baby/Payaxis",
          "Men's Fashion/Payaxis",
          "Mobiles & Tablets/Payaxis",
          "Others/Payaxis",
          "School & Education/Payaxis",
          "Soghaat/Payaxis",
          "Superstore/Payaxis",
          "Women's Fashion/Payaxis",
          "Appliances/apg",
          "Beauty & Grooming/apg",
          "Books/apg",
          "Computing/apg",
          "Entertainment/apg",
          "Health & Sports/apg",
          "Home & Living/apg",
          "Kids & Baby/apg",
          "Men's Fashion/apg",
          "Mobiles & Tablets/apg",
          "Others/apg",
          "School & Education/apg",
          "Soghaat/apg",
          "Superstore/apg",
          "Women's Fashion/apg",
          "Appliances/bankalfalah",
          "Beauty & Grooming/bankalfalah",
          "Books/bankalfalah",
          "Computing/bankalfalah",
          "Entertainment/bankalfalah",
          "Health & Sports/bankalfalah",
          "Home & Living/bankalfalah",
          "Kids & Baby/bankalfalah",
          "Men's Fashion/bankalfalah",
          "Mobiles & Tablets/bankalfalah",
          "Others/bankalfalah",
          "School & Education/bankalfalah",
          "Soghaat/bankalfalah",
          "Superstore/bankalfalah",
          "Women's Fashion/bankalfalah",
          "Appliances/cashatdoorstep",
          "Beauty & Grooming/cashatdoorstep",
          "Books/cashatdoorstep",
          "Computing/cashatdoorstep",
          "Entertainment/cashatdoorstep",
          "Health & Sports/cashatdoorstep",
          "Home & Living/cashatdoorstep",
          "Kids & Baby/cashatdoorstep",
          "Men's Fashion/cashatdoorstep",
          "Mobiles & Tablets/cashatdoorstep",
          "Others/cashatdoorstep",
          "School & Education/cashatdoorstep",
          "Soghaat/cashatdoorstep",
          "Superstore/cashatdoorstep",
          "Women's Fashion/cashatdoorstep",
          "Appliances/cod",
          "Beauty & Grooming/cod",
          "Books/cod",
          "Computing/cod",
          "Entertainment/cod",
          "Health & Sports/cod",
          "Home & Living/cod",
          "Kids & Baby/cod",
          "Men's Fashion/cod",
          "Mobiles & Tablets/cod",
          "Others/cod",
          "School & Education/cod",
          "Soghaat/cod",
          "Superstore/cod",
          "Women's Fashion/cod",
          "Appliances/customercredit",
          "Beauty & Grooming/customercredit",
          "Books/customercredit",
          "Computing/customercredit",
          "Entertainment/customercredit",
          "Health & Sports/customercredit",
          "Home & Living/customercredit",
          "Kids & Baby/customercredit",
          "Men's Fashion/customercredit",
          "Mobiles & Tablets/customercredit",
          "Others/customercredit",
          "School & Education/customercredit",
          "Soghaat/customercredit",
          "Superstore/customercredit",
          "Women's Fashion/customercredit",
          "Appliances/easypay_voucher",
          "Beauty & Grooming/easypay_voucher",
          "Books/easypay_voucher",
          "Computing/easypay_voucher",
          "Entertainment/easypay_voucher",
          "Health & Sports/easypay_voucher",
          "Home & Living/easypay_voucher",
          "Kids & Baby/easypay_voucher",
          "Men's Fashion/easypay_voucher",
          "Mobiles & Tablets/easypay_voucher",
          "Others/easypay_voucher",
          "School & Education/easypay_voucher",
          "Soghaat/easypay_voucher",
          "Superstore/easypay_voucher",
          "Women's Fashion/easypay_voucher",
          "Appliances/financesettlement",
          "Beauty & Grooming/financesettlement",
          "Books/financesettlement",
          "Computing/financesettlement",
          "Entertainment/financesettlement",
          "Health & Sports/financesettlement",
          "Home & Living/financesettlement",
          "Kids & Baby/financesettlement",
          "Men's Fashion/financesettlement",
          "Mobiles & Tablets/financesettlement",
          "Others/financesettlement",
          "School & Education/financesettlement",
          "Soghaat/financesettlement",
          "Superstore/financesettlement",
          "Women's Fashion/financesettlement",
          "Appliances/internetbanking",
          "Beauty & Grooming/internetbanking",
          "Books/internetbanking",
          "Computing/internetbanking",
          "Entertainment/internetbanking",
          "Health & Sports/internetbanking",
          "Home & Living/internetbanking",
          "Kids & Baby/internetbanking",
          "Men's Fashion/internetbanking",
          "Mobiles & Tablets/internetbanking",
          "Others/internetbanking",
          "School & Education/internetbanking",
          "Soghaat/internetbanking",
          "Superstore/internetbanking",
          "Women's Fashion/internetbanking",
          "Appliances/jazzvoucher",
          "Beauty & Grooming/jazzvoucher",
          "Books/jazzvoucher",
          "Computing/jazzvoucher",
          "Entertainment/jazzvoucher",
          "Health & Sports/jazzvoucher",
          "Home & Living/jazzvoucher",
          "Kids & Baby/jazzvoucher",
          "Men's Fashion/jazzvoucher",
          "Mobiles & Tablets/jazzvoucher",
          "Others/jazzvoucher",
          "School & Education/jazzvoucher",
          "Soghaat/jazzvoucher",
          "Superstore/jazzvoucher",
          "Women's Fashion/jazzvoucher",
          "Appliances/jazzwallet",
          "Beauty & Grooming/jazzwallet",
          "Books/jazzwallet",
          "Computing/jazzwallet",
          "Entertainment/jazzwallet",
          "Health & Sports/jazzwallet",
          "Home & Living/jazzwallet",
          "Kids & Baby/jazzwallet",
          "Men's Fashion/jazzwallet",
          "Mobiles & Tablets/jazzwallet",
          "Others/jazzwallet",
          "School & Education/jazzwallet",
          "Soghaat/jazzwallet",
          "Superstore/jazzwallet",
          "Women's Fashion/jazzwallet",
          "Appliances/marketingexpense",
          "Beauty & Grooming/marketingexpense",
          "Books/marketingexpense",
          "Computing/marketingexpense",
          "Entertainment/marketingexpense",
          "Health & Sports/marketingexpense",
          "Home & Living/marketingexpense",
          "Kids & Baby/marketingexpense",
          "Men's Fashion/marketingexpense",
          "Mobiles & Tablets/marketingexpense",
          "Others/marketingexpense",
          "School & Education/marketingexpense",
          "Soghaat/marketingexpense",
          "Superstore/marketingexpense",
          "Women's Fashion/marketingexpense",
          "Appliances/mcblite",
          "Beauty & Grooming/mcblite",
          "Books/mcblite",
          "Computing/mcblite",
          "Entertainment/mcblite",
          "Health & Sports/mcblite",
          "Home & Living/mcblite",
          "Kids & Baby/mcblite",
          "Men's Fashion/mcblite",
          "Mobiles & Tablets/mcblite",
          "Others/mcblite",
          "School & Education/mcblite",
          "Soghaat/mcblite",
          "Superstore/mcblite",
          "Women's Fashion/mcblite",
          "Appliances/mygateway",
          "Beauty & Grooming/mygateway",
          "Books/mygateway",
          "Computing/mygateway",
          "Entertainment/mygateway",
          "Health & Sports/mygateway",
          "Home & Living/mygateway",
          "Kids & Baby/mygateway",
          "Men's Fashion/mygateway",
          "Mobiles & Tablets/mygateway",
          "Others/mygateway",
          "School & Education/mygateway",
          "Soghaat/mygateway",
          "Superstore/mygateway",
          "Women's Fashion/mygateway",
          "Appliances/productcredit",
          "Beauty & Grooming/productcredit",
          "Books/productcredit",
          "Computing/productcredit",
          "Entertainment/productcredit",
          "Health & Sports/productcredit",
          "Home & Living/productcredit",
          "Kids & Baby/productcredit",
          "Men's Fashion/productcredit",
          "Mobiles & Tablets/productcredit",
          "Others/productcredit",
          "School & Education/productcredit",
          "Soghaat/productcredit",
          "Superstore/productcredit",
          "Women's Fashion/productcredit",
          "Appliances/ublcreditcard",
          "Beauty & Grooming/ublcreditcard",
          "Books/ublcreditcard",
          "Computing/ublcreditcard",
          "Entertainment/ublcreditcard",
          "Health & Sports/ublcreditcard",
          "Home & Living/ublcreditcard",
          "Kids & Baby/ublcreditcard",
          "Men's Fashion/ublcreditcard",
          "Mobiles & Tablets/ublcreditcard",
          "Others/ublcreditcard",
          "School & Education/ublcreditcard",
          "Soghaat/ublcreditcard",
          "Superstore/ublcreditcard",
          "Women's Fashion/ublcreditcard",
          "Appliances",
          "Beauty & Grooming",
          "Books",
          "Computing",
          "Entertainment",
          "Health & Sports",
          "Home & Living",
          "Kids & Baby",
          "Men's Fashion",
          "Mobiles & Tablets",
          "Others",
          "School & Education",
          "Soghaat",
          "Superstore",
          "Women's Fashion"
         ],
         "labels": [
          "Easypay",
          "Easypay",
          "Easypay",
          "Easypay",
          "Easypay",
          "Easypay",
          "Easypay",
          "Easypay",
          "Easypay",
          "Easypay",
          "Easypay",
          "Easypay",
          "Easypay",
          "Easypay",
          "Easypay",
          "Easypay_MA",
          "Easypay_MA",
          "Easypay_MA",
          "Easypay_MA",
          "Easypay_MA",
          "Easypay_MA",
          "Easypay_MA",
          "Easypay_MA",
          "Easypay_MA",
          "Easypay_MA",
          "Easypay_MA",
          "Easypay_MA",
          "Easypay_MA",
          "Easypay_MA",
          "Easypay_MA",
          "Payaxis",
          "Payaxis",
          "Payaxis",
          "Payaxis",
          "Payaxis",
          "Payaxis",
          "Payaxis",
          "Payaxis",
          "Payaxis",
          "Payaxis",
          "Payaxis",
          "Payaxis",
          "Payaxis",
          "Payaxis",
          "Payaxis",
          "apg",
          "apg",
          "apg",
          "apg",
          "apg",
          "apg",
          "apg",
          "apg",
          "apg",
          "apg",
          "apg",
          "apg",
          "apg",
          "apg",
          "apg",
          "bankalfalah",
          "bankalfalah",
          "bankalfalah",
          "bankalfalah",
          "bankalfalah",
          "bankalfalah",
          "bankalfalah",
          "bankalfalah",
          "bankalfalah",
          "bankalfalah",
          "bankalfalah",
          "bankalfalah",
          "bankalfalah",
          "bankalfalah",
          "bankalfalah",
          "cashatdoorstep",
          "cashatdoorstep",
          "cashatdoorstep",
          "cashatdoorstep",
          "cashatdoorstep",
          "cashatdoorstep",
          "cashatdoorstep",
          "cashatdoorstep",
          "cashatdoorstep",
          "cashatdoorstep",
          "cashatdoorstep",
          "cashatdoorstep",
          "cashatdoorstep",
          "cashatdoorstep",
          "cashatdoorstep",
          "cod",
          "cod",
          "cod",
          "cod",
          "cod",
          "cod",
          "cod",
          "cod",
          "cod",
          "cod",
          "cod",
          "cod",
          "cod",
          "cod",
          "cod",
          "customercredit",
          "customercredit",
          "customercredit",
          "customercredit",
          "customercredit",
          "customercredit",
          "customercredit",
          "customercredit",
          "customercredit",
          "customercredit",
          "customercredit",
          "customercredit",
          "customercredit",
          "customercredit",
          "customercredit",
          "easypay_voucher",
          "easypay_voucher",
          "easypay_voucher",
          "easypay_voucher",
          "easypay_voucher",
          "easypay_voucher",
          "easypay_voucher",
          "easypay_voucher",
          "easypay_voucher",
          "easypay_voucher",
          "easypay_voucher",
          "easypay_voucher",
          "easypay_voucher",
          "easypay_voucher",
          "easypay_voucher",
          "financesettlement",
          "financesettlement",
          "financesettlement",
          "financesettlement",
          "financesettlement",
          "financesettlement",
          "financesettlement",
          "financesettlement",
          "financesettlement",
          "financesettlement",
          "financesettlement",
          "financesettlement",
          "financesettlement",
          "financesettlement",
          "financesettlement",
          "internetbanking",
          "internetbanking",
          "internetbanking",
          "internetbanking",
          "internetbanking",
          "internetbanking",
          "internetbanking",
          "internetbanking",
          "internetbanking",
          "internetbanking",
          "internetbanking",
          "internetbanking",
          "internetbanking",
          "internetbanking",
          "internetbanking",
          "jazzvoucher",
          "jazzvoucher",
          "jazzvoucher",
          "jazzvoucher",
          "jazzvoucher",
          "jazzvoucher",
          "jazzvoucher",
          "jazzvoucher",
          "jazzvoucher",
          "jazzvoucher",
          "jazzvoucher",
          "jazzvoucher",
          "jazzvoucher",
          "jazzvoucher",
          "jazzvoucher",
          "jazzwallet",
          "jazzwallet",
          "jazzwallet",
          "jazzwallet",
          "jazzwallet",
          "jazzwallet",
          "jazzwallet",
          "jazzwallet",
          "jazzwallet",
          "jazzwallet",
          "jazzwallet",
          "jazzwallet",
          "jazzwallet",
          "jazzwallet",
          "jazzwallet",
          "marketingexpense",
          "marketingexpense",
          "marketingexpense",
          "marketingexpense",
          "marketingexpense",
          "marketingexpense",
          "marketingexpense",
          "marketingexpense",
          "marketingexpense",
          "marketingexpense",
          "marketingexpense",
          "marketingexpense",
          "marketingexpense",
          "marketingexpense",
          "marketingexpense",
          "mcblite",
          "mcblite",
          "mcblite",
          "mcblite",
          "mcblite",
          "mcblite",
          "mcblite",
          "mcblite",
          "mcblite",
          "mcblite",
          "mcblite",
          "mcblite",
          "mcblite",
          "mcblite",
          "mcblite",
          "mygateway",
          "mygateway",
          "mygateway",
          "mygateway",
          "mygateway",
          "mygateway",
          "mygateway",
          "mygateway",
          "mygateway",
          "mygateway",
          "mygateway",
          "mygateway",
          "mygateway",
          "mygateway",
          "mygateway",
          "productcredit",
          "productcredit",
          "productcredit",
          "productcredit",
          "productcredit",
          "productcredit",
          "productcredit",
          "productcredit",
          "productcredit",
          "productcredit",
          "productcredit",
          "productcredit",
          "productcredit",
          "productcredit",
          "productcredit",
          "ublcreditcard",
          "ublcreditcard",
          "ublcreditcard",
          "ublcreditcard",
          "ublcreditcard",
          "ublcreditcard",
          "ublcreditcard",
          "ublcreditcard",
          "ublcreditcard",
          "ublcreditcard",
          "ublcreditcard",
          "ublcreditcard",
          "ublcreditcard",
          "ublcreditcard",
          "ublcreditcard",
          "Appliances",
          "Beauty & Grooming",
          "Books",
          "Computing",
          "Entertainment",
          "Health & Sports",
          "Home & Living",
          "Kids & Baby",
          "Men's Fashion",
          "Mobiles & Tablets",
          "Others",
          "School & Education",
          "Soghaat",
          "Superstore",
          "Women's Fashion"
         ],
         "name": "",
         "parents": [
          "Appliances",
          "Beauty & Grooming",
          "Books",
          "Computing",
          "Entertainment",
          "Health & Sports",
          "Home & Living",
          "Kids & Baby",
          "Men's Fashion",
          "Mobiles & Tablets",
          "Others",
          "School & Education",
          "Soghaat",
          "Superstore",
          "Women's Fashion",
          "Appliances",
          "Beauty & Grooming",
          "Books",
          "Computing",
          "Entertainment",
          "Health & Sports",
          "Home & Living",
          "Kids & Baby",
          "Men's Fashion",
          "Mobiles & Tablets",
          "Others",
          "School & Education",
          "Soghaat",
          "Superstore",
          "Women's Fashion",
          "Appliances",
          "Beauty & Grooming",
          "Books",
          "Computing",
          "Entertainment",
          "Health & Sports",
          "Home & Living",
          "Kids & Baby",
          "Men's Fashion",
          "Mobiles & Tablets",
          "Others",
          "School & Education",
          "Soghaat",
          "Superstore",
          "Women's Fashion",
          "Appliances",
          "Beauty & Grooming",
          "Books",
          "Computing",
          "Entertainment",
          "Health & Sports",
          "Home & Living",
          "Kids & Baby",
          "Men's Fashion",
          "Mobiles & Tablets",
          "Others",
          "School & Education",
          "Soghaat",
          "Superstore",
          "Women's Fashion",
          "Appliances",
          "Beauty & Grooming",
          "Books",
          "Computing",
          "Entertainment",
          "Health & Sports",
          "Home & Living",
          "Kids & Baby",
          "Men's Fashion",
          "Mobiles & Tablets",
          "Others",
          "School & Education",
          "Soghaat",
          "Superstore",
          "Women's Fashion",
          "Appliances",
          "Beauty & Grooming",
          "Books",
          "Computing",
          "Entertainment",
          "Health & Sports",
          "Home & Living",
          "Kids & Baby",
          "Men's Fashion",
          "Mobiles & Tablets",
          "Others",
          "School & Education",
          "Soghaat",
          "Superstore",
          "Women's Fashion",
          "Appliances",
          "Beauty & Grooming",
          "Books",
          "Computing",
          "Entertainment",
          "Health & Sports",
          "Home & Living",
          "Kids & Baby",
          "Men's Fashion",
          "Mobiles & Tablets",
          "Others",
          "School & Education",
          "Soghaat",
          "Superstore",
          "Women's Fashion",
          "Appliances",
          "Beauty & Grooming",
          "Books",
          "Computing",
          "Entertainment",
          "Health & Sports",
          "Home & Living",
          "Kids & Baby",
          "Men's Fashion",
          "Mobiles & Tablets",
          "Others",
          "School & Education",
          "Soghaat",
          "Superstore",
          "Women's Fashion",
          "Appliances",
          "Beauty & Grooming",
          "Books",
          "Computing",
          "Entertainment",
          "Health & Sports",
          "Home & Living",
          "Kids & Baby",
          "Men's Fashion",
          "Mobiles & Tablets",
          "Others",
          "School & Education",
          "Soghaat",
          "Superstore",
          "Women's Fashion",
          "Appliances",
          "Beauty & Grooming",
          "Books",
          "Computing",
          "Entertainment",
          "Health & Sports",
          "Home & Living",
          "Kids & Baby",
          "Men's Fashion",
          "Mobiles & Tablets",
          "Others",
          "School & Education",
          "Soghaat",
          "Superstore",
          "Women's Fashion",
          "Appliances",
          "Beauty & Grooming",
          "Books",
          "Computing",
          "Entertainment",
          "Health & Sports",
          "Home & Living",
          "Kids & Baby",
          "Men's Fashion",
          "Mobiles & Tablets",
          "Others",
          "School & Education",
          "Soghaat",
          "Superstore",
          "Women's Fashion",
          "Appliances",
          "Beauty & Grooming",
          "Books",
          "Computing",
          "Entertainment",
          "Health & Sports",
          "Home & Living",
          "Kids & Baby",
          "Men's Fashion",
          "Mobiles & Tablets",
          "Others",
          "School & Education",
          "Soghaat",
          "Superstore",
          "Women's Fashion",
          "Appliances",
          "Beauty & Grooming",
          "Books",
          "Computing",
          "Entertainment",
          "Health & Sports",
          "Home & Living",
          "Kids & Baby",
          "Men's Fashion",
          "Mobiles & Tablets",
          "Others",
          "School & Education",
          "Soghaat",
          "Superstore",
          "Women's Fashion",
          "Appliances",
          "Beauty & Grooming",
          "Books",
          "Computing",
          "Entertainment",
          "Health & Sports",
          "Home & Living",
          "Kids & Baby",
          "Men's Fashion",
          "Mobiles & Tablets",
          "Others",
          "School & Education",
          "Soghaat",
          "Superstore",
          "Women's Fashion",
          "Appliances",
          "Beauty & Grooming",
          "Books",
          "Computing",
          "Entertainment",
          "Health & Sports",
          "Home & Living",
          "Kids & Baby",
          "Men's Fashion",
          "Mobiles & Tablets",
          "Others",
          "School & Education",
          "Soghaat",
          "Superstore",
          "Women's Fashion",
          "Appliances",
          "Beauty & Grooming",
          "Books",
          "Computing",
          "Entertainment",
          "Health & Sports",
          "Home & Living",
          "Kids & Baby",
          "Men's Fashion",
          "Mobiles & Tablets",
          "Others",
          "School & Education",
          "Soghaat",
          "Superstore",
          "Women's Fashion",
          "Appliances",
          "Beauty & Grooming",
          "Books",
          "Computing",
          "Entertainment",
          "Health & Sports",
          "Home & Living",
          "Kids & Baby",
          "Men's Fashion",
          "Mobiles & Tablets",
          "Others",
          "School & Education",
          "Soghaat",
          "Superstore",
          "Women's Fashion",
          "Appliances",
          "Beauty & Grooming",
          "Books",
          "Computing",
          "Entertainment",
          "Health & Sports",
          "Home & Living",
          "Kids & Baby",
          "Men's Fashion",
          "Mobiles & Tablets",
          "Others",
          "School & Education",
          "Soghaat",
          "Superstore",
          "Women's Fashion",
          "",
          "",
          "",
          "",
          "",
          "",
          "",
          "",
          "",
          "",
          "",
          "",
          "",
          "",
          ""
         ],
         "type": "treemap",
         "values": [
          6631,
          0,
          0,
          0,
          3097,
          0,
          0,
          0,
          7171,
          14343,
          0,
          0,
          0,
          0,
          4427,
          1303,
          0,
          0,
          0,
          584,
          0,
          0,
          0,
          943,
          1799,
          0,
          0,
          0,
          0,
          414,
          6255,
          0,
          0,
          0,
          4836,
          0,
          0,
          0,
          7732,
          18889,
          0,
          0,
          0,
          0,
          5013,
          279,
          0,
          0,
          0,
          104,
          0,
          0,
          0,
          168,
          246,
          0,
          0,
          0,
          0,
          116,
          1602,
          0,
          0,
          0,
          767,
          0,
          0,
          0,
          1517,
          6249,
          0,
          0,
          0,
          0,
          1382,
          2,
          0,
          0,
          0,
          0,
          0,
          0,
          0,
          4,
          6,
          0,
          0,
          0,
          0,
          3,
          5524,
          0,
          0,
          0,
          2549,
          0,
          0,
          0,
          17955,
          13820,
          0,
          0,
          0,
          0,
          11243,
          154,
          0,
          0,
          0,
          44,
          0,
          0,
          0,
          296,
          224,
          0,
          0,
          0,
          0,
          170,
          2446,
          0,
          0,
          0,
          1575,
          0,
          0,
          0,
          826,
          4240,
          0,
          0,
          0,
          0,
          574,
          0,
          0,
          0,
          0,
          0,
          0,
          0,
          0,
          0,
          5,
          0,
          0,
          0,
          0,
          1,
          14,
          0,
          0,
          0,
          9,
          0,
          0,
          0,
          48,
          69,
          0,
          0,
          0,
          0,
          46,
          1157,
          0,
          0,
          0,
          688,
          0,
          0,
          0,
          703,
          2737,
          0,
          0,
          0,
          0,
          680,
          1434,
          0,
          0,
          0,
          491,
          0,
          0,
          0,
          1509,
          3047,
          0,
          0,
          0,
          0,
          1015,
          0,
          0,
          0,
          0,
          0,
          0,
          0,
          0,
          0,
          0,
          0,
          0,
          0,
          0,
          1,
          20,
          0,
          0,
          0,
          33,
          0,
          0,
          0,
          72,
          53,
          0,
          0,
          0,
          0,
          30,
          21,
          0,
          0,
          0,
          12,
          0,
          0,
          0,
          115,
          141,
          0,
          0,
          0,
          0,
          82,
          0,
          0,
          0,
          0,
          1,
          0,
          0,
          0,
          9,
          2,
          0,
          0,
          0,
          0,
          9,
          65,
          0,
          0,
          0,
          30,
          0,
          0,
          0,
          69,
          267,
          0,
          0,
          0,
          0,
          56,
          26907,
          0,
          0,
          0,
          14820,
          0,
          0,
          0,
          39137,
          66137,
          0,
          0,
          0,
          0,
          25262
         ]
        }
       ],
       "layout": {
        "legend": {
         "tracegroupgap": 0
        },
        "margin": {
         "b": 25,
         "l": 25,
         "r": 25,
         "t": 50
        },
        "template": {
         "data": {
          "bar": [
           {
            "error_x": {
             "color": "#2a3f5f"
            },
            "error_y": {
             "color": "#2a3f5f"
            },
            "marker": {
             "line": {
              "color": "#E5ECF6",
              "width": 0.5
             },
             "pattern": {
              "fillmode": "overlay",
              "size": 10,
              "solidity": 0.2
             }
            },
            "type": "bar"
           }
          ],
          "barpolar": [
           {
            "marker": {
             "line": {
              "color": "#E5ECF6",
              "width": 0.5
             },
             "pattern": {
              "fillmode": "overlay",
              "size": 10,
              "solidity": 0.2
             }
            },
            "type": "barpolar"
           }
          ],
          "carpet": [
           {
            "aaxis": {
             "endlinecolor": "#2a3f5f",
             "gridcolor": "white",
             "linecolor": "white",
             "minorgridcolor": "white",
             "startlinecolor": "#2a3f5f"
            },
            "baxis": {
             "endlinecolor": "#2a3f5f",
             "gridcolor": "white",
             "linecolor": "white",
             "minorgridcolor": "white",
             "startlinecolor": "#2a3f5f"
            },
            "type": "carpet"
           }
          ],
          "choropleth": [
           {
            "colorbar": {
             "outlinewidth": 0,
             "ticks": ""
            },
            "type": "choropleth"
           }
          ],
          "contour": [
           {
            "colorbar": {
             "outlinewidth": 0,
             "ticks": ""
            },
            "colorscale": [
             [
              0,
              "#0d0887"
             ],
             [
              0.1111111111111111,
              "#46039f"
             ],
             [
              0.2222222222222222,
              "#7201a8"
             ],
             [
              0.3333333333333333,
              "#9c179e"
             ],
             [
              0.4444444444444444,
              "#bd3786"
             ],
             [
              0.5555555555555556,
              "#d8576b"
             ],
             [
              0.6666666666666666,
              "#ed7953"
             ],
             [
              0.7777777777777778,
              "#fb9f3a"
             ],
             [
              0.8888888888888888,
              "#fdca26"
             ],
             [
              1,
              "#f0f921"
             ]
            ],
            "type": "contour"
           }
          ],
          "contourcarpet": [
           {
            "colorbar": {
             "outlinewidth": 0,
             "ticks": ""
            },
            "type": "contourcarpet"
           }
          ],
          "heatmap": [
           {
            "colorbar": {
             "outlinewidth": 0,
             "ticks": ""
            },
            "colorscale": [
             [
              0,
              "#0d0887"
             ],
             [
              0.1111111111111111,
              "#46039f"
             ],
             [
              0.2222222222222222,
              "#7201a8"
             ],
             [
              0.3333333333333333,
              "#9c179e"
             ],
             [
              0.4444444444444444,
              "#bd3786"
             ],
             [
              0.5555555555555556,
              "#d8576b"
             ],
             [
              0.6666666666666666,
              "#ed7953"
             ],
             [
              0.7777777777777778,
              "#fb9f3a"
             ],
             [
              0.8888888888888888,
              "#fdca26"
             ],
             [
              1,
              "#f0f921"
             ]
            ],
            "type": "heatmap"
           }
          ],
          "heatmapgl": [
           {
            "colorbar": {
             "outlinewidth": 0,
             "ticks": ""
            },
            "colorscale": [
             [
              0,
              "#0d0887"
             ],
             [
              0.1111111111111111,
              "#46039f"
             ],
             [
              0.2222222222222222,
              "#7201a8"
             ],
             [
              0.3333333333333333,
              "#9c179e"
             ],
             [
              0.4444444444444444,
              "#bd3786"
             ],
             [
              0.5555555555555556,
              "#d8576b"
             ],
             [
              0.6666666666666666,
              "#ed7953"
             ],
             [
              0.7777777777777778,
              "#fb9f3a"
             ],
             [
              0.8888888888888888,
              "#fdca26"
             ],
             [
              1,
              "#f0f921"
             ]
            ],
            "type": "heatmapgl"
           }
          ],
          "histogram": [
           {
            "marker": {
             "pattern": {
              "fillmode": "overlay",
              "size": 10,
              "solidity": 0.2
             }
            },
            "type": "histogram"
           }
          ],
          "histogram2d": [
           {
            "colorbar": {
             "outlinewidth": 0,
             "ticks": ""
            },
            "colorscale": [
             [
              0,
              "#0d0887"
             ],
             [
              0.1111111111111111,
              "#46039f"
             ],
             [
              0.2222222222222222,
              "#7201a8"
             ],
             [
              0.3333333333333333,
              "#9c179e"
             ],
             [
              0.4444444444444444,
              "#bd3786"
             ],
             [
              0.5555555555555556,
              "#d8576b"
             ],
             [
              0.6666666666666666,
              "#ed7953"
             ],
             [
              0.7777777777777778,
              "#fb9f3a"
             ],
             [
              0.8888888888888888,
              "#fdca26"
             ],
             [
              1,
              "#f0f921"
             ]
            ],
            "type": "histogram2d"
           }
          ],
          "histogram2dcontour": [
           {
            "colorbar": {
             "outlinewidth": 0,
             "ticks": ""
            },
            "colorscale": [
             [
              0,
              "#0d0887"
             ],
             [
              0.1111111111111111,
              "#46039f"
             ],
             [
              0.2222222222222222,
              "#7201a8"
             ],
             [
              0.3333333333333333,
              "#9c179e"
             ],
             [
              0.4444444444444444,
              "#bd3786"
             ],
             [
              0.5555555555555556,
              "#d8576b"
             ],
             [
              0.6666666666666666,
              "#ed7953"
             ],
             [
              0.7777777777777778,
              "#fb9f3a"
             ],
             [
              0.8888888888888888,
              "#fdca26"
             ],
             [
              1,
              "#f0f921"
             ]
            ],
            "type": "histogram2dcontour"
           }
          ],
          "mesh3d": [
           {
            "colorbar": {
             "outlinewidth": 0,
             "ticks": ""
            },
            "type": "mesh3d"
           }
          ],
          "parcoords": [
           {
            "line": {
             "colorbar": {
              "outlinewidth": 0,
              "ticks": ""
             }
            },
            "type": "parcoords"
           }
          ],
          "pie": [
           {
            "automargin": true,
            "type": "pie"
           }
          ],
          "scatter": [
           {
            "fillpattern": {
             "fillmode": "overlay",
             "size": 10,
             "solidity": 0.2
            },
            "type": "scatter"
           }
          ],
          "scatter3d": [
           {
            "line": {
             "colorbar": {
              "outlinewidth": 0,
              "ticks": ""
             }
            },
            "marker": {
             "colorbar": {
              "outlinewidth": 0,
              "ticks": ""
             }
            },
            "type": "scatter3d"
           }
          ],
          "scattercarpet": [
           {
            "marker": {
             "colorbar": {
              "outlinewidth": 0,
              "ticks": ""
             }
            },
            "type": "scattercarpet"
           }
          ],
          "scattergeo": [
           {
            "marker": {
             "colorbar": {
              "outlinewidth": 0,
              "ticks": ""
             }
            },
            "type": "scattergeo"
           }
          ],
          "scattergl": [
           {
            "marker": {
             "colorbar": {
              "outlinewidth": 0,
              "ticks": ""
             }
            },
            "type": "scattergl"
           }
          ],
          "scattermapbox": [
           {
            "marker": {
             "colorbar": {
              "outlinewidth": 0,
              "ticks": ""
             }
            },
            "type": "scattermapbox"
           }
          ],
          "scatterpolar": [
           {
            "marker": {
             "colorbar": {
              "outlinewidth": 0,
              "ticks": ""
             }
            },
            "type": "scatterpolar"
           }
          ],
          "scatterpolargl": [
           {
            "marker": {
             "colorbar": {
              "outlinewidth": 0,
              "ticks": ""
             }
            },
            "type": "scatterpolargl"
           }
          ],
          "scatterternary": [
           {
            "marker": {
             "colorbar": {
              "outlinewidth": 0,
              "ticks": ""
             }
            },
            "type": "scatterternary"
           }
          ],
          "surface": [
           {
            "colorbar": {
             "outlinewidth": 0,
             "ticks": ""
            },
            "colorscale": [
             [
              0,
              "#0d0887"
             ],
             [
              0.1111111111111111,
              "#46039f"
             ],
             [
              0.2222222222222222,
              "#7201a8"
             ],
             [
              0.3333333333333333,
              "#9c179e"
             ],
             [
              0.4444444444444444,
              "#bd3786"
             ],
             [
              0.5555555555555556,
              "#d8576b"
             ],
             [
              0.6666666666666666,
              "#ed7953"
             ],
             [
              0.7777777777777778,
              "#fb9f3a"
             ],
             [
              0.8888888888888888,
              "#fdca26"
             ],
             [
              1,
              "#f0f921"
             ]
            ],
            "type": "surface"
           }
          ],
          "table": [
           {
            "cells": {
             "fill": {
              "color": "#EBF0F8"
             },
             "line": {
              "color": "white"
             }
            },
            "header": {
             "fill": {
              "color": "#C8D4E3"
             },
             "line": {
              "color": "white"
             }
            },
            "type": "table"
           }
          ]
         },
         "layout": {
          "annotationdefaults": {
           "arrowcolor": "#2a3f5f",
           "arrowhead": 0,
           "arrowwidth": 1
          },
          "autotypenumbers": "strict",
          "coloraxis": {
           "colorbar": {
            "outlinewidth": 0,
            "ticks": ""
           }
          },
          "colorscale": {
           "diverging": [
            [
             0,
             "#8e0152"
            ],
            [
             0.1,
             "#c51b7d"
            ],
            [
             0.2,
             "#de77ae"
            ],
            [
             0.3,
             "#f1b6da"
            ],
            [
             0.4,
             "#fde0ef"
            ],
            [
             0.5,
             "#f7f7f7"
            ],
            [
             0.6,
             "#e6f5d0"
            ],
            [
             0.7,
             "#b8e186"
            ],
            [
             0.8,
             "#7fbc41"
            ],
            [
             0.9,
             "#4d9221"
            ],
            [
             1,
             "#276419"
            ]
           ],
           "sequential": [
            [
             0,
             "#0d0887"
            ],
            [
             0.1111111111111111,
             "#46039f"
            ],
            [
             0.2222222222222222,
             "#7201a8"
            ],
            [
             0.3333333333333333,
             "#9c179e"
            ],
            [
             0.4444444444444444,
             "#bd3786"
            ],
            [
             0.5555555555555556,
             "#d8576b"
            ],
            [
             0.6666666666666666,
             "#ed7953"
            ],
            [
             0.7777777777777778,
             "#fb9f3a"
            ],
            [
             0.8888888888888888,
             "#fdca26"
            ],
            [
             1,
             "#f0f921"
            ]
           ],
           "sequentialminus": [
            [
             0,
             "#0d0887"
            ],
            [
             0.1111111111111111,
             "#46039f"
            ],
            [
             0.2222222222222222,
             "#7201a8"
            ],
            [
             0.3333333333333333,
             "#9c179e"
            ],
            [
             0.4444444444444444,
             "#bd3786"
            ],
            [
             0.5555555555555556,
             "#d8576b"
            ],
            [
             0.6666666666666666,
             "#ed7953"
            ],
            [
             0.7777777777777778,
             "#fb9f3a"
            ],
            [
             0.8888888888888888,
             "#fdca26"
            ],
            [
             1,
             "#f0f921"
            ]
           ]
          },
          "colorway": [
           "#636efa",
           "#EF553B",
           "#00cc96",
           "#ab63fa",
           "#FFA15A",
           "#19d3f3",
           "#FF6692",
           "#B6E880",
           "#FF97FF",
           "#FECB52"
          ],
          "font": {
           "color": "#2a3f5f"
          },
          "geo": {
           "bgcolor": "white",
           "lakecolor": "white",
           "landcolor": "#E5ECF6",
           "showlakes": true,
           "showland": true,
           "subunitcolor": "white"
          },
          "hoverlabel": {
           "align": "left"
          },
          "hovermode": "closest",
          "mapbox": {
           "style": "light"
          },
          "paper_bgcolor": "white",
          "plot_bgcolor": "#E5ECF6",
          "polar": {
           "angularaxis": {
            "gridcolor": "white",
            "linecolor": "white",
            "ticks": ""
           },
           "bgcolor": "#E5ECF6",
           "radialaxis": {
            "gridcolor": "white",
            "linecolor": "white",
            "ticks": ""
           }
          },
          "scene": {
           "xaxis": {
            "backgroundcolor": "#E5ECF6",
            "gridcolor": "white",
            "gridwidth": 2,
            "linecolor": "white",
            "showbackground": true,
            "ticks": "",
            "zerolinecolor": "white"
           },
           "yaxis": {
            "backgroundcolor": "#E5ECF6",
            "gridcolor": "white",
            "gridwidth": 2,
            "linecolor": "white",
            "showbackground": true,
            "ticks": "",
            "zerolinecolor": "white"
           },
           "zaxis": {
            "backgroundcolor": "#E5ECF6",
            "gridcolor": "white",
            "gridwidth": 2,
            "linecolor": "white",
            "showbackground": true,
            "ticks": "",
            "zerolinecolor": "white"
           }
          },
          "shapedefaults": {
           "line": {
            "color": "#2a3f5f"
           }
          },
          "ternary": {
           "aaxis": {
            "gridcolor": "white",
            "linecolor": "white",
            "ticks": ""
           },
           "baxis": {
            "gridcolor": "white",
            "linecolor": "white",
            "ticks": ""
           },
           "bgcolor": "#E5ECF6",
           "caxis": {
            "gridcolor": "white",
            "linecolor": "white",
            "ticks": ""
           }
          },
          "title": {
           "x": 0.05
          },
          "xaxis": {
           "automargin": true,
           "gridcolor": "white",
           "linecolor": "white",
           "ticks": "",
           "title": {
            "standoff": 15
           },
           "zerolinecolor": "white",
           "zerolinewidth": 2
          },
          "yaxis": {
           "automargin": true,
           "gridcolor": "white",
           "linecolor": "white",
           "ticks": "",
           "title": {
            "standoff": 15
           },
           "zerolinecolor": "white",
           "zerolinewidth": 2
          }
         }
        },
        "title": {
         "text": "[Fig 7] Payment Method from each 5 Selected Categories (Fail Status)"
        }
       }
      }
     },
     "metadata": {},
     "output_type": "display_data"
    }
   ],
   "source": [
    "# group the dataset by 'CategoryName' and 'PaymentMethod' and count the number of orders for each combination\n",
    "df_success_cp1 = df_success_combined[df_success_combined[\"CategoryName\"].isin(selected_categories_combined)]\n",
    "df_fail_cp1 = df_fail_combined[df_fail_combined[\"CategoryName\"].isin(selected_categories_combined)]\n",
    "\n",
    "# create treemaps using the 'Percentage' column\n",
    "fig06 = px.treemap(df_success_cp1,\n",
    "                    path=['CategoryName', 'PaymentMethod'],\n",
    "                    values='Number of Orders',\n",
    "                    title='[Fig 6] Payment Method from each 5 Selected Categories (Success Status)')\n",
    "fig06.update_layout(margin=dict(t=50, l=25, r=25, b=25))\n",
    "\n",
    "fig07 = px.treemap(df_fail_cp1,\n",
    "                    path=['CategoryName', 'PaymentMethod'],\n",
    "                    values='Number of Orders',\n",
    "                    title='[Fig 7] Payment Method from each 5 Selected Categories (Fail Status)')\n",
    "fig07.update_layout(margin=dict(t=50, l=25, r=25, b=25))\n",
    "\n",
    "# show the treemaps\n",
    "fig06.show()\n",
    "fig07.show()"
   ]
  },
  {
   "attachments": {},
   "cell_type": "markdown",
   "metadata": {},
   "source": [
    "From [Fig 6] and [Fig 7] we can see that there are 5 most preferred payment methods. Those 5 payment methods are `cod`, `Easypay`, `Payaxis`, `jazzwallet`, and `bankalfalah`. But almost all of them, except for `cod`, has high total of failure order also. To better understand the distribution of those 5 payment methods and the difference between total success and failure order we will use heatmap figure."
   ]
  },
  {
   "cell_type": "code",
   "execution_count": 178,
   "metadata": {},
   "outputs": [],
   "source": [
    "# merge the success and fail dataframes\n",
    "merged_df = pd.merge(df_success_cp1, df_fail_cp1, on=['CategoryName', 'PaymentMethod'], suffixes=('_success', '_fail'))\n",
    "\n",
    "# calculate the order difference for each selected payment method\n",
    "merged_df['Order Difference'] = merged_df['Number of Orders_success'] - merged_df['Number of Orders_fail']\n",
    "\n",
    "# pivot the dataframe to show the order difference for each payment method in separate columns\n",
    "pivot_df = merged_df.pivot_table(index='CategoryName', columns='PaymentMethod', values='Order Difference', fill_value=0)"
   ]
  },
  {
   "cell_type": "code",
   "execution_count": 179,
   "metadata": {},
   "outputs": [
    {
     "data": {
      "image/png": "[encoded data removed]",
      "text/plain": [
       "<Figure size 1000x600 with 2 Axes>"
      ]
     },
     "metadata": {},
     "output_type": "display_data"
    }
   ],
   "source": [
    "# set the pivot table as the data for the heatmap\n",
    "heatmap_data = pivot_df[['cod','Easypay','Payaxis','easypay_voucher','jazzwallet','bankalfalah']]\n",
    "\n",
    "# create the heatmap\n",
    "plt.figure(figsize=(10, 6))\n",
    "sns.heatmap(heatmap_data, annot=True, cmap='coolwarm', fmt='.0f')\n",
    "\n",
    "# set labels and title\n",
    "plt.xlabel('Payment Method')\n",
    "plt.ylabel('Category Name')\n",
    "plt.title('[Fig 8]Order Difference Heatmap for Selected Payment Methods')\n",
    "\n",
    "# Show the heatmap\n",
    "plt.show()\n"
   ]
  },
  {
   "attachments": {},
   "cell_type": "markdown",
   "metadata": {},
   "source": [
    "As we can see from heatmap above, we can conclude that `cod` is the most preferred payment method with high success rate shown by highest positive values of order difference between success and fail orders. Other possible alternatives are `easypay_voucher` and `jazzwallet`.<br><br> \n",
    "It is advised to not use `Easypay` and `Payaxis` as payment method especially for `Mobiles & Tablets` because of high total order failure rate."
   ]
  },
  {
   "attachments": {},
   "cell_type": "markdown",
   "metadata": {},
   "source": [
    "# Conclusion and Recommendation"
   ]
  },
  {
   "attachments": {},
   "cell_type": "markdown",
   "metadata": {},
   "source": [
    "**Conclusion**<br><br>\n",
    "Based on the analysis, we draw the following conclusions:\n",
    "\n",
    "- Out of 584,496 order records, 54% are successful (completed, received), while the remaining 46% are unsuccessful (canceled, refunded).\n",
    "- Order status is affected by both category and payment method, with payment method having a stronger influence.\n",
    "- The top 5 categories by total successful orders are Men's Fashion, Women's Fashion, Mobiles & Tablets, Superstore, and Beauty & Grooming.\n",
    "- The top 5 categories by total successful revenue are Mobiles & Tablets, Appliances, Entertainment, Women's Fashion, and Others.\n",
    "- The top 5 most preferred payment methods by total orders are COD, Payaxis, Easypay, Easypay_voucher, and Jazzwallet."
   ]
  },
  {
   "attachments": {},
   "cell_type": "markdown",
   "metadata": {},
   "source": [
    "**Recommendation**<br><br>\n",
    "\n",
    "Based on these conclusions, we recommend the following strategies for emerging start-ups in Pakistan:\n",
    "\n",
    "- Focus on the top 5 categories (based on total orders and total revenue):\n",
    "    - Mobiles & Tablets (highest total order, highest total revenue)\n",
    "    - Men's Fashion (2nd highest total order, 6th highest total revenue)\n",
    "    - Women's Fashion (3rd highest total order, 7th highest total revenue)\n",
    "    - Appliances (4th highest total order, 2nd highest total revenue)\n",
    "    - Entertainment (10th highest total order, 3rd highest total revenue)\n",
    "- Payment:\n",
    "    - Use COD as the primary payment method to increase the order success rate. Alternatives are Easypay_voucher and Jazzwallet.\n",
    "    - Avoid using Easypay and Payaxis for electronics categories such as Mobiles & Tablets, Entertainment, and Appliances."
   ]
  }
 ],
 "metadata": {
  "kernelspec": {
   "display_name": "base",
   "language": "python",
   "name": "python3"
  },
  "language_info": {
   "codemirror_mode": {
    "name": "ipython",
    "version": 3
   },
   "file_extension": ".py",
   "mimetype": "text/x-python",
   "name": "python",
   "nbconvert_exporter": "python",
   "pygments_lexer": "ipython3",
   "version": "3.9.13"
  },
  "orig_nbformat": 4
 },
 "nbformat": 4,
 "nbformat_minor": 2
}
